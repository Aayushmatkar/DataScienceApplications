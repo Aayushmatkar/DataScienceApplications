{
  "nbformat": 4,
  "nbformat_minor": 0,
  "metadata": {
    "colab": {
      "provenance": [],
      "authorship_tag": "ABX9TyNx1dbH5OdUVfm/FdOxGmC/",
      "include_colab_link": true
    },
    "kernelspec": {
      "name": "python3",
      "display_name": "Python 3"
    },
    "language_info": {
      "name": "python"
    }
  },
  "cells": [
    {
      "cell_type": "markdown",
      "metadata": {
        "id": "view-in-github",
        "colab_type": "text"
      },
      "source": [
        "<a href=\"https://colab.research.google.com/github/Aayushmatkar/DataScienceApplications/blob/main/BOW%2CTF_IDF%2C_n_gram_TEST_.ipynb\" target=\"_parent\"><img src=\"https://colab.research.google.com/assets/colab-badge.svg\" alt=\"Open In Colab\"/></a>"
      ]
    },
    {
      "cell_type": "code",
      "source": [
        "import pandas as pd\n",
        "import numpy as np\n",
        "from sklearn.feature_extraction.text import TfidfVectorizer\n",
        "from sklearn.model_selection import train_test_split\n",
        "from sklearn.neighbors import KNeighborsClassifier\n",
        "from sklearn.svm import SVC\n",
        "import xgboost as xgb\n",
        "from sklearn.metrics import accuracy_score\n",
        "import matplotlib.pyplot as plt\n",
        "import numpy as np\n",
        "import pandas as pd\n",
        "from sklearn.feature_extraction.text import CountVectorizer\n",
        "from sklearn.model_selection import train_test_split\n",
        "from sklearn.naive_bayes import MultinomialNB\n",
        "from sklearn.metrics import accuracy_score\n",
        "#MODEL IMPORTS\n",
        "from sklearn.naive_bayes import MultinomialNB\n",
        "from sklearn.svm import SVC\n",
        "from sklearn.tree import DecisionTreeClassifier\n",
        "from sklearn.ensemble import RandomForestClassifier\n",
        "from sklearn.ensemble import GradientBoostingClassifier\n",
        "from sklearn.ensemble import GradientBoostingRegressor\n",
        "#VALIDATION METRICS\n",
        "from sklearn.metrics import accuracy_score\n",
        "from sklearn.metrics import precision_score\n",
        "from sklearn.metrics import recall_score\n",
        "from sklearn.metrics import f1_score\n",
        "\n",
        "import matplotlib.pyplot as plt"
      ],
      "metadata": {
        "id": "CMWpykkmpoMt"
      },
      "execution_count": 14,
      "outputs": []
    },
    {
      "cell_type": "markdown",
      "source": [
        "# BAG OF WORDS\n"
      ],
      "metadata": {
        "id": "n3o9WU8NvgQZ"
      }
    },
    {
      "cell_type": "code",
      "source": [
        "from nltk.metrics.scores import precision\n",
        "# Load the dataset\n",
        "df = pd.read_csv(\"book_partitions3.csv\")\n",
        "# Convert text to a bag of words representation\n",
        "vectorizer = CountVectorizer()\n",
        "\n",
        "bag_of_words = vectorizer.fit_transform(df['Text'])\n",
        "\n",
        "# Split the data into training and testing sets\n",
        "X_train, X_test, y_train, y_test = train_test_split(bag_of_words, df['label'], test_size=0.2)\n",
        "\n",
        "# Train and evaluate the efficiency of each model\n",
        "models = [\n",
        "    #MultinomialNB(),\n",
        "    SVC(),\n",
        "    DecisionTreeClassifier(),\n",
        "    RandomForestClassifier(),\n",
        "    GradientBoostingClassifier(),\n",
        "    #GradientBoostingRegressor(),\n",
        "]\n",
        "\n",
        "for model in models:\n",
        "\n",
        "    model.fit(X_train, y_train)\n",
        "    y_pred = model.predict(X_test)\n",
        "\n",
        "\n",
        "    accuracy = accuracy_score(y_test, y_pred)\n",
        "    print(f\"Accuracy of {model.__class__.__name__}: {accuracy:.2f}\")\n",
        "\n",
        "    precision = precision_score(y_test, y_pred,average=None)\n",
        "    print(f\"Precision of {model.__class__.__name__}: {precision}\")\n",
        "\n",
        "    recall = recall_score(y_test, y_pred,average=None)\n",
        "    print(f\"Recall score of {model.__class__.__name__}: {recall}\")\n",
        "\n",
        "    Fscore = f1_score(y_test, y_pred,average=None)\n",
        "    print(f\"F_score of {model.__class__.__name__}: {Fscore}\")\n",
        "    print(\"--------------------------------------------------------------\")\n",
        "    #print(f\"Precision of {model.__class__.__name__}: {precision:.2f}\")"
      ],
      "metadata": {
        "colab": {
          "base_uri": "https://localhost:8080/"
        },
        "id": "vrZSfDnQpRq6",
        "outputId": "83f05704-be2f-4ae9-bb1f-04e19dab95d8"
      },
      "execution_count": 15,
      "outputs": [
        {
          "output_type": "stream",
          "name": "stdout",
          "text": [
            "Accuracy of SVC: 0.81\n",
            "Precision of SVC: [0.75       0.85714286 0.65       0.94736842 0.86111111]\n",
            "Recall score of SVC: [0.86842105 0.66666667 0.89655172 0.7826087  0.93939394]\n",
            "F_score of SVC: [0.80487805 0.75       0.75362319 0.85714286 0.89855072]\n",
            "--------------------------------------------------------------\n",
            "Accuracy of DecisionTreeClassifier: 0.71\n",
            "Precision of DecisionTreeClassifier: [0.53333333 0.66666667 0.74193548 0.8372093  0.83333333]\n",
            "Recall score of DecisionTreeClassifier: [0.63157895 0.55555556 0.79310345 0.7826087  0.90909091]\n",
            "F_score of DecisionTreeClassifier: [0.57831325 0.60606061 0.76666667 0.80898876 0.86956522]\n",
            "--------------------------------------------------------------\n",
            "Accuracy of RandomForestClassifier: 0.82\n",
            "Precision of RandomForestClassifier: [0.7173913  0.84615385 0.74285714 0.90909091 0.91666667]\n",
            "Recall score of RandomForestClassifier: [0.86842105 0.61111111 0.89655172 0.86956522 1.        ]\n",
            "F_score of RandomForestClassifier: [0.78571429 0.70967742 0.8125     0.88888889 0.95652174]\n",
            "--------------------------------------------------------------\n",
            "Accuracy of GradientBoostingClassifier: 0.86\n",
            "Precision of GradientBoostingClassifier: [0.70833333 0.87755102 0.88461538 0.90909091 0.96969697]\n",
            "Recall score of GradientBoostingClassifier: [0.89473684 0.7962963  0.79310345 0.86956522 0.96969697]\n",
            "F_score of GradientBoostingClassifier: [0.79069767 0.83495146 0.83636364 0.88888889 0.96969697]\n",
            "--------------------------------------------------------------\n"
          ]
        }
      ]
    },
    {
      "cell_type": "markdown",
      "source": [
        "# ***TF-IDF***"
      ],
      "metadata": {
        "id": "JCMtjoZPpUpW"
      }
    },
    {
      "cell_type": "code",
      "execution_count": 27,
      "metadata": {
        "colab": {
          "base_uri": "https://localhost:8080/",
          "height": 368
        },
        "id": "VCNUlbXwlsQs",
        "outputId": "62fdb7f3-1311-4f49-c58a-811b3f74e566"
      },
      "outputs": [
        {
          "output_type": "stream",
          "name": "stdout",
          "text": [
            "knn_accuracy 0.865\n",
            "dt_accuracy 0.61\n",
            "svm_accuracy 0.885\n",
            "xgb_accuracy= 0.835\n"
          ]
        },
        {
          "output_type": "display_data",
          "data": {
            "text/plain": [
              "<Figure size 432x288 with 1 Axes>"
            ],
            "image/png": "[encoded data removed]"
          },
          "metadata": {
            "needs_background": "light"
          }
        }
      ],
      "source": [
        "import pandas as pd\n",
        "import numpy as np\n",
        "from sklearn.feature_extraction.text import TfidfVectorizer\n",
        "from sklearn.model_selection import train_test_split\n",
        "from sklearn.neighbors import KNeighborsClassifier\n",
        "from sklearn.svm import SVC\n",
        "import xgboost as xgb\n",
        "from sklearn.metrics import accuracy_score\n",
        "import matplotlib.pyplot as plt\n",
        "\n",
        "# Read the csv file\n",
        "df = pd.read_csv('book_partitions3.csv')\n",
        "\n",
        "# Convert the text data into a tf-idf representation\n",
        "vectorizer = TfidfVectorizer()\n",
        "tfidf = vectorizer.fit_transform(df['Text'].values)\n",
        "\n",
        "# Split the data into training and testing sets\n",
        "X_train, X_test, y_train, y_test = train_test_split(tfidf, df['label'], test_size=0.2, random_state=42)\n",
        "\n",
        "# Train and evaluate the KNN model\n",
        "knn = KNeighborsClassifier()\n",
        "knn.fit(X_train, y_train)\n",
        "knn_pred = knn.predict(X_test)\n",
        "knn_accuracy = accuracy_score(y_test, knn_pred)\n",
        "print('knn_accuracy',knn_accuracy)\n",
        "# Train and evaluate the Decision Tree model\n",
        "dt = DecisionTreeClassifier()\n",
        "dt.fit(X_train, y_train)\n",
        "dt_pred = dt.predict(X_test)\n",
        "dt_accuracy = accuracy_score(y_test, dt_pred)\n",
        "print('dt_accuracy',dt_accuracy)\n",
        "# Train and evaluate the SVM model\n",
        "svm = SVC()\n",
        "svm.fit(X_train, y_train)\n",
        "svm_pred = svm.predict(X_test)\n",
        "svm_accuracy = accuracy_score(y_test, svm_pred)\n",
        "print('svm_accuracy',svm_accuracy)\n",
        "\n",
        "# Train and evaluate the XGBoost model\n",
        "xgb_model = xgb.XGBClassifier()\n",
        "xgb_model.fit(X_train, y_train)\n",
        "xgb_pred = xgb_model.predict(X_test)\n",
        "xgb_accuracy = accuracy_score(y_test, xgb_pred)\n",
        "print('xgb_accuracy=',xgb_accuracy)\n",
        "#++++++++++++++++++++++++++++++++++++++++++++++++\n",
        "\n",
        "\n",
        "# Plot the accuracy comparison of the models\n",
        "models = ['KNN', 'SVM','DT', 'XGBoost']\n",
        "accuracies = [knn_accuracy, svm_accuracy,dt_accuracy, xgb_accuracy]\n",
        "plt.bar(models, accuracies)\n",
        "plt.xlabel('Models')\n",
        "plt.ylabel('Accuracy')\n",
        "plt.title('Accuracy comparison of models')\n",
        "plt.show()"
      ]
    },
    {
      "cell_type": "code",
      "source": [],
      "metadata": {
        "colab": {
          "base_uri": "https://localhost:8080/"
        },
        "id": "3Y-acW_lpm1u",
        "outputId": "17b90c28-b8a0-43b0-f1dd-faf1ea93b577"
      },
      "execution_count": 29,
      "outputs": [
        {
          "name": "stdout",
          "output_type": "stream",
          "text": [
            "testBut not precisely so For nothing was this man more remarkable than for a certain impersonal stolidity as it were impersonal I say for it so shaded off into the surrounding infinite of things that it seemed one with the general stolidity discernible in the whole visible world which while pauselessly active in uncounted modes still eternally holds its peace and ignores you though you dig foundations for cathedrals Yet was this halfhorrible stolidity in him involving too as it appeared an allramifying heartlessness\n"
          ]
        }
      ]
    },
    {
      "cell_type": "code",
      "source": [
        "svm_pred = svm.predict(X_test)\n",
        "print(\"SVM_Prediction_Test =\")\n",
        "print( svm_pred)"
      ],
      "metadata": {
        "colab": {
          "base_uri": "https://localhost:8080/"
        },
        "id": "AHF49lojmn45",
        "outputId": "a4fb8097-b195-47ad-c574-18e0c956f006"
      },
      "execution_count": 35,
      "outputs": [
        {
          "output_type": "stream",
          "name": "stdout",
          "text": [
            "SVM_Prediction_Test =\n",
            "['c' 'b' 'd' 'd' 'c' 'd' 'd' 'c' 'e' 'a' 'e' 'a' 'd' 'e' 'e' 'e' 'd' 'e'\n",
            " 'd' 'b' 'c' 'a' 'b' 'c' 'b' 'b' 'a' 'e' 'e' 'a' 'b' 'a' 'd' 'c' 'b' 'a'\n",
            " 'd' 'c' 'e' 'a' 'b' 'a' 'b' 'e' 'b' 'b' 'e' 'd' 'a' 'e' 'c' 'e' 'b' 'c'\n",
            " 'a' 'a' 'd' 'a' 'b' 'e' 'd' 'a' 'c' 'b' 'd' 'd' 'd' 'e' 'a' 'c' 'a' 'c'\n",
            " 'c' 'd' 'b' 'b' 'd' 'a' 'b' 'b' 'd' 'a' 'b' 'a' 'b' 'c' 'e' 'd' 'd' 'b'\n",
            " 'b' 'c' 'c' 'c' 'd' 'a' 'd' 'a' 'a' 'e' 'd' 'b' 'e' 'b' 'd' 'd' 'c' 'e'\n",
            " 'a' 'a' 'a' 'e' 'e' 'e' 'a' 'c' 'a' 'e' 'c' 'd' 'e' 'c' 'd' 'b' 'b' 'c'\n",
            " 'c' 'c' 'e' 'e' 'c' 'e' 'b' 'e' 'c' 'a' 'a' 'a' 'a' 'c' 'a' 'b' 'd' 'b'\n",
            " 'e' 'a' 'e' 'b' 'e' 'a' 'a' 'a' 'e' 'a' 'e' 'c' 'a' 'd' 'a' 'a' 'c' 'd'\n",
            " 'd' 'b' 'e' 'd' 'b' 'd' 'b' 'b' 'b' 'c' 'a' 'e' 'c' 'd' 'b' 'b' 'e' 'd'\n",
            " 'c' 'b' 'b' 'c' 'e' 'a' 'b' 'b' 'e' 'd' 'e' 'e' 'd' 'a' 'b' 'c' 'b' 'b'\n",
            " 'd' 'b']\n"
          ]
        }
      ]
    },
    {
      "cell_type": "markdown",
      "source": [],
      "metadata": {
        "id": "Jf-vDaOeoseJ"
      }
    },
    {
      "cell_type": "code",
      "source": [
        "print(accuracies)"
      ],
      "metadata": {
        "colab": {
          "base_uri": "https://localhost:8080/"
        },
        "id": "Ce0-0Gk8mcJ5",
        "outputId": "0afc4dc5-9472-4470-9e58-9734b7548387"
      },
      "execution_count": 9,
      "outputs": [
        {
          "output_type": "stream",
          "name": "stdout",
          "text": [
            "[0.865, 0.885, 0.835]\n"
          ]
        }
      ]
    },
    {
      "cell_type": "markdown",
      "source": [
        "# ***N-GRAM***"
      ],
      "metadata": {
        "id": "jijk2IsipDKI"
      }
    },
    {
      "cell_type": "code",
      "source": [
        "import pandas as pd\n",
        "import numpy as np\n",
        "from sklearn.feature_extraction.text import CountVectorizer\n",
        "from sklearn.model_selection import train_test_split\n",
        "from sklearn.neighbors import KNeighborsClassifier\n",
        "from sklearn.tree import DecisionTreeClassifier\n",
        "from sklearn.svm import SVC\n",
        "import xgboost as xgb\n",
        "from sklearn.metrics import accuracy_score\n",
        "import matplotlib.pyplot as plt\n",
        "\n",
        "# Read the csv file\n",
        "df = pd.read_csv('book_partitions3.csv')\n",
        "\n",
        "# Convert the text data into a n-gram representation\n",
        "vectorizer = CountVectorizer(ngram_range=(1, 2))\n",
        "ngrams = vectorizer.fit_transform(df['Text'].values)\n",
        "\n",
        "# Split the data into training and testing sets\n",
        "X_train, X_test, y_train, y_test = train_test_split(ngrams, df['label'], test_size=0.2, random_state=42)\n",
        "\n",
        "# Train and evaluate the KNN model\n",
        "knn = KNeighborsClassifier()\n",
        "knn.fit(X_train, y_train)\n",
        "knn_pred = knn.predict(X_test)\n",
        "knn_accuracy = accuracy_score(y_test, knn_pred)\n",
        "\n",
        "# Train and evaluate the Decision Tree model\n",
        "dt = DecisionTreeClassifier()\n",
        "dt.fit(X_train, y_train)\n",
        "dt_pred = dt.predict(X_test)\n",
        "dt_accuracy = accuracy_score(y_test, dt_pred)\n",
        "\n",
        "# Train and evaluate the SVM model\n",
        "svm = SVC()\n",
        "svm.fit(X_train, y_train)\n",
        "svm_pred = svm.predict(X_test)\n",
        "svm_accuracy = accuracy_score(y_test, svm_pred)\n",
        "\n",
        "# Train and evaluate the XGBoost model\n",
        "xgb_model = xgb.XGBClassifier()\n",
        "xgb_model.fit(X_train, y_train)\n",
        "xgb_pred = xgb_model.predict(X_test)\n",
        "xgb_accuracy = accuracy_score(y_test, xgb_pred)\n",
        "\n",
        "# Plot the accuracy comparison of the models\n",
        "models = ['KNN', 'Decision Tree', 'SVM', 'XGBoost']\n",
        "accuracies = [knn_accuracy, dt_accuracy, svm_accuracy, xgb_accuracy]\n",
        "plt.bar(models, accuracies)\n",
        "plt.xlabel('Models')\n",
        "plt.ylabel('Accuracy')\n",
        "plt.title('Accuracy comparison of models')\n",
        "plt.show()"
      ],
      "metadata": {
        "colab": {
          "base_uri": "https://localhost:8080/",
          "height": 295
        },
        "id": "050oQ07tncDX",
        "outputId": "bc7527f7-f652-4d3b-f3a9-a769c2913a58"
      },
      "execution_count": 11,
      "outputs": [
        {
          "output_type": "display_data",
          "data": {
            "text/plain": [
              "<Figure size 432x288 with 1 Axes>"
            ],
            "image/png": "[encoded data removed]"
          },
          "metadata": {
            "needs_background": "light"
          }
        }
      ]
    },
    {
      "cell_type": "code",
      "source": [
        "svm_pred = svm.predict(X_test)\n",
        "print(svm_pred)\n",
        "print(accuracies)"
      ],
      "metadata": {
        "colab": {
          "base_uri": "https://localhost:8080/"
        },
        "id": "DkDHUW2ooux_",
        "outputId": "8fbe76c1-6c54-4c5b-a25f-5bb2771d2aba"
      },
      "execution_count": 12,
      "outputs": [
        {
          "output_type": "stream",
          "name": "stdout",
          "text": [
            "['c' 'b' 'd' 'd' 'c' 'd' 'd' 'c' 'e' 'a' 'e' 'a' 'd' 'e' 'e' 'a' 'd' 'e'\n",
            " 'd' 'b' 'b' 'a' 'b' 'c' 'b' 'b' 'b' 'e' 'e' 'a' 'a' 'a' 'd' 'c' 'b' 'a'\n",
            " 'd' 'c' 'e' 'a' 'b' 'a' 'b' 'e' 'b' 'b' 'e' 'd' 'c' 'a' 'c' 'c' 'd' 'c'\n",
            " 'a' 'a' 'd' 'a' 'b' 'e' 'd' 'a' 'c' 'b' 'd' 'd' 'd' 'e' 'a' 'c' 'a' 'c'\n",
            " 'c' 'd' 'b' 'b' 'd' 'a' 'b' 'b' 'd' 'a' 'b' 'a' 'b' 'c' 'e' 'd' 'd' 'b'\n",
            " 'b' 'c' 'c' 'c' 'd' 'a' 'd' 'a' 'a' 'e' 'd' 'a' 'e' 'e' 'd' 'd' 'c' 'a'\n",
            " 'a' 'a' 'a' 'e' 'e' 'e' 'a' 'c' 'a' 'a' 'c' 'd' 'e' 'c' 'd' 'd' 'c' 'c'\n",
            " 'c' 'c' 'e' 'e' 'c' 'e' 'b' 'e' 'c' 'a' 'a' 'a' 'a' 'c' 'e' 'b' 'd' 'b'\n",
            " 'e' 'a' 'e' 'b' 'e' 'a' 'a' 'a' 'e' 'a' 'e' 'c' 'a' 'd' 'a' 'a' 'c' 'd'\n",
            " 'd' 'b' 'e' 'd' 'b' 'd' 'b' 'b' 'b' 'c' 'a' 'e' 'c' 'd' 'b' 'b' 'e' 'd'\n",
            " 'a' 'b' 'b' 'c' 'e' 'a' 'b' 'b' 'e' 'd' 'e' 'e' 'd' 'a' 'e' 'c' 'a' 'b'\n",
            " 'd' 'b']\n",
            "[0.61, 0.725, 0.805, 0.84]\n"
          ]
        }
      ]
    }
  ]
}