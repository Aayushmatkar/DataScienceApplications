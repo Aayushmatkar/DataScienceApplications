{
  "nbformat": 4,
  "nbformat_minor": 0,
  "metadata": {
    "colab": {
      "provenance": [],
      "authorship_tag": "ABX9TyMiB67rGzoLGCWq0tazgqMf",
      "include_colab_link": true
    },
    "kernelspec": {
      "name": "python3",
      "display_name": "Python 3"
    },
    "language_info": {
      "name": "python"
    }
  },
  "cells": [
    {
      "cell_type": "markdown",
      "metadata": {
        "id": "view-in-github",
        "colab_type": "text"
      },
      "source": [
        "<a href=\"https://colab.research.google.com/github/Aayushmatkar/DataScienceApplications/blob/main/Bag_of_Words%2CTF-IDF%2Cn-gram_TEST_RUN.ipynb\" target=\"_parent\"><img src=\"https://colab.research.google.com/assets/colab-badge.svg\" alt=\"Open In Colab\"/></a>"
      ]
    },
    {
      "cell_type": "code",
      "source": [
        "import pandas as pd\n",
        "import numpy as np\n",
        "from sklearn.feature_extraction.text import TfidfVectorizer\n",
        "from sklearn.model_selection import train_test_split\n",
        "from sklearn.neighbors import KNeighborsClassifier\n",
        "from sklearn.svm import SVC\n",
        "import xgboost as xgb\n",
        "from sklearn.metrics import accuracy_score\n",
        "import matplotlib.pyplot as plt\n",
        "import numpy as np\n",
        "import pandas as pd\n",
        "from sklearn.feature_extraction.text import CountVectorizer\n",
        "from sklearn.model_selection import train_test_split\n",
        "from sklearn.naive_bayes import MultinomialNB\n",
        "from sklearn.metrics import accuracy_score\n",
        "#MODEL IMPORTS\n",
        "from sklearn.naive_bayes import MultinomialNB\n",
        "from sklearn.svm import SVC\n",
        "from sklearn.tree import DecisionTreeClassifier\n",
        "from sklearn.ensemble import RandomForestClassifier\n",
        "from sklearn.ensemble import GradientBoostingClassifier\n",
        "from sklearn.ensemble import GradientBoostingRegressor\n",
        "#VALIDATION METRICS\n",
        "from sklearn.metrics import accuracy_score\n",
        "from sklearn.metrics import precision_score\n",
        "from sklearn.metrics import recall_score\n",
        "from sklearn.metrics import f1_score\n",
        "\n",
        "import matplotlib.pyplot as plt"
      ],
      "metadata": {
        "id": "CMWpykkmpoMt"
      },
      "execution_count": 36,
      "outputs": []
    },
    {
      "cell_type": "markdown",
      "source": [
        "# DATA PREPARATION AND CLEANING "
      ],
      "metadata": {
        "id": "yBcggXlqwHqN"
      }
    },
    {
      "cell_type": "code",
      "source": [
        "import nltk\n",
        "from nltk.corpus import gutenberg\n",
        "import re\n",
        "import os,random\n",
        "import pandas as pd\n",
        "nltk.download('punkt')\n",
        "nltk.download('gutenberg')\n",
        "\n",
        "def create_partitions(text, book_name, author):\n",
        "    partitions = []\n",
        "    words = nltk.word_tokenize(text)\n",
        "    for i in range(0, len(words), 100):\n",
        "        partitions.append((words[i:i+100], book_name, author))\n",
        "    return partitions\n",
        "\n",
        "#The books selected below are from the gutenberg module and are of the same genre 'novel'\n",
        "book_names=['melville-moby_dick.txt','edgeworth-parents.txt','chesterton-thursday.txt','austen-emma.txt','shakespeare-hamlet.txt']\n",
        "\n",
        "def random_sentences_with_book_name():\n",
        "  result=pd.DataFrame(columns=['Text', 'Book Name','Author'])\n",
        "  for i in book_names:\n",
        "    # Splitting the book names to remove their 'txt' extension\n",
        "    label_name=i.split('.')[0]\n",
        "\n",
        "    # Getting the book names from Gutenberg and reading them\n",
        "    book = gutenberg.raw(i)\n",
        "\n",
        "    #Getting the book names and their respective authors\n",
        "    lines = book.splitlines()\n",
        "\n",
        "    #The first line consists information about the above comment\n",
        "    line1=lines[0]\n",
        "    \n",
        "    #Removing the year from the line\n",
        "    pattern = r'\\D+'\n",
        "\n",
        "    digits_removed = re.findall(pattern, line1)\n",
        "\n",
        "    #Getting the author name\n",
        "    author = re.search(r'\\sby\\s([\\w\\s\\.]+)[\\s\\d{4}]+', digits_removed[0]).group(1)\n",
        "\n",
        "    #Getting the book name\n",
        "    book_name = re.search(r'\\[([\\w\\s\\']+)[\\,]?\\sby', line1).group(1)\n",
        "\n",
        "    # Create partitions of 100 words each\n",
        "    partitions = create_partitions(book, book_name, author)\n",
        "\n",
        "    # Create 200 random samples of the partitions\n",
        "    samples = random.sample(partitions, 200)\n",
        "\n",
        "    # Using regular expressions to clean the data\n",
        "    for i in range(len(samples)):\n",
        "        samples[i] = (re.sub(r'[^\\w\\s]','', ' '.join(samples[i][0])), samples[i][1], samples[i][2])\n",
        "\n",
        "    # Serialize the data using Pandas\n",
        "    df = pd.DataFrame(samples, columns=['Text', 'Book Name','Author'])\n",
        "\n",
        "    #Appending the random sentences of a book to the final dataframe \n",
        "    result=pd.concat([result,df])\n",
        "  result.to_csv('book_partitions.csv', index=False)\n",
        "\n",
        "  print(\"Data saved to book_partitions.csv.\")"
      ],
      "metadata": {
        "colab": {
          "base_uri": "https://localhost:8080/"
        },
        "id": "hZ9xCuq1v7oR",
        "outputId": "233b1186-98c1-45a5-e1b2-31a02a8806a0"
      },
      "execution_count": 37,
      "outputs": [
        {
          "output_type": "stream",
          "name": "stderr",
          "text": [
            "[nltk_data] Downloading package punkt to /root/nltk_data...\n",
            "[nltk_data]   Unzipping tokenizers/punkt.zip.\n",
            "[nltk_data] Downloading package gutenberg to /root/nltk_data...\n",
            "[nltk_data]   Unzipping corpora/gutenberg.zip.\n"
          ]
        }
      ]
    },
    {
      "cell_type": "code",
      "source": [
        "random_sentences_with_book_name()"
      ],
      "metadata": {
        "colab": {
          "base_uri": "https://localhost:8080/"
        },
        "id": "f4OuLOMqwPzf",
        "outputId": "11a39972-de0b-40b2-f6cc-697675d88924"
      },
      "execution_count": 38,
      "outputs": [
        {
          "output_type": "stream",
          "name": "stdout",
          "text": [
            "Data saved to book_partitions.csv.\n"
          ]
        }
      ]
    },
    {
      "cell_type": "code",
      "source": [
        "data=pd.read_csv('book_partitions.csv')"
      ],
      "metadata": {
        "id": "sxX4JPDcwPu0"
      },
      "execution_count": 39,
      "outputs": []
    },
    {
      "cell_type": "code",
      "source": [
        "data['Author'].value_counts(),data['Author'].unique()"
      ],
      "metadata": {
        "colab": {
          "base_uri": "https://localhost:8080/"
        },
        "id": "QVCleKViwPpf",
        "outputId": "cd6ac82b-3055-4d80-846b-45892035ab75"
      },
      "execution_count": 40,
      "outputs": [
        {
          "output_type": "execute_result",
          "data": {
            "text/plain": [
              "(Herman Melville        200\n",
              " Maria                  200\n",
              " G. K. Chesterton       200\n",
              " Jane Austen            200\n",
              " William Shakespeare    200\n",
              " Name: Author, dtype: int64,\n",
              " array(['Herman Melville', 'Maria', 'G. K. Chesterton', 'Jane Austen',\n",
              "        'William Shakespeare'], dtype=object))"
            ]
          },
          "metadata": {},
          "execution_count": 40
        }
      ]
    },
    {
      "cell_type": "code",
      "source": [
        "data['Book Name'].value_counts(),data['Book Name'].unique()"
      ],
      "metadata": {
        "colab": {
          "base_uri": "https://localhost:8080/"
        },
        "id": "wPCahCHSwWtH",
        "outputId": "d50ee19d-4964-4425-8ead-b3b87c160634"
      },
      "execution_count": 41,
      "outputs": [
        {
          "output_type": "execute_result",
          "data": {
            "text/plain": [
              "(Moby Dick                   200\n",
              " The Parent's Assistant      200\n",
              " The Man Who Was Thursday    200\n",
              " Emma                        200\n",
              " The Tragedie of Hamlet      200\n",
              " Name: Book Name, dtype: int64,\n",
              " array(['Moby Dick', \"The Parent's Assistant\", 'The Man Who Was Thursday',\n",
              "        'Emma', 'The Tragedie of Hamlet'], dtype=object))"
            ]
          },
          "metadata": {},
          "execution_count": 41
        }
      ]
    },
    {
      "cell_type": "code",
      "source": [
        "data['label']='a'\n",
        "data['index']=0"
      ],
      "metadata": {
        "id": "V6AWSUD3wYGg"
      },
      "execution_count": 42,
      "outputs": []
    },
    {
      "cell_type": "code",
      "source": [
        "data['label'][200:400]='b'\n",
        "data['index'][200:400]=1\n",
        "data['label'][400:600]='c'\n",
        "data['index'][400:600]=2\n",
        "data['label'][600:800]='d'\n",
        "data['index'][600:800]=3\n",
        "data['label'][800:1000]='e'\n",
        "data['index'][800:1000]=4"
      ],
      "metadata": {
        "colab": {
          "base_uri": "https://localhost:8080/"
        },
        "id": "0H1Gh579wYhd",
        "outputId": "d3b9b100-5323-4a75-ed4c-297d40a7dc6b"
      },
      "execution_count": 43,
      "outputs": [
        {
          "output_type": "stream",
          "name": "stderr",
          "text": [
            "<ipython-input-43-3b20635868f0>:1: SettingWithCopyWarning: \n",
            "A value is trying to be set on a copy of a slice from a DataFrame\n",
            "\n",
            "See the caveats in the documentation: https://pandas.pydata.org/pandas-docs/stable/user_guide/indexing.html#returning-a-view-versus-a-copy\n",
            "  data['label'][200:400]='b'\n",
            "<ipython-input-43-3b20635868f0>:2: SettingWithCopyWarning: \n",
            "A value is trying to be set on a copy of a slice from a DataFrame\n",
            "\n",
            "See the caveats in the documentation: https://pandas.pydata.org/pandas-docs/stable/user_guide/indexing.html#returning-a-view-versus-a-copy\n",
            "  data['index'][200:400]=1\n",
            "<ipython-input-43-3b20635868f0>:3: SettingWithCopyWarning: \n",
            "A value is trying to be set on a copy of a slice from a DataFrame\n",
            "\n",
            "See the caveats in the documentation: https://pandas.pydata.org/pandas-docs/stable/user_guide/indexing.html#returning-a-view-versus-a-copy\n",
            "  data['label'][400:600]='c'\n",
            "<ipython-input-43-3b20635868f0>:4: SettingWithCopyWarning: \n",
            "A value is trying to be set on a copy of a slice from a DataFrame\n",
            "\n",
            "See the caveats in the documentation: https://pandas.pydata.org/pandas-docs/stable/user_guide/indexing.html#returning-a-view-versus-a-copy\n",
            "  data['index'][400:600]=2\n",
            "<ipython-input-43-3b20635868f0>:5: SettingWithCopyWarning: \n",
            "A value is trying to be set on a copy of a slice from a DataFrame\n",
            "\n",
            "See the caveats in the documentation: https://pandas.pydata.org/pandas-docs/stable/user_guide/indexing.html#returning-a-view-versus-a-copy\n",
            "  data['label'][600:800]='d'\n",
            "<ipython-input-43-3b20635868f0>:6: SettingWithCopyWarning: \n",
            "A value is trying to be set on a copy of a slice from a DataFrame\n",
            "\n",
            "See the caveats in the documentation: https://pandas.pydata.org/pandas-docs/stable/user_guide/indexing.html#returning-a-view-versus-a-copy\n",
            "  data['index'][600:800]=3\n",
            "<ipython-input-43-3b20635868f0>:7: SettingWithCopyWarning: \n",
            "A value is trying to be set on a copy of a slice from a DataFrame\n",
            "\n",
            "See the caveats in the documentation: https://pandas.pydata.org/pandas-docs/stable/user_guide/indexing.html#returning-a-view-versus-a-copy\n",
            "  data['label'][800:1000]='e'\n",
            "<ipython-input-43-3b20635868f0>:8: SettingWithCopyWarning: \n",
            "A value is trying to be set on a copy of a slice from a DataFrame\n",
            "\n",
            "See the caveats in the documentation: https://pandas.pydata.org/pandas-docs/stable/user_guide/indexing.html#returning-a-view-versus-a-copy\n",
            "  data['index'][800:1000]=4\n"
          ]
        }
      ]
    },
    {
      "cell_type": "code",
      "source": [
        "data"
      ],
      "metadata": {
        "colab": {
          "base_uri": "https://localhost:8080/",
          "height": 467
        },
        "id": "QFO70qdXwavz",
        "outputId": "63003407-4b0d-4047-af96-596794853159"
      },
      "execution_count": 44,
      "outputs": [
        {
          "output_type": "execute_result",
          "data": {
            "text/plain": [
              "                                                  Text  \\\n",
              "0    same foamfountain  Queequeg seemed to drink an...   \n",
              "1    em the long and strong stroke  Tashtego  Start...   \n",
              "2    No use prying there  avast  I say with your ha...   \n",
              "3    be the first time I ever DID pray  It s queer ...   \n",
              "4    the moment the treacherous line felt that doub...   \n",
              "..                                                 ...   \n",
              "995  liuing Monument  An houre of quiet shortly sha...   \n",
              "996  of a Spundge  what replication should be made ...   \n",
              "997   mute and dumbe  Or look d vpon this Loue  wit...   \n",
              "998  I marry ist  Crowners Quest Law Other  Will yo...   \n",
              "999  He tooke me by the wrist  and held me hard  Th...   \n",
              "\n",
              "                  Book Name               Author label  index  \n",
              "0                 Moby Dick      Herman Melville     a      0  \n",
              "1                 Moby Dick      Herman Melville     a      0  \n",
              "2                 Moby Dick      Herman Melville     a      0  \n",
              "3                 Moby Dick      Herman Melville     a      0  \n",
              "4                 Moby Dick      Herman Melville     a      0  \n",
              "..                      ...                  ...   ...    ...  \n",
              "995  The Tragedie of Hamlet  William Shakespeare     e      4  \n",
              "996  The Tragedie of Hamlet  William Shakespeare     e      4  \n",
              "997  The Tragedie of Hamlet  William Shakespeare     e      4  \n",
              "998  The Tragedie of Hamlet  William Shakespeare     e      4  \n",
              "999  The Tragedie of Hamlet  William Shakespeare     e      4  \n",
              "\n",
              "[1000 rows x 5 columns]"
            ],
            "text/html": [
              "\n",
              "  <div id=\"df-e6c64cdd-4b90-4bc4-a598-88d439aeba9b\">\n",
              "    <div class=\"colab-df-container\">\n",
              "      <div>\n",
              "<style scoped>\n",
              "    .dataframe tbody tr th:only-of-type {\n",
              "        vertical-align: middle;\n",
              "    }\n",
              "\n",
              "    .dataframe tbody tr th {\n",
              "        vertical-align: top;\n",
              "    }\n",
              "\n",
              "    .dataframe thead th {\n",
              "        text-align: right;\n",
              "    }\n",
              "</style>\n",
              "<table border=\"1\" class=\"dataframe\">\n",
              "  <thead>\n",
              "    <tr style=\"text-align: right;\">\n",
              "      <th></th>\n",
              "      <th>Text</th>\n",
              "      <th>Book Name</th>\n",
              "      <th>Author</th>\n",
              "      <th>label</th>\n",
              "      <th>index</th>\n",
              "    </tr>\n",
              "  </thead>\n",
              "  <tbody>\n",
              "    <tr>\n",
              "      <th>0</th>\n",
              "      <td>same foamfountain  Queequeg seemed to drink an...</td>\n",
              "      <td>Moby Dick</td>\n",
              "      <td>Herman Melville</td>\n",
              "      <td>a</td>\n",
              "      <td>0</td>\n",
              "    </tr>\n",
              "    <tr>\n",
              "      <th>1</th>\n",
              "      <td>em the long and strong stroke  Tashtego  Start...</td>\n",
              "      <td>Moby Dick</td>\n",
              "      <td>Herman Melville</td>\n",
              "      <td>a</td>\n",
              "      <td>0</td>\n",
              "    </tr>\n",
              "    <tr>\n",
              "      <th>2</th>\n",
              "      <td>No use prying there  avast  I say with your ha...</td>\n",
              "      <td>Moby Dick</td>\n",
              "      <td>Herman Melville</td>\n",
              "      <td>a</td>\n",
              "      <td>0</td>\n",
              "    </tr>\n",
              "    <tr>\n",
              "      <th>3</th>\n",
              "      <td>be the first time I ever DID pray  It s queer ...</td>\n",
              "      <td>Moby Dick</td>\n",
              "      <td>Herman Melville</td>\n",
              "      <td>a</td>\n",
              "      <td>0</td>\n",
              "    </tr>\n",
              "    <tr>\n",
              "      <th>4</th>\n",
              "      <td>the moment the treacherous line felt that doub...</td>\n",
              "      <td>Moby Dick</td>\n",
              "      <td>Herman Melville</td>\n",
              "      <td>a</td>\n",
              "      <td>0</td>\n",
              "    </tr>\n",
              "    <tr>\n",
              "      <th>...</th>\n",
              "      <td>...</td>\n",
              "      <td>...</td>\n",
              "      <td>...</td>\n",
              "      <td>...</td>\n",
              "      <td>...</td>\n",
              "    </tr>\n",
              "    <tr>\n",
              "      <th>995</th>\n",
              "      <td>liuing Monument  An houre of quiet shortly sha...</td>\n",
              "      <td>The Tragedie of Hamlet</td>\n",
              "      <td>William Shakespeare</td>\n",
              "      <td>e</td>\n",
              "      <td>4</td>\n",
              "    </tr>\n",
              "    <tr>\n",
              "      <th>996</th>\n",
              "      <td>of a Spundge  what replication should be made ...</td>\n",
              "      <td>The Tragedie of Hamlet</td>\n",
              "      <td>William Shakespeare</td>\n",
              "      <td>e</td>\n",
              "      <td>4</td>\n",
              "    </tr>\n",
              "    <tr>\n",
              "      <th>997</th>\n",
              "      <td>mute and dumbe  Or look d vpon this Loue  wit...</td>\n",
              "      <td>The Tragedie of Hamlet</td>\n",
              "      <td>William Shakespeare</td>\n",
              "      <td>e</td>\n",
              "      <td>4</td>\n",
              "    </tr>\n",
              "    <tr>\n",
              "      <th>998</th>\n",
              "      <td>I marry ist  Crowners Quest Law Other  Will yo...</td>\n",
              "      <td>The Tragedie of Hamlet</td>\n",
              "      <td>William Shakespeare</td>\n",
              "      <td>e</td>\n",
              "      <td>4</td>\n",
              "    </tr>\n",
              "    <tr>\n",
              "      <th>999</th>\n",
              "      <td>He tooke me by the wrist  and held me hard  Th...</td>\n",
              "      <td>The Tragedie of Hamlet</td>\n",
              "      <td>William Shakespeare</td>\n",
              "      <td>e</td>\n",
              "      <td>4</td>\n",
              "    </tr>\n",
              "  </tbody>\n",
              "</table>\n",
              "<p>1000 rows × 5 columns</p>\n",
              "</div>\n",
              "      <button class=\"colab-df-convert\" onclick=\"convertToInteractive('df-e6c64cdd-4b90-4bc4-a598-88d439aeba9b')\"\n",
              "              title=\"Convert this dataframe to an interactive table.\"\n",
              "              style=\"display:none;\">\n",
              "        \n",
              "  <svg xmlns=\"http://www.w3.org/2000/svg\" height=\"24px\"viewBox=\"0 0 24 24\"\n",
              "       width=\"24px\">\n",
              "    <path d=\"M0 0h24v24H0V0z\" fill=\"none\"/>\n",
              "    <path d=\"M18.56 5.44l.94 2.06.94-2.06 2.06-.94-2.06-.94-.94-2.06-.94 2.06-2.06.94zm-11 1L8.5 8.5l.94-2.06 2.06-.94-2.06-.94L8.5 2.5l-.94 2.06-2.06.94zm10 10l.94 2.06.94-2.06 2.06-.94-2.06-.94-.94-2.06-.94 2.06-2.06.94z\"/><path d=\"M17.41 7.96l-1.37-1.37c-.4-.4-.92-.59-1.43-.59-.52 0-1.04.2-1.43.59L10.3 9.45l-7.72 7.72c-.78.78-.78 2.05 0 2.83L4 21.41c.39.39.9.59 1.41.59.51 0 1.02-.2 1.41-.59l7.78-7.78 2.81-2.81c.8-.78.8-2.07 0-2.86zM5.41 20L4 18.59l7.72-7.72 1.47 1.35L5.41 20z\"/>\n",
              "  </svg>\n",
              "      </button>\n",
              "      \n",
              "  <style>\n",
              "    .colab-df-container {\n",
              "      display:flex;\n",
              "      flex-wrap:wrap;\n",
              "      gap: 12px;\n",
              "    }\n",
              "\n",
              "    .colab-df-convert {\n",
              "      background-color: #E8F0FE;\n",
              "      border: none;\n",
              "      border-radius: 50%;\n",
              "      cursor: pointer;\n",
              "      display: none;\n",
              "      fill: #1967D2;\n",
              "      height: 32px;\n",
              "      padding: 0 0 0 0;\n",
              "      width: 32px;\n",
              "    }\n",
              "\n",
              "    .colab-df-convert:hover {\n",
              "      background-color: #E2EBFA;\n",
              "      box-shadow: 0px 1px 2px rgba(60, 64, 67, 0.3), 0px 1px 3px 1px rgba(60, 64, 67, 0.15);\n",
              "      fill: #174EA6;\n",
              "    }\n",
              "\n",
              "    [theme=dark] .colab-df-convert {\n",
              "      background-color: #3B4455;\n",
              "      fill: #D2E3FC;\n",
              "    }\n",
              "\n",
              "    [theme=dark] .colab-df-convert:hover {\n",
              "      background-color: #434B5C;\n",
              "      box-shadow: 0px 1px 3px 1px rgba(0, 0, 0, 0.15);\n",
              "      filter: drop-shadow(0px 1px 2px rgba(0, 0, 0, 0.3));\n",
              "      fill: #FFFFFF;\n",
              "    }\n",
              "  </style>\n",
              "\n",
              "      <script>\n",
              "        const buttonEl =\n",
              "          document.querySelector('#df-e6c64cdd-4b90-4bc4-a598-88d439aeba9b button.colab-df-convert');\n",
              "        buttonEl.style.display =\n",
              "          google.colab.kernel.accessAllowed ? 'block' : 'none';\n",
              "\n",
              "        async function convertToInteractive(key) {\n",
              "          const element = document.querySelector('#df-e6c64cdd-4b90-4bc4-a598-88d439aeba9b');\n",
              "          const dataTable =\n",
              "            await google.colab.kernel.invokeFunction('convertToInteractive',\n",
              "                                                     [key], {});\n",
              "          if (!dataTable) return;\n",
              "\n",
              "          const docLinkHtml = 'Like what you see? Visit the ' +\n",
              "            '<a target=\"_blank\" href=https://colab.research.google.com/notebooks/data_table.ipynb>data table notebook</a>'\n",
              "            + ' to learn more about interactive tables.';\n",
              "          element.innerHTML = '';\n",
              "          dataTable['output_type'] = 'display_data';\n",
              "          await google.colab.output.renderOutput(dataTable, element);\n",
              "          const docLink = document.createElement('div');\n",
              "          docLink.innerHTML = docLinkHtml;\n",
              "          element.appendChild(docLink);\n",
              "        }\n",
              "      </script>\n",
              "    </div>\n",
              "  </div>\n",
              "  "
            ]
          },
          "metadata": {},
          "execution_count": 44
        }
      ]
    },
    {
      "cell_type": "code",
      "source": [
        "pd.read_csv(\"book_partitions.csv\")"
      ],
      "metadata": {
        "colab": {
          "base_uri": "https://localhost:8080/",
          "height": 423
        },
        "id": "ts3isHN9w0YV",
        "outputId": "502d99d6-4913-4782-a554-85501f44c59c"
      },
      "execution_count": 55,
      "outputs": [
        {
          "output_type": "execute_result",
          "data": {
            "text/plain": [
              "                                                  Text  \\\n",
              "0    same foamfountain  Queequeg seemed to drink an...   \n",
              "1    em the long and strong stroke  Tashtego  Start...   \n",
              "2    No use prying there  avast  I say with your ha...   \n",
              "3    be the first time I ever DID pray  It s queer ...   \n",
              "4    the moment the treacherous line felt that doub...   \n",
              "..                                                 ...   \n",
              "995  liuing Monument  An houre of quiet shortly sha...   \n",
              "996  of a Spundge  what replication should be made ...   \n",
              "997   mute and dumbe  Or look d vpon this Loue  wit...   \n",
              "998  I marry ist  Crowners Quest Law Other  Will yo...   \n",
              "999  He tooke me by the wrist  and held me hard  Th...   \n",
              "\n",
              "                  Book Name               Author  \n",
              "0                 Moby Dick      Herman Melville  \n",
              "1                 Moby Dick      Herman Melville  \n",
              "2                 Moby Dick      Herman Melville  \n",
              "3                 Moby Dick      Herman Melville  \n",
              "4                 Moby Dick      Herman Melville  \n",
              "..                      ...                  ...  \n",
              "995  The Tragedie of Hamlet  William Shakespeare  \n",
              "996  The Tragedie of Hamlet  William Shakespeare  \n",
              "997  The Tragedie of Hamlet  William Shakespeare  \n",
              "998  The Tragedie of Hamlet  William Shakespeare  \n",
              "999  The Tragedie of Hamlet  William Shakespeare  \n",
              "\n",
              "[1000 rows x 3 columns]"
            ],
            "text/html": [
              "\n",
              "  <div id=\"df-cfcdf92b-d637-4c75-afc0-25131ec0fae6\">\n",
              "    <div class=\"colab-df-container\">\n",
              "      <div>\n",
              "<style scoped>\n",
              "    .dataframe tbody tr th:only-of-type {\n",
              "        vertical-align: middle;\n",
              "    }\n",
              "\n",
              "    .dataframe tbody tr th {\n",
              "        vertical-align: top;\n",
              "    }\n",
              "\n",
              "    .dataframe thead th {\n",
              "        text-align: right;\n",
              "    }\n",
              "</style>\n",
              "<table border=\"1\" class=\"dataframe\">\n",
              "  <thead>\n",
              "    <tr style=\"text-align: right;\">\n",
              "      <th></th>\n",
              "      <th>Text</th>\n",
              "      <th>Book Name</th>\n",
              "      <th>Author</th>\n",
              "    </tr>\n",
              "  </thead>\n",
              "  <tbody>\n",
              "    <tr>\n",
              "      <th>0</th>\n",
              "      <td>same foamfountain  Queequeg seemed to drink an...</td>\n",
              "      <td>Moby Dick</td>\n",
              "      <td>Herman Melville</td>\n",
              "    </tr>\n",
              "    <tr>\n",
              "      <th>1</th>\n",
              "      <td>em the long and strong stroke  Tashtego  Start...</td>\n",
              "      <td>Moby Dick</td>\n",
              "      <td>Herman Melville</td>\n",
              "    </tr>\n",
              "    <tr>\n",
              "      <th>2</th>\n",
              "      <td>No use prying there  avast  I say with your ha...</td>\n",
              "      <td>Moby Dick</td>\n",
              "      <td>Herman Melville</td>\n",
              "    </tr>\n",
              "    <tr>\n",
              "      <th>3</th>\n",
              "      <td>be the first time I ever DID pray  It s queer ...</td>\n",
              "      <td>Moby Dick</td>\n",
              "      <td>Herman Melville</td>\n",
              "    </tr>\n",
              "    <tr>\n",
              "      <th>4</th>\n",
              "      <td>the moment the treacherous line felt that doub...</td>\n",
              "      <td>Moby Dick</td>\n",
              "      <td>Herman Melville</td>\n",
              "    </tr>\n",
              "    <tr>\n",
              "      <th>...</th>\n",
              "      <td>...</td>\n",
              "      <td>...</td>\n",
              "      <td>...</td>\n",
              "    </tr>\n",
              "    <tr>\n",
              "      <th>995</th>\n",
              "      <td>liuing Monument  An houre of quiet shortly sha...</td>\n",
              "      <td>The Tragedie of Hamlet</td>\n",
              "      <td>William Shakespeare</td>\n",
              "    </tr>\n",
              "    <tr>\n",
              "      <th>996</th>\n",
              "      <td>of a Spundge  what replication should be made ...</td>\n",
              "      <td>The Tragedie of Hamlet</td>\n",
              "      <td>William Shakespeare</td>\n",
              "    </tr>\n",
              "    <tr>\n",
              "      <th>997</th>\n",
              "      <td>mute and dumbe  Or look d vpon this Loue  wit...</td>\n",
              "      <td>The Tragedie of Hamlet</td>\n",
              "      <td>William Shakespeare</td>\n",
              "    </tr>\n",
              "    <tr>\n",
              "      <th>998</th>\n",
              "      <td>I marry ist  Crowners Quest Law Other  Will yo...</td>\n",
              "      <td>The Tragedie of Hamlet</td>\n",
              "      <td>William Shakespeare</td>\n",
              "    </tr>\n",
              "    <tr>\n",
              "      <th>999</th>\n",
              "      <td>He tooke me by the wrist  and held me hard  Th...</td>\n",
              "      <td>The Tragedie of Hamlet</td>\n",
              "      <td>William Shakespeare</td>\n",
              "    </tr>\n",
              "  </tbody>\n",
              "</table>\n",
              "<p>1000 rows × 3 columns</p>\n",
              "</div>\n",
              "      <button class=\"colab-df-convert\" onclick=\"convertToInteractive('df-cfcdf92b-d637-4c75-afc0-25131ec0fae6')\"\n",
              "              title=\"Convert this dataframe to an interactive table.\"\n",
              "              style=\"display:none;\">\n",
              "        \n",
              "  <svg xmlns=\"http://www.w3.org/2000/svg\" height=\"24px\"viewBox=\"0 0 24 24\"\n",
              "       width=\"24px\">\n",
              "    <path d=\"M0 0h24v24H0V0z\" fill=\"none\"/>\n",
              "    <path d=\"M18.56 5.44l.94 2.06.94-2.06 2.06-.94-2.06-.94-.94-2.06-.94 2.06-2.06.94zm-11 1L8.5 8.5l.94-2.06 2.06-.94-2.06-.94L8.5 2.5l-.94 2.06-2.06.94zm10 10l.94 2.06.94-2.06 2.06-.94-2.06-.94-.94-2.06-.94 2.06-2.06.94z\"/><path d=\"M17.41 7.96l-1.37-1.37c-.4-.4-.92-.59-1.43-.59-.52 0-1.04.2-1.43.59L10.3 9.45l-7.72 7.72c-.78.78-.78 2.05 0 2.83L4 21.41c.39.39.9.59 1.41.59.51 0 1.02-.2 1.41-.59l7.78-7.78 2.81-2.81c.8-.78.8-2.07 0-2.86zM5.41 20L4 18.59l7.72-7.72 1.47 1.35L5.41 20z\"/>\n",
              "  </svg>\n",
              "      </button>\n",
              "      \n",
              "  <style>\n",
              "    .colab-df-container {\n",
              "      display:flex;\n",
              "      flex-wrap:wrap;\n",
              "      gap: 12px;\n",
              "    }\n",
              "\n",
              "    .colab-df-convert {\n",
              "      background-color: #E8F0FE;\n",
              "      border: none;\n",
              "      border-radius: 50%;\n",
              "      cursor: pointer;\n",
              "      display: none;\n",
              "      fill: #1967D2;\n",
              "      height: 32px;\n",
              "      padding: 0 0 0 0;\n",
              "      width: 32px;\n",
              "    }\n",
              "\n",
              "    .colab-df-convert:hover {\n",
              "      background-color: #E2EBFA;\n",
              "      box-shadow: 0px 1px 2px rgba(60, 64, 67, 0.3), 0px 1px 3px 1px rgba(60, 64, 67, 0.15);\n",
              "      fill: #174EA6;\n",
              "    }\n",
              "\n",
              "    [theme=dark] .colab-df-convert {\n",
              "      background-color: #3B4455;\n",
              "      fill: #D2E3FC;\n",
              "    }\n",
              "\n",
              "    [theme=dark] .colab-df-convert:hover {\n",
              "      background-color: #434B5C;\n",
              "      box-shadow: 0px 1px 3px 1px rgba(0, 0, 0, 0.15);\n",
              "      filter: drop-shadow(0px 1px 2px rgba(0, 0, 0, 0.3));\n",
              "      fill: #FFFFFF;\n",
              "    }\n",
              "  </style>\n",
              "\n",
              "      <script>\n",
              "        const buttonEl =\n",
              "          document.querySelector('#df-cfcdf92b-d637-4c75-afc0-25131ec0fae6 button.colab-df-convert');\n",
              "        buttonEl.style.display =\n",
              "          google.colab.kernel.accessAllowed ? 'block' : 'none';\n",
              "\n",
              "        async function convertToInteractive(key) {\n",
              "          const element = document.querySelector('#df-cfcdf92b-d637-4c75-afc0-25131ec0fae6');\n",
              "          const dataTable =\n",
              "            await google.colab.kernel.invokeFunction('convertToInteractive',\n",
              "                                                     [key], {});\n",
              "          if (!dataTable) return;\n",
              "\n",
              "          const docLinkHtml = 'Like what you see? Visit the ' +\n",
              "            '<a target=\"_blank\" href=https://colab.research.google.com/notebooks/data_table.ipynb>data table notebook</a>'\n",
              "            + ' to learn more about interactive tables.';\n",
              "          element.innerHTML = '';\n",
              "          dataTable['output_type'] = 'display_data';\n",
              "          await google.colab.output.renderOutput(dataTable, element);\n",
              "          const docLink = document.createElement('div');\n",
              "          docLink.innerHTML = docLinkHtml;\n",
              "          element.appendChild(docLink);\n",
              "        }\n",
              "      </script>\n",
              "    </div>\n",
              "  </div>\n",
              "  "
            ]
          },
          "metadata": {},
          "execution_count": 55
        }
      ]
    },
    {
      "cell_type": "markdown",
      "source": [
        "# BAG OF WORDS\n"
      ],
      "metadata": {
        "id": "n3o9WU8NvgQZ"
      }
    },
    {
      "cell_type": "code",
      "source": [
        "import pandas as pd\n",
        "import numpy as np\n",
        "from sklearn.feature_extraction.text import TfidfVectorizer\n",
        "from sklearn.model_selection import train_test_split\n",
        "from sklearn.neighbors import KNeighborsClassifier\n",
        "from sklearn.svm import SVC\n",
        "import xgboost as xgb\n",
        "from sklearn.metrics import accuracy_score\n",
        "import matplotlib.pyplot as plt\n",
        "\n",
        "# Read the csv file\n",
        "df = pd.read_csv('book_partitions3.csv')\n",
        "\n",
        "# Convert the text data into a tf-idf representation\n",
        "vectorizer = CountVectorizer()\n",
        "\n",
        "bag_of_words = vectorizer.fit_transform(df['Text'])\n",
        "\n",
        "# Split the data into training and testing sets\n",
        "X_train, X_test, y_train, y_test = train_test_split(bag_of_words, df['label'], test_size=0.2)\n",
        "\n",
        "# Train and evaluate the KNN model\n",
        "knn = KNeighborsClassifier()\n",
        "knn.fit(X_train, y_train)\n",
        "knn_pred = knn.predict(X_test)\n",
        "knn_accuracy = accuracy_score(y_test, knn_pred)\n",
        "print('knn_accuracy',knn_accuracy)\n",
        "# Train and evaluate the Decision Tree model\n",
        "dt = DecisionTreeClassifier()\n",
        "dt.fit(X_train, y_train)\n",
        "dt_pred = dt.predict(X_test)\n",
        "dt_accuracy = accuracy_score(y_test, dt_pred)\n",
        "print('dt_accuracy',dt_accuracy)\n",
        "# Train and evaluate the SVM model\n",
        "svm = SVC()\n",
        "svm.fit(X_train, y_train)\n",
        "svm_pred = svm.predict(X_test)\n",
        "svm_accuracy = accuracy_score(y_test, svm_pred)\n",
        "print('svm_accuracy',svm_accuracy)\n",
        "\n",
        "# Train and evaluate the XGBoost model\n",
        "xgb_model = xgb.XGBClassifier()\n",
        "xgb_model.fit(X_train, y_train)\n",
        "xgb_pred = xgb_model.predict(X_test)\n",
        "xgb_accuracy = accuracy_score(y_test, xgb_pred)\n",
        "print('xgb_accuracy=',xgb_accuracy)\n",
        "#++++++++++++++++++++++++++++++++++++++++++++++++\n",
        "\n",
        "\n",
        "# Plot the accuracy comparison of the models\n",
        "models = ['KNN', 'SVM','DT', 'XGBoost']\n",
        "accuracies = [knn_accuracy, svm_accuracy,dt_accuracy, xgb_accuracy]\n",
        "plt.bar(models, accuracies)\n",
        "plt.xlabel('Models')\n",
        "plt.ylabel('Accuracy')\n",
        "plt.title('Accuracy comparison of models')\n",
        "plt.show()"
      ],
      "metadata": {
        "colab": {
          "base_uri": "https://localhost:8080/",
          "height": 368
        },
        "id": "d9gjzQBWxheI",
        "outputId": "ac61c28a-5a79-49c1-8c96-344cd67362cf"
      },
      "execution_count": 57,
      "outputs": [
        {
          "output_type": "stream",
          "name": "stdout",
          "text": [
            "knn_accuracy 0.59\n",
            "dt_accuracy 0.72\n",
            "svm_accuracy 0.845\n",
            "xgb_accuracy= 0.85\n"
          ]
        },
        {
          "output_type": "display_data",
          "data": {
            "text/plain": [
              "<Figure size 432x288 with 1 Axes>"
            ],
            "image/png": "[encoded data removed]"
          },
          "metadata": {
            "needs_background": "light"
          }
        }
      ]
    },
    {
      "cell_type": "markdown",
      "source": [
        "# BOW TEST "
      ],
      "metadata": {
        "id": "Ob7_hv-Oxt6P"
      }
    },
    {
      "cell_type": "code",
      "source": [
        "from nltk.metrics.scores import precision\n",
        "# Load the dataset\n",
        "df = pd.read_csv(\"book_partitions3.csv\")\n",
        "# Convert text to a bag of words representation\n",
        "vectorizer = CountVectorizer()\n",
        "\n",
        "bag_of_words = vectorizer.fit_transform(df['Text'])\n",
        "\n",
        "# Split the data into training and testing sets\n",
        "X_train, X_test, y_train, y_test = train_test_split(bag_of_words, df['label'], test_size=0.2)\n",
        "\n",
        "# Train and evaluate the efficiency of each model\n",
        "models = [\n",
        "    #MultinomialNB(),\n",
        "    SVC(),\n",
        "    DecisionTreeClassifier(),\n",
        "    RandomForestClassifier(),\n",
        "    GradientBoostingClassifier(),\n",
        "    #GradientBoostingRegressor(),\n",
        "]\n",
        "\n",
        "for model in models:\n",
        "\n",
        "    model.fit(X_train, y_train)\n",
        "    y_pred = model.predict(X_test)\n",
        "\n",
        "\n",
        "    accuracy = accuracy_score(y_test, y_pred)\n",
        "    print(f\"Accuracy of {model.__class__.__name__}: {accuracy:.2f}\")\n",
        "\n",
        "    precision = precision_score(y_test, y_pred,average=None)\n",
        "    print(f\"Precision of {model.__class__.__name__}: {precision}\")\n",
        "\n",
        "    recall = recall_score(y_test, y_pred,average=None)\n",
        "    print(f\"Recall score of {model.__class__.__name__}: {recall}\")\n",
        "\n",
        "    Fscore = f1_score(y_test, y_pred,average=None)\n",
        "    print(f\"F_score of {model.__class__.__name__}: {Fscore}\")\n",
        "    print(\"--------------------------------------------------------------\")\n",
        "    #print(f\"Precision of {model.__class__.__name__}: {precision:.2f}\")"
      ],
      "metadata": {
        "colab": {
          "base_uri": "https://localhost:8080/"
        },
        "id": "vrZSfDnQpRq6",
        "outputId": "61647892-b403-4e7f-aff1-c95b9f4ce082"
      },
      "execution_count": 56,
      "outputs": [
        {
          "output_type": "stream",
          "name": "stdout",
          "text": [
            "Accuracy of SVC: 0.83\n",
            "Precision of SVC: [0.80851064 0.84615385 0.68292683 0.925      0.93939394]\n",
            "Recall score of SVC: [0.80851064 0.73333333 0.90322581 0.88095238 0.88571429]\n",
            "F_score of SVC: [0.80851064 0.78571429 0.77777778 0.90243902 0.91176471]\n",
            "--------------------------------------------------------------\n",
            "Accuracy of DecisionTreeClassifier: 0.69\n",
            "Precision of DecisionTreeClassifier: [0.66       0.5106383  0.73333333 0.73684211 0.85714286]\n",
            "Recall score of DecisionTreeClassifier: [0.70212766 0.53333333 0.70967742 0.66666667 0.85714286]\n",
            "F_score of DecisionTreeClassifier: [0.68041237 0.52173913 0.72131148 0.7        0.85714286]\n",
            "--------------------------------------------------------------\n",
            "Accuracy of RandomForestClassifier: 0.86\n",
            "Precision of RandomForestClassifier: [0.75925926 0.90909091 0.79411765 0.93181818 0.94285714]\n",
            "Recall score of RandomForestClassifier: [0.87234043 0.66666667 0.87096774 0.97619048 0.94285714]\n",
            "F_score of RandomForestClassifier: [0.81188119 0.76923077 0.83076923 0.95348837 0.94285714]\n",
            "--------------------------------------------------------------\n",
            "Accuracy of GradientBoostingClassifier: 0.86\n",
            "Precision of GradientBoostingClassifier: [0.82       0.76       0.88888889 0.97368421 0.94285714]\n",
            "Recall score of GradientBoostingClassifier: [0.87234043 0.84444444 0.77419355 0.88095238 0.94285714]\n",
            "F_score of GradientBoostingClassifier: [0.84536082 0.8        0.82758621 0.925      0.94285714]\n",
            "--------------------------------------------------------------\n"
          ]
        }
      ]
    },
    {
      "cell_type": "markdown",
      "source": [
        "# ***TF-IDF***"
      ],
      "metadata": {
        "id": "JCMtjoZPpUpW"
      }
    },
    {
      "cell_type": "code",
      "execution_count": 27,
      "metadata": {
        "colab": {
          "base_uri": "https://localhost:8080/",
          "height": 368
        },
        "id": "VCNUlbXwlsQs",
        "outputId": "62fdb7f3-1311-4f49-c58a-811b3f74e566"
      },
      "outputs": [
        {
          "output_type": "stream",
          "name": "stdout",
          "text": [
            "knn_accuracy 0.865\n",
            "dt_accuracy 0.61\n",
            "svm_accuracy 0.885\n",
            "xgb_accuracy= 0.835\n"
          ]
        },
        {
          "output_type": "display_data",
          "data": {
            "text/plain": [
              "<Figure size 432x288 with 1 Axes>"
            ],
            "image/png": "[encoded data removed]"
          },
          "metadata": {
            "needs_background": "light"
          }
        }
      ],
      "source": [
        "import pandas as pd\n",
        "import numpy as np\n",
        "from sklearn.feature_extraction.text import TfidfVectorizer\n",
        "from sklearn.model_selection import train_test_split\n",
        "from sklearn.neighbors import KNeighborsClassifier\n",
        "from sklearn.svm import SVC\n",
        "import xgboost as xgb\n",
        "from sklearn.metrics import accuracy_score\n",
        "import matplotlib.pyplot as plt\n",
        "\n",
        "# Read the csv file\n",
        "df = pd.read_csv('book_partitions3.csv')\n",
        "\n",
        "# Convert the text data into a tf-idf representation\n",
        "vectorizer = TfidfVectorizer()\n",
        "tfidf = vectorizer.fit_transform(df['Text'].values)\n",
        "\n",
        "# Split the data into training and testing sets\n",
        "X_train, X_test, y_train, y_test = train_test_split(tfidf, df['label'], test_size=0.2, random_state=42)\n",
        "\n",
        "# Train and evaluate the KNN model\n",
        "knn = KNeighborsClassifier()\n",
        "knn.fit(X_train, y_train)\n",
        "knn_pred = knn.predict(X_test)\n",
        "knn_accuracy = accuracy_score(y_test, knn_pred)\n",
        "print('knn_accuracy',knn_accuracy)\n",
        "# Train and evaluate the Decision Tree model\n",
        "dt = DecisionTreeClassifier()\n",
        "dt.fit(X_train, y_train)\n",
        "dt_pred = dt.predict(X_test)\n",
        "dt_accuracy = accuracy_score(y_test, dt_pred)\n",
        "print('dt_accuracy',dt_accuracy)\n",
        "# Train and evaluate the SVM model\n",
        "svm = SVC()\n",
        "svm.fit(X_train, y_train)\n",
        "svm_pred = svm.predict(X_test)\n",
        "svm_accuracy = accuracy_score(y_test, svm_pred)\n",
        "print('svm_accuracy',svm_accuracy)\n",
        "\n",
        "# Train and evaluate the XGBoost model\n",
        "xgb_model = xgb.XGBClassifier()\n",
        "xgb_model.fit(X_train, y_train)\n",
        "xgb_pred = xgb_model.predict(X_test)\n",
        "xgb_accuracy = accuracy_score(y_test, xgb_pred)\n",
        "print('xgb_accuracy=',xgb_accuracy)\n",
        "#++++++++++++++++++++++++++++++++++++++++++++++++\n",
        "\n",
        "\n",
        "# Plot the accuracy comparison of the models\n",
        "models = ['KNN', 'SVM','DT', 'XGBoost']\n",
        "accuracies = [knn_accuracy, svm_accuracy,dt_accuracy, xgb_accuracy]\n",
        "plt.bar(models, accuracies)\n",
        "plt.xlabel('Models')\n",
        "plt.ylabel('Accuracy')\n",
        "plt.title('Accuracy comparison of models')\n",
        "plt.show()"
      ]
    },
    {
      "cell_type": "code",
      "source": [],
      "metadata": {
        "colab": {
          "base_uri": "https://localhost:8080/"
        },
        "id": "3Y-acW_lpm1u",
        "outputId": "17b90c28-b8a0-43b0-f1dd-faf1ea93b577"
      },
      "execution_count": 29,
      "outputs": [
        {
          "name": "stdout",
          "output_type": "stream",
          "text": [
            "testBut not precisely so For nothing was this man more remarkable than for a certain impersonal stolidity as it were impersonal I say for it so shaded off into the surrounding infinite of things that it seemed one with the general stolidity discernible in the whole visible world which while pauselessly active in uncounted modes still eternally holds its peace and ignores you though you dig foundations for cathedrals Yet was this halfhorrible stolidity in him involving too as it appeared an allramifying heartlessness\n"
          ]
        }
      ]
    },
    {
      "cell_type": "code",
      "source": [
        "svm_pred = svm.predict(X_test)\n",
        "print(\"SVM_Prediction_Test =\")\n",
        "print( svm_pred)"
      ],
      "metadata": {
        "colab": {
          "base_uri": "https://localhost:8080/"
        },
        "id": "AHF49lojmn45",
        "outputId": "a4fb8097-b195-47ad-c574-18e0c956f006"
      },
      "execution_count": 35,
      "outputs": [
        {
          "output_type": "stream",
          "name": "stdout",
          "text": [
            "SVM_Prediction_Test =\n",
            "['c' 'b' 'd' 'd' 'c' 'd' 'd' 'c' 'e' 'a' 'e' 'a' 'd' 'e' 'e' 'e' 'd' 'e'\n",
            " 'd' 'b' 'c' 'a' 'b' 'c' 'b' 'b' 'a' 'e' 'e' 'a' 'b' 'a' 'd' 'c' 'b' 'a'\n",
            " 'd' 'c' 'e' 'a' 'b' 'a' 'b' 'e' 'b' 'b' 'e' 'd' 'a' 'e' 'c' 'e' 'b' 'c'\n",
            " 'a' 'a' 'd' 'a' 'b' 'e' 'd' 'a' 'c' 'b' 'd' 'd' 'd' 'e' 'a' 'c' 'a' 'c'\n",
            " 'c' 'd' 'b' 'b' 'd' 'a' 'b' 'b' 'd' 'a' 'b' 'a' 'b' 'c' 'e' 'd' 'd' 'b'\n",
            " 'b' 'c' 'c' 'c' 'd' 'a' 'd' 'a' 'a' 'e' 'd' 'b' 'e' 'b' 'd' 'd' 'c' 'e'\n",
            " 'a' 'a' 'a' 'e' 'e' 'e' 'a' 'c' 'a' 'e' 'c' 'd' 'e' 'c' 'd' 'b' 'b' 'c'\n",
            " 'c' 'c' 'e' 'e' 'c' 'e' 'b' 'e' 'c' 'a' 'a' 'a' 'a' 'c' 'a' 'b' 'd' 'b'\n",
            " 'e' 'a' 'e' 'b' 'e' 'a' 'a' 'a' 'e' 'a' 'e' 'c' 'a' 'd' 'a' 'a' 'c' 'd'\n",
            " 'd' 'b' 'e' 'd' 'b' 'd' 'b' 'b' 'b' 'c' 'a' 'e' 'c' 'd' 'b' 'b' 'e' 'd'\n",
            " 'c' 'b' 'b' 'c' 'e' 'a' 'b' 'b' 'e' 'd' 'e' 'e' 'd' 'a' 'b' 'c' 'b' 'b'\n",
            " 'd' 'b']\n"
          ]
        }
      ]
    },
    {
      "cell_type": "markdown",
      "source": [],
      "metadata": {
        "id": "Jf-vDaOeoseJ"
      }
    },
    {
      "cell_type": "code",
      "source": [
        "print(accuracies)"
      ],
      "metadata": {
        "colab": {
          "base_uri": "https://localhost:8080/"
        },
        "id": "Ce0-0Gk8mcJ5",
        "outputId": "0afc4dc5-9472-4470-9e58-9734b7548387"
      },
      "execution_count": 9,
      "outputs": [
        {
          "output_type": "stream",
          "name": "stdout",
          "text": [
            "[0.865, 0.885, 0.835]\n"
          ]
        }
      ]
    },
    {
      "cell_type": "markdown",
      "source": [
        "# ***N-GRAM***"
      ],
      "metadata": {
        "id": "jijk2IsipDKI"
      }
    },
    {
      "cell_type": "code",
      "source": [
        "import pandas as pd\n",
        "import numpy as np\n",
        "from sklearn.feature_extraction.text import CountVectorizer\n",
        "from sklearn.model_selection import train_test_split\n",
        "from sklearn.neighbors import KNeighborsClassifier\n",
        "from sklearn.tree import DecisionTreeClassifier\n",
        "from sklearn.svm import SVC\n",
        "import xgboost as xgb\n",
        "from sklearn.metrics import accuracy_score\n",
        "import matplotlib.pyplot as plt\n",
        "\n",
        "# Read the csv file\n",
        "df = pd.read_csv('book_partitions3.csv')\n",
        "\n",
        "# Convert the text data into a n-gram representation\n",
        "vectorizer = CountVectorizer(ngram_range=(1, 2))\n",
        "ngrams = vectorizer.fit_transform(df['Text'].values)\n",
        "\n",
        "# Split the data into training and testing sets\n",
        "X_train, X_test, y_train, y_test = train_test_split(ngrams, df['label'], test_size=0.2, random_state=42)\n",
        "\n",
        "# Train and evaluate the KNN model\n",
        "knn = KNeighborsClassifier()\n",
        "knn.fit(X_train, y_train)\n",
        "knn_pred = knn.predict(X_test)\n",
        "knn_accuracy = accuracy_score(y_test, knn_pred)\n",
        "\n",
        "# Train and evaluate the Decision Tree model\n",
        "dt = DecisionTreeClassifier()\n",
        "dt.fit(X_train, y_train)\n",
        "dt_pred = dt.predict(X_test)\n",
        "dt_accuracy = accuracy_score(y_test, dt_pred)\n",
        "\n",
        "# Train and evaluate the SVM model\n",
        "svm = SVC()\n",
        "svm.fit(X_train, y_train)\n",
        "svm_pred = svm.predict(X_test)\n",
        "svm_accuracy = accuracy_score(y_test, svm_pred)\n",
        "\n",
        "# Train and evaluate the XGBoost model\n",
        "xgb_model = xgb.XGBClassifier()\n",
        "xgb_model.fit(X_train, y_train)\n",
        "xgb_pred = xgb_model.predict(X_test)\n",
        "xgb_accuracy = accuracy_score(y_test, xgb_pred)\n",
        "\n",
        "# Plot the accuracy comparison of the models\n",
        "models = ['KNN', 'Decision Tree', 'SVM', 'XGBoost']\n",
        "accuracies = [knn_accuracy, dt_accuracy, svm_accuracy, xgb_accuracy]\n",
        "plt.bar(models, accuracies)\n",
        "plt.xlabel('Models')\n",
        "plt.ylabel('Accuracy')\n",
        "plt.title('Accuracy comparison of models')\n",
        "plt.show()"
      ],
      "metadata": {
        "colab": {
          "base_uri": "https://localhost:8080/",
          "height": 295
        },
        "id": "050oQ07tncDX",
        "outputId": "bc7527f7-f652-4d3b-f3a9-a769c2913a58"
      },
      "execution_count": 11,
      "outputs": [
        {
          "output_type": "display_data",
          "data": {
            "text/plain": [
              "<Figure size 432x288 with 1 Axes>"
            ],
            "image/png": "[encoded data removed]"
          },
          "metadata": {
            "needs_background": "light"
          }
        }
      ]
    },
    {
      "cell_type": "code",
      "source": [
        "svm_pred = svm.predict(X_test)\n",
        "print(svm_pred)\n",
        "print(accuracies)"
      ],
      "metadata": {
        "colab": {
          "base_uri": "https://localhost:8080/"
        },
        "id": "DkDHUW2ooux_",
        "outputId": "8fbe76c1-6c54-4c5b-a25f-5bb2771d2aba"
      },
      "execution_count": 12,
      "outputs": [
        {
          "output_type": "stream",
          "name": "stdout",
          "text": [
            "['c' 'b' 'd' 'd' 'c' 'd' 'd' 'c' 'e' 'a' 'e' 'a' 'd' 'e' 'e' 'a' 'd' 'e'\n",
            " 'd' 'b' 'b' 'a' 'b' 'c' 'b' 'b' 'b' 'e' 'e' 'a' 'a' 'a' 'd' 'c' 'b' 'a'\n",
            " 'd' 'c' 'e' 'a' 'b' 'a' 'b' 'e' 'b' 'b' 'e' 'd' 'c' 'a' 'c' 'c' 'd' 'c'\n",
            " 'a' 'a' 'd' 'a' 'b' 'e' 'd' 'a' 'c' 'b' 'd' 'd' 'd' 'e' 'a' 'c' 'a' 'c'\n",
            " 'c' 'd' 'b' 'b' 'd' 'a' 'b' 'b' 'd' 'a' 'b' 'a' 'b' 'c' 'e' 'd' 'd' 'b'\n",
            " 'b' 'c' 'c' 'c' 'd' 'a' 'd' 'a' 'a' 'e' 'd' 'a' 'e' 'e' 'd' 'd' 'c' 'a'\n",
            " 'a' 'a' 'a' 'e' 'e' 'e' 'a' 'c' 'a' 'a' 'c' 'd' 'e' 'c' 'd' 'd' 'c' 'c'\n",
            " 'c' 'c' 'e' 'e' 'c' 'e' 'b' 'e' 'c' 'a' 'a' 'a' 'a' 'c' 'e' 'b' 'd' 'b'\n",
            " 'e' 'a' 'e' 'b' 'e' 'a' 'a' 'a' 'e' 'a' 'e' 'c' 'a' 'd' 'a' 'a' 'c' 'd'\n",
            " 'd' 'b' 'e' 'd' 'b' 'd' 'b' 'b' 'b' 'c' 'a' 'e' 'c' 'd' 'b' 'b' 'e' 'd'\n",
            " 'a' 'b' 'b' 'c' 'e' 'a' 'b' 'b' 'e' 'd' 'e' 'e' 'd' 'a' 'e' 'c' 'a' 'b'\n",
            " 'd' 'b']\n",
            "[0.61, 0.725, 0.805, 0.84]\n"
          ]
        }
      ]
    }
  ]
}