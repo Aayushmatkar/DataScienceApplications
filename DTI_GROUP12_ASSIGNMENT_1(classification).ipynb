{
  "nbformat": 4,
  "nbformat_minor": 0,
  "metadata": {
    "colab": {
      "provenance": [],
      "include_colab_link": true
    },
    "kernelspec": {
      "name": "python3",
      "display_name": "Python 3"
    },
    "language_info": {
      "name": "python"
    }
  },
  "cells": [
    {
      "cell_type": "markdown",
      "metadata": {
        "id": "view-in-github",
        "colab_type": "text"
      },
      "source": [
        "<a href=\"https://colab.research.google.com/github/Aayushmatkar/DataScienceApplications/blob/main/DTI_GROUP12_ASSIGNMENT_1(classification).ipynb\" target=\"_parent\"><img src=\"https://colab.research.google.com/assets/colab-badge.svg\" alt=\"Open In Colab\"/></a>"
      ]
    },
    {
      "cell_type": "markdown",
      "source": [
        "Text Classification (Group Assignment 1)\n",
        "\n",
        "Take five different samples of Gutenberg digital books (or your choice of text corpus), which are of five different authors, that you suspect are of the same genres and are semantically the same. For example, choose two of the books 1- The Brothers Karamazov and 2- Thus Spoke Zarathustra 3- Nausea.\n",
        "\n",
        "Separate and set aside unbiased random partitions for training, validation and testing.\n",
        "\n",
        "The overall objective is to produce classification predictions and compare them; analyze the pros and cons of algorithms and generate and communicate the insights.\n",
        "\n",
        " Gauge the bias and variability of the models to decide the champion model. Then play with the features and other factors that provide you with leverages to make it harder for the model to predict and bring the accuracy down for about 20% and then check the bias and variability using the overlay of different genre (drama, nonfiction, fiction (mystery, romance) ), author's world-view, gender, nationality, place of birth, education, or marital status etc.\n",
        "\n",
        "Prepare the data: create random samples of 200 documents of each book, representative of the source input. Prepare the records of 100 words records for each document, label them as a, b and c etc. as per the book they belong to.\n",
        "\n",
        "Preprocess the data: remove stop-words and garbage characters if needed.\n",
        "\n",
        "Transform to BOW, and TF-IDF, n-gram, (LDA, word-embedding, optional) etc.\n",
        "\n",
        "Train a machine that can tell which author (and genre), when asked!\n",
        "\n",
        "Evaluation: Do ten-fold cross-validation.\n",
        "\n",
        "Perform Error-Analysis: Identity what were the characteristics of the instance records that threw the machine off. Evaluate for the potential bias, author's or book's characteristics.\n",
        "\n",
        "Document your steps, explain the results effectively, using graphs.\n",
        "\n",
        "Verify and validate your programs; Make sure your programs run without syntax or logical errors.\n",
        "\n",
        "Massage the data: Reduce the number of words per document if the accuracy is too high and then repeat the above steps."
      ],
      "metadata": {
        "id": "UhP5sBV__mdJ"
      }
    },
    {
      "cell_type": "markdown",
      "source": [
        "#lib imports "
      ],
      "metadata": {
        "id": "-vgZAyhRcEEy"
      }
    },
    {
      "cell_type": "code",
      "execution_count": null,
      "metadata": {
        "id": "Bi_FBGHQ2oyJ"
      },
      "outputs": [],
      "source": [
        "import pandas as pd\n",
        "import numpy as np\n",
        "from sklearn.feature_extraction.text import TfidfVectorizer\n",
        "from sklearn.model_selection import train_test_split\n",
        "from sklearn.neighbors import KNeighborsClassifier\n",
        "from sklearn.svm import SVC\n",
        "import xgboost as xgb\n",
        "from sklearn.metrics import accuracy_score\n",
        "import matplotlib.pyplot as plt\n",
        "import numpy as np\n",
        "import pandas as pd\n",
        "from sklearn.feature_extraction.text import CountVectorizer\n",
        "from sklearn.model_selection import train_test_split\n",
        "from sklearn.naive_bayes import MultinomialNB\n",
        "from sklearn.metrics import accuracy_score\n",
        "#MODEL IMPORTS\n",
        "from sklearn.naive_bayes import MultinomialNB\n",
        "from sklearn.svm import SVC\n",
        "from sklearn.tree import DecisionTreeClassifier\n",
        "from sklearn.ensemble import RandomForestClassifier\n",
        "from sklearn.ensemble import GradientBoostingClassifier\n",
        "from sklearn.ensemble import GradientBoostingRegressor\n",
        "#VALIDATION METRICS\n",
        "from sklearn.metrics import accuracy_score\n",
        "from sklearn.metrics import precision_score\n",
        "from sklearn.metrics import recall_score\n",
        "from sklearn.metrics import f1_score\n",
        "\n",
        "import matplotlib.pyplot as plt"
      ]
    },
    {
      "cell_type": "markdown",
      "source": [
        "#DATA PREPARATION AND CLEANING "
      ],
      "metadata": {
        "id": "b3-oDwd56XIb"
      }
    },
    {
      "cell_type": "code",
      "source": [
        "import nltk\n",
        "from nltk.corpus import gutenberg\n",
        "import re\n",
        "import os,random\n",
        "import pandas as pd\n",
        "nltk.download('punkt')\n",
        "nltk.download('gutenberg')\n",
        "\n",
        "def create_partitions(text, book_name, author):\n",
        "    partitions = []\n",
        "    words = nltk.word_tokenize(text)\n",
        "    for i in range(0, len(words), 100):\n",
        "        partitions.append((words[i:i+100], book_name, author))\n",
        "    return partitions\n",
        "\n",
        "#The books selected below are from the gutenberg module and are of the same genre 'novel'\n",
        "book_names=['melville-moby_dick.txt','edgeworth-parents.txt','chesterton-thursday.txt','austen-emma.txt','milton-paradise.txt']\n",
        "\n",
        "def random_sentences_with_book_name():\n",
        "  result=pd.DataFrame(columns=['Text', 'Book Name','Author'])\n",
        "  for i in book_names:\n",
        "    # Splitting the book names to remove their 'txt' extension\n",
        "    label_name=i.split('.')[0]\n",
        "\n",
        "    # Getting the book names from Gutenberg and reading them\n",
        "    book = gutenberg.raw(i)\n",
        "\n",
        "    #Getting the book names and their respective authors\n",
        "    lines = book.splitlines()\n",
        "\n",
        "    #The first line consists information about the above comment\n",
        "    line1=lines[0]\n",
        "    \n",
        "    #Removing the year from the line\n",
        "    pattern = r'\\D+'\n",
        "\n",
        "    digits_removed = re.findall(pattern, line1)\n",
        "\n",
        "    #Getting the author name\n",
        "    author = re.search(r'\\sby\\s([\\w\\s\\.]+)[\\s\\d{4}]+', digits_removed[0]).group(1)\n",
        "\n",
        "    #Getting the book name\n",
        "    book_name = re.search(r'\\[([\\w\\s\\']+)[\\,]?\\sby', line1).group(1)\n",
        "\n",
        "    # Create partitions of 100 words each\n",
        "    partitions = create_partitions(book, book_name, author)\n",
        "\n",
        "    # Create 200 random samples of the partitions\n",
        "    samples = random.sample(partitions, 200)\n",
        "\n",
        "    # Using regular expressions to clean the data\n",
        "    for i in range(len(samples)):\n",
        "        samples[i] = (re.sub(r'[^\\w\\s]','', ' '.join(samples[i][0])), samples[i][1], samples[i][2])\n",
        "\n",
        "    # Serialize the data using Pandas\n",
        "    df = pd.DataFrame(samples, columns=['Text', 'Book Name','Author'])\n",
        "\n",
        "    #Appending the random sentences of a book to the final dataframe \n",
        "    result=pd.concat([result,df])\n",
        "  result.to_csv('book_partitions.csv', index=False)\n",
        "\n",
        "  print(\"Data saved to book_partitions.csv.\")"
      ],
      "metadata": {
        "id": "Tr_F5G3_7Cyb",
        "outputId": "4bbcf67e-cfc7-451c-8f02-613aa02478e6",
        "colab": {
          "base_uri": "https://localhost:8080/"
        }
      },
      "execution_count": null,
      "outputs": [
        {
          "output_type": "stream",
          "name": "stderr",
          "text": [
            "[nltk_data] Downloading package punkt to /root/nltk_data...\n",
            "[nltk_data]   Unzipping tokenizers/punkt.zip.\n",
            "[nltk_data] Downloading package gutenberg to /root/nltk_data...\n",
            "[nltk_data]   Unzipping corpora/gutenberg.zip.\n"
          ]
        }
      ]
    },
    {
      "cell_type": "code",
      "source": [
        "random_sentences_with_book_name()\n",
        "data=pd.read_csv('book_partitions.csv')\n",
        "data['Author'].value_counts(),data['Author'].unique()\n",
        "data['Book Name'].value_counts(),data['Book Name'].unique()"
      ],
      "metadata": {
        "id": "uaK7gu9Z7HF9",
        "outputId": "fccf7226-baa1-4eda-8f25-950f3c71e4ff",
        "colab": {
          "base_uri": "https://localhost:8080/"
        }
      },
      "execution_count": null,
      "outputs": [
        {
          "output_type": "stream",
          "name": "stdout",
          "text": [
            "Data saved to book_partitions.csv.\n"
          ]
        },
        {
          "output_type": "execute_result",
          "data": {
            "text/plain": [
              "(Moby Dick                   200\n",
              " The Parent's Assistant      200\n",
              " The Man Who Was Thursday    200\n",
              " Emma                        200\n",
              " Paradise Lost               200\n",
              " Name: Book Name, dtype: int64,\n",
              " array(['Moby Dick', \"The Parent's Assistant\", 'The Man Who Was Thursday',\n",
              "        'Emma', 'Paradise Lost'], dtype=object))"
            ]
          },
          "metadata": {},
          "execution_count": 3
        }
      ]
    },
    {
      "cell_type": "code",
      "source": [
        "data['label']='a'\n",
        "data['index']=0\n",
        "data['label'][200:400]='b'\n",
        "data['index'][200:400]=1\n",
        "data['label'][400:600]='c'\n",
        "data['index'][400:600]=2\n",
        "data['label'][600:800]='d'\n",
        "data['index'][600:800]=3\n",
        "data['label'][800:1000]='e'\n",
        "data['index'][800:1000]=4"
      ],
      "metadata": {
        "id": "eZJnMFDQ7Np8",
        "outputId": "f27ed7cd-18ea-4bf4-a470-68b328ecea9f",
        "colab": {
          "base_uri": "https://localhost:8080/"
        }
      },
      "execution_count": null,
      "outputs": [
        {
          "output_type": "stream",
          "name": "stderr",
          "text": [
            "<ipython-input-4-851d604334d8>:3: SettingWithCopyWarning: \n",
            "A value is trying to be set on a copy of a slice from a DataFrame\n",
            "\n",
            "See the caveats in the documentation: https://pandas.pydata.org/pandas-docs/stable/user_guide/indexing.html#returning-a-view-versus-a-copy\n",
            "  data['label'][200:400]='b'\n",
            "<ipython-input-4-851d604334d8>:4: SettingWithCopyWarning: \n",
            "A value is trying to be set on a copy of a slice from a DataFrame\n",
            "\n",
            "See the caveats in the documentation: https://pandas.pydata.org/pandas-docs/stable/user_guide/indexing.html#returning-a-view-versus-a-copy\n",
            "  data['index'][200:400]=1\n",
            "<ipython-input-4-851d604334d8>:5: SettingWithCopyWarning: \n",
            "A value is trying to be set on a copy of a slice from a DataFrame\n",
            "\n",
            "See the caveats in the documentation: https://pandas.pydata.org/pandas-docs/stable/user_guide/indexing.html#returning-a-view-versus-a-copy\n",
            "  data['label'][400:600]='c'\n",
            "<ipython-input-4-851d604334d8>:6: SettingWithCopyWarning: \n",
            "A value is trying to be set on a copy of a slice from a DataFrame\n",
            "\n",
            "See the caveats in the documentation: https://pandas.pydata.org/pandas-docs/stable/user_guide/indexing.html#returning-a-view-versus-a-copy\n",
            "  data['index'][400:600]=2\n",
            "<ipython-input-4-851d604334d8>:7: SettingWithCopyWarning: \n",
            "A value is trying to be set on a copy of a slice from a DataFrame\n",
            "\n",
            "See the caveats in the documentation: https://pandas.pydata.org/pandas-docs/stable/user_guide/indexing.html#returning-a-view-versus-a-copy\n",
            "  data['label'][600:800]='d'\n",
            "<ipython-input-4-851d604334d8>:8: SettingWithCopyWarning: \n",
            "A value is trying to be set on a copy of a slice from a DataFrame\n",
            "\n",
            "See the caveats in the documentation: https://pandas.pydata.org/pandas-docs/stable/user_guide/indexing.html#returning-a-view-versus-a-copy\n",
            "  data['index'][600:800]=3\n",
            "<ipython-input-4-851d604334d8>:9: SettingWithCopyWarning: \n",
            "A value is trying to be set on a copy of a slice from a DataFrame\n",
            "\n",
            "See the caveats in the documentation: https://pandas.pydata.org/pandas-docs/stable/user_guide/indexing.html#returning-a-view-versus-a-copy\n",
            "  data['label'][800:1000]='e'\n",
            "<ipython-input-4-851d604334d8>:10: SettingWithCopyWarning: \n",
            "A value is trying to be set on a copy of a slice from a DataFrame\n",
            "\n",
            "See the caveats in the documentation: https://pandas.pydata.org/pandas-docs/stable/user_guide/indexing.html#returning-a-view-versus-a-copy\n",
            "  data['index'][800:1000]=4\n"
          ]
        }
      ]
    },
    {
      "cell_type": "code",
      "source": [
        "data\n"
      ],
      "metadata": {
        "id": "ltXTzyO97dJM",
        "outputId": "5a842c8a-947b-4a5d-9541-b57137318e90",
        "colab": {
          "base_uri": "https://localhost:8080/",
          "height": 423
        }
      },
      "execution_count": null,
      "outputs": [
        {
          "output_type": "execute_result",
          "data": {
            "text/plain": [
              "                                                  Text      Book Name  \\\n",
              "0    guess he s holding on  Jerk him  Tahiti  Jerk ...      Moby Dick   \n",
              "1    boy  would he had died  or I  he s half horrib...      Moby Dick   \n",
              "2     stalked on deck  where we followed him  There...      Moby Dick   \n",
              "3    I   all right  There s Mrs  Hussey   And so it...      Moby Dick   \n",
              "4    that he had apparently made every preparation ...      Moby Dick   \n",
              "..                                                 ...            ...   \n",
              "995  or his opiate rod  Mean while  To resalute the...  Paradise Lost   \n",
              "996  world both eye and soul  Acknowledge him thy g...  Paradise Lost   \n",
              "997  a bloody fray  With cruel tournament the squad...  Paradise Lost   \n",
              "998  strength  or chance  or fate  Too well I see a...  Paradise Lost   \n",
              "999  servile offerings  This must be our task In He...  Paradise Lost   \n",
              "\n",
              "              Author label  index  \n",
              "0    Herman Melville     a      0  \n",
              "1    Herman Melville     a      0  \n",
              "2    Herman Melville     a      0  \n",
              "3    Herman Melville     a      0  \n",
              "4    Herman Melville     a      0  \n",
              "..               ...   ...    ...  \n",
              "995      John Milton     e      4  \n",
              "996      John Milton     e      4  \n",
              "997      John Milton     e      4  \n",
              "998      John Milton     e      4  \n",
              "999      John Milton     e      4  \n",
              "\n",
              "[1000 rows x 5 columns]"
            ],
            "text/html": [
              "\n",
              "  <div id=\"df-ba695a4a-1b4f-4026-b190-2d8d489c042c\">\n",
              "    <div class=\"colab-df-container\">\n",
              "      <div>\n",
              "<style scoped>\n",
              "    .dataframe tbody tr th:only-of-type {\n",
              "        vertical-align: middle;\n",
              "    }\n",
              "\n",
              "    .dataframe tbody tr th {\n",
              "        vertical-align: top;\n",
              "    }\n",
              "\n",
              "    .dataframe thead th {\n",
              "        text-align: right;\n",
              "    }\n",
              "</style>\n",
              "<table border=\"1\" class=\"dataframe\">\n",
              "  <thead>\n",
              "    <tr style=\"text-align: right;\">\n",
              "      <th></th>\n",
              "      <th>Text</th>\n",
              "      <th>Book Name</th>\n",
              "      <th>Author</th>\n",
              "      <th>label</th>\n",
              "      <th>index</th>\n",
              "    </tr>\n",
              "  </thead>\n",
              "  <tbody>\n",
              "    <tr>\n",
              "      <th>0</th>\n",
              "      <td>guess he s holding on  Jerk him  Tahiti  Jerk ...</td>\n",
              "      <td>Moby Dick</td>\n",
              "      <td>Herman Melville</td>\n",
              "      <td>a</td>\n",
              "      <td>0</td>\n",
              "    </tr>\n",
              "    <tr>\n",
              "      <th>1</th>\n",
              "      <td>boy  would he had died  or I  he s half horrib...</td>\n",
              "      <td>Moby Dick</td>\n",
              "      <td>Herman Melville</td>\n",
              "      <td>a</td>\n",
              "      <td>0</td>\n",
              "    </tr>\n",
              "    <tr>\n",
              "      <th>2</th>\n",
              "      <td>stalked on deck  where we followed him  There...</td>\n",
              "      <td>Moby Dick</td>\n",
              "      <td>Herman Melville</td>\n",
              "      <td>a</td>\n",
              "      <td>0</td>\n",
              "    </tr>\n",
              "    <tr>\n",
              "      <th>3</th>\n",
              "      <td>I   all right  There s Mrs  Hussey   And so it...</td>\n",
              "      <td>Moby Dick</td>\n",
              "      <td>Herman Melville</td>\n",
              "      <td>a</td>\n",
              "      <td>0</td>\n",
              "    </tr>\n",
              "    <tr>\n",
              "      <th>4</th>\n",
              "      <td>that he had apparently made every preparation ...</td>\n",
              "      <td>Moby Dick</td>\n",
              "      <td>Herman Melville</td>\n",
              "      <td>a</td>\n",
              "      <td>0</td>\n",
              "    </tr>\n",
              "    <tr>\n",
              "      <th>...</th>\n",
              "      <td>...</td>\n",
              "      <td>...</td>\n",
              "      <td>...</td>\n",
              "      <td>...</td>\n",
              "      <td>...</td>\n",
              "    </tr>\n",
              "    <tr>\n",
              "      <th>995</th>\n",
              "      <td>or his opiate rod  Mean while  To resalute the...</td>\n",
              "      <td>Paradise Lost</td>\n",
              "      <td>John Milton</td>\n",
              "      <td>e</td>\n",
              "      <td>4</td>\n",
              "    </tr>\n",
              "    <tr>\n",
              "      <th>996</th>\n",
              "      <td>world both eye and soul  Acknowledge him thy g...</td>\n",
              "      <td>Paradise Lost</td>\n",
              "      <td>John Milton</td>\n",
              "      <td>e</td>\n",
              "      <td>4</td>\n",
              "    </tr>\n",
              "    <tr>\n",
              "      <th>997</th>\n",
              "      <td>a bloody fray  With cruel tournament the squad...</td>\n",
              "      <td>Paradise Lost</td>\n",
              "      <td>John Milton</td>\n",
              "      <td>e</td>\n",
              "      <td>4</td>\n",
              "    </tr>\n",
              "    <tr>\n",
              "      <th>998</th>\n",
              "      <td>strength  or chance  or fate  Too well I see a...</td>\n",
              "      <td>Paradise Lost</td>\n",
              "      <td>John Milton</td>\n",
              "      <td>e</td>\n",
              "      <td>4</td>\n",
              "    </tr>\n",
              "    <tr>\n",
              "      <th>999</th>\n",
              "      <td>servile offerings  This must be our task In He...</td>\n",
              "      <td>Paradise Lost</td>\n",
              "      <td>John Milton</td>\n",
              "      <td>e</td>\n",
              "      <td>4</td>\n",
              "    </tr>\n",
              "  </tbody>\n",
              "</table>\n",
              "<p>1000 rows × 5 columns</p>\n",
              "</div>\n",
              "      <button class=\"colab-df-convert\" onclick=\"convertToInteractive('df-ba695a4a-1b4f-4026-b190-2d8d489c042c')\"\n",
              "              title=\"Convert this dataframe to an interactive table.\"\n",
              "              style=\"display:none;\">\n",
              "        \n",
              "  <svg xmlns=\"http://www.w3.org/2000/svg\" height=\"24px\"viewBox=\"0 0 24 24\"\n",
              "       width=\"24px\">\n",
              "    <path d=\"M0 0h24v24H0V0z\" fill=\"none\"/>\n",
              "    <path d=\"M18.56 5.44l.94 2.06.94-2.06 2.06-.94-2.06-.94-.94-2.06-.94 2.06-2.06.94zm-11 1L8.5 8.5l.94-2.06 2.06-.94-2.06-.94L8.5 2.5l-.94 2.06-2.06.94zm10 10l.94 2.06.94-2.06 2.06-.94-2.06-.94-.94-2.06-.94 2.06-2.06.94z\"/><path d=\"M17.41 7.96l-1.37-1.37c-.4-.4-.92-.59-1.43-.59-.52 0-1.04.2-1.43.59L10.3 9.45l-7.72 7.72c-.78.78-.78 2.05 0 2.83L4 21.41c.39.39.9.59 1.41.59.51 0 1.02-.2 1.41-.59l7.78-7.78 2.81-2.81c.8-.78.8-2.07 0-2.86zM5.41 20L4 18.59l7.72-7.72 1.47 1.35L5.41 20z\"/>\n",
              "  </svg>\n",
              "      </button>\n",
              "      \n",
              "  <style>\n",
              "    .colab-df-container {\n",
              "      display:flex;\n",
              "      flex-wrap:wrap;\n",
              "      gap: 12px;\n",
              "    }\n",
              "\n",
              "    .colab-df-convert {\n",
              "      background-color: #E8F0FE;\n",
              "      border: none;\n",
              "      border-radius: 50%;\n",
              "      cursor: pointer;\n",
              "      display: none;\n",
              "      fill: #1967D2;\n",
              "      height: 32px;\n",
              "      padding: 0 0 0 0;\n",
              "      width: 32px;\n",
              "    }\n",
              "\n",
              "    .colab-df-convert:hover {\n",
              "      background-color: #E2EBFA;\n",
              "      box-shadow: 0px 1px 2px rgba(60, 64, 67, 0.3), 0px 1px 3px 1px rgba(60, 64, 67, 0.15);\n",
              "      fill: #174EA6;\n",
              "    }\n",
              "\n",
              "    [theme=dark] .colab-df-convert {\n",
              "      background-color: #3B4455;\n",
              "      fill: #D2E3FC;\n",
              "    }\n",
              "\n",
              "    [theme=dark] .colab-df-convert:hover {\n",
              "      background-color: #434B5C;\n",
              "      box-shadow: 0px 1px 3px 1px rgba(0, 0, 0, 0.15);\n",
              "      filter: drop-shadow(0px 1px 2px rgba(0, 0, 0, 0.3));\n",
              "      fill: #FFFFFF;\n",
              "    }\n",
              "  </style>\n",
              "\n",
              "      <script>\n",
              "        const buttonEl =\n",
              "          document.querySelector('#df-ba695a4a-1b4f-4026-b190-2d8d489c042c button.colab-df-convert');\n",
              "        buttonEl.style.display =\n",
              "          google.colab.kernel.accessAllowed ? 'block' : 'none';\n",
              "\n",
              "        async function convertToInteractive(key) {\n",
              "          const element = document.querySelector('#df-ba695a4a-1b4f-4026-b190-2d8d489c042c');\n",
              "          const dataTable =\n",
              "            await google.colab.kernel.invokeFunction('convertToInteractive',\n",
              "                                                     [key], {});\n",
              "          if (!dataTable) return;\n",
              "\n",
              "          const docLinkHtml = 'Like what you see? Visit the ' +\n",
              "            '<a target=\"_blank\" href=https://colab.research.google.com/notebooks/data_table.ipynb>data table notebook</a>'\n",
              "            + ' to learn more about interactive tables.';\n",
              "          element.innerHTML = '';\n",
              "          dataTable['output_type'] = 'display_data';\n",
              "          await google.colab.output.renderOutput(dataTable, element);\n",
              "          const docLink = document.createElement('div');\n",
              "          docLink.innerHTML = docLinkHtml;\n",
              "          element.appendChild(docLink);\n",
              "        }\n",
              "      </script>\n",
              "    </div>\n",
              "  </div>\n",
              "  "
            ]
          },
          "metadata": {},
          "execution_count": 5
        }
      ]
    },
    {
      "cell_type": "code",
      "source": [
        "# plot word cloud for the most frequent 20 words in each book  \n",
        "import wordcloud\n",
        "import matplotlib.pyplot as plt\n",
        "import plotly.express as px\n",
        "\n",
        "\n",
        "for label in data['label'].unique():\n",
        "  books = data[data[\"label\"]==label][\"Text\"]\n",
        "\n",
        "\n",
        "# Create word cloud\n",
        "  wc = wordcloud.WordCloud(background_color=None, max_words=20, \n",
        "                          max_font_size=100)\n",
        "  wc = wc.generate(str(books))\n",
        "\n",
        "# Convert word cloud to dataframe\n",
        "  words = list(wc.words_.keys())\n",
        "  freq = [wc.words_[word] for word in words]\n",
        "  data10 = {'words': words, 'freq': freq}\n",
        "  df10 = pd.DataFrame(data10)\n",
        "\n",
        "  # Create interactive word cloud\n",
        "  fig = px.scatter(df10, x='words', y='freq', text='words', size='freq', color='freq')\n",
        "  fig.update_layout(title='Interactive Word Cloud',\n",
        "                    xaxis_title='Words',\n",
        "                    yaxis_title='Frequency')\n",
        "  fig.show()"
      ],
      "metadata": {
        "id": "HCUxgs-z5Eo-",
        "outputId": "cf7f2b60-7f44-425b-b5a3-0af4b146b9b2",
        "colab": {
          "base_uri": "https://localhost:8080/",
          "height": 1000
        }
      },
      "execution_count": null,
      "outputs": [
        {
          "output_type": "display_data",
          "data": {
            "text/html": [
              "<html>\n",
              "<head><meta charset=\"utf-8\" /></head>\n",
              "<body>\n",
              "    <div>            <script src=\"https://cdnjs.cloudflare.com/ajax/libs/mathjax/2.7.5/MathJax.js?config=TeX-AMS-MML_SVG\"></script><script type=\"text/javascript\">if (window.MathJax) {MathJax.Hub.Config({SVG: {font: \"STIX-Web\"}});}</script>                <script type=\"text/javascript\">window.PlotlyConfig = {MathJaxConfig: 'local'};</script>\n",
              "        <script src=\"https://cdn.plot.ly/plotly-2.8.3.min.js\"></script>                <div id=\"bebff4c6-ec0e-4fa7-8081-ecaeae3b0991\" class=\"plotly-graph-div\" style=\"height:525px; width:100%;\"></div>            <script type=\"text/javascript\">                                    window.PLOTLYENV=window.PLOTLYENV || {};                                    if (document.getElementById(\"bebff4c6-ec0e-4fa7-8081-ecaeae3b0991\")) {                    Plotly.newPlot(                        \"bebff4c6-ec0e-4fa7-8081-ecaeae3b0991\",                        [{\"hovertemplate\":\"words=%{text}<br>freq=%{marker.color}<extra></extra>\",\"legendgroup\":\"\",\"marker\":{\"color\":[1.0,0.6666666666666666,0.3333333333333333,0.3333333333333333,0.3333333333333333,0.3333333333333333,0.3333333333333333,0.3333333333333333,0.3333333333333333,0.3333333333333333,0.3333333333333333,0.3333333333333333,0.3333333333333333,0.3333333333333333,0.3333333333333333,0.3333333333333333,0.3333333333333333,0.3333333333333333,0.3333333333333333,0.3333333333333333],\"coloraxis\":\"coloraxis\",\"size\":[1.0,0.6666666666666666,0.3333333333333333,0.3333333333333333,0.3333333333333333,0.3333333333333333,0.3333333333333333,0.3333333333333333,0.3333333333333333,0.3333333333333333,0.3333333333333333,0.3333333333333333,0.3333333333333333,0.3333333333333333,0.3333333333333333,0.3333333333333333,0.3333333333333333,0.3333333333333333,0.3333333333333333,0.3333333333333333],\"sizemode\":\"area\",\"sizeref\":0.0025,\"symbol\":\"circle\"},\"mode\":\"markers+text\",\"name\":\"\",\"orientation\":\"v\",\"showlegend\":false,\"text\":[\"s\",\"Jerk\",\"guess\",\"holding\",\"Tahiti\",\"boy\",\"died\",\"half\",\"horrib\",\"stalked\",\"deck\",\"followed\",\"right\",\"Mrs\",\"Hussey\",\"apparently\",\"made\",\"every\",\"preparation\",\"even\"],\"x\":[\"s\",\"Jerk\",\"guess\",\"holding\",\"Tahiti\",\"boy\",\"died\",\"half\",\"horrib\",\"stalked\",\"deck\",\"followed\",\"right\",\"Mrs\",\"Hussey\",\"apparently\",\"made\",\"every\",\"preparation\",\"even\"],\"xaxis\":\"x\",\"y\":[1.0,0.6666666666666666,0.3333333333333333,0.3333333333333333,0.3333333333333333,0.3333333333333333,0.3333333333333333,0.3333333333333333,0.3333333333333333,0.3333333333333333,0.3333333333333333,0.3333333333333333,0.3333333333333333,0.3333333333333333,0.3333333333333333,0.3333333333333333,0.3333333333333333,0.3333333333333333,0.3333333333333333,0.3333333333333333],\"yaxis\":\"y\",\"type\":\"scatter\"}],                        {\"template\":{\"data\":{\"bar\":[{\"error_x\":{\"color\":\"#2a3f5f\"},\"error_y\":{\"color\":\"#2a3f5f\"},\"marker\":{\"line\":{\"color\":\"#E5ECF6\",\"width\":0.5},\"pattern\":{\"fillmode\":\"overlay\",\"size\":10,\"solidity\":0.2}},\"type\":\"bar\"}],\"barpolar\":[{\"marker\":{\"line\":{\"color\":\"#E5ECF6\",\"width\":0.5},\"pattern\":{\"fillmode\":\"overlay\",\"size\":10,\"solidity\":0.2}},\"type\":\"barpolar\"}],\"carpet\":[{\"aaxis\":{\"endlinecolor\":\"#2a3f5f\",\"gridcolor\":\"white\",\"linecolor\":\"white\",\"minorgridcolor\":\"white\",\"startlinecolor\":\"#2a3f5f\"},\"baxis\":{\"endlinecolor\":\"#2a3f5f\",\"gridcolor\":\"white\",\"linecolor\":\"white\",\"minorgridcolor\":\"white\",\"startlinecolor\":\"#2a3f5f\"},\"type\":\"carpet\"}],\"choropleth\":[{\"colorbar\":{\"outlinewidth\":0,\"ticks\":\"\"},\"type\":\"choropleth\"}],\"contour\":[{\"colorbar\":{\"outlinewidth\":0,\"ticks\":\"\"},\"colorscale\":[[0.0,\"#0d0887\"],[0.1111111111111111,\"#46039f\"],[0.2222222222222222,\"#7201a8\"],[0.3333333333333333,\"#9c179e\"],[0.4444444444444444,\"#bd3786\"],[0.5555555555555556,\"#d8576b\"],[0.6666666666666666,\"#ed7953\"],[0.7777777777777778,\"#fb9f3a\"],[0.8888888888888888,\"#fdca26\"],[1.0,\"#f0f921\"]],\"type\":\"contour\"}],\"contourcarpet\":[{\"colorbar\":{\"outlinewidth\":0,\"ticks\":\"\"},\"type\":\"contourcarpet\"}],\"heatmap\":[{\"colorbar\":{\"outlinewidth\":0,\"ticks\":\"\"},\"colorscale\":[[0.0,\"#0d0887\"],[0.1111111111111111,\"#46039f\"],[0.2222222222222222,\"#7201a8\"],[0.3333333333333333,\"#9c179e\"],[0.4444444444444444,\"#bd3786\"],[0.5555555555555556,\"#d8576b\"],[0.6666666666666666,\"#ed7953\"],[0.7777777777777778,\"#fb9f3a\"],[0.8888888888888888,\"#fdca26\"],[1.0,\"#f0f921\"]],\"type\":\"heatmap\"}],\"heatmapgl\":[{\"colorbar\":{\"outlinewidth\":0,\"ticks\":\"\"},\"colorscale\":[[0.0,\"#0d0887\"],[0.1111111111111111,\"#46039f\"],[0.2222222222222222,\"#7201a8\"],[0.3333333333333333,\"#9c179e\"],[0.4444444444444444,\"#bd3786\"],[0.5555555555555556,\"#d8576b\"],[0.6666666666666666,\"#ed7953\"],[0.7777777777777778,\"#fb9f3a\"],[0.8888888888888888,\"#fdca26\"],[1.0,\"#f0f921\"]],\"type\":\"heatmapgl\"}],\"histogram\":[{\"marker\":{\"pattern\":{\"fillmode\":\"overlay\",\"size\":10,\"solidity\":0.2}},\"type\":\"histogram\"}],\"histogram2d\":[{\"colorbar\":{\"outlinewidth\":0,\"ticks\":\"\"},\"colorscale\":[[0.0,\"#0d0887\"],[0.1111111111111111,\"#46039f\"],[0.2222222222222222,\"#7201a8\"],[0.3333333333333333,\"#9c179e\"],[0.4444444444444444,\"#bd3786\"],[0.5555555555555556,\"#d8576b\"],[0.6666666666666666,\"#ed7953\"],[0.7777777777777778,\"#fb9f3a\"],[0.8888888888888888,\"#fdca26\"],[1.0,\"#f0f921\"]],\"type\":\"histogram2d\"}],\"histogram2dcontour\":[{\"colorbar\":{\"outlinewidth\":0,\"ticks\":\"\"},\"colorscale\":[[0.0,\"#0d0887\"],[0.1111111111111111,\"#46039f\"],[0.2222222222222222,\"#7201a8\"],[0.3333333333333333,\"#9c179e\"],[0.4444444444444444,\"#bd3786\"],[0.5555555555555556,\"#d8576b\"],[0.6666666666666666,\"#ed7953\"],[0.7777777777777778,\"#fb9f3a\"],[0.8888888888888888,\"#fdca26\"],[1.0,\"#f0f921\"]],\"type\":\"histogram2dcontour\"}],\"mesh3d\":[{\"colorbar\":{\"outlinewidth\":0,\"ticks\":\"\"},\"type\":\"mesh3d\"}],\"parcoords\":[{\"line\":{\"colorbar\":{\"outlinewidth\":0,\"ticks\":\"\"}},\"type\":\"parcoords\"}],\"pie\":[{\"automargin\":true,\"type\":\"pie\"}],\"scatter\":[{\"marker\":{\"colorbar\":{\"outlinewidth\":0,\"ticks\":\"\"}},\"type\":\"scatter\"}],\"scatter3d\":[{\"line\":{\"colorbar\":{\"outlinewidth\":0,\"ticks\":\"\"}},\"marker\":{\"colorbar\":{\"outlinewidth\":0,\"ticks\":\"\"}},\"type\":\"scatter3d\"}],\"scattercarpet\":[{\"marker\":{\"colorbar\":{\"outlinewidth\":0,\"ticks\":\"\"}},\"type\":\"scattercarpet\"}],\"scattergeo\":[{\"marker\":{\"colorbar\":{\"outlinewidth\":0,\"ticks\":\"\"}},\"type\":\"scattergeo\"}],\"scattergl\":[{\"marker\":{\"colorbar\":{\"outlinewidth\":0,\"ticks\":\"\"}},\"type\":\"scattergl\"}],\"scattermapbox\":[{\"marker\":{\"colorbar\":{\"outlinewidth\":0,\"ticks\":\"\"}},\"type\":\"scattermapbox\"}],\"scatterpolar\":[{\"marker\":{\"colorbar\":{\"outlinewidth\":0,\"ticks\":\"\"}},\"type\":\"scatterpolar\"}],\"scatterpolargl\":[{\"marker\":{\"colorbar\":{\"outlinewidth\":0,\"ticks\":\"\"}},\"type\":\"scatterpolargl\"}],\"scatterternary\":[{\"marker\":{\"colorbar\":{\"outlinewidth\":0,\"ticks\":\"\"}},\"type\":\"scatterternary\"}],\"surface\":[{\"colorbar\":{\"outlinewidth\":0,\"ticks\":\"\"},\"colorscale\":[[0.0,\"#0d0887\"],[0.1111111111111111,\"#46039f\"],[0.2222222222222222,\"#7201a8\"],[0.3333333333333333,\"#9c179e\"],[0.4444444444444444,\"#bd3786\"],[0.5555555555555556,\"#d8576b\"],[0.6666666666666666,\"#ed7953\"],[0.7777777777777778,\"#fb9f3a\"],[0.8888888888888888,\"#fdca26\"],[1.0,\"#f0f921\"]],\"type\":\"surface\"}],\"table\":[{\"cells\":{\"fill\":{\"color\":\"#EBF0F8\"},\"line\":{\"color\":\"white\"}},\"header\":{\"fill\":{\"color\":\"#C8D4E3\"},\"line\":{\"color\":\"white\"}},\"type\":\"table\"}]},\"layout\":{\"annotationdefaults\":{\"arrowcolor\":\"#2a3f5f\",\"arrowhead\":0,\"arrowwidth\":1},\"autotypenumbers\":\"strict\",\"coloraxis\":{\"colorbar\":{\"outlinewidth\":0,\"ticks\":\"\"}},\"colorscale\":{\"diverging\":[[0,\"#8e0152\"],[0.1,\"#c51b7d\"],[0.2,\"#de77ae\"],[0.3,\"#f1b6da\"],[0.4,\"#fde0ef\"],[0.5,\"#f7f7f7\"],[0.6,\"#e6f5d0\"],[0.7,\"#b8e186\"],[0.8,\"#7fbc41\"],[0.9,\"#4d9221\"],[1,\"#276419\"]],\"sequential\":[[0.0,\"#0d0887\"],[0.1111111111111111,\"#46039f\"],[0.2222222222222222,\"#7201a8\"],[0.3333333333333333,\"#9c179e\"],[0.4444444444444444,\"#bd3786\"],[0.5555555555555556,\"#d8576b\"],[0.6666666666666666,\"#ed7953\"],[0.7777777777777778,\"#fb9f3a\"],[0.8888888888888888,\"#fdca26\"],[1.0,\"#f0f921\"]],\"sequentialminus\":[[0.0,\"#0d0887\"],[0.1111111111111111,\"#46039f\"],[0.2222222222222222,\"#7201a8\"],[0.3333333333333333,\"#9c179e\"],[0.4444444444444444,\"#bd3786\"],[0.5555555555555556,\"#d8576b\"],[0.6666666666666666,\"#ed7953\"],[0.7777777777777778,\"#fb9f3a\"],[0.8888888888888888,\"#fdca26\"],[1.0,\"#f0f921\"]]},\"colorway\":[\"#636efa\",\"#EF553B\",\"#00cc96\",\"#ab63fa\",\"#FFA15A\",\"#19d3f3\",\"#FF6692\",\"#B6E880\",\"#FF97FF\",\"#FECB52\"],\"font\":{\"color\":\"#2a3f5f\"},\"geo\":{\"bgcolor\":\"white\",\"lakecolor\":\"white\",\"landcolor\":\"#E5ECF6\",\"showlakes\":true,\"showland\":true,\"subunitcolor\":\"white\"},\"hoverlabel\":{\"align\":\"left\"},\"hovermode\":\"closest\",\"mapbox\":{\"style\":\"light\"},\"paper_bgcolor\":\"white\",\"plot_bgcolor\":\"#E5ECF6\",\"polar\":{\"angularaxis\":{\"gridcolor\":\"white\",\"linecolor\":\"white\",\"ticks\":\"\"},\"bgcolor\":\"#E5ECF6\",\"radialaxis\":{\"gridcolor\":\"white\",\"linecolor\":\"white\",\"ticks\":\"\"}},\"scene\":{\"xaxis\":{\"backgroundcolor\":\"#E5ECF6\",\"gridcolor\":\"white\",\"gridwidth\":2,\"linecolor\":\"white\",\"showbackground\":true,\"ticks\":\"\",\"zerolinecolor\":\"white\"},\"yaxis\":{\"backgroundcolor\":\"#E5ECF6\",\"gridcolor\":\"white\",\"gridwidth\":2,\"linecolor\":\"white\",\"showbackground\":true,\"ticks\":\"\",\"zerolinecolor\":\"white\"},\"zaxis\":{\"backgroundcolor\":\"#E5ECF6\",\"gridcolor\":\"white\",\"gridwidth\":2,\"linecolor\":\"white\",\"showbackground\":true,\"ticks\":\"\",\"zerolinecolor\":\"white\"}},\"shapedefaults\":{\"line\":{\"color\":\"#2a3f5f\"}},\"ternary\":{\"aaxis\":{\"gridcolor\":\"white\",\"linecolor\":\"white\",\"ticks\":\"\"},\"baxis\":{\"gridcolor\":\"white\",\"linecolor\":\"white\",\"ticks\":\"\"},\"bgcolor\":\"#E5ECF6\",\"caxis\":{\"gridcolor\":\"white\",\"linecolor\":\"white\",\"ticks\":\"\"}},\"title\":{\"x\":0.05},\"xaxis\":{\"automargin\":true,\"gridcolor\":\"white\",\"linecolor\":\"white\",\"ticks\":\"\",\"title\":{\"standoff\":15},\"zerolinecolor\":\"white\",\"zerolinewidth\":2},\"yaxis\":{\"automargin\":true,\"gridcolor\":\"white\",\"linecolor\":\"white\",\"ticks\":\"\",\"title\":{\"standoff\":15},\"zerolinecolor\":\"white\",\"zerolinewidth\":2}}},\"xaxis\":{\"anchor\":\"y\",\"domain\":[0.0,1.0],\"title\":{\"text\":\"Words\"}},\"yaxis\":{\"anchor\":\"x\",\"domain\":[0.0,1.0],\"title\":{\"text\":\"Frequency\"}},\"coloraxis\":{\"colorbar\":{\"title\":{\"text\":\"freq\"}},\"colorscale\":[[0.0,\"#0d0887\"],[0.1111111111111111,\"#46039f\"],[0.2222222222222222,\"#7201a8\"],[0.3333333333333333,\"#9c179e\"],[0.4444444444444444,\"#bd3786\"],[0.5555555555555556,\"#d8576b\"],[0.6666666666666666,\"#ed7953\"],[0.7777777777777778,\"#fb9f3a\"],[0.8888888888888888,\"#fdca26\"],[1.0,\"#f0f921\"]]},\"legend\":{\"tracegroupgap\":0,\"itemsizing\":\"constant\"},\"margin\":{\"t\":60},\"title\":{\"text\":\"Interactive Word Cloud\"}},                        {\"responsive\": true}                    ).then(function(){\n",
              "                            \n",
              "var gd = document.getElementById('bebff4c6-ec0e-4fa7-8081-ecaeae3b0991');\n",
              "var x = new MutationObserver(function (mutations, observer) {{\n",
              "        var display = window.getComputedStyle(gd).display;\n",
              "        if (!display || display === 'none') {{\n",
              "            console.log([gd, 'removed!']);\n",
              "            Plotly.purge(gd);\n",
              "            observer.disconnect();\n",
              "        }}\n",
              "}});\n",
              "\n",
              "// Listen for the removal of the full notebook cells\n",
              "var notebookContainer = gd.closest('#notebook-container');\n",
              "if (notebookContainer) {{\n",
              "    x.observe(notebookContainer, {childList: true});\n",
              "}}\n",
              "\n",
              "// Listen for the clearing of the current output cell\n",
              "var outputEl = gd.closest('.output');\n",
              "if (outputEl) {{\n",
              "    x.observe(outputEl, {childList: true});\n",
              "}}\n",
              "\n",
              "                        })                };                            </script>        </div>\n",
              "</body>\n",
              "</html>"
            ]
          },
          "metadata": {}
        },
        {
          "output_type": "display_data",
          "data": {
            "text/html": [
              "<html>\n",
              "<head><meta charset=\"utf-8\" /></head>\n",
              "<body>\n",
              "    <div>            <script src=\"https://cdnjs.cloudflare.com/ajax/libs/mathjax/2.7.5/MathJax.js?config=TeX-AMS-MML_SVG\"></script><script type=\"text/javascript\">if (window.MathJax) {MathJax.Hub.Config({SVG: {font: \"STIX-Web\"}});}</script>                <script type=\"text/javascript\">window.PlotlyConfig = {MathJaxConfig: 'local'};</script>\n",
              "        <script src=\"https://cdn.plot.ly/plotly-2.8.3.min.js\"></script>                <div id=\"54c71ada-dcd1-4183-abc1-bad1a3145df4\" class=\"plotly-graph-div\" style=\"height:525px; width:100%;\"></div>            <script type=\"text/javascript\">                                    window.PLOTLYENV=window.PLOTLYENV || {};                                    if (document.getElementById(\"54c71ada-dcd1-4183-abc1-bad1a3145df4\")) {                    Plotly.newPlot(                        \"54c71ada-dcd1-4183-abc1-bad1a3145df4\",                        [{\"hovertemplate\":\"words=%{text}<br>freq=%{marker.color}<extra></extra>\",\"legendgroup\":\"\",\"marker\":{\"color\":[1.0,0.5,0.5,0.5,0.5,0.5,0.5,0.5,0.5,0.5,0.5,0.5,0.5,0.5,0.5,0.5,0.5,0.5,0.5,0.5],\"coloraxis\":\"coloraxis\",\"size\":[1.0,0.5,0.5,0.5,0.5,0.5,0.5,0.5,0.5,0.5,0.5,0.5,0.5,0.5,0.5,0.5,0.5,0.5,0.5,0.5],\"sizemode\":\"area\",\"sizeref\":0.0025,\"symbol\":\"circle\"},\"mode\":\"markers+text\",\"name\":\"\",\"orientation\":\"v\",\"showlegend\":false,\"text\":[\"nothing\",\"bars\",\"secreted\",\"room\",\"f\",\"boys\",\"advantage\",\"excuse\",\"matter\",\"interrupted\",\"Piedro\",\"sir\",\"sai\",\"apricot\",\"flavour\",\"particularly\",\"grate\",\"ornament\",\"bower\",\"fate\"],\"x\":[\"nothing\",\"bars\",\"secreted\",\"room\",\"f\",\"boys\",\"advantage\",\"excuse\",\"matter\",\"interrupted\",\"Piedro\",\"sir\",\"sai\",\"apricot\",\"flavour\",\"particularly\",\"grate\",\"ornament\",\"bower\",\"fate\"],\"xaxis\":\"x\",\"y\":[1.0,0.5,0.5,0.5,0.5,0.5,0.5,0.5,0.5,0.5,0.5,0.5,0.5,0.5,0.5,0.5,0.5,0.5,0.5,0.5],\"yaxis\":\"y\",\"type\":\"scatter\"}],                        {\"template\":{\"data\":{\"bar\":[{\"error_x\":{\"color\":\"#2a3f5f\"},\"error_y\":{\"color\":\"#2a3f5f\"},\"marker\":{\"line\":{\"color\":\"#E5ECF6\",\"width\":0.5},\"pattern\":{\"fillmode\":\"overlay\",\"size\":10,\"solidity\":0.2}},\"type\":\"bar\"}],\"barpolar\":[{\"marker\":{\"line\":{\"color\":\"#E5ECF6\",\"width\":0.5},\"pattern\":{\"fillmode\":\"overlay\",\"size\":10,\"solidity\":0.2}},\"type\":\"barpolar\"}],\"carpet\":[{\"aaxis\":{\"endlinecolor\":\"#2a3f5f\",\"gridcolor\":\"white\",\"linecolor\":\"white\",\"minorgridcolor\":\"white\",\"startlinecolor\":\"#2a3f5f\"},\"baxis\":{\"endlinecolor\":\"#2a3f5f\",\"gridcolor\":\"white\",\"linecolor\":\"white\",\"minorgridcolor\":\"white\",\"startlinecolor\":\"#2a3f5f\"},\"type\":\"carpet\"}],\"choropleth\":[{\"colorbar\":{\"outlinewidth\":0,\"ticks\":\"\"},\"type\":\"choropleth\"}],\"contour\":[{\"colorbar\":{\"outlinewidth\":0,\"ticks\":\"\"},\"colorscale\":[[0.0,\"#0d0887\"],[0.1111111111111111,\"#46039f\"],[0.2222222222222222,\"#7201a8\"],[0.3333333333333333,\"#9c179e\"],[0.4444444444444444,\"#bd3786\"],[0.5555555555555556,\"#d8576b\"],[0.6666666666666666,\"#ed7953\"],[0.7777777777777778,\"#fb9f3a\"],[0.8888888888888888,\"#fdca26\"],[1.0,\"#f0f921\"]],\"type\":\"contour\"}],\"contourcarpet\":[{\"colorbar\":{\"outlinewidth\":0,\"ticks\":\"\"},\"type\":\"contourcarpet\"}],\"heatmap\":[{\"colorbar\":{\"outlinewidth\":0,\"ticks\":\"\"},\"colorscale\":[[0.0,\"#0d0887\"],[0.1111111111111111,\"#46039f\"],[0.2222222222222222,\"#7201a8\"],[0.3333333333333333,\"#9c179e\"],[0.4444444444444444,\"#bd3786\"],[0.5555555555555556,\"#d8576b\"],[0.6666666666666666,\"#ed7953\"],[0.7777777777777778,\"#fb9f3a\"],[0.8888888888888888,\"#fdca26\"],[1.0,\"#f0f921\"]],\"type\":\"heatmap\"}],\"heatmapgl\":[{\"colorbar\":{\"outlinewidth\":0,\"ticks\":\"\"},\"colorscale\":[[0.0,\"#0d0887\"],[0.1111111111111111,\"#46039f\"],[0.2222222222222222,\"#7201a8\"],[0.3333333333333333,\"#9c179e\"],[0.4444444444444444,\"#bd3786\"],[0.5555555555555556,\"#d8576b\"],[0.6666666666666666,\"#ed7953\"],[0.7777777777777778,\"#fb9f3a\"],[0.8888888888888888,\"#fdca26\"],[1.0,\"#f0f921\"]],\"type\":\"heatmapgl\"}],\"histogram\":[{\"marker\":{\"pattern\":{\"fillmode\":\"overlay\",\"size\":10,\"solidity\":0.2}},\"type\":\"histogram\"}],\"histogram2d\":[{\"colorbar\":{\"outlinewidth\":0,\"ticks\":\"\"},\"colorscale\":[[0.0,\"#0d0887\"],[0.1111111111111111,\"#46039f\"],[0.2222222222222222,\"#7201a8\"],[0.3333333333333333,\"#9c179e\"],[0.4444444444444444,\"#bd3786\"],[0.5555555555555556,\"#d8576b\"],[0.6666666666666666,\"#ed7953\"],[0.7777777777777778,\"#fb9f3a\"],[0.8888888888888888,\"#fdca26\"],[1.0,\"#f0f921\"]],\"type\":\"histogram2d\"}],\"histogram2dcontour\":[{\"colorbar\":{\"outlinewidth\":0,\"ticks\":\"\"},\"colorscale\":[[0.0,\"#0d0887\"],[0.1111111111111111,\"#46039f\"],[0.2222222222222222,\"#7201a8\"],[0.3333333333333333,\"#9c179e\"],[0.4444444444444444,\"#bd3786\"],[0.5555555555555556,\"#d8576b\"],[0.6666666666666666,\"#ed7953\"],[0.7777777777777778,\"#fb9f3a\"],[0.8888888888888888,\"#fdca26\"],[1.0,\"#f0f921\"]],\"type\":\"histogram2dcontour\"}],\"mesh3d\":[{\"colorbar\":{\"outlinewidth\":0,\"ticks\":\"\"},\"type\":\"mesh3d\"}],\"parcoords\":[{\"line\":{\"colorbar\":{\"outlinewidth\":0,\"ticks\":\"\"}},\"type\":\"parcoords\"}],\"pie\":[{\"automargin\":true,\"type\":\"pie\"}],\"scatter\":[{\"marker\":{\"colorbar\":{\"outlinewidth\":0,\"ticks\":\"\"}},\"type\":\"scatter\"}],\"scatter3d\":[{\"line\":{\"colorbar\":{\"outlinewidth\":0,\"ticks\":\"\"}},\"marker\":{\"colorbar\":{\"outlinewidth\":0,\"ticks\":\"\"}},\"type\":\"scatter3d\"}],\"scattercarpet\":[{\"marker\":{\"colorbar\":{\"outlinewidth\":0,\"ticks\":\"\"}},\"type\":\"scattercarpet\"}],\"scattergeo\":[{\"marker\":{\"colorbar\":{\"outlinewidth\":0,\"ticks\":\"\"}},\"type\":\"scattergeo\"}],\"scattergl\":[{\"marker\":{\"colorbar\":{\"outlinewidth\":0,\"ticks\":\"\"}},\"type\":\"scattergl\"}],\"scattermapbox\":[{\"marker\":{\"colorbar\":{\"outlinewidth\":0,\"ticks\":\"\"}},\"type\":\"scattermapbox\"}],\"scatterpolar\":[{\"marker\":{\"colorbar\":{\"outlinewidth\":0,\"ticks\":\"\"}},\"type\":\"scatterpolar\"}],\"scatterpolargl\":[{\"marker\":{\"colorbar\":{\"outlinewidth\":0,\"ticks\":\"\"}},\"type\":\"scatterpolargl\"}],\"scatterternary\":[{\"marker\":{\"colorbar\":{\"outlinewidth\":0,\"ticks\":\"\"}},\"type\":\"scatterternary\"}],\"surface\":[{\"colorbar\":{\"outlinewidth\":0,\"ticks\":\"\"},\"colorscale\":[[0.0,\"#0d0887\"],[0.1111111111111111,\"#46039f\"],[0.2222222222222222,\"#7201a8\"],[0.3333333333333333,\"#9c179e\"],[0.4444444444444444,\"#bd3786\"],[0.5555555555555556,\"#d8576b\"],[0.6666666666666666,\"#ed7953\"],[0.7777777777777778,\"#fb9f3a\"],[0.8888888888888888,\"#fdca26\"],[1.0,\"#f0f921\"]],\"type\":\"surface\"}],\"table\":[{\"cells\":{\"fill\":{\"color\":\"#EBF0F8\"},\"line\":{\"color\":\"white\"}},\"header\":{\"fill\":{\"color\":\"#C8D4E3\"},\"line\":{\"color\":\"white\"}},\"type\":\"table\"}]},\"layout\":{\"annotationdefaults\":{\"arrowcolor\":\"#2a3f5f\",\"arrowhead\":0,\"arrowwidth\":1},\"autotypenumbers\":\"strict\",\"coloraxis\":{\"colorbar\":{\"outlinewidth\":0,\"ticks\":\"\"}},\"colorscale\":{\"diverging\":[[0,\"#8e0152\"],[0.1,\"#c51b7d\"],[0.2,\"#de77ae\"],[0.3,\"#f1b6da\"],[0.4,\"#fde0ef\"],[0.5,\"#f7f7f7\"],[0.6,\"#e6f5d0\"],[0.7,\"#b8e186\"],[0.8,\"#7fbc41\"],[0.9,\"#4d9221\"],[1,\"#276419\"]],\"sequential\":[[0.0,\"#0d0887\"],[0.1111111111111111,\"#46039f\"],[0.2222222222222222,\"#7201a8\"],[0.3333333333333333,\"#9c179e\"],[0.4444444444444444,\"#bd3786\"],[0.5555555555555556,\"#d8576b\"],[0.6666666666666666,\"#ed7953\"],[0.7777777777777778,\"#fb9f3a\"],[0.8888888888888888,\"#fdca26\"],[1.0,\"#f0f921\"]],\"sequentialminus\":[[0.0,\"#0d0887\"],[0.1111111111111111,\"#46039f\"],[0.2222222222222222,\"#7201a8\"],[0.3333333333333333,\"#9c179e\"],[0.4444444444444444,\"#bd3786\"],[0.5555555555555556,\"#d8576b\"],[0.6666666666666666,\"#ed7953\"],[0.7777777777777778,\"#fb9f3a\"],[0.8888888888888888,\"#fdca26\"],[1.0,\"#f0f921\"]]},\"colorway\":[\"#636efa\",\"#EF553B\",\"#00cc96\",\"#ab63fa\",\"#FFA15A\",\"#19d3f3\",\"#FF6692\",\"#B6E880\",\"#FF97FF\",\"#FECB52\"],\"font\":{\"color\":\"#2a3f5f\"},\"geo\":{\"bgcolor\":\"white\",\"lakecolor\":\"white\",\"landcolor\":\"#E5ECF6\",\"showlakes\":true,\"showland\":true,\"subunitcolor\":\"white\"},\"hoverlabel\":{\"align\":\"left\"},\"hovermode\":\"closest\",\"mapbox\":{\"style\":\"light\"},\"paper_bgcolor\":\"white\",\"plot_bgcolor\":\"#E5ECF6\",\"polar\":{\"angularaxis\":{\"gridcolor\":\"white\",\"linecolor\":\"white\",\"ticks\":\"\"},\"bgcolor\":\"#E5ECF6\",\"radialaxis\":{\"gridcolor\":\"white\",\"linecolor\":\"white\",\"ticks\":\"\"}},\"scene\":{\"xaxis\":{\"backgroundcolor\":\"#E5ECF6\",\"gridcolor\":\"white\",\"gridwidth\":2,\"linecolor\":\"white\",\"showbackground\":true,\"ticks\":\"\",\"zerolinecolor\":\"white\"},\"yaxis\":{\"backgroundcolor\":\"#E5ECF6\",\"gridcolor\":\"white\",\"gridwidth\":2,\"linecolor\":\"white\",\"showbackground\":true,\"ticks\":\"\",\"zerolinecolor\":\"white\"},\"zaxis\":{\"backgroundcolor\":\"#E5ECF6\",\"gridcolor\":\"white\",\"gridwidth\":2,\"linecolor\":\"white\",\"showbackground\":true,\"ticks\":\"\",\"zerolinecolor\":\"white\"}},\"shapedefaults\":{\"line\":{\"color\":\"#2a3f5f\"}},\"ternary\":{\"aaxis\":{\"gridcolor\":\"white\",\"linecolor\":\"white\",\"ticks\":\"\"},\"baxis\":{\"gridcolor\":\"white\",\"linecolor\":\"white\",\"ticks\":\"\"},\"bgcolor\":\"#E5ECF6\",\"caxis\":{\"gridcolor\":\"white\",\"linecolor\":\"white\",\"ticks\":\"\"}},\"title\":{\"x\":0.05},\"xaxis\":{\"automargin\":true,\"gridcolor\":\"white\",\"linecolor\":\"white\",\"ticks\":\"\",\"title\":{\"standoff\":15},\"zerolinecolor\":\"white\",\"zerolinewidth\":2},\"yaxis\":{\"automargin\":true,\"gridcolor\":\"white\",\"linecolor\":\"white\",\"ticks\":\"\",\"title\":{\"standoff\":15},\"zerolinecolor\":\"white\",\"zerolinewidth\":2}}},\"xaxis\":{\"anchor\":\"y\",\"domain\":[0.0,1.0],\"title\":{\"text\":\"Words\"}},\"yaxis\":{\"anchor\":\"x\",\"domain\":[0.0,1.0],\"title\":{\"text\":\"Frequency\"}},\"coloraxis\":{\"colorbar\":{\"title\":{\"text\":\"freq\"}},\"colorscale\":[[0.0,\"#0d0887\"],[0.1111111111111111,\"#46039f\"],[0.2222222222222222,\"#7201a8\"],[0.3333333333333333,\"#9c179e\"],[0.4444444444444444,\"#bd3786\"],[0.5555555555555556,\"#d8576b\"],[0.6666666666666666,\"#ed7953\"],[0.7777777777777778,\"#fb9f3a\"],[0.8888888888888888,\"#fdca26\"],[1.0,\"#f0f921\"]]},\"legend\":{\"tracegroupgap\":0,\"itemsizing\":\"constant\"},\"margin\":{\"t\":60},\"title\":{\"text\":\"Interactive Word Cloud\"}},                        {\"responsive\": true}                    ).then(function(){\n",
              "                            \n",
              "var gd = document.getElementById('54c71ada-dcd1-4183-abc1-bad1a3145df4');\n",
              "var x = new MutationObserver(function (mutations, observer) {{\n",
              "        var display = window.getComputedStyle(gd).display;\n",
              "        if (!display || display === 'none') {{\n",
              "            console.log([gd, 'removed!']);\n",
              "            Plotly.purge(gd);\n",
              "            observer.disconnect();\n",
              "        }}\n",
              "}});\n",
              "\n",
              "// Listen for the removal of the full notebook cells\n",
              "var notebookContainer = gd.closest('#notebook-container');\n",
              "if (notebookContainer) {{\n",
              "    x.observe(notebookContainer, {childList: true});\n",
              "}}\n",
              "\n",
              "// Listen for the clearing of the current output cell\n",
              "var outputEl = gd.closest('.output');\n",
              "if (outputEl) {{\n",
              "    x.observe(outputEl, {childList: true});\n",
              "}}\n",
              "\n",
              "                        })                };                            </script>        </div>\n",
              "</body>\n",
              "</html>"
            ]
          },
          "metadata": {}
        },
        {
          "output_type": "display_data",
          "data": {
            "text/html": [
              "<html>\n",
              "<head><meta charset=\"utf-8\" /></head>\n",
              "<body>\n",
              "    <div>            <script src=\"https://cdnjs.cloudflare.com/ajax/libs/mathjax/2.7.5/MathJax.js?config=TeX-AMS-MML_SVG\"></script><script type=\"text/javascript\">if (window.MathJax) {MathJax.Hub.Config({SVG: {font: \"STIX-Web\"}});}</script>                <script type=\"text/javascript\">window.PlotlyConfig = {MathJaxConfig: 'local'};</script>\n",
              "        <script src=\"https://cdn.plot.ly/plotly-2.8.3.min.js\"></script>                <div id=\"5fea128e-1876-4021-8f09-306d85850ba1\" class=\"plotly-graph-div\" style=\"height:525px; width:100%;\"></div>            <script type=\"text/javascript\">                                    window.PLOTLYENV=window.PLOTLYENV || {};                                    if (document.getElementById(\"5fea128e-1876-4021-8f09-306d85850ba1\")) {                    Plotly.newPlot(                        \"5fea128e-1876-4021-8f09-306d85850ba1\",                        [{\"hovertemplate\":\"words=%{text}<br>freq=%{marker.color}<extra></extra>\",\"legendgroup\":\"\",\"marker\":{\"color\":[1.0,0.5,0.5,0.5,0.5,0.5,0.5,0.5,0.5,0.5,0.5,0.5,0.5,0.5,0.5,0.5,0.5,0.5,0.5,0.5],\"coloraxis\":\"coloraxis\",\"size\":[1.0,0.5,0.5,0.5,0.5,0.5,0.5,0.5,0.5,0.5,0.5,0.5,0.5,0.5,0.5,0.5,0.5,0.5,0.5,0.5],\"sizemode\":\"area\",\"sizeref\":0.0025,\"symbol\":\"circle\"},\"mode\":\"markers+text\",\"name\":\"\",\"orientation\":\"v\",\"showlegend\":false,\"text\":[\"One\",\"queries\",\"First\",\"really\",\"means\",\"everything\",\"nt\",\"forget\",\"said\",\"Se\",\"Now\",\"day\",\"murmured\",\"Bull\",\"see\",\"disapproval\",\"gave\",\"commonly\",\"family\",\"falling\"],\"x\":[\"One\",\"queries\",\"First\",\"really\",\"means\",\"everything\",\"nt\",\"forget\",\"said\",\"Se\",\"Now\",\"day\",\"murmured\",\"Bull\",\"see\",\"disapproval\",\"gave\",\"commonly\",\"family\",\"falling\"],\"xaxis\":\"x\",\"y\":[1.0,0.5,0.5,0.5,0.5,0.5,0.5,0.5,0.5,0.5,0.5,0.5,0.5,0.5,0.5,0.5,0.5,0.5,0.5,0.5],\"yaxis\":\"y\",\"type\":\"scatter\"}],                        {\"template\":{\"data\":{\"bar\":[{\"error_x\":{\"color\":\"#2a3f5f\"},\"error_y\":{\"color\":\"#2a3f5f\"},\"marker\":{\"line\":{\"color\":\"#E5ECF6\",\"width\":0.5},\"pattern\":{\"fillmode\":\"overlay\",\"size\":10,\"solidity\":0.2}},\"type\":\"bar\"}],\"barpolar\":[{\"marker\":{\"line\":{\"color\":\"#E5ECF6\",\"width\":0.5},\"pattern\":{\"fillmode\":\"overlay\",\"size\":10,\"solidity\":0.2}},\"type\":\"barpolar\"}],\"carpet\":[{\"aaxis\":{\"endlinecolor\":\"#2a3f5f\",\"gridcolor\":\"white\",\"linecolor\":\"white\",\"minorgridcolor\":\"white\",\"startlinecolor\":\"#2a3f5f\"},\"baxis\":{\"endlinecolor\":\"#2a3f5f\",\"gridcolor\":\"white\",\"linecolor\":\"white\",\"minorgridcolor\":\"white\",\"startlinecolor\":\"#2a3f5f\"},\"type\":\"carpet\"}],\"choropleth\":[{\"colorbar\":{\"outlinewidth\":0,\"ticks\":\"\"},\"type\":\"choropleth\"}],\"contour\":[{\"colorbar\":{\"outlinewidth\":0,\"ticks\":\"\"},\"colorscale\":[[0.0,\"#0d0887\"],[0.1111111111111111,\"#46039f\"],[0.2222222222222222,\"#7201a8\"],[0.3333333333333333,\"#9c179e\"],[0.4444444444444444,\"#bd3786\"],[0.5555555555555556,\"#d8576b\"],[0.6666666666666666,\"#ed7953\"],[0.7777777777777778,\"#fb9f3a\"],[0.8888888888888888,\"#fdca26\"],[1.0,\"#f0f921\"]],\"type\":\"contour\"}],\"contourcarpet\":[{\"colorbar\":{\"outlinewidth\":0,\"ticks\":\"\"},\"type\":\"contourcarpet\"}],\"heatmap\":[{\"colorbar\":{\"outlinewidth\":0,\"ticks\":\"\"},\"colorscale\":[[0.0,\"#0d0887\"],[0.1111111111111111,\"#46039f\"],[0.2222222222222222,\"#7201a8\"],[0.3333333333333333,\"#9c179e\"],[0.4444444444444444,\"#bd3786\"],[0.5555555555555556,\"#d8576b\"],[0.6666666666666666,\"#ed7953\"],[0.7777777777777778,\"#fb9f3a\"],[0.8888888888888888,\"#fdca26\"],[1.0,\"#f0f921\"]],\"type\":\"heatmap\"}],\"heatmapgl\":[{\"colorbar\":{\"outlinewidth\":0,\"ticks\":\"\"},\"colorscale\":[[0.0,\"#0d0887\"],[0.1111111111111111,\"#46039f\"],[0.2222222222222222,\"#7201a8\"],[0.3333333333333333,\"#9c179e\"],[0.4444444444444444,\"#bd3786\"],[0.5555555555555556,\"#d8576b\"],[0.6666666666666666,\"#ed7953\"],[0.7777777777777778,\"#fb9f3a\"],[0.8888888888888888,\"#fdca26\"],[1.0,\"#f0f921\"]],\"type\":\"heatmapgl\"}],\"histogram\":[{\"marker\":{\"pattern\":{\"fillmode\":\"overlay\",\"size\":10,\"solidity\":0.2}},\"type\":\"histogram\"}],\"histogram2d\":[{\"colorbar\":{\"outlinewidth\":0,\"ticks\":\"\"},\"colorscale\":[[0.0,\"#0d0887\"],[0.1111111111111111,\"#46039f\"],[0.2222222222222222,\"#7201a8\"],[0.3333333333333333,\"#9c179e\"],[0.4444444444444444,\"#bd3786\"],[0.5555555555555556,\"#d8576b\"],[0.6666666666666666,\"#ed7953\"],[0.7777777777777778,\"#fb9f3a\"],[0.8888888888888888,\"#fdca26\"],[1.0,\"#f0f921\"]],\"type\":\"histogram2d\"}],\"histogram2dcontour\":[{\"colorbar\":{\"outlinewidth\":0,\"ticks\":\"\"},\"colorscale\":[[0.0,\"#0d0887\"],[0.1111111111111111,\"#46039f\"],[0.2222222222222222,\"#7201a8\"],[0.3333333333333333,\"#9c179e\"],[0.4444444444444444,\"#bd3786\"],[0.5555555555555556,\"#d8576b\"],[0.6666666666666666,\"#ed7953\"],[0.7777777777777778,\"#fb9f3a\"],[0.8888888888888888,\"#fdca26\"],[1.0,\"#f0f921\"]],\"type\":\"histogram2dcontour\"}],\"mesh3d\":[{\"colorbar\":{\"outlinewidth\":0,\"ticks\":\"\"},\"type\":\"mesh3d\"}],\"parcoords\":[{\"line\":{\"colorbar\":{\"outlinewidth\":0,\"ticks\":\"\"}},\"type\":\"parcoords\"}],\"pie\":[{\"automargin\":true,\"type\":\"pie\"}],\"scatter\":[{\"marker\":{\"colorbar\":{\"outlinewidth\":0,\"ticks\":\"\"}},\"type\":\"scatter\"}],\"scatter3d\":[{\"line\":{\"colorbar\":{\"outlinewidth\":0,\"ticks\":\"\"}},\"marker\":{\"colorbar\":{\"outlinewidth\":0,\"ticks\":\"\"}},\"type\":\"scatter3d\"}],\"scattercarpet\":[{\"marker\":{\"colorbar\":{\"outlinewidth\":0,\"ticks\":\"\"}},\"type\":\"scattercarpet\"}],\"scattergeo\":[{\"marker\":{\"colorbar\":{\"outlinewidth\":0,\"ticks\":\"\"}},\"type\":\"scattergeo\"}],\"scattergl\":[{\"marker\":{\"colorbar\":{\"outlinewidth\":0,\"ticks\":\"\"}},\"type\":\"scattergl\"}],\"scattermapbox\":[{\"marker\":{\"colorbar\":{\"outlinewidth\":0,\"ticks\":\"\"}},\"type\":\"scattermapbox\"}],\"scatterpolar\":[{\"marker\":{\"colorbar\":{\"outlinewidth\":0,\"ticks\":\"\"}},\"type\":\"scatterpolar\"}],\"scatterpolargl\":[{\"marker\":{\"colorbar\":{\"outlinewidth\":0,\"ticks\":\"\"}},\"type\":\"scatterpolargl\"}],\"scatterternary\":[{\"marker\":{\"colorbar\":{\"outlinewidth\":0,\"ticks\":\"\"}},\"type\":\"scatterternary\"}],\"surface\":[{\"colorbar\":{\"outlinewidth\":0,\"ticks\":\"\"},\"colorscale\":[[0.0,\"#0d0887\"],[0.1111111111111111,\"#46039f\"],[0.2222222222222222,\"#7201a8\"],[0.3333333333333333,\"#9c179e\"],[0.4444444444444444,\"#bd3786\"],[0.5555555555555556,\"#d8576b\"],[0.6666666666666666,\"#ed7953\"],[0.7777777777777778,\"#fb9f3a\"],[0.8888888888888888,\"#fdca26\"],[1.0,\"#f0f921\"]],\"type\":\"surface\"}],\"table\":[{\"cells\":{\"fill\":{\"color\":\"#EBF0F8\"},\"line\":{\"color\":\"white\"}},\"header\":{\"fill\":{\"color\":\"#C8D4E3\"},\"line\":{\"color\":\"white\"}},\"type\":\"table\"}]},\"layout\":{\"annotationdefaults\":{\"arrowcolor\":\"#2a3f5f\",\"arrowhead\":0,\"arrowwidth\":1},\"autotypenumbers\":\"strict\",\"coloraxis\":{\"colorbar\":{\"outlinewidth\":0,\"ticks\":\"\"}},\"colorscale\":{\"diverging\":[[0,\"#8e0152\"],[0.1,\"#c51b7d\"],[0.2,\"#de77ae\"],[0.3,\"#f1b6da\"],[0.4,\"#fde0ef\"],[0.5,\"#f7f7f7\"],[0.6,\"#e6f5d0\"],[0.7,\"#b8e186\"],[0.8,\"#7fbc41\"],[0.9,\"#4d9221\"],[1,\"#276419\"]],\"sequential\":[[0.0,\"#0d0887\"],[0.1111111111111111,\"#46039f\"],[0.2222222222222222,\"#7201a8\"],[0.3333333333333333,\"#9c179e\"],[0.4444444444444444,\"#bd3786\"],[0.5555555555555556,\"#d8576b\"],[0.6666666666666666,\"#ed7953\"],[0.7777777777777778,\"#fb9f3a\"],[0.8888888888888888,\"#fdca26\"],[1.0,\"#f0f921\"]],\"sequentialminus\":[[0.0,\"#0d0887\"],[0.1111111111111111,\"#46039f\"],[0.2222222222222222,\"#7201a8\"],[0.3333333333333333,\"#9c179e\"],[0.4444444444444444,\"#bd3786\"],[0.5555555555555556,\"#d8576b\"],[0.6666666666666666,\"#ed7953\"],[0.7777777777777778,\"#fb9f3a\"],[0.8888888888888888,\"#fdca26\"],[1.0,\"#f0f921\"]]},\"colorway\":[\"#636efa\",\"#EF553B\",\"#00cc96\",\"#ab63fa\",\"#FFA15A\",\"#19d3f3\",\"#FF6692\",\"#B6E880\",\"#FF97FF\",\"#FECB52\"],\"font\":{\"color\":\"#2a3f5f\"},\"geo\":{\"bgcolor\":\"white\",\"lakecolor\":\"white\",\"landcolor\":\"#E5ECF6\",\"showlakes\":true,\"showland\":true,\"subunitcolor\":\"white\"},\"hoverlabel\":{\"align\":\"left\"},\"hovermode\":\"closest\",\"mapbox\":{\"style\":\"light\"},\"paper_bgcolor\":\"white\",\"plot_bgcolor\":\"#E5ECF6\",\"polar\":{\"angularaxis\":{\"gridcolor\":\"white\",\"linecolor\":\"white\",\"ticks\":\"\"},\"bgcolor\":\"#E5ECF6\",\"radialaxis\":{\"gridcolor\":\"white\",\"linecolor\":\"white\",\"ticks\":\"\"}},\"scene\":{\"xaxis\":{\"backgroundcolor\":\"#E5ECF6\",\"gridcolor\":\"white\",\"gridwidth\":2,\"linecolor\":\"white\",\"showbackground\":true,\"ticks\":\"\",\"zerolinecolor\":\"white\"},\"yaxis\":{\"backgroundcolor\":\"#E5ECF6\",\"gridcolor\":\"white\",\"gridwidth\":2,\"linecolor\":\"white\",\"showbackground\":true,\"ticks\":\"\",\"zerolinecolor\":\"white\"},\"zaxis\":{\"backgroundcolor\":\"#E5ECF6\",\"gridcolor\":\"white\",\"gridwidth\":2,\"linecolor\":\"white\",\"showbackground\":true,\"ticks\":\"\",\"zerolinecolor\":\"white\"}},\"shapedefaults\":{\"line\":{\"color\":\"#2a3f5f\"}},\"ternary\":{\"aaxis\":{\"gridcolor\":\"white\",\"linecolor\":\"white\",\"ticks\":\"\"},\"baxis\":{\"gridcolor\":\"white\",\"linecolor\":\"white\",\"ticks\":\"\"},\"bgcolor\":\"#E5ECF6\",\"caxis\":{\"gridcolor\":\"white\",\"linecolor\":\"white\",\"ticks\":\"\"}},\"title\":{\"x\":0.05},\"xaxis\":{\"automargin\":true,\"gridcolor\":\"white\",\"linecolor\":\"white\",\"ticks\":\"\",\"title\":{\"standoff\":15},\"zerolinecolor\":\"white\",\"zerolinewidth\":2},\"yaxis\":{\"automargin\":true,\"gridcolor\":\"white\",\"linecolor\":\"white\",\"ticks\":\"\",\"title\":{\"standoff\":15},\"zerolinecolor\":\"white\",\"zerolinewidth\":2}}},\"xaxis\":{\"anchor\":\"y\",\"domain\":[0.0,1.0],\"title\":{\"text\":\"Words\"}},\"yaxis\":{\"anchor\":\"x\",\"domain\":[0.0,1.0],\"title\":{\"text\":\"Frequency\"}},\"coloraxis\":{\"colorbar\":{\"title\":{\"text\":\"freq\"}},\"colorscale\":[[0.0,\"#0d0887\"],[0.1111111111111111,\"#46039f\"],[0.2222222222222222,\"#7201a8\"],[0.3333333333333333,\"#9c179e\"],[0.4444444444444444,\"#bd3786\"],[0.5555555555555556,\"#d8576b\"],[0.6666666666666666,\"#ed7953\"],[0.7777777777777778,\"#fb9f3a\"],[0.8888888888888888,\"#fdca26\"],[1.0,\"#f0f921\"]]},\"legend\":{\"tracegroupgap\":0,\"itemsizing\":\"constant\"},\"margin\":{\"t\":60},\"title\":{\"text\":\"Interactive Word Cloud\"}},                        {\"responsive\": true}                    ).then(function(){\n",
              "                            \n",
              "var gd = document.getElementById('5fea128e-1876-4021-8f09-306d85850ba1');\n",
              "var x = new MutationObserver(function (mutations, observer) {{\n",
              "        var display = window.getComputedStyle(gd).display;\n",
              "        if (!display || display === 'none') {{\n",
              "            console.log([gd, 'removed!']);\n",
              "            Plotly.purge(gd);\n",
              "            observer.disconnect();\n",
              "        }}\n",
              "}});\n",
              "\n",
              "// Listen for the removal of the full notebook cells\n",
              "var notebookContainer = gd.closest('#notebook-container');\n",
              "if (notebookContainer) {{\n",
              "    x.observe(notebookContainer, {childList: true});\n",
              "}}\n",
              "\n",
              "// Listen for the clearing of the current output cell\n",
              "var outputEl = gd.closest('.output');\n",
              "if (outputEl) {{\n",
              "    x.observe(outputEl, {childList: true});\n",
              "}}\n",
              "\n",
              "                        })                };                            </script>        </div>\n",
              "</body>\n",
              "</html>"
            ]
          },
          "metadata": {}
        },
        {
          "output_type": "display_data",
          "data": {
            "text/html": [
              "<html>\n",
              "<head><meta charset=\"utf-8\" /></head>\n",
              "<body>\n",
              "    <div>            <script src=\"https://cdnjs.cloudflare.com/ajax/libs/mathjax/2.7.5/MathJax.js?config=TeX-AMS-MML_SVG\"></script><script type=\"text/javascript\">if (window.MathJax) {MathJax.Hub.Config({SVG: {font: \"STIX-Web\"}});}</script>                <script type=\"text/javascript\">window.PlotlyConfig = {MathJaxConfig: 'local'};</script>\n",
              "        <script src=\"https://cdn.plot.ly/plotly-2.8.3.min.js\"></script>                <div id=\"62066dba-9ce2-4651-908e-43ded9770bb2\" class=\"plotly-graph-div\" style=\"height:525px; width:100%;\"></div>            <script type=\"text/javascript\">                                    window.PLOTLYENV=window.PLOTLYENV || {};                                    if (document.getElementById(\"62066dba-9ce2-4651-908e-43ded9770bb2\")) {                    Plotly.newPlot(                        \"62066dba-9ce2-4651-908e-43ded9770bb2\",                        [{\"hovertemplate\":\"words=%{text}<br>freq=%{marker.color}<extra></extra>\",\"legendgroup\":\"\",\"marker\":{\"color\":[1.0,0.5,0.5,0.25,0.25,0.25,0.25,0.25,0.25,0.25,0.25,0.25,0.25,0.25,0.25,0.25,0.25,0.25,0.25,0.25],\"coloraxis\":\"coloraxis\",\"size\":[1.0,0.5,0.5,0.25,0.25,0.25,0.25,0.25,0.25,0.25,0.25,0.25,0.25,0.25,0.25,0.25,0.25,0.25,0.25,0.25],\"sizemode\":\"area\",\"sizeref\":0.0025,\"symbol\":\"circle\"},\"mode\":\"markers+text\",\"name\":\"\",\"orientation\":\"v\",\"showlegend\":false,\"text\":[\"thing\",\"h\",\"Harriet\",\"blushed\",\"forbade\",\"pronounced\",\"thoroughly\",\"lik\",\"absent\",\"tried\",\"much\",\"per\",\"every\",\"usual\",\"followed\",\"accuse\",\"desirable\",\"aware\",\"said\",\"Jane\"],\"x\":[\"thing\",\"h\",\"Harriet\",\"blushed\",\"forbade\",\"pronounced\",\"thoroughly\",\"lik\",\"absent\",\"tried\",\"much\",\"per\",\"every\",\"usual\",\"followed\",\"accuse\",\"desirable\",\"aware\",\"said\",\"Jane\"],\"xaxis\":\"x\",\"y\":[1.0,0.5,0.5,0.25,0.25,0.25,0.25,0.25,0.25,0.25,0.25,0.25,0.25,0.25,0.25,0.25,0.25,0.25,0.25,0.25],\"yaxis\":\"y\",\"type\":\"scatter\"}],                        {\"template\":{\"data\":{\"bar\":[{\"error_x\":{\"color\":\"#2a3f5f\"},\"error_y\":{\"color\":\"#2a3f5f\"},\"marker\":{\"line\":{\"color\":\"#E5ECF6\",\"width\":0.5},\"pattern\":{\"fillmode\":\"overlay\",\"size\":10,\"solidity\":0.2}},\"type\":\"bar\"}],\"barpolar\":[{\"marker\":{\"line\":{\"color\":\"#E5ECF6\",\"width\":0.5},\"pattern\":{\"fillmode\":\"overlay\",\"size\":10,\"solidity\":0.2}},\"type\":\"barpolar\"}],\"carpet\":[{\"aaxis\":{\"endlinecolor\":\"#2a3f5f\",\"gridcolor\":\"white\",\"linecolor\":\"white\",\"minorgridcolor\":\"white\",\"startlinecolor\":\"#2a3f5f\"},\"baxis\":{\"endlinecolor\":\"#2a3f5f\",\"gridcolor\":\"white\",\"linecolor\":\"white\",\"minorgridcolor\":\"white\",\"startlinecolor\":\"#2a3f5f\"},\"type\":\"carpet\"}],\"choropleth\":[{\"colorbar\":{\"outlinewidth\":0,\"ticks\":\"\"},\"type\":\"choropleth\"}],\"contour\":[{\"colorbar\":{\"outlinewidth\":0,\"ticks\":\"\"},\"colorscale\":[[0.0,\"#0d0887\"],[0.1111111111111111,\"#46039f\"],[0.2222222222222222,\"#7201a8\"],[0.3333333333333333,\"#9c179e\"],[0.4444444444444444,\"#bd3786\"],[0.5555555555555556,\"#d8576b\"],[0.6666666666666666,\"#ed7953\"],[0.7777777777777778,\"#fb9f3a\"],[0.8888888888888888,\"#fdca26\"],[1.0,\"#f0f921\"]],\"type\":\"contour\"}],\"contourcarpet\":[{\"colorbar\":{\"outlinewidth\":0,\"ticks\":\"\"},\"type\":\"contourcarpet\"}],\"heatmap\":[{\"colorbar\":{\"outlinewidth\":0,\"ticks\":\"\"},\"colorscale\":[[0.0,\"#0d0887\"],[0.1111111111111111,\"#46039f\"],[0.2222222222222222,\"#7201a8\"],[0.3333333333333333,\"#9c179e\"],[0.4444444444444444,\"#bd3786\"],[0.5555555555555556,\"#d8576b\"],[0.6666666666666666,\"#ed7953\"],[0.7777777777777778,\"#fb9f3a\"],[0.8888888888888888,\"#fdca26\"],[1.0,\"#f0f921\"]],\"type\":\"heatmap\"}],\"heatmapgl\":[{\"colorbar\":{\"outlinewidth\":0,\"ticks\":\"\"},\"colorscale\":[[0.0,\"#0d0887\"],[0.1111111111111111,\"#46039f\"],[0.2222222222222222,\"#7201a8\"],[0.3333333333333333,\"#9c179e\"],[0.4444444444444444,\"#bd3786\"],[0.5555555555555556,\"#d8576b\"],[0.6666666666666666,\"#ed7953\"],[0.7777777777777778,\"#fb9f3a\"],[0.8888888888888888,\"#fdca26\"],[1.0,\"#f0f921\"]],\"type\":\"heatmapgl\"}],\"histogram\":[{\"marker\":{\"pattern\":{\"fillmode\":\"overlay\",\"size\":10,\"solidity\":0.2}},\"type\":\"histogram\"}],\"histogram2d\":[{\"colorbar\":{\"outlinewidth\":0,\"ticks\":\"\"},\"colorscale\":[[0.0,\"#0d0887\"],[0.1111111111111111,\"#46039f\"],[0.2222222222222222,\"#7201a8\"],[0.3333333333333333,\"#9c179e\"],[0.4444444444444444,\"#bd3786\"],[0.5555555555555556,\"#d8576b\"],[0.6666666666666666,\"#ed7953\"],[0.7777777777777778,\"#fb9f3a\"],[0.8888888888888888,\"#fdca26\"],[1.0,\"#f0f921\"]],\"type\":\"histogram2d\"}],\"histogram2dcontour\":[{\"colorbar\":{\"outlinewidth\":0,\"ticks\":\"\"},\"colorscale\":[[0.0,\"#0d0887\"],[0.1111111111111111,\"#46039f\"],[0.2222222222222222,\"#7201a8\"],[0.3333333333333333,\"#9c179e\"],[0.4444444444444444,\"#bd3786\"],[0.5555555555555556,\"#d8576b\"],[0.6666666666666666,\"#ed7953\"],[0.7777777777777778,\"#fb9f3a\"],[0.8888888888888888,\"#fdca26\"],[1.0,\"#f0f921\"]],\"type\":\"histogram2dcontour\"}],\"mesh3d\":[{\"colorbar\":{\"outlinewidth\":0,\"ticks\":\"\"},\"type\":\"mesh3d\"}],\"parcoords\":[{\"line\":{\"colorbar\":{\"outlinewidth\":0,\"ticks\":\"\"}},\"type\":\"parcoords\"}],\"pie\":[{\"automargin\":true,\"type\":\"pie\"}],\"scatter\":[{\"marker\":{\"colorbar\":{\"outlinewidth\":0,\"ticks\":\"\"}},\"type\":\"scatter\"}],\"scatter3d\":[{\"line\":{\"colorbar\":{\"outlinewidth\":0,\"ticks\":\"\"}},\"marker\":{\"colorbar\":{\"outlinewidth\":0,\"ticks\":\"\"}},\"type\":\"scatter3d\"}],\"scattercarpet\":[{\"marker\":{\"colorbar\":{\"outlinewidth\":0,\"ticks\":\"\"}},\"type\":\"scattercarpet\"}],\"scattergeo\":[{\"marker\":{\"colorbar\":{\"outlinewidth\":0,\"ticks\":\"\"}},\"type\":\"scattergeo\"}],\"scattergl\":[{\"marker\":{\"colorbar\":{\"outlinewidth\":0,\"ticks\":\"\"}},\"type\":\"scattergl\"}],\"scattermapbox\":[{\"marker\":{\"colorbar\":{\"outlinewidth\":0,\"ticks\":\"\"}},\"type\":\"scattermapbox\"}],\"scatterpolar\":[{\"marker\":{\"colorbar\":{\"outlinewidth\":0,\"ticks\":\"\"}},\"type\":\"scatterpolar\"}],\"scatterpolargl\":[{\"marker\":{\"colorbar\":{\"outlinewidth\":0,\"ticks\":\"\"}},\"type\":\"scatterpolargl\"}],\"scatterternary\":[{\"marker\":{\"colorbar\":{\"outlinewidth\":0,\"ticks\":\"\"}},\"type\":\"scatterternary\"}],\"surface\":[{\"colorbar\":{\"outlinewidth\":0,\"ticks\":\"\"},\"colorscale\":[[0.0,\"#0d0887\"],[0.1111111111111111,\"#46039f\"],[0.2222222222222222,\"#7201a8\"],[0.3333333333333333,\"#9c179e\"],[0.4444444444444444,\"#bd3786\"],[0.5555555555555556,\"#d8576b\"],[0.6666666666666666,\"#ed7953\"],[0.7777777777777778,\"#fb9f3a\"],[0.8888888888888888,\"#fdca26\"],[1.0,\"#f0f921\"]],\"type\":\"surface\"}],\"table\":[{\"cells\":{\"fill\":{\"color\":\"#EBF0F8\"},\"line\":{\"color\":\"white\"}},\"header\":{\"fill\":{\"color\":\"#C8D4E3\"},\"line\":{\"color\":\"white\"}},\"type\":\"table\"}]},\"layout\":{\"annotationdefaults\":{\"arrowcolor\":\"#2a3f5f\",\"arrowhead\":0,\"arrowwidth\":1},\"autotypenumbers\":\"strict\",\"coloraxis\":{\"colorbar\":{\"outlinewidth\":0,\"ticks\":\"\"}},\"colorscale\":{\"diverging\":[[0,\"#8e0152\"],[0.1,\"#c51b7d\"],[0.2,\"#de77ae\"],[0.3,\"#f1b6da\"],[0.4,\"#fde0ef\"],[0.5,\"#f7f7f7\"],[0.6,\"#e6f5d0\"],[0.7,\"#b8e186\"],[0.8,\"#7fbc41\"],[0.9,\"#4d9221\"],[1,\"#276419\"]],\"sequential\":[[0.0,\"#0d0887\"],[0.1111111111111111,\"#46039f\"],[0.2222222222222222,\"#7201a8\"],[0.3333333333333333,\"#9c179e\"],[0.4444444444444444,\"#bd3786\"],[0.5555555555555556,\"#d8576b\"],[0.6666666666666666,\"#ed7953\"],[0.7777777777777778,\"#fb9f3a\"],[0.8888888888888888,\"#fdca26\"],[1.0,\"#f0f921\"]],\"sequentialminus\":[[0.0,\"#0d0887\"],[0.1111111111111111,\"#46039f\"],[0.2222222222222222,\"#7201a8\"],[0.3333333333333333,\"#9c179e\"],[0.4444444444444444,\"#bd3786\"],[0.5555555555555556,\"#d8576b\"],[0.6666666666666666,\"#ed7953\"],[0.7777777777777778,\"#fb9f3a\"],[0.8888888888888888,\"#fdca26\"],[1.0,\"#f0f921\"]]},\"colorway\":[\"#636efa\",\"#EF553B\",\"#00cc96\",\"#ab63fa\",\"#FFA15A\",\"#19d3f3\",\"#FF6692\",\"#B6E880\",\"#FF97FF\",\"#FECB52\"],\"font\":{\"color\":\"#2a3f5f\"},\"geo\":{\"bgcolor\":\"white\",\"lakecolor\":\"white\",\"landcolor\":\"#E5ECF6\",\"showlakes\":true,\"showland\":true,\"subunitcolor\":\"white\"},\"hoverlabel\":{\"align\":\"left\"},\"hovermode\":\"closest\",\"mapbox\":{\"style\":\"light\"},\"paper_bgcolor\":\"white\",\"plot_bgcolor\":\"#E5ECF6\",\"polar\":{\"angularaxis\":{\"gridcolor\":\"white\",\"linecolor\":\"white\",\"ticks\":\"\"},\"bgcolor\":\"#E5ECF6\",\"radialaxis\":{\"gridcolor\":\"white\",\"linecolor\":\"white\",\"ticks\":\"\"}},\"scene\":{\"xaxis\":{\"backgroundcolor\":\"#E5ECF6\",\"gridcolor\":\"white\",\"gridwidth\":2,\"linecolor\":\"white\",\"showbackground\":true,\"ticks\":\"\",\"zerolinecolor\":\"white\"},\"yaxis\":{\"backgroundcolor\":\"#E5ECF6\",\"gridcolor\":\"white\",\"gridwidth\":2,\"linecolor\":\"white\",\"showbackground\":true,\"ticks\":\"\",\"zerolinecolor\":\"white\"},\"zaxis\":{\"backgroundcolor\":\"#E5ECF6\",\"gridcolor\":\"white\",\"gridwidth\":2,\"linecolor\":\"white\",\"showbackground\":true,\"ticks\":\"\",\"zerolinecolor\":\"white\"}},\"shapedefaults\":{\"line\":{\"color\":\"#2a3f5f\"}},\"ternary\":{\"aaxis\":{\"gridcolor\":\"white\",\"linecolor\":\"white\",\"ticks\":\"\"},\"baxis\":{\"gridcolor\":\"white\",\"linecolor\":\"white\",\"ticks\":\"\"},\"bgcolor\":\"#E5ECF6\",\"caxis\":{\"gridcolor\":\"white\",\"linecolor\":\"white\",\"ticks\":\"\"}},\"title\":{\"x\":0.05},\"xaxis\":{\"automargin\":true,\"gridcolor\":\"white\",\"linecolor\":\"white\",\"ticks\":\"\",\"title\":{\"standoff\":15},\"zerolinecolor\":\"white\",\"zerolinewidth\":2},\"yaxis\":{\"automargin\":true,\"gridcolor\":\"white\",\"linecolor\":\"white\",\"ticks\":\"\",\"title\":{\"standoff\":15},\"zerolinecolor\":\"white\",\"zerolinewidth\":2}}},\"xaxis\":{\"anchor\":\"y\",\"domain\":[0.0,1.0],\"title\":{\"text\":\"Words\"}},\"yaxis\":{\"anchor\":\"x\",\"domain\":[0.0,1.0],\"title\":{\"text\":\"Frequency\"}},\"coloraxis\":{\"colorbar\":{\"title\":{\"text\":\"freq\"}},\"colorscale\":[[0.0,\"#0d0887\"],[0.1111111111111111,\"#46039f\"],[0.2222222222222222,\"#7201a8\"],[0.3333333333333333,\"#9c179e\"],[0.4444444444444444,\"#bd3786\"],[0.5555555555555556,\"#d8576b\"],[0.6666666666666666,\"#ed7953\"],[0.7777777777777778,\"#fb9f3a\"],[0.8888888888888888,\"#fdca26\"],[1.0,\"#f0f921\"]]},\"legend\":{\"tracegroupgap\":0,\"itemsizing\":\"constant\"},\"margin\":{\"t\":60},\"title\":{\"text\":\"Interactive Word Cloud\"}},                        {\"responsive\": true}                    ).then(function(){\n",
              "                            \n",
              "var gd = document.getElementById('62066dba-9ce2-4651-908e-43ded9770bb2');\n",
              "var x = new MutationObserver(function (mutations, observer) {{\n",
              "        var display = window.getComputedStyle(gd).display;\n",
              "        if (!display || display === 'none') {{\n",
              "            console.log([gd, 'removed!']);\n",
              "            Plotly.purge(gd);\n",
              "            observer.disconnect();\n",
              "        }}\n",
              "}});\n",
              "\n",
              "// Listen for the removal of the full notebook cells\n",
              "var notebookContainer = gd.closest('#notebook-container');\n",
              "if (notebookContainer) {{\n",
              "    x.observe(notebookContainer, {childList: true});\n",
              "}}\n",
              "\n",
              "// Listen for the clearing of the current output cell\n",
              "var outputEl = gd.closest('.output');\n",
              "if (outputEl) {{\n",
              "    x.observe(outputEl, {childList: true});\n",
              "}}\n",
              "\n",
              "                        })                };                            </script>        </div>\n",
              "</body>\n",
              "</html>"
            ]
          },
          "metadata": {}
        },
        {
          "output_type": "display_data",
          "data": {
            "text/html": [
              "<html>\n",
              "<head><meta charset=\"utf-8\" /></head>\n",
              "<body>\n",
              "    <div>            <script src=\"https://cdnjs.cloudflare.com/ajax/libs/mathjax/2.7.5/MathJax.js?config=TeX-AMS-MML_SVG\"></script><script type=\"text/javascript\">if (window.MathJax) {MathJax.Hub.Config({SVG: {font: \"STIX-Web\"}});}</script>                <script type=\"text/javascript\">window.PlotlyConfig = {MathJaxConfig: 'local'};</script>\n",
              "        <script src=\"https://cdn.plot.ly/plotly-2.8.3.min.js\"></script>                <div id=\"fd128d4e-a763-48a1-a319-d58000acfc88\" class=\"plotly-graph-div\" style=\"height:525px; width:100%;\"></div>            <script type=\"text/javascript\">                                    window.PLOTLYENV=window.PLOTLYENV || {};                                    if (document.getElementById(\"fd128d4e-a763-48a1-a319-d58000acfc88\")) {                    Plotly.newPlot(                        \"fd128d4e-a763-48a1-a319-d58000acfc88\",                        [{\"hovertemplate\":\"words=%{text}<br>freq=%{marker.color}<extra></extra>\",\"legendgroup\":\"\",\"marker\":{\"color\":[1.0,1.0,1.0,1.0,1.0,1.0,1.0,1.0,1.0,1.0,1.0,1.0,1.0,1.0,1.0,1.0,1.0,1.0,1.0,1.0],\"coloraxis\":\"coloraxis\",\"size\":[1.0,1.0,1.0,1.0,1.0,1.0,1.0,1.0,1.0,1.0,1.0,1.0,1.0,1.0,1.0,1.0,1.0,1.0,1.0,1.0],\"sizemode\":\"area\",\"sizeref\":0.0025,\"symbol\":\"circle\"},\"mode\":\"markers+text\",\"name\":\"\",\"orientation\":\"v\",\"showlegend\":false,\"text\":[\"compeers\",\"Us\",\"d\",\"yoke\",\"drawest\",\"triump\",\"journey\",\"brought\",\"incorporeal\",\"speed\",\"warm\",\"rose\",\"impossible\",\"climb\",\"Betwixt\",\"rocky\",\"brighter\",\"amidst\",\"host\",\"Angels\"],\"x\":[\"compeers\",\"Us\",\"d\",\"yoke\",\"drawest\",\"triump\",\"journey\",\"brought\",\"incorporeal\",\"speed\",\"warm\",\"rose\",\"impossible\",\"climb\",\"Betwixt\",\"rocky\",\"brighter\",\"amidst\",\"host\",\"Angels\"],\"xaxis\":\"x\",\"y\":[1.0,1.0,1.0,1.0,1.0,1.0,1.0,1.0,1.0,1.0,1.0,1.0,1.0,1.0,1.0,1.0,1.0,1.0,1.0,1.0],\"yaxis\":\"y\",\"type\":\"scatter\"}],                        {\"template\":{\"data\":{\"bar\":[{\"error_x\":{\"color\":\"#2a3f5f\"},\"error_y\":{\"color\":\"#2a3f5f\"},\"marker\":{\"line\":{\"color\":\"#E5ECF6\",\"width\":0.5},\"pattern\":{\"fillmode\":\"overlay\",\"size\":10,\"solidity\":0.2}},\"type\":\"bar\"}],\"barpolar\":[{\"marker\":{\"line\":{\"color\":\"#E5ECF6\",\"width\":0.5},\"pattern\":{\"fillmode\":\"overlay\",\"size\":10,\"solidity\":0.2}},\"type\":\"barpolar\"}],\"carpet\":[{\"aaxis\":{\"endlinecolor\":\"#2a3f5f\",\"gridcolor\":\"white\",\"linecolor\":\"white\",\"minorgridcolor\":\"white\",\"startlinecolor\":\"#2a3f5f\"},\"baxis\":{\"endlinecolor\":\"#2a3f5f\",\"gridcolor\":\"white\",\"linecolor\":\"white\",\"minorgridcolor\":\"white\",\"startlinecolor\":\"#2a3f5f\"},\"type\":\"carpet\"}],\"choropleth\":[{\"colorbar\":{\"outlinewidth\":0,\"ticks\":\"\"},\"type\":\"choropleth\"}],\"contour\":[{\"colorbar\":{\"outlinewidth\":0,\"ticks\":\"\"},\"colorscale\":[[0.0,\"#0d0887\"],[0.1111111111111111,\"#46039f\"],[0.2222222222222222,\"#7201a8\"],[0.3333333333333333,\"#9c179e\"],[0.4444444444444444,\"#bd3786\"],[0.5555555555555556,\"#d8576b\"],[0.6666666666666666,\"#ed7953\"],[0.7777777777777778,\"#fb9f3a\"],[0.8888888888888888,\"#fdca26\"],[1.0,\"#f0f921\"]],\"type\":\"contour\"}],\"contourcarpet\":[{\"colorbar\":{\"outlinewidth\":0,\"ticks\":\"\"},\"type\":\"contourcarpet\"}],\"heatmap\":[{\"colorbar\":{\"outlinewidth\":0,\"ticks\":\"\"},\"colorscale\":[[0.0,\"#0d0887\"],[0.1111111111111111,\"#46039f\"],[0.2222222222222222,\"#7201a8\"],[0.3333333333333333,\"#9c179e\"],[0.4444444444444444,\"#bd3786\"],[0.5555555555555556,\"#d8576b\"],[0.6666666666666666,\"#ed7953\"],[0.7777777777777778,\"#fb9f3a\"],[0.8888888888888888,\"#fdca26\"],[1.0,\"#f0f921\"]],\"type\":\"heatmap\"}],\"heatmapgl\":[{\"colorbar\":{\"outlinewidth\":0,\"ticks\":\"\"},\"colorscale\":[[0.0,\"#0d0887\"],[0.1111111111111111,\"#46039f\"],[0.2222222222222222,\"#7201a8\"],[0.3333333333333333,\"#9c179e\"],[0.4444444444444444,\"#bd3786\"],[0.5555555555555556,\"#d8576b\"],[0.6666666666666666,\"#ed7953\"],[0.7777777777777778,\"#fb9f3a\"],[0.8888888888888888,\"#fdca26\"],[1.0,\"#f0f921\"]],\"type\":\"heatmapgl\"}],\"histogram\":[{\"marker\":{\"pattern\":{\"fillmode\":\"overlay\",\"size\":10,\"solidity\":0.2}},\"type\":\"histogram\"}],\"histogram2d\":[{\"colorbar\":{\"outlinewidth\":0,\"ticks\":\"\"},\"colorscale\":[[0.0,\"#0d0887\"],[0.1111111111111111,\"#46039f\"],[0.2222222222222222,\"#7201a8\"],[0.3333333333333333,\"#9c179e\"],[0.4444444444444444,\"#bd3786\"],[0.5555555555555556,\"#d8576b\"],[0.6666666666666666,\"#ed7953\"],[0.7777777777777778,\"#fb9f3a\"],[0.8888888888888888,\"#fdca26\"],[1.0,\"#f0f921\"]],\"type\":\"histogram2d\"}],\"histogram2dcontour\":[{\"colorbar\":{\"outlinewidth\":0,\"ticks\":\"\"},\"colorscale\":[[0.0,\"#0d0887\"],[0.1111111111111111,\"#46039f\"],[0.2222222222222222,\"#7201a8\"],[0.3333333333333333,\"#9c179e\"],[0.4444444444444444,\"#bd3786\"],[0.5555555555555556,\"#d8576b\"],[0.6666666666666666,\"#ed7953\"],[0.7777777777777778,\"#fb9f3a\"],[0.8888888888888888,\"#fdca26\"],[1.0,\"#f0f921\"]],\"type\":\"histogram2dcontour\"}],\"mesh3d\":[{\"colorbar\":{\"outlinewidth\":0,\"ticks\":\"\"},\"type\":\"mesh3d\"}],\"parcoords\":[{\"line\":{\"colorbar\":{\"outlinewidth\":0,\"ticks\":\"\"}},\"type\":\"parcoords\"}],\"pie\":[{\"automargin\":true,\"type\":\"pie\"}],\"scatter\":[{\"marker\":{\"colorbar\":{\"outlinewidth\":0,\"ticks\":\"\"}},\"type\":\"scatter\"}],\"scatter3d\":[{\"line\":{\"colorbar\":{\"outlinewidth\":0,\"ticks\":\"\"}},\"marker\":{\"colorbar\":{\"outlinewidth\":0,\"ticks\":\"\"}},\"type\":\"scatter3d\"}],\"scattercarpet\":[{\"marker\":{\"colorbar\":{\"outlinewidth\":0,\"ticks\":\"\"}},\"type\":\"scattercarpet\"}],\"scattergeo\":[{\"marker\":{\"colorbar\":{\"outlinewidth\":0,\"ticks\":\"\"}},\"type\":\"scattergeo\"}],\"scattergl\":[{\"marker\":{\"colorbar\":{\"outlinewidth\":0,\"ticks\":\"\"}},\"type\":\"scattergl\"}],\"scattermapbox\":[{\"marker\":{\"colorbar\":{\"outlinewidth\":0,\"ticks\":\"\"}},\"type\":\"scattermapbox\"}],\"scatterpolar\":[{\"marker\":{\"colorbar\":{\"outlinewidth\":0,\"ticks\":\"\"}},\"type\":\"scatterpolar\"}],\"scatterpolargl\":[{\"marker\":{\"colorbar\":{\"outlinewidth\":0,\"ticks\":\"\"}},\"type\":\"scatterpolargl\"}],\"scatterternary\":[{\"marker\":{\"colorbar\":{\"outlinewidth\":0,\"ticks\":\"\"}},\"type\":\"scatterternary\"}],\"surface\":[{\"colorbar\":{\"outlinewidth\":0,\"ticks\":\"\"},\"colorscale\":[[0.0,\"#0d0887\"],[0.1111111111111111,\"#46039f\"],[0.2222222222222222,\"#7201a8\"],[0.3333333333333333,\"#9c179e\"],[0.4444444444444444,\"#bd3786\"],[0.5555555555555556,\"#d8576b\"],[0.6666666666666666,\"#ed7953\"],[0.7777777777777778,\"#fb9f3a\"],[0.8888888888888888,\"#fdca26\"],[1.0,\"#f0f921\"]],\"type\":\"surface\"}],\"table\":[{\"cells\":{\"fill\":{\"color\":\"#EBF0F8\"},\"line\":{\"color\":\"white\"}},\"header\":{\"fill\":{\"color\":\"#C8D4E3\"},\"line\":{\"color\":\"white\"}},\"type\":\"table\"}]},\"layout\":{\"annotationdefaults\":{\"arrowcolor\":\"#2a3f5f\",\"arrowhead\":0,\"arrowwidth\":1},\"autotypenumbers\":\"strict\",\"coloraxis\":{\"colorbar\":{\"outlinewidth\":0,\"ticks\":\"\"}},\"colorscale\":{\"diverging\":[[0,\"#8e0152\"],[0.1,\"#c51b7d\"],[0.2,\"#de77ae\"],[0.3,\"#f1b6da\"],[0.4,\"#fde0ef\"],[0.5,\"#f7f7f7\"],[0.6,\"#e6f5d0\"],[0.7,\"#b8e186\"],[0.8,\"#7fbc41\"],[0.9,\"#4d9221\"],[1,\"#276419\"]],\"sequential\":[[0.0,\"#0d0887\"],[0.1111111111111111,\"#46039f\"],[0.2222222222222222,\"#7201a8\"],[0.3333333333333333,\"#9c179e\"],[0.4444444444444444,\"#bd3786\"],[0.5555555555555556,\"#d8576b\"],[0.6666666666666666,\"#ed7953\"],[0.7777777777777778,\"#fb9f3a\"],[0.8888888888888888,\"#fdca26\"],[1.0,\"#f0f921\"]],\"sequentialminus\":[[0.0,\"#0d0887\"],[0.1111111111111111,\"#46039f\"],[0.2222222222222222,\"#7201a8\"],[0.3333333333333333,\"#9c179e\"],[0.4444444444444444,\"#bd3786\"],[0.5555555555555556,\"#d8576b\"],[0.6666666666666666,\"#ed7953\"],[0.7777777777777778,\"#fb9f3a\"],[0.8888888888888888,\"#fdca26\"],[1.0,\"#f0f921\"]]},\"colorway\":[\"#636efa\",\"#EF553B\",\"#00cc96\",\"#ab63fa\",\"#FFA15A\",\"#19d3f3\",\"#FF6692\",\"#B6E880\",\"#FF97FF\",\"#FECB52\"],\"font\":{\"color\":\"#2a3f5f\"},\"geo\":{\"bgcolor\":\"white\",\"lakecolor\":\"white\",\"landcolor\":\"#E5ECF6\",\"showlakes\":true,\"showland\":true,\"subunitcolor\":\"white\"},\"hoverlabel\":{\"align\":\"left\"},\"hovermode\":\"closest\",\"mapbox\":{\"style\":\"light\"},\"paper_bgcolor\":\"white\",\"plot_bgcolor\":\"#E5ECF6\",\"polar\":{\"angularaxis\":{\"gridcolor\":\"white\",\"linecolor\":\"white\",\"ticks\":\"\"},\"bgcolor\":\"#E5ECF6\",\"radialaxis\":{\"gridcolor\":\"white\",\"linecolor\":\"white\",\"ticks\":\"\"}},\"scene\":{\"xaxis\":{\"backgroundcolor\":\"#E5ECF6\",\"gridcolor\":\"white\",\"gridwidth\":2,\"linecolor\":\"white\",\"showbackground\":true,\"ticks\":\"\",\"zerolinecolor\":\"white\"},\"yaxis\":{\"backgroundcolor\":\"#E5ECF6\",\"gridcolor\":\"white\",\"gridwidth\":2,\"linecolor\":\"white\",\"showbackground\":true,\"ticks\":\"\",\"zerolinecolor\":\"white\"},\"zaxis\":{\"backgroundcolor\":\"#E5ECF6\",\"gridcolor\":\"white\",\"gridwidth\":2,\"linecolor\":\"white\",\"showbackground\":true,\"ticks\":\"\",\"zerolinecolor\":\"white\"}},\"shapedefaults\":{\"line\":{\"color\":\"#2a3f5f\"}},\"ternary\":{\"aaxis\":{\"gridcolor\":\"white\",\"linecolor\":\"white\",\"ticks\":\"\"},\"baxis\":{\"gridcolor\":\"white\",\"linecolor\":\"white\",\"ticks\":\"\"},\"bgcolor\":\"#E5ECF6\",\"caxis\":{\"gridcolor\":\"white\",\"linecolor\":\"white\",\"ticks\":\"\"}},\"title\":{\"x\":0.05},\"xaxis\":{\"automargin\":true,\"gridcolor\":\"white\",\"linecolor\":\"white\",\"ticks\":\"\",\"title\":{\"standoff\":15},\"zerolinecolor\":\"white\",\"zerolinewidth\":2},\"yaxis\":{\"automargin\":true,\"gridcolor\":\"white\",\"linecolor\":\"white\",\"ticks\":\"\",\"title\":{\"standoff\":15},\"zerolinecolor\":\"white\",\"zerolinewidth\":2}}},\"xaxis\":{\"anchor\":\"y\",\"domain\":[0.0,1.0],\"title\":{\"text\":\"Words\"}},\"yaxis\":{\"anchor\":\"x\",\"domain\":[0.0,1.0],\"title\":{\"text\":\"Frequency\"}},\"coloraxis\":{\"colorbar\":{\"title\":{\"text\":\"freq\"}},\"colorscale\":[[0.0,\"#0d0887\"],[0.1111111111111111,\"#46039f\"],[0.2222222222222222,\"#7201a8\"],[0.3333333333333333,\"#9c179e\"],[0.4444444444444444,\"#bd3786\"],[0.5555555555555556,\"#d8576b\"],[0.6666666666666666,\"#ed7953\"],[0.7777777777777778,\"#fb9f3a\"],[0.8888888888888888,\"#fdca26\"],[1.0,\"#f0f921\"]]},\"legend\":{\"tracegroupgap\":0,\"itemsizing\":\"constant\"},\"margin\":{\"t\":60},\"title\":{\"text\":\"Interactive Word Cloud\"}},                        {\"responsive\": true}                    ).then(function(){\n",
              "                            \n",
              "var gd = document.getElementById('fd128d4e-a763-48a1-a319-d58000acfc88');\n",
              "var x = new MutationObserver(function (mutations, observer) {{\n",
              "        var display = window.getComputedStyle(gd).display;\n",
              "        if (!display || display === 'none') {{\n",
              "            console.log([gd, 'removed!']);\n",
              "            Plotly.purge(gd);\n",
              "            observer.disconnect();\n",
              "        }}\n",
              "}});\n",
              "\n",
              "// Listen for the removal of the full notebook cells\n",
              "var notebookContainer = gd.closest('#notebook-container');\n",
              "if (notebookContainer) {{\n",
              "    x.observe(notebookContainer, {childList: true});\n",
              "}}\n",
              "\n",
              "// Listen for the clearing of the current output cell\n",
              "var outputEl = gd.closest('.output');\n",
              "if (outputEl) {{\n",
              "    x.observe(outputEl, {childList: true});\n",
              "}}\n",
              "\n",
              "                        })                };                            </script>        </div>\n",
              "</body>\n",
              "</html>"
            ]
          },
          "metadata": {}
        }
      ]
    },
    {
      "cell_type": "markdown",
      "source": [
        "#BAG OF WORDS "
      ],
      "metadata": {
        "id": "q9deQGG_7gjv"
      }
    },
    {
      "cell_type": "code",
      "source": [
        "import pandas as pd\n",
        "import numpy as np\n",
        "from sklearn.feature_extraction.text import TfidfVectorizer\n",
        "from sklearn.model_selection import train_test_split\n",
        "from sklearn.neighbors import KNeighborsClassifier\n",
        "from sklearn.svm import SVC\n",
        "import xgboost as xgb\n",
        "from sklearn.metrics import accuracy_score\n",
        "import matplotlib.pyplot as plt\n",
        "\n",
        "\n",
        "# Convert the text data into a tf-idf representation\n",
        "vectorizer = CountVectorizer()\n",
        "\n",
        "bag_of_words = vectorizer.fit_transform(data['Text'])\n",
        "\n",
        "# Split the data into training and testing sets\n",
        "X_train, X_test, y_train, y_test = train_test_split(bag_of_words, data['Author'], test_size=0.2)\n",
        "\n",
        "\n",
        "# K-NEAREST NEIGHBOU train and evaluate \n",
        "knn = KNeighborsClassifier()\n",
        "knn.fit(X_train, y_train)\n",
        "knn_pred = knn.predict(X_test)\n",
        "\n",
        "\n",
        "knn_accuracy = accuracy_score(y_test, knn_pred)\n",
        "knn_precision = precision_score(y_test, knn_pred,average='macro')\n",
        "knn_recall = recall_score(y_test, knn_pred,average='macro')\n",
        "knn_fscore = f1_score (y_test, knn_pred,average='macro')\n",
        "\n",
        "print('knn_accuracy with Bag of Words = ',knn_accuracy)\n",
        "print('knn_precision with Bag of Words = ',knn_precision)\n",
        "print('knn_recall with Bag of Words = ',knn_recall)\n",
        "print('knn_Fscore with Bag of Words = ',knn_fscore)\n",
        "print(\"----------------------------------------------------------------\")\n",
        "\n",
        "\n",
        "#DECISION TREE \n",
        "# Train and evaluate the Decision Tree model\n",
        "dt = DecisionTreeClassifier()\n",
        "dt.fit(X_train, y_train)\n",
        "dt_pred = dt.predict(X_test)\n",
        "\n",
        "\n",
        "\n",
        "dt_accuracy = accuracy_score(y_test, dt_pred)\n",
        "dt_precision = precision_score(y_test, dt_pred,average='macro')\n",
        "dt_recall = recall_score(y_test, dt_pred,average='macro')\n",
        "dt_fscore = f1_score (y_test, dt_pred,average='macro')\n",
        "\n",
        "print('dt_accuracy with Bag of Words  = ',dt_accuracy)\n",
        "print('dt_precision with Bag of Words = ',dt_precision)\n",
        "print('dt_recall with Bag of Words = ',dt_recall)\n",
        "print('dt_Fscore with Bag of Words = ',dt_fscore)\n",
        "print(\"----------------------------------------------------------------\")\n",
        "\n",
        "\n",
        "\n",
        "# Train and evaluate the SVM model\n",
        "svm = SVC()\n",
        "svm.fit(X_train, y_train)\n",
        "svm_pred = svm.predict(X_test)\n",
        "\n",
        "\n",
        "svm_accuracy = accuracy_score(y_test, svm_pred)\n",
        "svm_precision = precision_score(y_test, svm_pred,average='macro')\n",
        "svm_recall = recall_score(y_test, svm_pred,average='macro')\n",
        "svm_fscore = f1_score (y_test, svm_pred,average='macro')\n",
        "\n",
        "\n",
        "print('svm_accuracy with Bag of Words = ',svm_accuracy)\n",
        "print('svm_precision with Bag of Words = ',svm_precision)\n",
        "print('svm_recall with Bag of Words = ',svm_recall)\n",
        "print('svm_Fscore with Bag of Words = ',svm_fscore)\n",
        "print(\"----------------------------------------------------------------\")\n",
        "\n",
        "# Train and evaluate the XGBoost model\n",
        "xgb_model = xgb.XGBClassifier()\n",
        "xgb_model.fit(X_train, y_train)\n",
        "xgb_pred = xgb_model.predict(X_test)\n",
        "\n",
        "xgb_accuracy = accuracy_score(y_test, xgb_pred)\n",
        "xgb_precision = precision_score(y_test, xgb_pred,average='macro')\n",
        "xgb_recall = recall_score(y_test, xgb_pred,average='macro')\n",
        "xgb_fscore = f1_score (y_test, xgb_pred,average='macro')\n",
        "\n",
        "\n",
        "print('xgb_accuracy with Bag of Words = ',xgb_accuracy)\n",
        "print('xgb_precision with Bag of Words = ',xgb_precision)\n",
        "print('xgb_recall with Bag of Words = ',xgb_recall)\n",
        "print('xgb_Fscore with Bag of Words = ',xgb_fscore)\n",
        "print(\"----------------------------------------------------------------\")\n",
        "#++++++++++++++++++++++++++++++++++++++++++++++++\n",
        "\n",
        "\n",
        "# Plot the accuracy comparison of the models\n",
        "models = ['KNN', 'SVM','DT', 'XGBoost']\n",
        "accuracies = [knn_accuracy, svm_accuracy,dt_accuracy, xgb_accuracy]\n",
        "plt.bar(models, accuracies)\n",
        "plt.xlabel('Models')\n",
        "plt.ylabel('Accuracy')\n",
        "plt.title('Accuracy comparison of models')\n",
        "plt.show()\n",
        "\n",
        "# Plot the Precision comparison of the models\n",
        "models = ['KNN', 'SVM','DT', 'XGBoost']\n",
        "precisions = [knn_precision, svm_precision,dt_precision, xgb_precision]\n",
        "plt.bar(models, precisions)\n",
        "plt.xlabel('Models')\n",
        "plt.ylabel('precision')\n",
        "plt.title('Precision comparison of models')\n",
        "plt.show()\n",
        "\n",
        "# Plot the Recall comparison of the models\n",
        "models = ['KNN', 'SVM','DT', 'XGBoost']\n",
        "recalls = [knn_recall, svm_recall,dt_recall, xgb_recall]\n",
        "plt.bar(models, recalls)\n",
        "plt.xlabel('Models')\n",
        "plt.ylabel('Recall')\n",
        "plt.title('Recall comparison of models')\n",
        "plt.show()\n",
        "\n",
        "# Plot the Fscore comparison of the models\n",
        "models = ['KNN', 'SVM','DT', 'XGBoost']\n",
        "fscores = [knn_fscore, svm_fscore,dt_fscore, xgb_fscore]\n",
        "plt.bar(models, fscores)\n",
        "plt.xlabel('Models')\n",
        "plt.ylabel('Fscore')\n",
        "plt.title('Fscore comparison of models')\n",
        "plt.show()"
      ],
      "metadata": {
        "id": "rEylRDYb7pFv",
        "outputId": "aef4fc3a-6486-4b31-8b7a-433c624ed5be",
        "colab": {
          "base_uri": "https://localhost:8080/",
          "height": 1000
        }
      },
      "execution_count": null,
      "outputs": [
        {
          "output_type": "stream",
          "name": "stdout",
          "text": [
            "knn_accuracy with Bag of Words =  0.555\n",
            "knn_precision with Bag of Words =  0.5951203218424743\n",
            "knn_recall with Bag of Words =  0.5710884194966351\n",
            "knn_Fscore with Bag of Words =  0.5542196954488656\n",
            "----------------------------------------------------------------\n",
            "dt_accuracy with Bag of Words  =  0.655\n",
            "dt_precision with Bag of Words =  0.6656698175649189\n",
            "dt_recall with Bag of Words =  0.6633620220173494\n",
            "dt_Fscore with Bag of Words =  0.6626510156510157\n",
            "----------------------------------------------------------------\n",
            "svm_accuracy with Bag of Words =  0.825\n",
            "svm_precision with Bag of Words =  0.8284875474187695\n",
            "svm_recall with Bag of Words =  0.825345333955732\n",
            "svm_Fscore with Bag of Words =  0.823435646491842\n",
            "----------------------------------------------------------------\n",
            "xgb_accuracy with Bag of Words =  0.855\n",
            "xgb_precision with Bag of Words =  0.855495149253915\n",
            "xgb_recall with Bag of Words =  0.8546996926907069\n",
            "xgb_Fscore with Bag of Words =  0.8543798629167124\n",
            "----------------------------------------------------------------\n"
          ]
        },
        {
          "output_type": "display_data",
          "data": {
            "text/plain": [
              "<Figure size 432x288 with 1 Axes>"
            ],
            "image/png": "[encoded data removed]"
          },
          "metadata": {
            "needs_background": "light"
          }
        },
        {
          "output_type": "display_data",
          "data": {
            "text/plain": [
              "<Figure size 432x288 with 1 Axes>"
            ],
            "image/png": "[encoded data removed]"
          },
          "metadata": {
            "needs_background": "light"
          }
        },
        {
          "output_type": "display_data",
          "data": {
            "text/plain": [
              "<Figure size 432x288 with 1 Axes>"
            ],
            "image/png": "[encoded data removed]"
          },
          "metadata": {
            "needs_background": "light"
          }
        },
        {
          "output_type": "display_data",
          "data": {
            "text/plain": [
              "<Figure size 432x288 with 1 Axes>"
            ],
            "image/png": "[encoded data removed]"
          },
          "metadata": {
            "needs_background": "light"
          }
        }
      ]
    },
    {
      "cell_type": "markdown",
      "source": [
        "# CONFUSION MATRIX AND ERROR ANALYSIS FOR BAG OF WORDS "
      ],
      "metadata": {
        "id": "pKvq_Eus-raY"
      }
    },
    {
      "cell_type": "code",
      "source": [
        "import pandas as pd\n",
        "from sklearn.metrics import confusion_matrix"
      ],
      "metadata": {
        "id": "nbXCo4yvNH3w"
      },
      "execution_count": null,
      "outputs": []
    },
    {
      "cell_type": "markdown",
      "source": [
        "#SVM ERROR ANALYSIS AND CONFUSION MATRIX "
      ],
      "metadata": {
        "id": "Or4s8KC-Pt5d"
      }
    },
    {
      "cell_type": "code",
      "source": [
        "temp=[]\n",
        "for i in y_test.index:\n",
        "  temp.append(data['Text'].iloc[i])\n",
        "df=pd.DataFrame(temp,columns=['Text'])\n",
        "svm_pred = svm.predict(X_test)\n",
        "df['actual_data']=y_test.to_numpy()\n",
        "df['predicted_data']=svm_pred\n",
        "df"
      ],
      "metadata": {
        "id": "DTHBFHi77vVN",
        "outputId": "5194730c-3cf6-466b-bd7a-cc6751b9083a",
        "colab": {
          "base_uri": "https://localhost:8080/",
          "height": 423
        }
      },
      "execution_count": null,
      "outputs": [
        {
          "output_type": "execute_result",
          "data": {
            "text/plain": [
              "                                                  Text       actual_data  \\\n",
              "0    PostOffice is equal to it  To grope down into ...   Herman Melville   \n",
              "1    tricks of the stage  No  thought I  there must...   Herman Melville   \n",
              "2    but she wanted at once to be the wife of Capta...       Jane Austen   \n",
              "3    wide intervals in the silvery night  the lonel...   Herman Melville   \n",
              "4    hunted for thousands of years  by Semiramis  b...   Herman Melville   \n",
              "..                                                 ...               ...   \n",
              "195   warmly  rising in her sister s defence  No de...             Maria   \n",
              "196  stream from the hills   Pull  pull  my good bo...   Herman Melville   \n",
              "197  in their superstitions  declaring Moby Dick no...   Herman Melville   \n",
              "198  And the Green Carnation withered  as in forest...  G. K. Chesterton   \n",
              "199  was a man dressed as a windmill with enormous ...  G. K. Chesterton   \n",
              "\n",
              "       predicted_data  \n",
              "0     Herman Melville  \n",
              "1     Herman Melville  \n",
              "2               Maria  \n",
              "3     Herman Melville  \n",
              "4     Herman Melville  \n",
              "..                ...  \n",
              "195             Maria  \n",
              "196   Herman Melville  \n",
              "197   Herman Melville  \n",
              "198       John Milton  \n",
              "199  G. K. Chesterton  \n",
              "\n",
              "[200 rows x 3 columns]"
            ],
            "text/html": [
              "\n",
              "  <div id=\"df-c84dbc8f-4441-485c-a604-9a0facded680\">\n",
              "    <div class=\"colab-df-container\">\n",
              "      <div>\n",
              "<style scoped>\n",
              "    .dataframe tbody tr th:only-of-type {\n",
              "        vertical-align: middle;\n",
              "    }\n",
              "\n",
              "    .dataframe tbody tr th {\n",
              "        vertical-align: top;\n",
              "    }\n",
              "\n",
              "    .dataframe thead th {\n",
              "        text-align: right;\n",
              "    }\n",
              "</style>\n",
              "<table border=\"1\" class=\"dataframe\">\n",
              "  <thead>\n",
              "    <tr style=\"text-align: right;\">\n",
              "      <th></th>\n",
              "      <th>Text</th>\n",
              "      <th>actual_data</th>\n",
              "      <th>predicted_data</th>\n",
              "    </tr>\n",
              "  </thead>\n",
              "  <tbody>\n",
              "    <tr>\n",
              "      <th>0</th>\n",
              "      <td>PostOffice is equal to it  To grope down into ...</td>\n",
              "      <td>Herman Melville</td>\n",
              "      <td>Herman Melville</td>\n",
              "    </tr>\n",
              "    <tr>\n",
              "      <th>1</th>\n",
              "      <td>tricks of the stage  No  thought I  there must...</td>\n",
              "      <td>Herman Melville</td>\n",
              "      <td>Herman Melville</td>\n",
              "    </tr>\n",
              "    <tr>\n",
              "      <th>2</th>\n",
              "      <td>but she wanted at once to be the wife of Capta...</td>\n",
              "      <td>Jane Austen</td>\n",
              "      <td>Maria</td>\n",
              "    </tr>\n",
              "    <tr>\n",
              "      <th>3</th>\n",
              "      <td>wide intervals in the silvery night  the lonel...</td>\n",
              "      <td>Herman Melville</td>\n",
              "      <td>Herman Melville</td>\n",
              "    </tr>\n",
              "    <tr>\n",
              "      <th>4</th>\n",
              "      <td>hunted for thousands of years  by Semiramis  b...</td>\n",
              "      <td>Herman Melville</td>\n",
              "      <td>Herman Melville</td>\n",
              "    </tr>\n",
              "    <tr>\n",
              "      <th>...</th>\n",
              "      <td>...</td>\n",
              "      <td>...</td>\n",
              "      <td>...</td>\n",
              "    </tr>\n",
              "    <tr>\n",
              "      <th>195</th>\n",
              "      <td>warmly  rising in her sister s defence  No de...</td>\n",
              "      <td>Maria</td>\n",
              "      <td>Maria</td>\n",
              "    </tr>\n",
              "    <tr>\n",
              "      <th>196</th>\n",
              "      <td>stream from the hills   Pull  pull  my good bo...</td>\n",
              "      <td>Herman Melville</td>\n",
              "      <td>Herman Melville</td>\n",
              "    </tr>\n",
              "    <tr>\n",
              "      <th>197</th>\n",
              "      <td>in their superstitions  declaring Moby Dick no...</td>\n",
              "      <td>Herman Melville</td>\n",
              "      <td>Herman Melville</td>\n",
              "    </tr>\n",
              "    <tr>\n",
              "      <th>198</th>\n",
              "      <td>And the Green Carnation withered  as in forest...</td>\n",
              "      <td>G. K. Chesterton</td>\n",
              "      <td>John Milton</td>\n",
              "    </tr>\n",
              "    <tr>\n",
              "      <th>199</th>\n",
              "      <td>was a man dressed as a windmill with enormous ...</td>\n",
              "      <td>G. K. Chesterton</td>\n",
              "      <td>G. K. Chesterton</td>\n",
              "    </tr>\n",
              "  </tbody>\n",
              "</table>\n",
              "<p>200 rows × 3 columns</p>\n",
              "</div>\n",
              "      <button class=\"colab-df-convert\" onclick=\"convertToInteractive('df-c84dbc8f-4441-485c-a604-9a0facded680')\"\n",
              "              title=\"Convert this dataframe to an interactive table.\"\n",
              "              style=\"display:none;\">\n",
              "        \n",
              "  <svg xmlns=\"http://www.w3.org/2000/svg\" height=\"24px\"viewBox=\"0 0 24 24\"\n",
              "       width=\"24px\">\n",
              "    <path d=\"M0 0h24v24H0V0z\" fill=\"none\"/>\n",
              "    <path d=\"M18.56 5.44l.94 2.06.94-2.06 2.06-.94-2.06-.94-.94-2.06-.94 2.06-2.06.94zm-11 1L8.5 8.5l.94-2.06 2.06-.94-2.06-.94L8.5 2.5l-.94 2.06-2.06.94zm10 10l.94 2.06.94-2.06 2.06-.94-2.06-.94-.94-2.06-.94 2.06-2.06.94z\"/><path d=\"M17.41 7.96l-1.37-1.37c-.4-.4-.92-.59-1.43-.59-.52 0-1.04.2-1.43.59L10.3 9.45l-7.72 7.72c-.78.78-.78 2.05 0 2.83L4 21.41c.39.39.9.59 1.41.59.51 0 1.02-.2 1.41-.59l7.78-7.78 2.81-2.81c.8-.78.8-2.07 0-2.86zM5.41 20L4 18.59l7.72-7.72 1.47 1.35L5.41 20z\"/>\n",
              "  </svg>\n",
              "      </button>\n",
              "      \n",
              "  <style>\n",
              "    .colab-df-container {\n",
              "      display:flex;\n",
              "      flex-wrap:wrap;\n",
              "      gap: 12px;\n",
              "    }\n",
              "\n",
              "    .colab-df-convert {\n",
              "      background-color: #E8F0FE;\n",
              "      border: none;\n",
              "      border-radius: 50%;\n",
              "      cursor: pointer;\n",
              "      display: none;\n",
              "      fill: #1967D2;\n",
              "      height: 32px;\n",
              "      padding: 0 0 0 0;\n",
              "      width: 32px;\n",
              "    }\n",
              "\n",
              "    .colab-df-convert:hover {\n",
              "      background-color: #E2EBFA;\n",
              "      box-shadow: 0px 1px 2px rgba(60, 64, 67, 0.3), 0px 1px 3px 1px rgba(60, 64, 67, 0.15);\n",
              "      fill: #174EA6;\n",
              "    }\n",
              "\n",
              "    [theme=dark] .colab-df-convert {\n",
              "      background-color: #3B4455;\n",
              "      fill: #D2E3FC;\n",
              "    }\n",
              "\n",
              "    [theme=dark] .colab-df-convert:hover {\n",
              "      background-color: #434B5C;\n",
              "      box-shadow: 0px 1px 3px 1px rgba(0, 0, 0, 0.15);\n",
              "      filter: drop-shadow(0px 1px 2px rgba(0, 0, 0, 0.3));\n",
              "      fill: #FFFFFF;\n",
              "    }\n",
              "  </style>\n",
              "\n",
              "      <script>\n",
              "        const buttonEl =\n",
              "          document.querySelector('#df-c84dbc8f-4441-485c-a604-9a0facded680 button.colab-df-convert');\n",
              "        buttonEl.style.display =\n",
              "          google.colab.kernel.accessAllowed ? 'block' : 'none';\n",
              "\n",
              "        async function convertToInteractive(key) {\n",
              "          const element = document.querySelector('#df-c84dbc8f-4441-485c-a604-9a0facded680');\n",
              "          const dataTable =\n",
              "            await google.colab.kernel.invokeFunction('convertToInteractive',\n",
              "                                                     [key], {});\n",
              "          if (!dataTable) return;\n",
              "\n",
              "          const docLinkHtml = 'Like what you see? Visit the ' +\n",
              "            '<a target=\"_blank\" href=https://colab.research.google.com/notebooks/data_table.ipynb>data table notebook</a>'\n",
              "            + ' to learn more about interactive tables.';\n",
              "          element.innerHTML = '';\n",
              "          dataTable['output_type'] = 'display_data';\n",
              "          await google.colab.output.renderOutput(dataTable, element);\n",
              "          const docLink = document.createElement('div');\n",
              "          docLink.innerHTML = docLinkHtml;\n",
              "          element.appendChild(docLink);\n",
              "        }\n",
              "      </script>\n",
              "    </div>\n",
              "  </div>\n",
              "  "
            ]
          },
          "metadata": {},
          "execution_count": 9
        }
      ]
    },
    {
      "cell_type": "code",
      "source": [
        "df['Count']=df['predicted_data'] == df['actual_data']\n",
        "count=0\n",
        "for i in df['Count']:\n",
        "  if i ==True:\n",
        "    count=count+1\n",
        "df.drop(labels=['Count'],axis=1,inplace=True)\n",
        "print(\"The number of wrong predictions made by the SVM model with Bag Of Words are:\",200-count)\n",
        "\n",
        "conf_matrix = confusion_matrix(y_test.to_numpy(), svm_pred)\n",
        "conf_matrix_df = pd.DataFrame(conf_matrix, index=['Herman', 'Maria','Chesterton','Jane','Milton'], columns=['Herman', 'Maria','Chesterton','Jane','Milton'])\n",
        "print('\\nThe confusion matrix for the SVM model is \\n\\n',conf_matrix_df)\n",
        "print(\"--------------------------------------------------------------------------------------------\")"
      ],
      "metadata": {
        "id": "pxajwBMiQZ6M",
        "outputId": "b76dba4e-478e-4fb2-a7da-38f18f801cce",
        "colab": {
          "base_uri": "https://localhost:8080/"
        }
      },
      "execution_count": null,
      "outputs": [
        {
          "output_type": "stream",
          "name": "stdout",
          "text": [
            "The number of wrong predictions made by the SVM model with Bag Of Words are: 35\n",
            "\n",
            "The confusion matrix for the SVM model is \n",
            "\n",
            "             Herman  Maria  Chesterton  Jane  Milton\n",
            "Herman          33      1           0     1       3\n",
            "Maria            5     39           1     2       1\n",
            "Chesterton       2      1          26     1       3\n",
            "Jane             0      1           0    39       0\n",
            "Milton           7      3           3     0      28\n",
            "--------------------------------------------------------------------------------------------\n"
          ]
        }
      ]
    },
    {
      "cell_type": "code",
      "source": [
        "import seaborn as sns\n",
        "\n",
        "\n",
        "conf_matrix = confusion_matrix(y_test.to_numpy(), svm_pred)\n",
        "conf_matrix_df = pd.DataFrame(conf_matrix, index=['Herman', 'Maria','Chesterton','Jane','Milton'], columns=['Herman', 'Maria','Chesterton','Jane','Milton'])\n",
        "sns.heatmap(conf_matrix_df, annot=True, fmt='d')\n",
        "plt.title(\"Confusion Matrix for SVM Model\")\n",
        "plt.xlabel(\"Predicted Label\")\n",
        "plt.ylabel(\"True Label\")\n",
        "plt.show()"
      ],
      "metadata": {
        "id": "Gi42wF4O5Nzd",
        "outputId": "fac35484-b425-46f7-e30d-8c35be67a4a6",
        "colab": {
          "base_uri": "https://localhost:8080/",
          "height": 295
        }
      },
      "execution_count": null,
      "outputs": [
        {
          "output_type": "display_data",
          "data": {
            "text/plain": [
              "<Figure size 432x288 with 2 Axes>"
            ],
            "image/png": "[encoded data removed]"
          },
          "metadata": {
            "needs_background": "light"
          }
        }
      ]
    },
    {
      "cell_type": "markdown",
      "source": [
        "#KNN ERROR AND CONFUSION MATRIX"
      ],
      "metadata": {
        "id": "ZLhoyjkLTOxh"
      }
    },
    {
      "cell_type": "code",
      "source": [
        "temp=[]\n",
        "for i in y_test.index:\n",
        "  temp.append(data['Text'].iloc[i])\n",
        "df=pd.DataFrame(temp,columns=['Text'])\n",
        "knn_pred = knn.predict(X_test)\n",
        "df['actual_data']=y_test.to_numpy()\n",
        "df['predicted_data']=knn_pred\n",
        "df"
      ],
      "metadata": {
        "id": "NXKHC6PURfQC",
        "outputId": "b9e12309-3852-47f1-ce7d-8ceb0a7c2d98",
        "colab": {
          "base_uri": "https://localhost:8080/",
          "height": 423
        }
      },
      "execution_count": null,
      "outputs": [
        {
          "output_type": "execute_result",
          "data": {
            "text/plain": [
              "                                                  Text       actual_data  \\\n",
              "0    PostOffice is equal to it  To grope down into ...   Herman Melville   \n",
              "1    tricks of the stage  No  thought I  there must...   Herman Melville   \n",
              "2    but she wanted at once to be the wife of Capta...       Jane Austen   \n",
              "3    wide intervals in the silvery night  the lonel...   Herman Melville   \n",
              "4    hunted for thousands of years  by Semiramis  b...   Herman Melville   \n",
              "..                                                 ...               ...   \n",
              "195   warmly  rising in her sister s defence  No de...             Maria   \n",
              "196  stream from the hills   Pull  pull  my good bo...   Herman Melville   \n",
              "197  in their superstitions  declaring Moby Dick no...   Herman Melville   \n",
              "198  And the Green Carnation withered  as in forest...  G. K. Chesterton   \n",
              "199  was a man dressed as a windmill with enormous ...  G. K. Chesterton   \n",
              "\n",
              "       predicted_data  \n",
              "0         John Milton  \n",
              "1               Maria  \n",
              "2         Jane Austen  \n",
              "3     Herman Melville  \n",
              "4     Herman Melville  \n",
              "..                ...  \n",
              "195       Jane Austen  \n",
              "196  G. K. Chesterton  \n",
              "197   Herman Melville  \n",
              "198  G. K. Chesterton  \n",
              "199  G. K. Chesterton  \n",
              "\n",
              "[200 rows x 3 columns]"
            ],
            "text/html": [
              "\n",
              "  <div id=\"df-55ce69e1-f83d-415a-b3e3-aafbc77d485d\">\n",
              "    <div class=\"colab-df-container\">\n",
              "      <div>\n",
              "<style scoped>\n",
              "    .dataframe tbody tr th:only-of-type {\n",
              "        vertical-align: middle;\n",
              "    }\n",
              "\n",
              "    .dataframe tbody tr th {\n",
              "        vertical-align: top;\n",
              "    }\n",
              "\n",
              "    .dataframe thead th {\n",
              "        text-align: right;\n",
              "    }\n",
              "</style>\n",
              "<table border=\"1\" class=\"dataframe\">\n",
              "  <thead>\n",
              "    <tr style=\"text-align: right;\">\n",
              "      <th></th>\n",
              "      <th>Text</th>\n",
              "      <th>actual_data</th>\n",
              "      <th>predicted_data</th>\n",
              "    </tr>\n",
              "  </thead>\n",
              "  <tbody>\n",
              "    <tr>\n",
              "      <th>0</th>\n",
              "      <td>PostOffice is equal to it  To grope down into ...</td>\n",
              "      <td>Herman Melville</td>\n",
              "      <td>John Milton</td>\n",
              "    </tr>\n",
              "    <tr>\n",
              "      <th>1</th>\n",
              "      <td>tricks of the stage  No  thought I  there must...</td>\n",
              "      <td>Herman Melville</td>\n",
              "      <td>Maria</td>\n",
              "    </tr>\n",
              "    <tr>\n",
              "      <th>2</th>\n",
              "      <td>but she wanted at once to be the wife of Capta...</td>\n",
              "      <td>Jane Austen</td>\n",
              "      <td>Jane Austen</td>\n",
              "    </tr>\n",
              "    <tr>\n",
              "      <th>3</th>\n",
              "      <td>wide intervals in the silvery night  the lonel...</td>\n",
              "      <td>Herman Melville</td>\n",
              "      <td>Herman Melville</td>\n",
              "    </tr>\n",
              "    <tr>\n",
              "      <th>4</th>\n",
              "      <td>hunted for thousands of years  by Semiramis  b...</td>\n",
              "      <td>Herman Melville</td>\n",
              "      <td>Herman Melville</td>\n",
              "    </tr>\n",
              "    <tr>\n",
              "      <th>...</th>\n",
              "      <td>...</td>\n",
              "      <td>...</td>\n",
              "      <td>...</td>\n",
              "    </tr>\n",
              "    <tr>\n",
              "      <th>195</th>\n",
              "      <td>warmly  rising in her sister s defence  No de...</td>\n",
              "      <td>Maria</td>\n",
              "      <td>Jane Austen</td>\n",
              "    </tr>\n",
              "    <tr>\n",
              "      <th>196</th>\n",
              "      <td>stream from the hills   Pull  pull  my good bo...</td>\n",
              "      <td>Herman Melville</td>\n",
              "      <td>G. K. Chesterton</td>\n",
              "    </tr>\n",
              "    <tr>\n",
              "      <th>197</th>\n",
              "      <td>in their superstitions  declaring Moby Dick no...</td>\n",
              "      <td>Herman Melville</td>\n",
              "      <td>Herman Melville</td>\n",
              "    </tr>\n",
              "    <tr>\n",
              "      <th>198</th>\n",
              "      <td>And the Green Carnation withered  as in forest...</td>\n",
              "      <td>G. K. Chesterton</td>\n",
              "      <td>G. K. Chesterton</td>\n",
              "    </tr>\n",
              "    <tr>\n",
              "      <th>199</th>\n",
              "      <td>was a man dressed as a windmill with enormous ...</td>\n",
              "      <td>G. K. Chesterton</td>\n",
              "      <td>G. K. Chesterton</td>\n",
              "    </tr>\n",
              "  </tbody>\n",
              "</table>\n",
              "<p>200 rows × 3 columns</p>\n",
              "</div>\n",
              "      <button class=\"colab-df-convert\" onclick=\"convertToInteractive('df-55ce69e1-f83d-415a-b3e3-aafbc77d485d')\"\n",
              "              title=\"Convert this dataframe to an interactive table.\"\n",
              "              style=\"display:none;\">\n",
              "        \n",
              "  <svg xmlns=\"http://www.w3.org/2000/svg\" height=\"24px\"viewBox=\"0 0 24 24\"\n",
              "       width=\"24px\">\n",
              "    <path d=\"M0 0h24v24H0V0z\" fill=\"none\"/>\n",
              "    <path d=\"M18.56 5.44l.94 2.06.94-2.06 2.06-.94-2.06-.94-.94-2.06-.94 2.06-2.06.94zm-11 1L8.5 8.5l.94-2.06 2.06-.94-2.06-.94L8.5 2.5l-.94 2.06-2.06.94zm10 10l.94 2.06.94-2.06 2.06-.94-2.06-.94-.94-2.06-.94 2.06-2.06.94z\"/><path d=\"M17.41 7.96l-1.37-1.37c-.4-.4-.92-.59-1.43-.59-.52 0-1.04.2-1.43.59L10.3 9.45l-7.72 7.72c-.78.78-.78 2.05 0 2.83L4 21.41c.39.39.9.59 1.41.59.51 0 1.02-.2 1.41-.59l7.78-7.78 2.81-2.81c.8-.78.8-2.07 0-2.86zM5.41 20L4 18.59l7.72-7.72 1.47 1.35L5.41 20z\"/>\n",
              "  </svg>\n",
              "      </button>\n",
              "      \n",
              "  <style>\n",
              "    .colab-df-container {\n",
              "      display:flex;\n",
              "      flex-wrap:wrap;\n",
              "      gap: 12px;\n",
              "    }\n",
              "\n",
              "    .colab-df-convert {\n",
              "      background-color: #E8F0FE;\n",
              "      border: none;\n",
              "      border-radius: 50%;\n",
              "      cursor: pointer;\n",
              "      display: none;\n",
              "      fill: #1967D2;\n",
              "      height: 32px;\n",
              "      padding: 0 0 0 0;\n",
              "      width: 32px;\n",
              "    }\n",
              "\n",
              "    .colab-df-convert:hover {\n",
              "      background-color: #E2EBFA;\n",
              "      box-shadow: 0px 1px 2px rgba(60, 64, 67, 0.3), 0px 1px 3px 1px rgba(60, 64, 67, 0.15);\n",
              "      fill: #174EA6;\n",
              "    }\n",
              "\n",
              "    [theme=dark] .colab-df-convert {\n",
              "      background-color: #3B4455;\n",
              "      fill: #D2E3FC;\n",
              "    }\n",
              "\n",
              "    [theme=dark] .colab-df-convert:hover {\n",
              "      background-color: #434B5C;\n",
              "      box-shadow: 0px 1px 3px 1px rgba(0, 0, 0, 0.15);\n",
              "      filter: drop-shadow(0px 1px 2px rgba(0, 0, 0, 0.3));\n",
              "      fill: #FFFFFF;\n",
              "    }\n",
              "  </style>\n",
              "\n",
              "      <script>\n",
              "        const buttonEl =\n",
              "          document.querySelector('#df-55ce69e1-f83d-415a-b3e3-aafbc77d485d button.colab-df-convert');\n",
              "        buttonEl.style.display =\n",
              "          google.colab.kernel.accessAllowed ? 'block' : 'none';\n",
              "\n",
              "        async function convertToInteractive(key) {\n",
              "          const element = document.querySelector('#df-55ce69e1-f83d-415a-b3e3-aafbc77d485d');\n",
              "          const dataTable =\n",
              "            await google.colab.kernel.invokeFunction('convertToInteractive',\n",
              "                                                     [key], {});\n",
              "          if (!dataTable) return;\n",
              "\n",
              "          const docLinkHtml = 'Like what you see? Visit the ' +\n",
              "            '<a target=\"_blank\" href=https://colab.research.google.com/notebooks/data_table.ipynb>data table notebook</a>'\n",
              "            + ' to learn more about interactive tables.';\n",
              "          element.innerHTML = '';\n",
              "          dataTable['output_type'] = 'display_data';\n",
              "          await google.colab.output.renderOutput(dataTable, element);\n",
              "          const docLink = document.createElement('div');\n",
              "          docLink.innerHTML = docLinkHtml;\n",
              "          element.appendChild(docLink);\n",
              "        }\n",
              "      </script>\n",
              "    </div>\n",
              "  </div>\n",
              "  "
            ]
          },
          "metadata": {},
          "execution_count": 12
        }
      ]
    },
    {
      "cell_type": "code",
      "source": [
        "df['Count']=df['predicted_data'] == df['actual_data']\n",
        "count=0\n",
        "for i in df['Count']:\n",
        "  if i ==True:\n",
        "    count=count+1\n",
        "df.drop(labels=['Count'],axis=1,inplace=True)\n",
        "print(\"The number of wrong predictions made by the KNN model with Bag Of Words are:\",200-count)\n",
        "\n",
        "conf_matrix = confusion_matrix(y_test.to_numpy(), knn_pred)\n",
        "conf_matrix_df = pd.DataFrame(conf_matrix, index=['Herman', 'Maria','Chesterton','Jane','Milton'], columns=['Herman', 'Maria','Chesterton','Jane','Milton'])\n",
        "print('\\nThe confusion matrix for the KNN model is \\n\\n',conf_matrix_df)\n",
        "print(\"--------------------------------------------------------------------------------------------\")\n",
        "\n"
      ],
      "metadata": {
        "id": "fd12OHAGNExq",
        "outputId": "35a99fca-dc07-4f83-afca-08cc289858bb",
        "colab": {
          "base_uri": "https://localhost:8080/"
        }
      },
      "execution_count": null,
      "outputs": [
        {
          "output_type": "stream",
          "name": "stdout",
          "text": [
            "The number of wrong predictions made by the KNN model with Bag Of Words are: 89\n",
            "\n",
            "The confusion matrix for the KNN model is \n",
            "\n",
            "             Herman  Maria  Chesterton  Jane  Milton\n",
            "Herman          31      0           2     0       5\n",
            "Maria           21     18           3     3       3\n",
            "Chesterton       4      4          23     0       2\n",
            "Jane             7      2           3    27       1\n",
            "Milton          13      6           9     1      12\n",
            "--------------------------------------------------------------------------------------------\n"
          ]
        }
      ]
    },
    {
      "cell_type": "code",
      "source": [
        "conf_matrix = confusion_matrix(y_test.to_numpy(), knn_pred)\n",
        "conf_matrix_df = pd.DataFrame(conf_matrix, index=['Herman', 'Maria','Chesterton','Jane','Milton'], columns=['Herman', 'Maria','Chesterton','Jane','Milton'])\n",
        "sns.heatmap(conf_matrix_df, annot=True, fmt='d')\n",
        "plt.title(\"Confusion Matrix for KNN Model\")\n",
        "plt.xlabel(\"Predicted Label\")\n",
        "plt.ylabel(\"True Label\")\n",
        "plt.show()"
      ],
      "metadata": {
        "id": "SC68FTfA5TeJ",
        "outputId": "c53b3a87-fa3a-4e3f-937a-bc36fa4316bf",
        "colab": {
          "base_uri": "https://localhost:8080/",
          "height": 295
        }
      },
      "execution_count": null,
      "outputs": [
        {
          "output_type": "display_data",
          "data": {
            "text/plain": [
              "<Figure size 432x288 with 2 Axes>"
            ],
            "image/png": "[encoded data removed]"
          },
          "metadata": {
            "needs_background": "light"
          }
        }
      ]
    },
    {
      "cell_type": "markdown",
      "source": [
        "#Decision Tree ERROR AND CONFUSION MATRIX"
      ],
      "metadata": {
        "id": "EsVqJ5NLTGwd"
      }
    },
    {
      "cell_type": "code",
      "source": [
        "temp=[]\n",
        "for i in y_test.index:\n",
        "  temp.append(data['Text'].iloc[i])\n",
        "df=pd.DataFrame(temp,columns=['Text'])\n",
        "dt_pred = dt.predict(X_test)\n",
        "df['actual_data']=y_test.to_numpy()\n",
        "df['predicted_data']=dt_pred\n",
        "df"
      ],
      "metadata": {
        "id": "bpGxUGYxSOPP",
        "outputId": "942a8307-d6dc-474e-c3f5-071bfd8b75f6",
        "colab": {
          "base_uri": "https://localhost:8080/",
          "height": 423
        }
      },
      "execution_count": null,
      "outputs": [
        {
          "output_type": "execute_result",
          "data": {
            "text/plain": [
              "                                                  Text       actual_data  \\\n",
              "0    PostOffice is equal to it  To grope down into ...   Herman Melville   \n",
              "1    tricks of the stage  No  thought I  there must...   Herman Melville   \n",
              "2    but she wanted at once to be the wife of Capta...       Jane Austen   \n",
              "3    wide intervals in the silvery night  the lonel...   Herman Melville   \n",
              "4    hunted for thousands of years  by Semiramis  b...   Herman Melville   \n",
              "..                                                 ...               ...   \n",
              "195   warmly  rising in her sister s defence  No de...             Maria   \n",
              "196  stream from the hills   Pull  pull  my good bo...   Herman Melville   \n",
              "197  in their superstitions  declaring Moby Dick no...   Herman Melville   \n",
              "198  And the Green Carnation withered  as in forest...  G. K. Chesterton   \n",
              "199  was a man dressed as a windmill with enormous ...  G. K. Chesterton   \n",
              "\n",
              "       predicted_data  \n",
              "0     Herman Melville  \n",
              "1     Herman Melville  \n",
              "2         Jane Austen  \n",
              "3     Herman Melville  \n",
              "4     Herman Melville  \n",
              "..                ...  \n",
              "195             Maria  \n",
              "196             Maria  \n",
              "197  G. K. Chesterton  \n",
              "198   Herman Melville  \n",
              "199  G. K. Chesterton  \n",
              "\n",
              "[200 rows x 3 columns]"
            ],
            "text/html": [
              "\n",
              "  <div id=\"df-734e60bf-4dc4-418e-9a35-41f24d8b355e\">\n",
              "    <div class=\"colab-df-container\">\n",
              "      <div>\n",
              "<style scoped>\n",
              "    .dataframe tbody tr th:only-of-type {\n",
              "        vertical-align: middle;\n",
              "    }\n",
              "\n",
              "    .dataframe tbody tr th {\n",
              "        vertical-align: top;\n",
              "    }\n",
              "\n",
              "    .dataframe thead th {\n",
              "        text-align: right;\n",
              "    }\n",
              "</style>\n",
              "<table border=\"1\" class=\"dataframe\">\n",
              "  <thead>\n",
              "    <tr style=\"text-align: right;\">\n",
              "      <th></th>\n",
              "      <th>Text</th>\n",
              "      <th>actual_data</th>\n",
              "      <th>predicted_data</th>\n",
              "    </tr>\n",
              "  </thead>\n",
              "  <tbody>\n",
              "    <tr>\n",
              "      <th>0</th>\n",
              "      <td>PostOffice is equal to it  To grope down into ...</td>\n",
              "      <td>Herman Melville</td>\n",
              "      <td>Herman Melville</td>\n",
              "    </tr>\n",
              "    <tr>\n",
              "      <th>1</th>\n",
              "      <td>tricks of the stage  No  thought I  there must...</td>\n",
              "      <td>Herman Melville</td>\n",
              "      <td>Herman Melville</td>\n",
              "    </tr>\n",
              "    <tr>\n",
              "      <th>2</th>\n",
              "      <td>but she wanted at once to be the wife of Capta...</td>\n",
              "      <td>Jane Austen</td>\n",
              "      <td>Jane Austen</td>\n",
              "    </tr>\n",
              "    <tr>\n",
              "      <th>3</th>\n",
              "      <td>wide intervals in the silvery night  the lonel...</td>\n",
              "      <td>Herman Melville</td>\n",
              "      <td>Herman Melville</td>\n",
              "    </tr>\n",
              "    <tr>\n",
              "      <th>4</th>\n",
              "      <td>hunted for thousands of years  by Semiramis  b...</td>\n",
              "      <td>Herman Melville</td>\n",
              "      <td>Herman Melville</td>\n",
              "    </tr>\n",
              "    <tr>\n",
              "      <th>...</th>\n",
              "      <td>...</td>\n",
              "      <td>...</td>\n",
              "      <td>...</td>\n",
              "    </tr>\n",
              "    <tr>\n",
              "      <th>195</th>\n",
              "      <td>warmly  rising in her sister s defence  No de...</td>\n",
              "      <td>Maria</td>\n",
              "      <td>Maria</td>\n",
              "    </tr>\n",
              "    <tr>\n",
              "      <th>196</th>\n",
              "      <td>stream from the hills   Pull  pull  my good bo...</td>\n",
              "      <td>Herman Melville</td>\n",
              "      <td>Maria</td>\n",
              "    </tr>\n",
              "    <tr>\n",
              "      <th>197</th>\n",
              "      <td>in their superstitions  declaring Moby Dick no...</td>\n",
              "      <td>Herman Melville</td>\n",
              "      <td>G. K. Chesterton</td>\n",
              "    </tr>\n",
              "    <tr>\n",
              "      <th>198</th>\n",
              "      <td>And the Green Carnation withered  as in forest...</td>\n",
              "      <td>G. K. Chesterton</td>\n",
              "      <td>Herman Melville</td>\n",
              "    </tr>\n",
              "    <tr>\n",
              "      <th>199</th>\n",
              "      <td>was a man dressed as a windmill with enormous ...</td>\n",
              "      <td>G. K. Chesterton</td>\n",
              "      <td>G. K. Chesterton</td>\n",
              "    </tr>\n",
              "  </tbody>\n",
              "</table>\n",
              "<p>200 rows × 3 columns</p>\n",
              "</div>\n",
              "      <button class=\"colab-df-convert\" onclick=\"convertToInteractive('df-734e60bf-4dc4-418e-9a35-41f24d8b355e')\"\n",
              "              title=\"Convert this dataframe to an interactive table.\"\n",
              "              style=\"display:none;\">\n",
              "        \n",
              "  <svg xmlns=\"http://www.w3.org/2000/svg\" height=\"24px\"viewBox=\"0 0 24 24\"\n",
              "       width=\"24px\">\n",
              "    <path d=\"M0 0h24v24H0V0z\" fill=\"none\"/>\n",
              "    <path d=\"M18.56 5.44l.94 2.06.94-2.06 2.06-.94-2.06-.94-.94-2.06-.94 2.06-2.06.94zm-11 1L8.5 8.5l.94-2.06 2.06-.94-2.06-.94L8.5 2.5l-.94 2.06-2.06.94zm10 10l.94 2.06.94-2.06 2.06-.94-2.06-.94-.94-2.06-.94 2.06-2.06.94z\"/><path d=\"M17.41 7.96l-1.37-1.37c-.4-.4-.92-.59-1.43-.59-.52 0-1.04.2-1.43.59L10.3 9.45l-7.72 7.72c-.78.78-.78 2.05 0 2.83L4 21.41c.39.39.9.59 1.41.59.51 0 1.02-.2 1.41-.59l7.78-7.78 2.81-2.81c.8-.78.8-2.07 0-2.86zM5.41 20L4 18.59l7.72-7.72 1.47 1.35L5.41 20z\"/>\n",
              "  </svg>\n",
              "      </button>\n",
              "      \n",
              "  <style>\n",
              "    .colab-df-container {\n",
              "      display:flex;\n",
              "      flex-wrap:wrap;\n",
              "      gap: 12px;\n",
              "    }\n",
              "\n",
              "    .colab-df-convert {\n",
              "      background-color: #E8F0FE;\n",
              "      border: none;\n",
              "      border-radius: 50%;\n",
              "      cursor: pointer;\n",
              "      display: none;\n",
              "      fill: #1967D2;\n",
              "      height: 32px;\n",
              "      padding: 0 0 0 0;\n",
              "      width: 32px;\n",
              "    }\n",
              "\n",
              "    .colab-df-convert:hover {\n",
              "      background-color: #E2EBFA;\n",
              "      box-shadow: 0px 1px 2px rgba(60, 64, 67, 0.3), 0px 1px 3px 1px rgba(60, 64, 67, 0.15);\n",
              "      fill: #174EA6;\n",
              "    }\n",
              "\n",
              "    [theme=dark] .colab-df-convert {\n",
              "      background-color: #3B4455;\n",
              "      fill: #D2E3FC;\n",
              "    }\n",
              "\n",
              "    [theme=dark] .colab-df-convert:hover {\n",
              "      background-color: #434B5C;\n",
              "      box-shadow: 0px 1px 3px 1px rgba(0, 0, 0, 0.15);\n",
              "      filter: drop-shadow(0px 1px 2px rgba(0, 0, 0, 0.3));\n",
              "      fill: #FFFFFF;\n",
              "    }\n",
              "  </style>\n",
              "\n",
              "      <script>\n",
              "        const buttonEl =\n",
              "          document.querySelector('#df-734e60bf-4dc4-418e-9a35-41f24d8b355e button.colab-df-convert');\n",
              "        buttonEl.style.display =\n",
              "          google.colab.kernel.accessAllowed ? 'block' : 'none';\n",
              "\n",
              "        async function convertToInteractive(key) {\n",
              "          const element = document.querySelector('#df-734e60bf-4dc4-418e-9a35-41f24d8b355e');\n",
              "          const dataTable =\n",
              "            await google.colab.kernel.invokeFunction('convertToInteractive',\n",
              "                                                     [key], {});\n",
              "          if (!dataTable) return;\n",
              "\n",
              "          const docLinkHtml = 'Like what you see? Visit the ' +\n",
              "            '<a target=\"_blank\" href=https://colab.research.google.com/notebooks/data_table.ipynb>data table notebook</a>'\n",
              "            + ' to learn more about interactive tables.';\n",
              "          element.innerHTML = '';\n",
              "          dataTable['output_type'] = 'display_data';\n",
              "          await google.colab.output.renderOutput(dataTable, element);\n",
              "          const docLink = document.createElement('div');\n",
              "          docLink.innerHTML = docLinkHtml;\n",
              "          element.appendChild(docLink);\n",
              "        }\n",
              "      </script>\n",
              "    </div>\n",
              "  </div>\n",
              "  "
            ]
          },
          "metadata": {},
          "execution_count": 15
        }
      ]
    },
    {
      "cell_type": "code",
      "source": [
        "df['Count']=df['predicted_data'] == df['actual_data']\n",
        "count=0\n",
        "for i in df['Count']:\n",
        "  if i ==True:\n",
        "    count=count+1\n",
        "df.drop(labels=['Count'],axis=1,inplace=True)\n",
        "print(\"The number of wrong predictions made by the decision tree model with Bag Of Words are:\",200-count)\n",
        "\n",
        "conf_matrix = confusion_matrix(y_test.to_numpy(), dt_pred)\n",
        "conf_matrix_df = pd.DataFrame(conf_matrix, index=['Herman', 'Maria','Chesterton','Jane','Milton'], columns=['Herman', 'Maria','Chesterton','Jane','Milton'])\n",
        "print('\\nThe confusion matrix for the Decision Tree model is \\n\\n',conf_matrix_df)\n",
        "print(\"--------------------------------------------------------------------------------------------\")\n"
      ],
      "metadata": {
        "id": "Qg662q5DSPGl",
        "outputId": "93270f8d-43b0-4474-8340-27c7c3dc7392",
        "colab": {
          "base_uri": "https://localhost:8080/"
        }
      },
      "execution_count": null,
      "outputs": [
        {
          "output_type": "stream",
          "name": "stdout",
          "text": [
            "The number of wrong predictions made by the decision tree model with Bag Of Words are: 69\n",
            "\n",
            "The confusion matrix for the Decision Tree model is \n",
            "\n",
            "             Herman  Maria  Chesterton  Jane  Milton\n",
            "Herman          25      4           2     0       7\n",
            "Maria            9     27           0     5       7\n",
            "Chesterton       1      1          26     1       4\n",
            "Jane             4      7           1    26       2\n",
            "Milton           3      4           4     3      27\n",
            "--------------------------------------------------------------------------------------------\n"
          ]
        }
      ]
    },
    {
      "cell_type": "code",
      "source": [
        "conf_matrix = confusion_matrix(y_test.to_numpy(), dt_pred)\n",
        "conf_matrix_df = pd.DataFrame(conf_matrix, index=['Herman', 'Maria','Chesterton','Jane','Milton'], columns=['Herman', 'Maria','Chesterton','Jane','Milton'])\n",
        "sns.heatmap(conf_matrix_df, annot=True, fmt='d')\n",
        "plt.title(\"Confusion Matrix for Decision Tree Model\")\n",
        "plt.xlabel(\"Predicted Label\")\n",
        "plt.ylabel(\"True Label\")\n",
        "plt.show()"
      ],
      "metadata": {
        "id": "yGV3hkTi5WPW",
        "outputId": "0405f967-798c-46ef-b300-e2ae721ac0f4",
        "colab": {
          "base_uri": "https://localhost:8080/",
          "height": 295
        }
      },
      "execution_count": null,
      "outputs": [
        {
          "output_type": "display_data",
          "data": {
            "text/plain": [
              "<Figure size 432x288 with 2 Axes>"
            ],
            "image/png": "[encoded data removed]"
          },
          "metadata": {
            "needs_background": "light"
          }
        }
      ]
    },
    {
      "cell_type": "markdown",
      "source": [
        "#XGBoost ERROR AND CONFUSION MATRIX "
      ],
      "metadata": {
        "id": "vZ-MUDVRS85u"
      }
    },
    {
      "cell_type": "code",
      "source": [
        "temp=[]\n",
        "for i in y_test.index:\n",
        "  temp.append(data['Text'].iloc[i])\n",
        "df=pd.DataFrame(temp,columns=['Text'])\n",
        "xgb_pred = xgb_model.predict(X_test)\n",
        "df['actual_data']=y_test.to_numpy()\n",
        "df['predicted_data']=xgb_pred\n",
        "df"
      ],
      "metadata": {
        "id": "OElenV6nSiK_",
        "outputId": "fcb14932-5cc1-4546-8567-5510ed8904b4",
        "colab": {
          "base_uri": "https://localhost:8080/",
          "height": 423
        }
      },
      "execution_count": null,
      "outputs": [
        {
          "output_type": "execute_result",
          "data": {
            "text/plain": [
              "                                                  Text       actual_data  \\\n",
              "0    PostOffice is equal to it  To grope down into ...   Herman Melville   \n",
              "1    tricks of the stage  No  thought I  there must...   Herman Melville   \n",
              "2    but she wanted at once to be the wife of Capta...       Jane Austen   \n",
              "3    wide intervals in the silvery night  the lonel...   Herman Melville   \n",
              "4    hunted for thousands of years  by Semiramis  b...   Herman Melville   \n",
              "..                                                 ...               ...   \n",
              "195   warmly  rising in her sister s defence  No de...             Maria   \n",
              "196  stream from the hills   Pull  pull  my good bo...   Herman Melville   \n",
              "197  in their superstitions  declaring Moby Dick no...   Herman Melville   \n",
              "198  And the Green Carnation withered  as in forest...  G. K. Chesterton   \n",
              "199  was a man dressed as a windmill with enormous ...  G. K. Chesterton   \n",
              "\n",
              "       predicted_data  \n",
              "0     Herman Melville  \n",
              "1     Herman Melville  \n",
              "2         Jane Austen  \n",
              "3     Herman Melville  \n",
              "4     Herman Melville  \n",
              "..                ...  \n",
              "195             Maria  \n",
              "196   Herman Melville  \n",
              "197       John Milton  \n",
              "198       John Milton  \n",
              "199  G. K. Chesterton  \n",
              "\n",
              "[200 rows x 3 columns]"
            ],
            "text/html": [
              "\n",
              "  <div id=\"df-5e29a50a-51e5-4ebd-9cac-5a0d515b924f\">\n",
              "    <div class=\"colab-df-container\">\n",
              "      <div>\n",
              "<style scoped>\n",
              "    .dataframe tbody tr th:only-of-type {\n",
              "        vertical-align: middle;\n",
              "    }\n",
              "\n",
              "    .dataframe tbody tr th {\n",
              "        vertical-align: top;\n",
              "    }\n",
              "\n",
              "    .dataframe thead th {\n",
              "        text-align: right;\n",
              "    }\n",
              "</style>\n",
              "<table border=\"1\" class=\"dataframe\">\n",
              "  <thead>\n",
              "    <tr style=\"text-align: right;\">\n",
              "      <th></th>\n",
              "      <th>Text</th>\n",
              "      <th>actual_data</th>\n",
              "      <th>predicted_data</th>\n",
              "    </tr>\n",
              "  </thead>\n",
              "  <tbody>\n",
              "    <tr>\n",
              "      <th>0</th>\n",
              "      <td>PostOffice is equal to it  To grope down into ...</td>\n",
              "      <td>Herman Melville</td>\n",
              "      <td>Herman Melville</td>\n",
              "    </tr>\n",
              "    <tr>\n",
              "      <th>1</th>\n",
              "      <td>tricks of the stage  No  thought I  there must...</td>\n",
              "      <td>Herman Melville</td>\n",
              "      <td>Herman Melville</td>\n",
              "    </tr>\n",
              "    <tr>\n",
              "      <th>2</th>\n",
              "      <td>but she wanted at once to be the wife of Capta...</td>\n",
              "      <td>Jane Austen</td>\n",
              "      <td>Jane Austen</td>\n",
              "    </tr>\n",
              "    <tr>\n",
              "      <th>3</th>\n",
              "      <td>wide intervals in the silvery night  the lonel...</td>\n",
              "      <td>Herman Melville</td>\n",
              "      <td>Herman Melville</td>\n",
              "    </tr>\n",
              "    <tr>\n",
              "      <th>4</th>\n",
              "      <td>hunted for thousands of years  by Semiramis  b...</td>\n",
              "      <td>Herman Melville</td>\n",
              "      <td>Herman Melville</td>\n",
              "    </tr>\n",
              "    <tr>\n",
              "      <th>...</th>\n",
              "      <td>...</td>\n",
              "      <td>...</td>\n",
              "      <td>...</td>\n",
              "    </tr>\n",
              "    <tr>\n",
              "      <th>195</th>\n",
              "      <td>warmly  rising in her sister s defence  No de...</td>\n",
              "      <td>Maria</td>\n",
              "      <td>Maria</td>\n",
              "    </tr>\n",
              "    <tr>\n",
              "      <th>196</th>\n",
              "      <td>stream from the hills   Pull  pull  my good bo...</td>\n",
              "      <td>Herman Melville</td>\n",
              "      <td>Herman Melville</td>\n",
              "    </tr>\n",
              "    <tr>\n",
              "      <th>197</th>\n",
              "      <td>in their superstitions  declaring Moby Dick no...</td>\n",
              "      <td>Herman Melville</td>\n",
              "      <td>John Milton</td>\n",
              "    </tr>\n",
              "    <tr>\n",
              "      <th>198</th>\n",
              "      <td>And the Green Carnation withered  as in forest...</td>\n",
              "      <td>G. K. Chesterton</td>\n",
              "      <td>John Milton</td>\n",
              "    </tr>\n",
              "    <tr>\n",
              "      <th>199</th>\n",
              "      <td>was a man dressed as a windmill with enormous ...</td>\n",
              "      <td>G. K. Chesterton</td>\n",
              "      <td>G. K. Chesterton</td>\n",
              "    </tr>\n",
              "  </tbody>\n",
              "</table>\n",
              "<p>200 rows × 3 columns</p>\n",
              "</div>\n",
              "      <button class=\"colab-df-convert\" onclick=\"convertToInteractive('df-5e29a50a-51e5-4ebd-9cac-5a0d515b924f')\"\n",
              "              title=\"Convert this dataframe to an interactive table.\"\n",
              "              style=\"display:none;\">\n",
              "        \n",
              "  <svg xmlns=\"http://www.w3.org/2000/svg\" height=\"24px\"viewBox=\"0 0 24 24\"\n",
              "       width=\"24px\">\n",
              "    <path d=\"M0 0h24v24H0V0z\" fill=\"none\"/>\n",
              "    <path d=\"M18.56 5.44l.94 2.06.94-2.06 2.06-.94-2.06-.94-.94-2.06-.94 2.06-2.06.94zm-11 1L8.5 8.5l.94-2.06 2.06-.94-2.06-.94L8.5 2.5l-.94 2.06-2.06.94zm10 10l.94 2.06.94-2.06 2.06-.94-2.06-.94-.94-2.06-.94 2.06-2.06.94z\"/><path d=\"M17.41 7.96l-1.37-1.37c-.4-.4-.92-.59-1.43-.59-.52 0-1.04.2-1.43.59L10.3 9.45l-7.72 7.72c-.78.78-.78 2.05 0 2.83L4 21.41c.39.39.9.59 1.41.59.51 0 1.02-.2 1.41-.59l7.78-7.78 2.81-2.81c.8-.78.8-2.07 0-2.86zM5.41 20L4 18.59l7.72-7.72 1.47 1.35L5.41 20z\"/>\n",
              "  </svg>\n",
              "      </button>\n",
              "      \n",
              "  <style>\n",
              "    .colab-df-container {\n",
              "      display:flex;\n",
              "      flex-wrap:wrap;\n",
              "      gap: 12px;\n",
              "    }\n",
              "\n",
              "    .colab-df-convert {\n",
              "      background-color: #E8F0FE;\n",
              "      border: none;\n",
              "      border-radius: 50%;\n",
              "      cursor: pointer;\n",
              "      display: none;\n",
              "      fill: #1967D2;\n",
              "      height: 32px;\n",
              "      padding: 0 0 0 0;\n",
              "      width: 32px;\n",
              "    }\n",
              "\n",
              "    .colab-df-convert:hover {\n",
              "      background-color: #E2EBFA;\n",
              "      box-shadow: 0px 1px 2px rgba(60, 64, 67, 0.3), 0px 1px 3px 1px rgba(60, 64, 67, 0.15);\n",
              "      fill: #174EA6;\n",
              "    }\n",
              "\n",
              "    [theme=dark] .colab-df-convert {\n",
              "      background-color: #3B4455;\n",
              "      fill: #D2E3FC;\n",
              "    }\n",
              "\n",
              "    [theme=dark] .colab-df-convert:hover {\n",
              "      background-color: #434B5C;\n",
              "      box-shadow: 0px 1px 3px 1px rgba(0, 0, 0, 0.15);\n",
              "      filter: drop-shadow(0px 1px 2px rgba(0, 0, 0, 0.3));\n",
              "      fill: #FFFFFF;\n",
              "    }\n",
              "  </style>\n",
              "\n",
              "      <script>\n",
              "        const buttonEl =\n",
              "          document.querySelector('#df-5e29a50a-51e5-4ebd-9cac-5a0d515b924f button.colab-df-convert');\n",
              "        buttonEl.style.display =\n",
              "          google.colab.kernel.accessAllowed ? 'block' : 'none';\n",
              "\n",
              "        async function convertToInteractive(key) {\n",
              "          const element = document.querySelector('#df-5e29a50a-51e5-4ebd-9cac-5a0d515b924f');\n",
              "          const dataTable =\n",
              "            await google.colab.kernel.invokeFunction('convertToInteractive',\n",
              "                                                     [key], {});\n",
              "          if (!dataTable) return;\n",
              "\n",
              "          const docLinkHtml = 'Like what you see? Visit the ' +\n",
              "            '<a target=\"_blank\" href=https://colab.research.google.com/notebooks/data_table.ipynb>data table notebook</a>'\n",
              "            + ' to learn more about interactive tables.';\n",
              "          element.innerHTML = '';\n",
              "          dataTable['output_type'] = 'display_data';\n",
              "          await google.colab.output.renderOutput(dataTable, element);\n",
              "          const docLink = document.createElement('div');\n",
              "          docLink.innerHTML = docLinkHtml;\n",
              "          element.appendChild(docLink);\n",
              "        }\n",
              "      </script>\n",
              "    </div>\n",
              "  </div>\n",
              "  "
            ]
          },
          "metadata": {},
          "execution_count": 18
        }
      ]
    },
    {
      "cell_type": "code",
      "source": [
        "df['Count']=df['predicted_data'] == df['actual_data']\n",
        "count=0\n",
        "for i in df['Count']:\n",
        "  if i ==True:\n",
        "    count=count+1\n",
        "df.drop(labels=['Count'],axis=1,inplace=True)\n",
        "print(\"The number of wrong predictions made by the XGBoost model with Bag Of Words are:\",200-count)\n",
        "\n",
        "conf_matrix = confusion_matrix(y_test.to_numpy(), xgb_pred)\n",
        "conf_matrix_df = pd.DataFrame(conf_matrix, index=['Herman', 'Maria','Chesterton','Jane','Milton'], columns=['Herman', 'Maria','Chesterton','Jane','Milton'])\n",
        "print('\\nThe confusion matrix for the XGBoost model is \\n\\n',conf_matrix_df)\n",
        "print(\"--------------------------------------------------------------------------------------------\")"
      ],
      "metadata": {
        "id": "po-titOrSj3I",
        "outputId": "5e5bb875-1ad8-4c81-f377-b62ea114c77d",
        "colab": {
          "base_uri": "https://localhost:8080/"
        }
      },
      "execution_count": null,
      "outputs": [
        {
          "output_type": "stream",
          "name": "stdout",
          "text": [
            "The number of wrong predictions made by the XGBoost model with Bag Of Words are: 29\n",
            "\n",
            "The confusion matrix for the XGBoost model is \n",
            "\n",
            "             Herman  Maria  Chesterton  Jane  Milton\n",
            "Herman          32      3           0     1       2\n",
            "Maria            2     40           1     3       2\n",
            "Chesterton       1      0          27     0       5\n",
            "Jane             0      1           0    39       0\n",
            "Milton           2      2           3     1      33\n",
            "--------------------------------------------------------------------------------------------\n"
          ]
        }
      ]
    },
    {
      "cell_type": "code",
      "source": [
        "conf_matrix = confusion_matrix(y_test.to_numpy(), xgb_pred)\n",
        "conf_matrix_df = pd.DataFrame(conf_matrix, index=['Herman', 'Maria','Chesterton','Jane','Milton'], columns=['Herman', 'Maria','Chesterton','Jane','Milton'])\n",
        "sns.heatmap(conf_matrix_df, annot=True, fmt='d')\n",
        "plt.title(\"Confusion Matrix for XGBoost Model\")\n",
        "plt.xlabel(\"Predicted Label\")\n",
        "plt.ylabel(\"True Label\")\n",
        "plt.show()"
      ],
      "metadata": {
        "id": "iZ69yLC05aZ6",
        "outputId": "631a3ca6-430a-48b5-ea9c-11488644f11e",
        "colab": {
          "base_uri": "https://localhost:8080/",
          "height": 295
        }
      },
      "execution_count": null,
      "outputs": [
        {
          "output_type": "display_data",
          "data": {
            "text/plain": [
              "<Figure size 432x288 with 2 Axes>"
            ],
            "image/png": "[encoded data removed]"
          },
          "metadata": {
            "needs_background": "light"
          }
        }
      ]
    },
    {
      "cell_type": "markdown",
      "source": [
        "#10 fold cross validation"
      ],
      "metadata": {
        "id": "cuos7m8jo7E1"
      }
    },
    {
      "cell_type": "code",
      "source": [
        "import numpy as np\n",
        "from sklearn.model_selection import KFold\n",
        "\n",
        "def ten_fold_cross_validation(model, X, y):\n",
        "    kf = KFold(n_splits=10)\n",
        "    accuracy = []\n",
        "\n",
        "    for train_index, test_index in kf.split(X):\n",
        "        X_train, X_test = X[train_index], X[test_index]\n",
        "        y_train, y_test = y[train_index], y[test_index]\n",
        "        \n",
        "        model.fit(X_train, y_train)\n",
        "        accuracy.append(model.score(X_test, y_test))\n",
        "    \n",
        "    return np.array(accuracy)\n"
      ],
      "metadata": {
        "id": "_fh1K6NIpA2q"
      },
      "execution_count": null,
      "outputs": []
    },
    {
      "cell_type": "code",
      "source": [
        "print(\"10 fold validation for SVM \\n\")\n",
        "accuracies=ten_fold_cross_validation(svm,bag_of_words,data['Author'])\n",
        "print(accuracies)\n",
        "print(\"Bias and Variability for SVM model is\\n\")\n",
        "bias = 1-np.mean(accuracies)\n",
        "variability = np.std(accuracies)\n",
        "\n",
        "print(\"Bias: {:.3f}\".format(bias))\n",
        "print(\"Variability: {:.3f}\".format(variability))"
      ],
      "metadata": {
        "id": "Yv-ceDfrqDJj",
        "outputId": "0b84d2b5-f792-4d6f-869c-05df47f4b623",
        "colab": {
          "base_uri": "https://localhost:8080/"
        }
      },
      "execution_count": null,
      "outputs": [
        {
          "output_type": "stream",
          "name": "stdout",
          "text": [
            "10 fold validation for SVM \n",
            "\n",
            "[0.55 0.48 0.37 0.31 0.49 0.51 0.69 0.68 0.88 0.84]\n",
            "Bias and Variability for SVM model is\n",
            "\n",
            "Bias: 0.420\n",
            "Variability: 0.179\n"
          ]
        }
      ]
    },
    {
      "cell_type": "code",
      "source": [
        "print(\"10 fold validation for KNN \\n\")\n",
        "accuracies=ten_fold_cross_validation(knn,bag_of_words,data['Author'])\n",
        "print(accuracies)\n",
        "print(\"Bias and Variability for KNN model is\\n\")\n",
        "bias = 1-np.mean(accuracies)\n",
        "variability = np.std(accuracies)\n",
        "\n",
        "print(\"Bias: {:.3f}\".format(bias))\n",
        "print(\"Variability: {:.3f}\".format(variability))"
      ],
      "metadata": {
        "id": "5Gc1DCJDrni1",
        "outputId": "a9ce86d5-7635-43a5-b0c6-c50ad3ff0d71",
        "colab": {
          "base_uri": "https://localhost:8080/"
        }
      },
      "execution_count": null,
      "outputs": [
        {
          "output_type": "stream",
          "name": "stdout",
          "text": [
            "10 fold validation for KNN \n",
            "\n",
            "[0.26 0.25 0.16 0.11 0.51 0.47 0.55 0.65 0.57 0.55]\n",
            "Bias and Variability for KNN model is\n",
            "\n",
            "Bias: 0.592\n",
            "Variability: 0.183\n"
          ]
        }
      ]
    },
    {
      "cell_type": "code",
      "source": [
        "print(\"10 fold validation for Decision Tree \\n\")\n",
        "accuracies=ten_fold_cross_validation(dt,bag_of_words,data['Author'])\n",
        "print(accuracies)\n",
        "print(\"Bias and Variability for Decision Tree model is\\n\")\n",
        "bias = 1-np.mean(accuracies)\n",
        "variability = np.std(accuracies)\n",
        "\n",
        "print(\"Bias: {:.3f}\".format(bias))\n",
        "print(\"Variability: {:.3f}\".format(variability))"
      ],
      "metadata": {
        "id": "lVhf-WzHr3TF",
        "outputId": "7695ae48-9889-43f6-fec2-927ccc34c91c",
        "colab": {
          "base_uri": "https://localhost:8080/"
        }
      },
      "execution_count": null,
      "outputs": [
        {
          "output_type": "stream",
          "name": "stdout",
          "text": [
            "10 fold validation for Decision Tree \n",
            "\n",
            "[0.4  0.35 0.24 0.33 0.51 0.71 0.63 0.66 0.78 0.71]\n",
            "Bias and Variability for Decision Tree model is\n",
            "\n",
            "Bias: 0.468\n",
            "Variability: 0.181\n"
          ]
        }
      ]
    },
    {
      "cell_type": "code",
      "source": [
        "print(\"10 fold validation for XGB \\n\")\n",
        "accuracies=ten_fold_cross_validation(xgb_model,bag_of_words,data['Author'])\n",
        "print(accuracies)\n",
        "print(\"Bias and Variability for XGB model is\\n\")\n",
        "bias = 1-np.mean(accuracies)\n",
        "variability = np.std(accuracies)\n",
        "\n",
        "print(\"Bias: {:.3f}\".format(bias))\n",
        "print(\"Variability: {:.3f}\".format(variability))"
      ],
      "metadata": {
        "id": "LGXJbLxTr8PH",
        "outputId": "26a8c4d3-aaab-4b19-8a00-06aee3cec080",
        "colab": {
          "base_uri": "https://localhost:8080/"
        }
      },
      "execution_count": null,
      "outputs": [
        {
          "output_type": "stream",
          "name": "stdout",
          "text": [
            "10 fold validation for XGB \n",
            "\n",
            "[0.67 0.54 0.48 0.62 0.59 0.74 0.76 0.65 0.89 0.87]\n",
            "Bias and Variability for XGB model is\n",
            "\n",
            "Bias: 0.319\n",
            "Variability: 0.127\n"
          ]
        }
      ]
    },
    {
      "cell_type": "markdown",
      "source": [
        "# TF-IDF "
      ],
      "metadata": {
        "id": "p7nYog7L_-AM"
      }
    },
    {
      "cell_type": "code",
      "source": [
        "import pandas as pd\n",
        "import numpy as np\n",
        "from sklearn.feature_extraction.text import TfidfVectorizer\n",
        "from sklearn.model_selection import train_test_split\n",
        "from sklearn.neighbors import KNeighborsClassifier\n",
        "from sklearn.svm import SVC\n",
        "import xgboost as xgb\n",
        "from sklearn.metrics import accuracy_score\n",
        "import matplotlib.pyplot as plt\n",
        "\n",
        "# Read the csv file\n",
        "#df = pd.read_csv('book_partitions.csv')\n",
        "\n",
        "# Convert the text data into a tf-idf representation\n",
        "vectorizer = TfidfVectorizer()\n",
        "tfidf = vectorizer.fit_transform(data['Text'].values)\n",
        "\n",
        "# Split the data into training and testing sets\n",
        "X_train, X_test, y_train, y_test = train_test_split(tfidf, data['Author'], test_size=0.2, random_state=42)\n",
        "\n",
        "# K-NEAREST NEIGHBOUR \n",
        "# Train and evaluate the KNN model\n",
        "knn = KNeighborsClassifier()\n",
        "knn.fit(X_train, y_train)\n",
        "knn_pred = knn.predict(X_test)\n",
        "\n",
        "\n",
        "knn_accuracy = accuracy_score(y_test, knn_pred)\n",
        "knn_precision = precision_score(y_test, knn_pred,average='macro')\n",
        "knn_recall = recall_score(y_test, knn_pred,average='macro')\n",
        "knn_fscore = f1_score (y_test, knn_pred,average='macro')\n",
        "\n",
        "print('knn_accuracy with TF-IDF = ',knn_accuracy)\n",
        "print('knn_precision with TF-IDF = ',knn_precision)\n",
        "print('knn_recall with TF-IDF = ',knn_recall)\n",
        "print('knn_Fscore with TF-IDF = ',knn_fscore)\n",
        "print(\"----------------------------------------------------------------\")\n",
        "\n",
        "\n",
        "#DECISION TREE \n",
        "# Train and evaluate the Decision Tree model\n",
        "dt = DecisionTreeClassifier()\n",
        "dt.fit(X_train, y_train)\n",
        "dt_pred = dt.predict(X_test)\n",
        "\n",
        "\n",
        "\n",
        "dt_accuracy = accuracy_score(y_test, dt_pred)\n",
        "dt_precision = precision_score(y_test, dt_pred,average='macro')\n",
        "dt_recall = recall_score(y_test, dt_pred,average='macro')\n",
        "dt_fscore = f1_score (y_test, dt_pred,average='macro')\n",
        "\n",
        "print('dt_accuracy with TF-IDF  = ',dt_accuracy)\n",
        "print('dt_precision with TF-IDF = ',dt_precision)\n",
        "print('dt_recall with TF-IDF = ',dt_recall)\n",
        "print('dt_Fscore with TF-IDF = ',dt_fscore)\n",
        "print(\"----------------------------------------------------------------\")\n",
        "\n",
        "\n",
        "\n",
        "# Train and evaluate the SVM model\n",
        "svm = SVC()\n",
        "svm.fit(X_train, y_train)\n",
        "svm_pred = svm.predict(X_test)\n",
        "\n",
        "\n",
        "svm_accuracy = accuracy_score(y_test, svm_pred)\n",
        "svm_precision = precision_score(y_test, svm_pred,average='macro')\n",
        "svm_recall = recall_score(y_test, svm_pred,average='macro')\n",
        "svm_fscore = f1_score (y_test, svm_pred,average='macro')\n",
        "\n",
        "\n",
        "print('svm_accuracy with TF-IDF = ',svm_accuracy)\n",
        "print('svm_precision with TF-IDF = ',svm_precision)\n",
        "print('svm_recall with TF-IDF = ',svm_recall)\n",
        "print('svm_Fscore with TF-IDF = ',svm_fscore)\n",
        "print(\"----------------------------------------------------------------\")\n",
        "\n",
        "# Train and evaluate the XGBoost model\n",
        "xgb_model = xgb.XGBClassifier()\n",
        "xgb_model.fit(X_train, y_train)\n",
        "xgb_pred = xgb_model.predict(X_test)\n",
        "\n",
        "xgb_accuracy = accuracy_score(y_test, xgb_pred)\n",
        "xgb_precision = precision_score(y_test, xgb_pred,average='macro')\n",
        "xgb_recall = recall_score(y_test, xgb_pred,average='macro')\n",
        "xgb_fscore = f1_score (y_test, xgb_pred,average='macro')\n",
        "\n",
        "\n",
        "print('xgb_accuracy with TF-IDF = ',xgb_accuracy)\n",
        "print('xgb_precision with TF-IDF = ',xgb_precision)\n",
        "print('xgb_recall with TF-IDF = ',xgb_recall)\n",
        "print('xgb_Fscore with TF-IDF = ',xgb_fscore)\n",
        "print(\"----------------------------------------------------------------\")\n",
        "#++++++++++++++++++++++++++++++++++++++++++++++++\n",
        "\n",
        "\n",
        "# Plot the accuracy comparison of the models\n",
        "models = ['KNN', 'SVM','DT', 'XGBoost']\n",
        "accuracies = [knn_accuracy, svm_accuracy,dt_accuracy, xgb_accuracy]\n",
        "plt.bar(models, accuracies)\n",
        "plt.xlabel('Models')\n",
        "plt.ylabel('Accuracy')\n",
        "plt.title('Accuracy comparison of models')\n",
        "plt.show()\n",
        "\n",
        "# Plot the Precision comparison of the models\n",
        "models = ['KNN', 'SVM','DT', 'XGBoost']\n",
        "precisions = [knn_precision, svm_precision,dt_precision, xgb_precision]\n",
        "plt.bar(models, precisions)\n",
        "plt.xlabel('Models')\n",
        "plt.ylabel('precision')\n",
        "plt.title('Precision comparison of models')\n",
        "plt.show()\n",
        "\n",
        "# Plot the Recall comparison of the models\n",
        "models = ['KNN', 'SVM','DT', 'XGBoost']\n",
        "recalls = [knn_recall, svm_recall,dt_recall, xgb_recall]\n",
        "plt.bar(models, recalls)\n",
        "plt.xlabel('Models')\n",
        "plt.ylabel('Recall')\n",
        "plt.title('Recall comparison of models')\n",
        "plt.show()\n",
        "\n",
        "# Plot the Fscore comparison of the models\n",
        "models = ['KNN', 'SVM','DT', 'XGBoost']\n",
        "fscores = [knn_fscore, svm_fscore,dt_fscore, xgb_fscore]\n",
        "plt.bar(models, fscores)\n",
        "plt.xlabel('Models')\n",
        "plt.ylabel('Fscore')\n",
        "plt.title('Fscore comparison of models')\n",
        "plt.show()"
      ],
      "metadata": {
        "id": "yx6wf56gAETF",
        "outputId": "051916d0-3526-42c8-de7e-39642e85686e",
        "colab": {
          "base_uri": "https://localhost:8080/",
          "height": 1000
        }
      },
      "execution_count": null,
      "outputs": [
        {
          "output_type": "stream",
          "name": "stdout",
          "text": [
            "knn_accuracy with TF-IDF =  0.805\n",
            "knn_precision with TF-IDF =  0.8317027417027416\n",
            "knn_recall with TF-IDF =  0.7990150437518858\n",
            "knn_Fscore with TF-IDF =  0.7961150323747301\n",
            "----------------------------------------------------------------\n",
            "dt_accuracy with TF-IDF  =  0.625\n",
            "dt_precision with TF-IDF =  0.6236083571838131\n",
            "dt_recall with TF-IDF =  0.6116475925686452\n",
            "dt_Fscore with TF-IDF =  0.6130154870334333\n",
            "----------------------------------------------------------------\n",
            "svm_accuracy with TF-IDF =  0.935\n",
            "svm_precision with TF-IDF =  0.9354978354978355\n",
            "svm_recall with TF-IDF =  0.9397102245786456\n",
            "svm_Fscore with TF-IDF =  0.9344676137190323\n",
            "----------------------------------------------------------------\n",
            "xgb_accuracy with TF-IDF =  0.82\n",
            "xgb_precision with TF-IDF =  0.8237740934211523\n",
            "xgb_recall with TF-IDF =  0.8163633130738394\n",
            "xgb_Fscore with TF-IDF =  0.8188088737236526\n",
            "----------------------------------------------------------------\n"
          ]
        },
        {
          "output_type": "display_data",
          "data": {
            "text/plain": [
              "<Figure size 432x288 with 1 Axes>"
            ],
            "image/png": "[encoded data removed]"
          },
          "metadata": {
            "needs_background": "light"
          }
        },
        {
          "output_type": "display_data",
          "data": {
            "text/plain": [
              "<Figure size 432x288 with 1 Axes>"
            ],
            "image/png": "[encoded data removed]"
          },
          "metadata": {
            "needs_background": "light"
          }
        },
        {
          "output_type": "display_data",
          "data": {
            "text/plain": [
              "<Figure size 432x288 with 1 Axes>"
            ],
            "image/png": "[encoded data removed]"
          },
          "metadata": {
            "needs_background": "light"
          }
        },
        {
          "output_type": "display_data",
          "data": {
            "text/plain": [
              "<Figure size 432x288 with 1 Axes>"
            ],
            "image/png": "[encoded data removed]"
          },
          "metadata": {
            "needs_background": "light"
          }
        }
      ]
    },
    {
      "cell_type": "markdown",
      "source": [
        "#CONFUSION MATRIX AND ERROR ANALYSIS FOR TF-IDF"
      ],
      "metadata": {
        "id": "_ZOl_Yz7XOoS"
      }
    },
    {
      "cell_type": "code",
      "source": [
        "import pandas as pd\n",
        "from sklearn.metrics import confusion_matrix"
      ],
      "metadata": {
        "id": "zPqn7RgYCw90"
      },
      "execution_count": null,
      "outputs": []
    },
    {
      "cell_type": "markdown",
      "source": [
        "# SVM ERROR ANALYSIS AND CONFUSION MATRIX"
      ],
      "metadata": {
        "id": "zJTHqpfrXafm"
      }
    },
    {
      "cell_type": "code",
      "source": [
        "temp=[]\n",
        "for i in y_test.index:\n",
        "  temp.append(data['Text'].iloc[i])\n",
        "df=pd.DataFrame(temp,columns=['Text'])\n",
        "svm_pred = svm.predict(X_test)\n",
        "df['actual_data']=y_test.to_numpy()\n",
        "df['predicted_data']=svm_pred\n",
        "df"
      ],
      "metadata": {
        "id": "THLaZixJCxzh",
        "outputId": "29f9015e-9342-451a-ad20-6922f5588386",
        "colab": {
          "base_uri": "https://localhost:8080/",
          "height": 423
        }
      },
      "execution_count": null,
      "outputs": [
        {
          "output_type": "execute_result",
          "data": {
            "text/plain": [
              "                                                  Text       actual_data  \\\n",
              "0     he said in a dangerous voice   that I am seri...  G. K. Chesterton   \n",
              "1    or Mr Knightley particularly delighted  They w...       Jane Austen   \n",
              "2    in his face   I do not know which it ought to ...       Jane Austen   \n",
              "3    journey    Yes  upon my word  very considerabl...       Jane Austen   \n",
              "4    would be a new emotion to get a knife into a F...  G. K. Chesterton   \n",
              "..                                                 ...               ...   \n",
              "195  forts of sand were even as weak as eve  High a...  G. K. Chesterton   \n",
              "196   Lucy  But let the old man  then  come in here...             Maria   \n",
              "197  from us so long  Patty  2nd Peasant   Please y...             Maria   \n",
              "198  horse  Seats tolerably in the shade were found...       Jane Austen   \n",
              "199  Goney that another homewardbound whaleman  the...   Herman Melville   \n",
              "\n",
              "       predicted_data  \n",
              "0    G. K. Chesterton  \n",
              "1         Jane Austen  \n",
              "2         Jane Austen  \n",
              "3         Jane Austen  \n",
              "4    G. K. Chesterton  \n",
              "..                ...  \n",
              "195  G. K. Chesterton  \n",
              "196             Maria  \n",
              "197             Maria  \n",
              "198       Jane Austen  \n",
              "199   Herman Melville  \n",
              "\n",
              "[200 rows x 3 columns]"
            ],
            "text/html": [
              "\n",
              "  <div id=\"df-84b6c85a-3971-4f1c-9c51-acfe9b25f688\">\n",
              "    <div class=\"colab-df-container\">\n",
              "      <div>\n",
              "<style scoped>\n",
              "    .dataframe tbody tr th:only-of-type {\n",
              "        vertical-align: middle;\n",
              "    }\n",
              "\n",
              "    .dataframe tbody tr th {\n",
              "        vertical-align: top;\n",
              "    }\n",
              "\n",
              "    .dataframe thead th {\n",
              "        text-align: right;\n",
              "    }\n",
              "</style>\n",
              "<table border=\"1\" class=\"dataframe\">\n",
              "  <thead>\n",
              "    <tr style=\"text-align: right;\">\n",
              "      <th></th>\n",
              "      <th>Text</th>\n",
              "      <th>actual_data</th>\n",
              "      <th>predicted_data</th>\n",
              "    </tr>\n",
              "  </thead>\n",
              "  <tbody>\n",
              "    <tr>\n",
              "      <th>0</th>\n",
              "      <td>he said in a dangerous voice   that I am seri...</td>\n",
              "      <td>G. K. Chesterton</td>\n",
              "      <td>G. K. Chesterton</td>\n",
              "    </tr>\n",
              "    <tr>\n",
              "      <th>1</th>\n",
              "      <td>or Mr Knightley particularly delighted  They w...</td>\n",
              "      <td>Jane Austen</td>\n",
              "      <td>Jane Austen</td>\n",
              "    </tr>\n",
              "    <tr>\n",
              "      <th>2</th>\n",
              "      <td>in his face   I do not know which it ought to ...</td>\n",
              "      <td>Jane Austen</td>\n",
              "      <td>Jane Austen</td>\n",
              "    </tr>\n",
              "    <tr>\n",
              "      <th>3</th>\n",
              "      <td>journey    Yes  upon my word  very considerabl...</td>\n",
              "      <td>Jane Austen</td>\n",
              "      <td>Jane Austen</td>\n",
              "    </tr>\n",
              "    <tr>\n",
              "      <th>4</th>\n",
              "      <td>would be a new emotion to get a knife into a F...</td>\n",
              "      <td>G. K. Chesterton</td>\n",
              "      <td>G. K. Chesterton</td>\n",
              "    </tr>\n",
              "    <tr>\n",
              "      <th>...</th>\n",
              "      <td>...</td>\n",
              "      <td>...</td>\n",
              "      <td>...</td>\n",
              "    </tr>\n",
              "    <tr>\n",
              "      <th>195</th>\n",
              "      <td>forts of sand were even as weak as eve  High a...</td>\n",
              "      <td>G. K. Chesterton</td>\n",
              "      <td>G. K. Chesterton</td>\n",
              "    </tr>\n",
              "    <tr>\n",
              "      <th>196</th>\n",
              "      <td>Lucy  But let the old man  then  come in here...</td>\n",
              "      <td>Maria</td>\n",
              "      <td>Maria</td>\n",
              "    </tr>\n",
              "    <tr>\n",
              "      <th>197</th>\n",
              "      <td>from us so long  Patty  2nd Peasant   Please y...</td>\n",
              "      <td>Maria</td>\n",
              "      <td>Maria</td>\n",
              "    </tr>\n",
              "    <tr>\n",
              "      <th>198</th>\n",
              "      <td>horse  Seats tolerably in the shade were found...</td>\n",
              "      <td>Jane Austen</td>\n",
              "      <td>Jane Austen</td>\n",
              "    </tr>\n",
              "    <tr>\n",
              "      <th>199</th>\n",
              "      <td>Goney that another homewardbound whaleman  the...</td>\n",
              "      <td>Herman Melville</td>\n",
              "      <td>Herman Melville</td>\n",
              "    </tr>\n",
              "  </tbody>\n",
              "</table>\n",
              "<p>200 rows × 3 columns</p>\n",
              "</div>\n",
              "      <button class=\"colab-df-convert\" onclick=\"convertToInteractive('df-84b6c85a-3971-4f1c-9c51-acfe9b25f688')\"\n",
              "              title=\"Convert this dataframe to an interactive table.\"\n",
              "              style=\"display:none;\">\n",
              "        \n",
              "  <svg xmlns=\"http://www.w3.org/2000/svg\" height=\"24px\"viewBox=\"0 0 24 24\"\n",
              "       width=\"24px\">\n",
              "    <path d=\"M0 0h24v24H0V0z\" fill=\"none\"/>\n",
              "    <path d=\"M18.56 5.44l.94 2.06.94-2.06 2.06-.94-2.06-.94-.94-2.06-.94 2.06-2.06.94zm-11 1L8.5 8.5l.94-2.06 2.06-.94-2.06-.94L8.5 2.5l-.94 2.06-2.06.94zm10 10l.94 2.06.94-2.06 2.06-.94-2.06-.94-.94-2.06-.94 2.06-2.06.94z\"/><path d=\"M17.41 7.96l-1.37-1.37c-.4-.4-.92-.59-1.43-.59-.52 0-1.04.2-1.43.59L10.3 9.45l-7.72 7.72c-.78.78-.78 2.05 0 2.83L4 21.41c.39.39.9.59 1.41.59.51 0 1.02-.2 1.41-.59l7.78-7.78 2.81-2.81c.8-.78.8-2.07 0-2.86zM5.41 20L4 18.59l7.72-7.72 1.47 1.35L5.41 20z\"/>\n",
              "  </svg>\n",
              "      </button>\n",
              "      \n",
              "  <style>\n",
              "    .colab-df-container {\n",
              "      display:flex;\n",
              "      flex-wrap:wrap;\n",
              "      gap: 12px;\n",
              "    }\n",
              "\n",
              "    .colab-df-convert {\n",
              "      background-color: #E8F0FE;\n",
              "      border: none;\n",
              "      border-radius: 50%;\n",
              "      cursor: pointer;\n",
              "      display: none;\n",
              "      fill: #1967D2;\n",
              "      height: 32px;\n",
              "      padding: 0 0 0 0;\n",
              "      width: 32px;\n",
              "    }\n",
              "\n",
              "    .colab-df-convert:hover {\n",
              "      background-color: #E2EBFA;\n",
              "      box-shadow: 0px 1px 2px rgba(60, 64, 67, 0.3), 0px 1px 3px 1px rgba(60, 64, 67, 0.15);\n",
              "      fill: #174EA6;\n",
              "    }\n",
              "\n",
              "    [theme=dark] .colab-df-convert {\n",
              "      background-color: #3B4455;\n",
              "      fill: #D2E3FC;\n",
              "    }\n",
              "\n",
              "    [theme=dark] .colab-df-convert:hover {\n",
              "      background-color: #434B5C;\n",
              "      box-shadow: 0px 1px 3px 1px rgba(0, 0, 0, 0.15);\n",
              "      filter: drop-shadow(0px 1px 2px rgba(0, 0, 0, 0.3));\n",
              "      fill: #FFFFFF;\n",
              "    }\n",
              "  </style>\n",
              "\n",
              "      <script>\n",
              "        const buttonEl =\n",
              "          document.querySelector('#df-84b6c85a-3971-4f1c-9c51-acfe9b25f688 button.colab-df-convert');\n",
              "        buttonEl.style.display =\n",
              "          google.colab.kernel.accessAllowed ? 'block' : 'none';\n",
              "\n",
              "        async function convertToInteractive(key) {\n",
              "          const element = document.querySelector('#df-84b6c85a-3971-4f1c-9c51-acfe9b25f688');\n",
              "          const dataTable =\n",
              "            await google.colab.kernel.invokeFunction('convertToInteractive',\n",
              "                                                     [key], {});\n",
              "          if (!dataTable) return;\n",
              "\n",
              "          const docLinkHtml = 'Like what you see? Visit the ' +\n",
              "            '<a target=\"_blank\" href=https://colab.research.google.com/notebooks/data_table.ipynb>data table notebook</a>'\n",
              "            + ' to learn more about interactive tables.';\n",
              "          element.innerHTML = '';\n",
              "          dataTable['output_type'] = 'display_data';\n",
              "          await google.colab.output.renderOutput(dataTable, element);\n",
              "          const docLink = document.createElement('div');\n",
              "          docLink.innerHTML = docLinkHtml;\n",
              "          element.appendChild(docLink);\n",
              "        }\n",
              "      </script>\n",
              "    </div>\n",
              "  </div>\n",
              "  "
            ]
          },
          "metadata": {},
          "execution_count": 28
        }
      ]
    },
    {
      "cell_type": "code",
      "source": [
        "df['Count']=df['predicted_data'] == df['actual_data']\n",
        "count=0\n",
        "for i in df['Count']:\n",
        "  if i ==True:\n",
        "    count=count+1\n",
        "df.drop(labels=['Count'],axis=1,inplace=True)\n",
        "print(\"The number of wrong predictions made by the SVM model with TF-IDF are:\",200-count)\n",
        "\n",
        "conf_matrix = confusion_matrix(y_test.to_numpy(), svm_pred)\n",
        "conf_matrix_df = pd.DataFrame(conf_matrix, index=['Herman', 'Maria','Chesterton','Jane','Milton'], columns=['Herman', 'Maria','Chesterton','Jane','Milton'])\n",
        "print('\\nThe confusion matrix for the SVM model is \\n\\n',conf_matrix_df)\n",
        "print(\"--------------------------------------------------------------------------------------------\")"
      ],
      "metadata": {
        "id": "HsA6PbcZAK1H",
        "outputId": "9c058b92-b686-4cff-f8f8-2403a94864ac",
        "colab": {
          "base_uri": "https://localhost:8080/"
        }
      },
      "execution_count": null,
      "outputs": [
        {
          "output_type": "stream",
          "name": "stdout",
          "text": [
            "The number of wrong predictions made by the SVM model with TF-IDF are: 13\n",
            "\n",
            "The confusion matrix for the SVM model is \n",
            "\n",
            "             Herman  Maria  Chesterton  Jane  Milton\n",
            "Herman          36      1           0     0       0\n",
            "Maria            2     31           0     0       0\n",
            "Chesterton       1      0          37     0       0\n",
            "Jane             0      0           0    44       0\n",
            "Milton           3      1           5     0      39\n",
            "--------------------------------------------------------------------------------------------\n"
          ]
        }
      ]
    },
    {
      "cell_type": "code",
      "source": [
        "sns.heatmap(conf_matrix_df, annot=True, fmt='d')\n",
        "plt.title(\"Confusion Matrix for SVM Model\")\n",
        "plt.xlabel(\"Predicted Label\")\n",
        "plt.ylabel(\"True Label\")\n",
        "plt.show()"
      ],
      "metadata": {
        "id": "NPmKSdXI6b3-",
        "outputId": "489d296c-ca2a-4289-f2dc-a8a7b9339897",
        "colab": {
          "base_uri": "https://localhost:8080/",
          "height": 295
        }
      },
      "execution_count": null,
      "outputs": [
        {
          "output_type": "display_data",
          "data": {
            "text/plain": [
              "<Figure size 432x288 with 2 Axes>"
            ],
            "image/png": "[encoded data removed]"
          },
          "metadata": {
            "needs_background": "light"
          }
        }
      ]
    },
    {
      "cell_type": "markdown",
      "source": [
        "# KNN ERROR AND CONFUSION MATRIX"
      ],
      "metadata": {
        "id": "32OTYvBQXtM2"
      }
    },
    {
      "cell_type": "code",
      "source": [
        "temp=[]\n",
        "for i in y_test.index:\n",
        "  temp.append(data['Text'].iloc[i])\n",
        "df=pd.DataFrame(temp,columns=['Text'])\n",
        "knn_pred = knn.predict(X_test)\n",
        "df['actual_data']=y_test.to_numpy()\n",
        "df['predicted_data']=knn_pred\n",
        "df"
      ],
      "metadata": {
        "id": "rZUWnrCkXvpQ",
        "outputId": "5f890de5-f36d-4cb6-82e9-1b17bd43832d",
        "colab": {
          "base_uri": "https://localhost:8080/",
          "height": 423
        }
      },
      "execution_count": null,
      "outputs": [
        {
          "output_type": "execute_result",
          "data": {
            "text/plain": [
              "                                                  Text       actual_data  \\\n",
              "0     he said in a dangerous voice   that I am seri...  G. K. Chesterton   \n",
              "1    or Mr Knightley particularly delighted  They w...       Jane Austen   \n",
              "2    in his face   I do not know which it ought to ...       Jane Austen   \n",
              "3    journey    Yes  upon my word  very considerabl...       Jane Austen   \n",
              "4    would be a new emotion to get a knife into a F...  G. K. Chesterton   \n",
              "..                                                 ...               ...   \n",
              "195  forts of sand were even as weak as eve  High a...  G. K. Chesterton   \n",
              "196   Lucy  But let the old man  then  come in here...             Maria   \n",
              "197  from us so long  Patty  2nd Peasant   Please y...             Maria   \n",
              "198  horse  Seats tolerably in the shade were found...       Jane Austen   \n",
              "199  Goney that another homewardbound whaleman  the...   Herman Melville   \n",
              "\n",
              "       predicted_data  \n",
              "0    G. K. Chesterton  \n",
              "1         Jane Austen  \n",
              "2         Jane Austen  \n",
              "3         Jane Austen  \n",
              "4    G. K. Chesterton  \n",
              "..                ...  \n",
              "195  G. K. Chesterton  \n",
              "196             Maria  \n",
              "197             Maria  \n",
              "198       Jane Austen  \n",
              "199   Herman Melville  \n",
              "\n",
              "[200 rows x 3 columns]"
            ],
            "text/html": [
              "\n",
              "  <div id=\"df-d927c214-7ae2-4c2b-a204-656c187ae002\">\n",
              "    <div class=\"colab-df-container\">\n",
              "      <div>\n",
              "<style scoped>\n",
              "    .dataframe tbody tr th:only-of-type {\n",
              "        vertical-align: middle;\n",
              "    }\n",
              "\n",
              "    .dataframe tbody tr th {\n",
              "        vertical-align: top;\n",
              "    }\n",
              "\n",
              "    .dataframe thead th {\n",
              "        text-align: right;\n",
              "    }\n",
              "</style>\n",
              "<table border=\"1\" class=\"dataframe\">\n",
              "  <thead>\n",
              "    <tr style=\"text-align: right;\">\n",
              "      <th></th>\n",
              "      <th>Text</th>\n",
              "      <th>actual_data</th>\n",
              "      <th>predicted_data</th>\n",
              "    </tr>\n",
              "  </thead>\n",
              "  <tbody>\n",
              "    <tr>\n",
              "      <th>0</th>\n",
              "      <td>he said in a dangerous voice   that I am seri...</td>\n",
              "      <td>G. K. Chesterton</td>\n",
              "      <td>G. K. Chesterton</td>\n",
              "    </tr>\n",
              "    <tr>\n",
              "      <th>1</th>\n",
              "      <td>or Mr Knightley particularly delighted  They w...</td>\n",
              "      <td>Jane Austen</td>\n",
              "      <td>Jane Austen</td>\n",
              "    </tr>\n",
              "    <tr>\n",
              "      <th>2</th>\n",
              "      <td>in his face   I do not know which it ought to ...</td>\n",
              "      <td>Jane Austen</td>\n",
              "      <td>Jane Austen</td>\n",
              "    </tr>\n",
              "    <tr>\n",
              "      <th>3</th>\n",
              "      <td>journey    Yes  upon my word  very considerabl...</td>\n",
              "      <td>Jane Austen</td>\n",
              "      <td>Jane Austen</td>\n",
              "    </tr>\n",
              "    <tr>\n",
              "      <th>4</th>\n",
              "      <td>would be a new emotion to get a knife into a F...</td>\n",
              "      <td>G. K. Chesterton</td>\n",
              "      <td>G. K. Chesterton</td>\n",
              "    </tr>\n",
              "    <tr>\n",
              "      <th>...</th>\n",
              "      <td>...</td>\n",
              "      <td>...</td>\n",
              "      <td>...</td>\n",
              "    </tr>\n",
              "    <tr>\n",
              "      <th>195</th>\n",
              "      <td>forts of sand were even as weak as eve  High a...</td>\n",
              "      <td>G. K. Chesterton</td>\n",
              "      <td>G. K. Chesterton</td>\n",
              "    </tr>\n",
              "    <tr>\n",
              "      <th>196</th>\n",
              "      <td>Lucy  But let the old man  then  come in here...</td>\n",
              "      <td>Maria</td>\n",
              "      <td>Maria</td>\n",
              "    </tr>\n",
              "    <tr>\n",
              "      <th>197</th>\n",
              "      <td>from us so long  Patty  2nd Peasant   Please y...</td>\n",
              "      <td>Maria</td>\n",
              "      <td>Maria</td>\n",
              "    </tr>\n",
              "    <tr>\n",
              "      <th>198</th>\n",
              "      <td>horse  Seats tolerably in the shade were found...</td>\n",
              "      <td>Jane Austen</td>\n",
              "      <td>Jane Austen</td>\n",
              "    </tr>\n",
              "    <tr>\n",
              "      <th>199</th>\n",
              "      <td>Goney that another homewardbound whaleman  the...</td>\n",
              "      <td>Herman Melville</td>\n",
              "      <td>Herman Melville</td>\n",
              "    </tr>\n",
              "  </tbody>\n",
              "</table>\n",
              "<p>200 rows × 3 columns</p>\n",
              "</div>\n",
              "      <button class=\"colab-df-convert\" onclick=\"convertToInteractive('df-d927c214-7ae2-4c2b-a204-656c187ae002')\"\n",
              "              title=\"Convert this dataframe to an interactive table.\"\n",
              "              style=\"display:none;\">\n",
              "        \n",
              "  <svg xmlns=\"http://www.w3.org/2000/svg\" height=\"24px\"viewBox=\"0 0 24 24\"\n",
              "       width=\"24px\">\n",
              "    <path d=\"M0 0h24v24H0V0z\" fill=\"none\"/>\n",
              "    <path d=\"M18.56 5.44l.94 2.06.94-2.06 2.06-.94-2.06-.94-.94-2.06-.94 2.06-2.06.94zm-11 1L8.5 8.5l.94-2.06 2.06-.94-2.06-.94L8.5 2.5l-.94 2.06-2.06.94zm10 10l.94 2.06.94-2.06 2.06-.94-2.06-.94-.94-2.06-.94 2.06-2.06.94z\"/><path d=\"M17.41 7.96l-1.37-1.37c-.4-.4-.92-.59-1.43-.59-.52 0-1.04.2-1.43.59L10.3 9.45l-7.72 7.72c-.78.78-.78 2.05 0 2.83L4 21.41c.39.39.9.59 1.41.59.51 0 1.02-.2 1.41-.59l7.78-7.78 2.81-2.81c.8-.78.8-2.07 0-2.86zM5.41 20L4 18.59l7.72-7.72 1.47 1.35L5.41 20z\"/>\n",
              "  </svg>\n",
              "      </button>\n",
              "      \n",
              "  <style>\n",
              "    .colab-df-container {\n",
              "      display:flex;\n",
              "      flex-wrap:wrap;\n",
              "      gap: 12px;\n",
              "    }\n",
              "\n",
              "    .colab-df-convert {\n",
              "      background-color: #E8F0FE;\n",
              "      border: none;\n",
              "      border-radius: 50%;\n",
              "      cursor: pointer;\n",
              "      display: none;\n",
              "      fill: #1967D2;\n",
              "      height: 32px;\n",
              "      padding: 0 0 0 0;\n",
              "      width: 32px;\n",
              "    }\n",
              "\n",
              "    .colab-df-convert:hover {\n",
              "      background-color: #E2EBFA;\n",
              "      box-shadow: 0px 1px 2px rgba(60, 64, 67, 0.3), 0px 1px 3px 1px rgba(60, 64, 67, 0.15);\n",
              "      fill: #174EA6;\n",
              "    }\n",
              "\n",
              "    [theme=dark] .colab-df-convert {\n",
              "      background-color: #3B4455;\n",
              "      fill: #D2E3FC;\n",
              "    }\n",
              "\n",
              "    [theme=dark] .colab-df-convert:hover {\n",
              "      background-color: #434B5C;\n",
              "      box-shadow: 0px 1px 3px 1px rgba(0, 0, 0, 0.15);\n",
              "      filter: drop-shadow(0px 1px 2px rgba(0, 0, 0, 0.3));\n",
              "      fill: #FFFFFF;\n",
              "    }\n",
              "  </style>\n",
              "\n",
              "      <script>\n",
              "        const buttonEl =\n",
              "          document.querySelector('#df-d927c214-7ae2-4c2b-a204-656c187ae002 button.colab-df-convert');\n",
              "        buttonEl.style.display =\n",
              "          google.colab.kernel.accessAllowed ? 'block' : 'none';\n",
              "\n",
              "        async function convertToInteractive(key) {\n",
              "          const element = document.querySelector('#df-d927c214-7ae2-4c2b-a204-656c187ae002');\n",
              "          const dataTable =\n",
              "            await google.colab.kernel.invokeFunction('convertToInteractive',\n",
              "                                                     [key], {});\n",
              "          if (!dataTable) return;\n",
              "\n",
              "          const docLinkHtml = 'Like what you see? Visit the ' +\n",
              "            '<a target=\"_blank\" href=https://colab.research.google.com/notebooks/data_table.ipynb>data table notebook</a>'\n",
              "            + ' to learn more about interactive tables.';\n",
              "          element.innerHTML = '';\n",
              "          dataTable['output_type'] = 'display_data';\n",
              "          await google.colab.output.renderOutput(dataTable, element);\n",
              "          const docLink = document.createElement('div');\n",
              "          docLink.innerHTML = docLinkHtml;\n",
              "          element.appendChild(docLink);\n",
              "        }\n",
              "      </script>\n",
              "    </div>\n",
              "  </div>\n",
              "  "
            ]
          },
          "metadata": {},
          "execution_count": 31
        }
      ]
    },
    {
      "cell_type": "code",
      "source": [
        "df['Count']=df['predicted_data'] == df['actual_data']\n",
        "count=0\n",
        "for i in df['Count']:\n",
        "  if i ==True:\n",
        "    count=count+1\n",
        "df.drop(labels=['Count'],axis=1,inplace=True)\n",
        "print(\"The number of wrong predictions made by the KNN model with TF-IDF are:\",200-count)\n",
        "\n",
        "conf_matrix = confusion_matrix(y_test.to_numpy(), knn_pred)\n",
        "conf_matrix_df = pd.DataFrame(conf_matrix, index=['Herman', 'Maria','Chesterton','Jane','Milton'], columns=['Herman', 'Maria','Chesterton','Jane','Milton'])\n",
        "print('\\nThe confusion matrix for the KNN model is \\n\\n',conf_matrix_df)\n",
        "print(\"--------------------------------------------------------------------------------------------\")\n"
      ],
      "metadata": {
        "id": "DWUSNdJSXyrb",
        "outputId": "b6be1df3-c18b-4c65-eedd-6523795f224b",
        "colab": {
          "base_uri": "https://localhost:8080/"
        }
      },
      "execution_count": null,
      "outputs": [
        {
          "output_type": "stream",
          "name": "stdout",
          "text": [
            "The number of wrong predictions made by the KNN model with TF-IDF are: 39\n",
            "\n",
            "The confusion matrix for the KNN model is \n",
            "\n",
            "             Herman  Maria  Chesterton  Jane  Milton\n",
            "Herman          34      0           1     0       2\n",
            "Maria            4     17           5     2       5\n",
            "Chesterton       0      0          36     0       2\n",
            "Jane             2      1           3    38       0\n",
            "Milton           2      0          10     0      36\n",
            "--------------------------------------------------------------------------------------------\n"
          ]
        }
      ]
    },
    {
      "cell_type": "code",
      "source": [
        "sns.heatmap(conf_matrix_df, annot=True, fmt='d')\n",
        "plt.title(\"Confusion Matrix for KNN Model\")\n",
        "plt.xlabel(\"Predicted Label\")\n",
        "plt.ylabel(\"True Label\")\n",
        "plt.show()"
      ],
      "metadata": {
        "id": "5-nXxHX960pk",
        "outputId": "5dab3de2-62ae-4b22-b10f-d2a51b15fac7",
        "colab": {
          "base_uri": "https://localhost:8080/",
          "height": 295
        }
      },
      "execution_count": null,
      "outputs": [
        {
          "output_type": "display_data",
          "data": {
            "text/plain": [
              "<Figure size 432x288 with 2 Axes>"
            ],
            "image/png": "[encoded data removed]"
          },
          "metadata": {
            "needs_background": "light"
          }
        }
      ]
    },
    {
      "cell_type": "markdown",
      "source": [
        "#Decision Tree ERROR AND CONFUSION MATRIX"
      ],
      "metadata": {
        "id": "Z9_8RD-jX3UX"
      }
    },
    {
      "cell_type": "code",
      "source": [
        "temp=[]\n",
        "for i in y_test.index:\n",
        "  temp.append(data['Text'].iloc[i])\n",
        "df=pd.DataFrame(temp,columns=['Text'])\n",
        "dt_pred = dt.predict(X_test)\n",
        "df['actual_data']=y_test.to_numpy()\n",
        "df['predicted_data']=dt_pred\n",
        "df"
      ],
      "metadata": {
        "id": "ihlu8T-jX7_c",
        "outputId": "7ce275fa-0471-443c-cd03-df906a855e21",
        "colab": {
          "base_uri": "https://localhost:8080/",
          "height": 423
        }
      },
      "execution_count": null,
      "outputs": [
        {
          "output_type": "execute_result",
          "data": {
            "text/plain": [
              "                                                  Text       actual_data  \\\n",
              "0     he said in a dangerous voice   that I am seri...  G. K. Chesterton   \n",
              "1    or Mr Knightley particularly delighted  They w...       Jane Austen   \n",
              "2    in his face   I do not know which it ought to ...       Jane Austen   \n",
              "3    journey    Yes  upon my word  very considerabl...       Jane Austen   \n",
              "4    would be a new emotion to get a knife into a F...  G. K. Chesterton   \n",
              "..                                                 ...               ...   \n",
              "195  forts of sand were even as weak as eve  High a...  G. K. Chesterton   \n",
              "196   Lucy  But let the old man  then  come in here...             Maria   \n",
              "197  from us so long  Patty  2nd Peasant   Please y...             Maria   \n",
              "198  horse  Seats tolerably in the shade were found...       Jane Austen   \n",
              "199  Goney that another homewardbound whaleman  the...   Herman Melville   \n",
              "\n",
              "       predicted_data  \n",
              "0    G. K. Chesterton  \n",
              "1         Jane Austen  \n",
              "2         Jane Austen  \n",
              "3               Maria  \n",
              "4     Herman Melville  \n",
              "..                ...  \n",
              "195       John Milton  \n",
              "196             Maria  \n",
              "197       Jane Austen  \n",
              "198       Jane Austen  \n",
              "199   Herman Melville  \n",
              "\n",
              "[200 rows x 3 columns]"
            ],
            "text/html": [
              "\n",
              "  <div id=\"df-0a7ac98e-4eb4-4e5e-a1d4-e8eb56a7ea44\">\n",
              "    <div class=\"colab-df-container\">\n",
              "      <div>\n",
              "<style scoped>\n",
              "    .dataframe tbody tr th:only-of-type {\n",
              "        vertical-align: middle;\n",
              "    }\n",
              "\n",
              "    .dataframe tbody tr th {\n",
              "        vertical-align: top;\n",
              "    }\n",
              "\n",
              "    .dataframe thead th {\n",
              "        text-align: right;\n",
              "    }\n",
              "</style>\n",
              "<table border=\"1\" class=\"dataframe\">\n",
              "  <thead>\n",
              "    <tr style=\"text-align: right;\">\n",
              "      <th></th>\n",
              "      <th>Text</th>\n",
              "      <th>actual_data</th>\n",
              "      <th>predicted_data</th>\n",
              "    </tr>\n",
              "  </thead>\n",
              "  <tbody>\n",
              "    <tr>\n",
              "      <th>0</th>\n",
              "      <td>he said in a dangerous voice   that I am seri...</td>\n",
              "      <td>G. K. Chesterton</td>\n",
              "      <td>G. K. Chesterton</td>\n",
              "    </tr>\n",
              "    <tr>\n",
              "      <th>1</th>\n",
              "      <td>or Mr Knightley particularly delighted  They w...</td>\n",
              "      <td>Jane Austen</td>\n",
              "      <td>Jane Austen</td>\n",
              "    </tr>\n",
              "    <tr>\n",
              "      <th>2</th>\n",
              "      <td>in his face   I do not know which it ought to ...</td>\n",
              "      <td>Jane Austen</td>\n",
              "      <td>Jane Austen</td>\n",
              "    </tr>\n",
              "    <tr>\n",
              "      <th>3</th>\n",
              "      <td>journey    Yes  upon my word  very considerabl...</td>\n",
              "      <td>Jane Austen</td>\n",
              "      <td>Maria</td>\n",
              "    </tr>\n",
              "    <tr>\n",
              "      <th>4</th>\n",
              "      <td>would be a new emotion to get a knife into a F...</td>\n",
              "      <td>G. K. Chesterton</td>\n",
              "      <td>Herman Melville</td>\n",
              "    </tr>\n",
              "    <tr>\n",
              "      <th>...</th>\n",
              "      <td>...</td>\n",
              "      <td>...</td>\n",
              "      <td>...</td>\n",
              "    </tr>\n",
              "    <tr>\n",
              "      <th>195</th>\n",
              "      <td>forts of sand were even as weak as eve  High a...</td>\n",
              "      <td>G. K. Chesterton</td>\n",
              "      <td>John Milton</td>\n",
              "    </tr>\n",
              "    <tr>\n",
              "      <th>196</th>\n",
              "      <td>Lucy  But let the old man  then  come in here...</td>\n",
              "      <td>Maria</td>\n",
              "      <td>Maria</td>\n",
              "    </tr>\n",
              "    <tr>\n",
              "      <th>197</th>\n",
              "      <td>from us so long  Patty  2nd Peasant   Please y...</td>\n",
              "      <td>Maria</td>\n",
              "      <td>Jane Austen</td>\n",
              "    </tr>\n",
              "    <tr>\n",
              "      <th>198</th>\n",
              "      <td>horse  Seats tolerably in the shade were found...</td>\n",
              "      <td>Jane Austen</td>\n",
              "      <td>Jane Austen</td>\n",
              "    </tr>\n",
              "    <tr>\n",
              "      <th>199</th>\n",
              "      <td>Goney that another homewardbound whaleman  the...</td>\n",
              "      <td>Herman Melville</td>\n",
              "      <td>Herman Melville</td>\n",
              "    </tr>\n",
              "  </tbody>\n",
              "</table>\n",
              "<p>200 rows × 3 columns</p>\n",
              "</div>\n",
              "      <button class=\"colab-df-convert\" onclick=\"convertToInteractive('df-0a7ac98e-4eb4-4e5e-a1d4-e8eb56a7ea44')\"\n",
              "              title=\"Convert this dataframe to an interactive table.\"\n",
              "              style=\"display:none;\">\n",
              "        \n",
              "  <svg xmlns=\"http://www.w3.org/2000/svg\" height=\"24px\"viewBox=\"0 0 24 24\"\n",
              "       width=\"24px\">\n",
              "    <path d=\"M0 0h24v24H0V0z\" fill=\"none\"/>\n",
              "    <path d=\"M18.56 5.44l.94 2.06.94-2.06 2.06-.94-2.06-.94-.94-2.06-.94 2.06-2.06.94zm-11 1L8.5 8.5l.94-2.06 2.06-.94-2.06-.94L8.5 2.5l-.94 2.06-2.06.94zm10 10l.94 2.06.94-2.06 2.06-.94-2.06-.94-.94-2.06-.94 2.06-2.06.94z\"/><path d=\"M17.41 7.96l-1.37-1.37c-.4-.4-.92-.59-1.43-.59-.52 0-1.04.2-1.43.59L10.3 9.45l-7.72 7.72c-.78.78-.78 2.05 0 2.83L4 21.41c.39.39.9.59 1.41.59.51 0 1.02-.2 1.41-.59l7.78-7.78 2.81-2.81c.8-.78.8-2.07 0-2.86zM5.41 20L4 18.59l7.72-7.72 1.47 1.35L5.41 20z\"/>\n",
              "  </svg>\n",
              "      </button>\n",
              "      \n",
              "  <style>\n",
              "    .colab-df-container {\n",
              "      display:flex;\n",
              "      flex-wrap:wrap;\n",
              "      gap: 12px;\n",
              "    }\n",
              "\n",
              "    .colab-df-convert {\n",
              "      background-color: #E8F0FE;\n",
              "      border: none;\n",
              "      border-radius: 50%;\n",
              "      cursor: pointer;\n",
              "      display: none;\n",
              "      fill: #1967D2;\n",
              "      height: 32px;\n",
              "      padding: 0 0 0 0;\n",
              "      width: 32px;\n",
              "    }\n",
              "\n",
              "    .colab-df-convert:hover {\n",
              "      background-color: #E2EBFA;\n",
              "      box-shadow: 0px 1px 2px rgba(60, 64, 67, 0.3), 0px 1px 3px 1px rgba(60, 64, 67, 0.15);\n",
              "      fill: #174EA6;\n",
              "    }\n",
              "\n",
              "    [theme=dark] .colab-df-convert {\n",
              "      background-color: #3B4455;\n",
              "      fill: #D2E3FC;\n",
              "    }\n",
              "\n",
              "    [theme=dark] .colab-df-convert:hover {\n",
              "      background-color: #434B5C;\n",
              "      box-shadow: 0px 1px 3px 1px rgba(0, 0, 0, 0.15);\n",
              "      filter: drop-shadow(0px 1px 2px rgba(0, 0, 0, 0.3));\n",
              "      fill: #FFFFFF;\n",
              "    }\n",
              "  </style>\n",
              "\n",
              "      <script>\n",
              "        const buttonEl =\n",
              "          document.querySelector('#df-0a7ac98e-4eb4-4e5e-a1d4-e8eb56a7ea44 button.colab-df-convert');\n",
              "        buttonEl.style.display =\n",
              "          google.colab.kernel.accessAllowed ? 'block' : 'none';\n",
              "\n",
              "        async function convertToInteractive(key) {\n",
              "          const element = document.querySelector('#df-0a7ac98e-4eb4-4e5e-a1d4-e8eb56a7ea44');\n",
              "          const dataTable =\n",
              "            await google.colab.kernel.invokeFunction('convertToInteractive',\n",
              "                                                     [key], {});\n",
              "          if (!dataTable) return;\n",
              "\n",
              "          const docLinkHtml = 'Like what you see? Visit the ' +\n",
              "            '<a target=\"_blank\" href=https://colab.research.google.com/notebooks/data_table.ipynb>data table notebook</a>'\n",
              "            + ' to learn more about interactive tables.';\n",
              "          element.innerHTML = '';\n",
              "          dataTable['output_type'] = 'display_data';\n",
              "          await google.colab.output.renderOutput(dataTable, element);\n",
              "          const docLink = document.createElement('div');\n",
              "          docLink.innerHTML = docLinkHtml;\n",
              "          element.appendChild(docLink);\n",
              "        }\n",
              "      </script>\n",
              "    </div>\n",
              "  </div>\n",
              "  "
            ]
          },
          "metadata": {},
          "execution_count": 34
        }
      ]
    },
    {
      "cell_type": "code",
      "source": [
        "df['Count']=df['predicted_data'] == df['actual_data']\n",
        "count=0\n",
        "for i in df['Count']:\n",
        "  if i ==True:\n",
        "    count=count+1\n",
        "df.drop(labels=['Count'],axis=1,inplace=True)\n",
        "print(\"The number of wrong predictions made by the decision tree model with TF-IDF are:\",200-count)\n",
        "\n",
        "conf_matrix = confusion_matrix(y_test.to_numpy(), dt_pred)\n",
        "conf_matrix_df = pd.DataFrame(conf_matrix, index=['Herman', 'Maria','Chesterton','Jane','Milton'], columns=['Herman', 'Maria','Chesterton','Jane','Milton'])\n",
        "print('\\nThe confusion matrix for the Decision Tree model is \\n\\n',conf_matrix_df)\n",
        "print(\"--------------------------------------------------------------------------------------------\")"
      ],
      "metadata": {
        "id": "cdLW--IPX-HD",
        "outputId": "65f5097d-5382-4980-e5dd-1faff5277b4e",
        "colab": {
          "base_uri": "https://localhost:8080/"
        }
      },
      "execution_count": null,
      "outputs": [
        {
          "output_type": "stream",
          "name": "stdout",
          "text": [
            "The number of wrong predictions made by the decision tree model with TF-IDF are: 75\n",
            "\n",
            "The confusion matrix for the Decision Tree model is \n",
            "\n",
            "             Herman  Maria  Chesterton  Jane  Milton\n",
            "Herman          24      1           1     2       9\n",
            "Maria            6     10           2     4      11\n",
            "Chesterton       1      0          26     0      11\n",
            "Jane             1      5           1    36       1\n",
            "Milton           4      6           8     1      29\n",
            "--------------------------------------------------------------------------------------------\n"
          ]
        }
      ]
    },
    {
      "cell_type": "code",
      "source": [
        "sns.heatmap(conf_matrix_df, annot=True, fmt='d')\n",
        "plt.title(\"Confusion Matrix for Decision Tree Model\")\n",
        "plt.xlabel(\"Predicted Label\")\n",
        "plt.ylabel(\"True Label\")\n",
        "plt.show()"
      ],
      "metadata": {
        "id": "xecxyejl63lm",
        "outputId": "c38eae96-5d78-4569-ddca-f75648522027",
        "colab": {
          "base_uri": "https://localhost:8080/",
          "height": 295
        }
      },
      "execution_count": null,
      "outputs": [
        {
          "output_type": "display_data",
          "data": {
            "text/plain": [
              "<Figure size 432x288 with 2 Axes>"
            ],
            "image/png": "[encoded data removed]"
          },
          "metadata": {
            "needs_background": "light"
          }
        }
      ]
    },
    {
      "cell_type": "markdown",
      "source": [
        "# XGBoost ERROR AND CONFUSION MATRIX"
      ],
      "metadata": {
        "id": "SXZ8PyQ3YEnz"
      }
    },
    {
      "cell_type": "code",
      "source": [
        "temp=[]\n",
        "for i in y_test.index:\n",
        "  temp.append(data['Text'].iloc[i])\n",
        "df=pd.DataFrame(temp,columns=['Text'])\n",
        "xgb_pred = xgb_model.predict(X_test)\n",
        "df['actual_data']=y_test.to_numpy()\n",
        "df['predicted_data']=xgb_pred\n",
        "df"
      ],
      "metadata": {
        "id": "YYvDh3IYYHce",
        "outputId": "1aad496b-1510-4f12-8d21-138e78fd4ea9",
        "colab": {
          "base_uri": "https://localhost:8080/",
          "height": 423
        }
      },
      "execution_count": null,
      "outputs": [
        {
          "output_type": "execute_result",
          "data": {
            "text/plain": [
              "                                                  Text       actual_data  \\\n",
              "0     he said in a dangerous voice   that I am seri...  G. K. Chesterton   \n",
              "1    or Mr Knightley particularly delighted  They w...       Jane Austen   \n",
              "2    in his face   I do not know which it ought to ...       Jane Austen   \n",
              "3    journey    Yes  upon my word  very considerabl...       Jane Austen   \n",
              "4    would be a new emotion to get a knife into a F...  G. K. Chesterton   \n",
              "..                                                 ...               ...   \n",
              "195  forts of sand were even as weak as eve  High a...  G. K. Chesterton   \n",
              "196   Lucy  But let the old man  then  come in here...             Maria   \n",
              "197  from us so long  Patty  2nd Peasant   Please y...             Maria   \n",
              "198  horse  Seats tolerably in the shade were found...       Jane Austen   \n",
              "199  Goney that another homewardbound whaleman  the...   Herman Melville   \n",
              "\n",
              "       predicted_data  \n",
              "0    G. K. Chesterton  \n",
              "1         Jane Austen  \n",
              "2         Jane Austen  \n",
              "3         Jane Austen  \n",
              "4    G. K. Chesterton  \n",
              "..                ...  \n",
              "195       John Milton  \n",
              "196             Maria  \n",
              "197  G. K. Chesterton  \n",
              "198       Jane Austen  \n",
              "199   Herman Melville  \n",
              "\n",
              "[200 rows x 3 columns]"
            ],
            "text/html": [
              "\n",
              "  <div id=\"df-b11b6271-2814-41d7-9bfb-8b32898be852\">\n",
              "    <div class=\"colab-df-container\">\n",
              "      <div>\n",
              "<style scoped>\n",
              "    .dataframe tbody tr th:only-of-type {\n",
              "        vertical-align: middle;\n",
              "    }\n",
              "\n",
              "    .dataframe tbody tr th {\n",
              "        vertical-align: top;\n",
              "    }\n",
              "\n",
              "    .dataframe thead th {\n",
              "        text-align: right;\n",
              "    }\n",
              "</style>\n",
              "<table border=\"1\" class=\"dataframe\">\n",
              "  <thead>\n",
              "    <tr style=\"text-align: right;\">\n",
              "      <th></th>\n",
              "      <th>Text</th>\n",
              "      <th>actual_data</th>\n",
              "      <th>predicted_data</th>\n",
              "    </tr>\n",
              "  </thead>\n",
              "  <tbody>\n",
              "    <tr>\n",
              "      <th>0</th>\n",
              "      <td>he said in a dangerous voice   that I am seri...</td>\n",
              "      <td>G. K. Chesterton</td>\n",
              "      <td>G. K. Chesterton</td>\n",
              "    </tr>\n",
              "    <tr>\n",
              "      <th>1</th>\n",
              "      <td>or Mr Knightley particularly delighted  They w...</td>\n",
              "      <td>Jane Austen</td>\n",
              "      <td>Jane Austen</td>\n",
              "    </tr>\n",
              "    <tr>\n",
              "      <th>2</th>\n",
              "      <td>in his face   I do not know which it ought to ...</td>\n",
              "      <td>Jane Austen</td>\n",
              "      <td>Jane Austen</td>\n",
              "    </tr>\n",
              "    <tr>\n",
              "      <th>3</th>\n",
              "      <td>journey    Yes  upon my word  very considerabl...</td>\n",
              "      <td>Jane Austen</td>\n",
              "      <td>Jane Austen</td>\n",
              "    </tr>\n",
              "    <tr>\n",
              "      <th>4</th>\n",
              "      <td>would be a new emotion to get a knife into a F...</td>\n",
              "      <td>G. K. Chesterton</td>\n",
              "      <td>G. K. Chesterton</td>\n",
              "    </tr>\n",
              "    <tr>\n",
              "      <th>...</th>\n",
              "      <td>...</td>\n",
              "      <td>...</td>\n",
              "      <td>...</td>\n",
              "    </tr>\n",
              "    <tr>\n",
              "      <th>195</th>\n",
              "      <td>forts of sand were even as weak as eve  High a...</td>\n",
              "      <td>G. K. Chesterton</td>\n",
              "      <td>John Milton</td>\n",
              "    </tr>\n",
              "    <tr>\n",
              "      <th>196</th>\n",
              "      <td>Lucy  But let the old man  then  come in here...</td>\n",
              "      <td>Maria</td>\n",
              "      <td>Maria</td>\n",
              "    </tr>\n",
              "    <tr>\n",
              "      <th>197</th>\n",
              "      <td>from us so long  Patty  2nd Peasant   Please y...</td>\n",
              "      <td>Maria</td>\n",
              "      <td>G. K. Chesterton</td>\n",
              "    </tr>\n",
              "    <tr>\n",
              "      <th>198</th>\n",
              "      <td>horse  Seats tolerably in the shade were found...</td>\n",
              "      <td>Jane Austen</td>\n",
              "      <td>Jane Austen</td>\n",
              "    </tr>\n",
              "    <tr>\n",
              "      <th>199</th>\n",
              "      <td>Goney that another homewardbound whaleman  the...</td>\n",
              "      <td>Herman Melville</td>\n",
              "      <td>Herman Melville</td>\n",
              "    </tr>\n",
              "  </tbody>\n",
              "</table>\n",
              "<p>200 rows × 3 columns</p>\n",
              "</div>\n",
              "      <button class=\"colab-df-convert\" onclick=\"convertToInteractive('df-b11b6271-2814-41d7-9bfb-8b32898be852')\"\n",
              "              title=\"Convert this dataframe to an interactive table.\"\n",
              "              style=\"display:none;\">\n",
              "        \n",
              "  <svg xmlns=\"http://www.w3.org/2000/svg\" height=\"24px\"viewBox=\"0 0 24 24\"\n",
              "       width=\"24px\">\n",
              "    <path d=\"M0 0h24v24H0V0z\" fill=\"none\"/>\n",
              "    <path d=\"M18.56 5.44l.94 2.06.94-2.06 2.06-.94-2.06-.94-.94-2.06-.94 2.06-2.06.94zm-11 1L8.5 8.5l.94-2.06 2.06-.94-2.06-.94L8.5 2.5l-.94 2.06-2.06.94zm10 10l.94 2.06.94-2.06 2.06-.94-2.06-.94-.94-2.06-.94 2.06-2.06.94z\"/><path d=\"M17.41 7.96l-1.37-1.37c-.4-.4-.92-.59-1.43-.59-.52 0-1.04.2-1.43.59L10.3 9.45l-7.72 7.72c-.78.78-.78 2.05 0 2.83L4 21.41c.39.39.9.59 1.41.59.51 0 1.02-.2 1.41-.59l7.78-7.78 2.81-2.81c.8-.78.8-2.07 0-2.86zM5.41 20L4 18.59l7.72-7.72 1.47 1.35L5.41 20z\"/>\n",
              "  </svg>\n",
              "      </button>\n",
              "      \n",
              "  <style>\n",
              "    .colab-df-container {\n",
              "      display:flex;\n",
              "      flex-wrap:wrap;\n",
              "      gap: 12px;\n",
              "    }\n",
              "\n",
              "    .colab-df-convert {\n",
              "      background-color: #E8F0FE;\n",
              "      border: none;\n",
              "      border-radius: 50%;\n",
              "      cursor: pointer;\n",
              "      display: none;\n",
              "      fill: #1967D2;\n",
              "      height: 32px;\n",
              "      padding: 0 0 0 0;\n",
              "      width: 32px;\n",
              "    }\n",
              "\n",
              "    .colab-df-convert:hover {\n",
              "      background-color: #E2EBFA;\n",
              "      box-shadow: 0px 1px 2px rgba(60, 64, 67, 0.3), 0px 1px 3px 1px rgba(60, 64, 67, 0.15);\n",
              "      fill: #174EA6;\n",
              "    }\n",
              "\n",
              "    [theme=dark] .colab-df-convert {\n",
              "      background-color: #3B4455;\n",
              "      fill: #D2E3FC;\n",
              "    }\n",
              "\n",
              "    [theme=dark] .colab-df-convert:hover {\n",
              "      background-color: #434B5C;\n",
              "      box-shadow: 0px 1px 3px 1px rgba(0, 0, 0, 0.15);\n",
              "      filter: drop-shadow(0px 1px 2px rgba(0, 0, 0, 0.3));\n",
              "      fill: #FFFFFF;\n",
              "    }\n",
              "  </style>\n",
              "\n",
              "      <script>\n",
              "        const buttonEl =\n",
              "          document.querySelector('#df-b11b6271-2814-41d7-9bfb-8b32898be852 button.colab-df-convert');\n",
              "        buttonEl.style.display =\n",
              "          google.colab.kernel.accessAllowed ? 'block' : 'none';\n",
              "\n",
              "        async function convertToInteractive(key) {\n",
              "          const element = document.querySelector('#df-b11b6271-2814-41d7-9bfb-8b32898be852');\n",
              "          const dataTable =\n",
              "            await google.colab.kernel.invokeFunction('convertToInteractive',\n",
              "                                                     [key], {});\n",
              "          if (!dataTable) return;\n",
              "\n",
              "          const docLinkHtml = 'Like what you see? Visit the ' +\n",
              "            '<a target=\"_blank\" href=https://colab.research.google.com/notebooks/data_table.ipynb>data table notebook</a>'\n",
              "            + ' to learn more about interactive tables.';\n",
              "          element.innerHTML = '';\n",
              "          dataTable['output_type'] = 'display_data';\n",
              "          await google.colab.output.renderOutput(dataTable, element);\n",
              "          const docLink = document.createElement('div');\n",
              "          docLink.innerHTML = docLinkHtml;\n",
              "          element.appendChild(docLink);\n",
              "        }\n",
              "      </script>\n",
              "    </div>\n",
              "  </div>\n",
              "  "
            ]
          },
          "metadata": {},
          "execution_count": 37
        }
      ]
    },
    {
      "cell_type": "code",
      "source": [
        "df['Count']=df['predicted_data'] == df['actual_data']\n",
        "count=0\n",
        "for i in df['Count']:\n",
        "  if i ==True:\n",
        "    count=count+1\n",
        "df.drop(labels=['Count'],axis=1,inplace=True)\n",
        "print(\"The number of wrong predictions made by the XGBoost model with TF-IDF are:\",200-count)\n",
        "\n",
        "conf_matrix = confusion_matrix(y_test.to_numpy(), xgb_pred)\n",
        "conf_matrix_df = pd.DataFrame(conf_matrix, index=['Herman', 'Maria','Chesterton','Jane','Milton'], columns=['Herman', 'Maria','Chesterton','Jane','Milton'])\n",
        "print('\\nThe confusion matrix for the XGBoost model is \\n\\n',conf_matrix_df)\n",
        "print(\"--------------------------------------------------------------------------------------------\")"
      ],
      "metadata": {
        "id": "I-dJQQvEYImm",
        "outputId": "23beb760-ace8-4543-8d1c-0fb31f387d4e",
        "colab": {
          "base_uri": "https://localhost:8080/"
        }
      },
      "execution_count": null,
      "outputs": [
        {
          "output_type": "stream",
          "name": "stdout",
          "text": [
            "The number of wrong predictions made by the XGBoost model with TF-IDF are: 36\n",
            "\n",
            "The confusion matrix for the XGBoost model is \n",
            "\n",
            "             Herman  Maria  Chesterton  Jane  Milton\n",
            "Herman          28      1           0     3       5\n",
            "Maria            1     25           0     4       3\n",
            "Chesterton       1      1          32     0       4\n",
            "Jane             0      1           0    42       1\n",
            "Milton           4      2           5     0      37\n",
            "--------------------------------------------------------------------------------------------\n"
          ]
        }
      ]
    },
    {
      "cell_type": "code",
      "source": [
        "sns.heatmap(conf_matrix_df, annot=True, fmt='d')\n",
        "plt.title(\"Confusion Matrix for XGBoost Model\")\n",
        "plt.xlabel(\"Predicted Label\")\n",
        "plt.ylabel(\"True Label\")\n",
        "plt.show()"
      ],
      "metadata": {
        "id": "qACg7u3T66az",
        "outputId": "5764bb02-855d-43f9-bb8c-0d2d78b34e1d",
        "colab": {
          "base_uri": "https://localhost:8080/",
          "height": 295
        }
      },
      "execution_count": null,
      "outputs": [
        {
          "output_type": "display_data",
          "data": {
            "text/plain": [
              "<Figure size 432x288 with 2 Axes>"
            ],
            "image/png": "[encoded data removed]"
          },
          "metadata": {
            "needs_background": "light"
          }
        }
      ]
    },
    {
      "cell_type": "markdown",
      "source": [
        "# 10 Fold Cross Validation"
      ],
      "metadata": {
        "id": "yG7Li-ZBsWx5"
      }
    },
    {
      "cell_type": "code",
      "source": [
        "print(\"10 fold validation for SVM \\n\")\n",
        "accuracies=ten_fold_cross_validation(svm,tfidf,data['Author'])\n",
        "print(accuracies)\n",
        "print(\"Bias and Variability for SVM model is\\n\")\n",
        "bias = 1-np.mean(accuracies)\n",
        "variability = np.std(accuracies)\n",
        "\n",
        "print(\"Bias: {:.3f}\".format(bias))\n",
        "print(\"Variability: {:.3f}\".format(variability))"
      ],
      "metadata": {
        "id": "xijMtOxJsaRh",
        "outputId": "f664406a-6eff-4268-c7a3-68c27af280f0",
        "colab": {
          "base_uri": "https://localhost:8080/"
        }
      },
      "execution_count": null,
      "outputs": [
        {
          "output_type": "stream",
          "name": "stdout",
          "text": [
            "10 fold validation for SVM \n",
            "\n",
            "[0.44 0.37 0.35 0.34 0.38 0.41 0.68 0.53 0.75 0.7 ]\n",
            "Bias and Variability for SVM model is\n",
            "\n",
            "Bias: 0.505\n",
            "Variability: 0.151\n"
          ]
        }
      ]
    },
    {
      "cell_type": "code",
      "source": [
        "print(\"10 fold validation for KNN \\n\")\n",
        "accuracies=ten_fold_cross_validation(knn,tfidf,data['Author'])\n",
        "print(accuracies)\n",
        "print(\"Bias and Variability for KNN model is\\n\")\n",
        "bias = 1-np.mean(accuracies)\n",
        "variability = np.std(accuracies)\n",
        "\n",
        "print(\"Bias: {:.3f}\".format(bias))\n",
        "print(\"Variability: {:.3f}\".format(variability))"
      ],
      "metadata": {
        "id": "V_FLU970srk4",
        "outputId": "7d8409d4-7f72-403e-ec46-59fd74ecbec6",
        "colab": {
          "base_uri": "https://localhost:8080/"
        }
      },
      "execution_count": null,
      "outputs": [
        {
          "output_type": "stream",
          "name": "stdout",
          "text": [
            "10 fold validation for KNN \n",
            "\n",
            "[0.45 0.43 0.5  0.54 0.69 0.73 0.91 0.73 0.71 0.72]\n",
            "Bias and Variability for KNN model is\n",
            "\n",
            "Bias: 0.359\n",
            "Variability: 0.146\n"
          ]
        }
      ]
    },
    {
      "cell_type": "code",
      "source": [
        "print(\"10 fold validation for Decision Tree \\n\")\n",
        "accuracies=ten_fold_cross_validation(dt,tfidf,data['Author'])\n",
        "print(accuracies)\n",
        "print(\"Bias and Variability for Decision Tree model is\\n\")\n",
        "bias = 1-np.mean(accuracies)\n",
        "variability = np.std(accuracies)\n",
        "\n",
        "print(\"Bias: {:.3f}\".format(bias))\n",
        "print(\"Variability: {:.3f}\".format(variability))"
      ],
      "metadata": {
        "id": "YBfDJ08jsspR",
        "outputId": "3a0865cf-9a6b-40db-f69c-0271cc837932",
        "colab": {
          "base_uri": "https://localhost:8080/"
        }
      },
      "execution_count": null,
      "outputs": [
        {
          "output_type": "stream",
          "name": "stdout",
          "text": [
            "10 fold validation for Decision Tree \n",
            "\n",
            "[0.38 0.36 0.31 0.33 0.56 0.67 0.66 0.56 0.66 0.62]\n",
            "Bias and Variability for Decision Tree model is\n",
            "\n",
            "Bias: 0.489\n",
            "Variability: 0.141\n"
          ]
        }
      ]
    },
    {
      "cell_type": "code",
      "source": [
        "print(\"10 fold validation for XGB \\n\")\n",
        "accuracies=ten_fold_cross_validation(xgb_model,tfidf,data['Author'])\n",
        "print(accuracies)\n",
        "print(\"Bias and Variability for XGB model is\\n\")\n",
        "bias = 1-np.mean(accuracies)\n",
        "variability = np.std(accuracies)\n",
        "\n",
        "print(\"Bias: {:.3f}\".format(bias))\n",
        "print(\"Variability: {:.3f}\".format(variability))"
      ],
      "metadata": {
        "id": "kdW7YSfTsxqm",
        "outputId": "4ecdeb8e-565d-49ed-a143-3cc69d53019c",
        "colab": {
          "base_uri": "https://localhost:8080/"
        }
      },
      "execution_count": null,
      "outputs": [
        {
          "output_type": "stream",
          "name": "stdout",
          "text": [
            "10 fold validation for XGB \n",
            "\n",
            "[0.66 0.54 0.37 0.5  0.58 0.73 0.79 0.61 0.86 0.81]\n",
            "Bias and Variability for XGB model is\n",
            "\n",
            "Bias: 0.355\n",
            "Variability: 0.147\n"
          ]
        }
      ]
    },
    {
      "cell_type": "markdown",
      "source": [
        "# N-GRAM\n"
      ],
      "metadata": {
        "id": "nnu3qK1vAx4V"
      }
    },
    {
      "cell_type": "code",
      "source": [
        "import pandas as pd\n",
        "import numpy as np\n",
        "from sklearn.feature_extraction.text import CountVectorizer\n",
        "from sklearn.model_selection import train_test_split\n",
        "from sklearn.neighbors import KNeighborsClassifier\n",
        "from sklearn.tree import DecisionTreeClassifier\n",
        "from sklearn.svm import SVC\n",
        "import xgboost as xgb\n",
        "from sklearn.metrics import accuracy_score\n",
        "import matplotlib.pyplot as plt\n",
        "\n",
        "# Read the csv file\n",
        "#df = pd.read_csv('book_partitions3.csv')\n",
        "\n",
        "# Convert the text data into a n-gram representation\n",
        "vectorizer = CountVectorizer(ngram_range=(1, 2))\n",
        "ngrams = vectorizer.fit_transform(data['Text'].values)\n",
        "\n",
        "# Split the data into training and testing sets\n",
        "X_train, X_test, y_train, y_test = train_test_split(ngrams, data['Author'], test_size=0.2, random_state=42)\n",
        "\n",
        "# K-NEAREST NEIGHBOUR \n",
        "# Train and evaluate the KNN model\n",
        "knn = KNeighborsClassifier()\n",
        "knn.fit(X_train, y_train)\n",
        "knn_pred = knn.predict(X_test)\n",
        "\n",
        "\n",
        "knn_accuracy = accuracy_score(y_test, knn_pred)\n",
        "knn_precision = precision_score(y_test, knn_pred,average='macro')\n",
        "knn_recall = recall_score(y_test, knn_pred,average='macro')\n",
        "knn_fscore = f1_score (y_test, knn_pred,average='macro')\n",
        "\n",
        "print('knn_accuracy with N-GRAM = ',knn_accuracy)\n",
        "print('knn_precision with N-GRAM = ',knn_precision)\n",
        "print('knn_recall with N-GRAM = ',knn_recall)\n",
        "print('knn_Fscore with N-GRAM = ',knn_fscore)\n",
        "print(\"----------------------------------------------------------------\")\n",
        "\n",
        "\n",
        "#DECISION TREE \n",
        "# Train and evaluate the Decision Tree model\n",
        "dt = DecisionTreeClassifier()\n",
        "dt.fit(X_train, y_train)\n",
        "dt_pred = dt.predict(X_test)\n",
        "\n",
        "\n",
        "\n",
        "dt_accuracy = accuracy_score(y_test, dt_pred)\n",
        "dt_precision = precision_score(y_test, dt_pred,average='macro')\n",
        "dt_recall = recall_score(y_test, dt_pred,average='macro')\n",
        "dt_fscore = f1_score (y_test, dt_pred,average='macro')\n",
        "\n",
        "print('dt_accuracy with N-GRAM  = ',dt_accuracy)\n",
        "print('dt_precision with N-GRAM = ',dt_precision)\n",
        "print('dt_recall with N-GRAM = ',dt_recall)\n",
        "print('dt_Fscore with N-GRAM = ',dt_fscore)\n",
        "print(\"----------------------------------------------------------------\")\n",
        "\n",
        "\n",
        "\n",
        "# Train and evaluate the SVM model\n",
        "svm = SVC()\n",
        "svm.fit(X_train, y_train)\n",
        "svm_pred = svm.predict(X_test)\n",
        "\n",
        "\n",
        "svm_accuracy = accuracy_score(y_test, svm_pred)\n",
        "svm_precision = precision_score(y_test, svm_pred,average='macro')\n",
        "svm_recall = recall_score(y_test, svm_pred,average='macro')\n",
        "svm_fscore = f1_score (y_test, svm_pred,average='macro')\n",
        "\n",
        "\n",
        "print('svm_accuracy with N-GRAM = ',svm_accuracy)\n",
        "print('svm_precision with N-GRAM = ',svm_precision)\n",
        "print('svm_recall with N-GRAM = ',svm_recall)\n",
        "print('svm_Fscore with N-GRAM = ',svm_fscore)\n",
        "print(\"----------------------------------------------------------------\")\n",
        "\n",
        "# Train and evaluate the XGBoost model\n",
        "xgb_model = xgb.XGBClassifier()\n",
        "xgb_model.fit(X_train, y_train)\n",
        "xgb_pred = xgb_model.predict(X_test)\n",
        "\n",
        "xgb_accuracy = accuracy_score(y_test, xgb_pred)\n",
        "xgb_precision = precision_score(y_test, xgb_pred,average='macro')\n",
        "xgb_recall = recall_score(y_test, xgb_pred,average='macro')\n",
        "xgb_fscore = f1_score (y_test, xgb_pred,average='macro')\n",
        "\n",
        "\n",
        "print('xgb_accuracy with N-GRAM = ',xgb_accuracy)\n",
        "print('xgb_precision with N-GRAM = ',xgb_precision)\n",
        "print('xgb_recall with N-GRAM = ',xgb_recall)\n",
        "print('xgb_Fscore with N-GRAM = ',xgb_fscore)\n",
        "print(\"----------------------------------------------------------------\")\n",
        "#++++++++++++++++++++++++++++++++++++++++++++++++\n",
        "\n",
        "\n",
        "# Plot the accuracy comparison of the models\n",
        "models = ['KNN', 'SVM','DT', 'XGBoost']\n",
        "accuracies = [knn_accuracy, svm_accuracy,dt_accuracy, xgb_accuracy]\n",
        "plt.bar(models, accuracies)\n",
        "plt.xlabel('Models')\n",
        "plt.ylabel('Accuracy')\n",
        "plt.title('Accuracy comparison of models')\n",
        "plt.show()\n",
        "\n",
        "# Plot the Precision comparison of the models\n",
        "models = ['KNN', 'SVM','DT', 'XGBoost']\n",
        "precisions = [knn_precision, svm_precision,dt_precision, xgb_precision]\n",
        "plt.bar(models, precisions)\n",
        "plt.xlabel('Models')\n",
        "plt.ylabel('precision')\n",
        "plt.title('Precision comparison of models')\n",
        "plt.show()\n",
        "\n",
        "# Plot the Recall comparison of the models\n",
        "models = ['KNN', 'SVM','DT', 'XGBoost']\n",
        "recalls = [knn_recall, svm_recall,dt_recall, xgb_recall]\n",
        "plt.bar(models, recalls)\n",
        "plt.xlabel('Models')\n",
        "plt.ylabel('Recall')\n",
        "plt.title('Recall comparison of models')\n",
        "plt.show()\n",
        "\n",
        "# Plot the Fscore comparison of the models\n",
        "models = ['KNN', 'SVM','DT', 'XGBoost']\n",
        "fscores = [knn_fscore, svm_fscore,dt_fscore, xgb_fscore]\n",
        "plt.bar(models, fscores)\n",
        "plt.xlabel('Models')\n",
        "plt.ylabel('Fscore')\n",
        "plt.title('Fscore comparison of models')\n",
        "plt.show()"
      ],
      "metadata": {
        "id": "Fc6NsVQeA5_O",
        "outputId": "f6e2de4f-5352-4794-9f17-2b254a5a6f50",
        "colab": {
          "base_uri": "https://localhost:8080/",
          "height": 1000
        }
      },
      "execution_count": null,
      "outputs": [
        {
          "output_type": "stream",
          "name": "stdout",
          "text": [
            "knn_accuracy with N-GRAM =  0.565\n",
            "knn_precision with N-GRAM =  0.5767837228771345\n",
            "knn_recall with N-GRAM =  0.5654090693564378\n",
            "knn_Fscore with N-GRAM =  0.5433391780799649\n",
            "----------------------------------------------------------------\n",
            "dt_accuracy with N-GRAM  =  0.61\n",
            "dt_precision with N-GRAM =  0.6012408424908425\n",
            "dt_recall with N-GRAM =  0.6033767619293935\n",
            "dt_Fscore with N-GRAM =  0.6016105400961476\n",
            "----------------------------------------------------------------\n",
            "svm_accuracy with N-GRAM =  0.82\n",
            "svm_precision with N-GRAM =  0.8178354978354978\n",
            "svm_recall with N-GRAM =  0.8283956205008837\n",
            "svm_Fscore with N-GRAM =  0.8163144127852959\n",
            "----------------------------------------------------------------\n",
            "xgb_accuracy with N-GRAM =  0.87\n",
            "xgb_precision with N-GRAM =  0.8735596678862934\n",
            "xgb_recall with N-GRAM =  0.8649731669468512\n",
            "xgb_Fscore with N-GRAM =  0.8673412698412699\n",
            "----------------------------------------------------------------\n"
          ]
        },
        {
          "output_type": "display_data",
          "data": {
            "text/plain": [
              "<Figure size 432x288 with 1 Axes>"
            ],
            "image/png": "[encoded data removed]"
          },
          "metadata": {
            "needs_background": "light"
          }
        },
        {
          "output_type": "display_data",
          "data": {
            "text/plain": [
              "<Figure size 432x288 with 1 Axes>"
            ],
            "image/png": "[encoded data removed]"
          },
          "metadata": {
            "needs_background": "light"
          }
        },
        {
          "output_type": "display_data",
          "data": {
            "text/plain": [
              "<Figure size 432x288 with 1 Axes>"
            ],
            "image/png": "[encoded data removed]"
          },
          "metadata": {
            "needs_background": "light"
          }
        },
        {
          "output_type": "display_data",
          "data": {
            "text/plain": [
              "<Figure size 432x288 with 1 Axes>"
            ],
            "image/png": "[encoded data removed]"
          },
          "metadata": {
            "needs_background": "light"
          }
        }
      ]
    },
    {
      "cell_type": "markdown",
      "source": [
        "# CONFUSION MATRIX AND ERROR ANALYSIS FOR N-GRAM"
      ],
      "metadata": {
        "id": "N0xYolAVYdkI"
      }
    },
    {
      "cell_type": "code",
      "source": [
        "import pandas as pd\n",
        "from sklearn.metrics import confusion_matrix"
      ],
      "metadata": {
        "id": "uk2ut9cUYmRk"
      },
      "execution_count": null,
      "outputs": []
    },
    {
      "cell_type": "markdown",
      "source": [
        "# SVM ERROR ANALYSIS AND CONFUSION MATRIX"
      ],
      "metadata": {
        "id": "xGMOoKJpYnOS"
      }
    },
    {
      "cell_type": "code",
      "source": [
        "temp=[]\n",
        "for i in y_test.index:\n",
        "  temp.append(data['Text'].iloc[i])\n",
        "df=pd.DataFrame(temp,columns=['Text'])\n",
        "svm_pred = svm.predict(X_test)\n",
        "df['actual_data']=y_test.to_numpy()\n",
        "df['predicted_data']=svm_pred\n",
        "df"
      ],
      "metadata": {
        "id": "DhzeWZ8NBB-I",
        "outputId": "c631e80f-023b-4881-976b-a126886d4e92",
        "colab": {
          "base_uri": "https://localhost:8080/",
          "height": 423
        }
      },
      "execution_count": null,
      "outputs": [
        {
          "output_type": "execute_result",
          "data": {
            "text/plain": [
              "                                                  Text       actual_data  \\\n",
              "0     he said in a dangerous voice   that I am seri...  G. K. Chesterton   \n",
              "1    or Mr Knightley particularly delighted  They w...       Jane Austen   \n",
              "2    in his face   I do not know which it ought to ...       Jane Austen   \n",
              "3    journey    Yes  upon my word  very considerabl...       Jane Austen   \n",
              "4    would be a new emotion to get a knife into a F...  G. K. Chesterton   \n",
              "..                                                 ...               ...   \n",
              "195  forts of sand were even as weak as eve  High a...  G. K. Chesterton   \n",
              "196   Lucy  But let the old man  then  come in here...             Maria   \n",
              "197  from us so long  Patty  2nd Peasant   Please y...             Maria   \n",
              "198  horse  Seats tolerably in the shade were found...       Jane Austen   \n",
              "199  Goney that another homewardbound whaleman  the...   Herman Melville   \n",
              "\n",
              "       predicted_data  \n",
              "0    G. K. Chesterton  \n",
              "1         Jane Austen  \n",
              "2         Jane Austen  \n",
              "3         Jane Austen  \n",
              "4    G. K. Chesterton  \n",
              "..                ...  \n",
              "195  G. K. Chesterton  \n",
              "196  G. K. Chesterton  \n",
              "197             Maria  \n",
              "198       Jane Austen  \n",
              "199   Herman Melville  \n",
              "\n",
              "[200 rows x 3 columns]"
            ],
            "text/html": [
              "\n",
              "  <div id=\"df-6b5a156d-2477-408c-a0ce-4d9bb7696710\">\n",
              "    <div class=\"colab-df-container\">\n",
              "      <div>\n",
              "<style scoped>\n",
              "    .dataframe tbody tr th:only-of-type {\n",
              "        vertical-align: middle;\n",
              "    }\n",
              "\n",
              "    .dataframe tbody tr th {\n",
              "        vertical-align: top;\n",
              "    }\n",
              "\n",
              "    .dataframe thead th {\n",
              "        text-align: right;\n",
              "    }\n",
              "</style>\n",
              "<table border=\"1\" class=\"dataframe\">\n",
              "  <thead>\n",
              "    <tr style=\"text-align: right;\">\n",
              "      <th></th>\n",
              "      <th>Text</th>\n",
              "      <th>actual_data</th>\n",
              "      <th>predicted_data</th>\n",
              "    </tr>\n",
              "  </thead>\n",
              "  <tbody>\n",
              "    <tr>\n",
              "      <th>0</th>\n",
              "      <td>he said in a dangerous voice   that I am seri...</td>\n",
              "      <td>G. K. Chesterton</td>\n",
              "      <td>G. K. Chesterton</td>\n",
              "    </tr>\n",
              "    <tr>\n",
              "      <th>1</th>\n",
              "      <td>or Mr Knightley particularly delighted  They w...</td>\n",
              "      <td>Jane Austen</td>\n",
              "      <td>Jane Austen</td>\n",
              "    </tr>\n",
              "    <tr>\n",
              "      <th>2</th>\n",
              "      <td>in his face   I do not know which it ought to ...</td>\n",
              "      <td>Jane Austen</td>\n",
              "      <td>Jane Austen</td>\n",
              "    </tr>\n",
              "    <tr>\n",
              "      <th>3</th>\n",
              "      <td>journey    Yes  upon my word  very considerabl...</td>\n",
              "      <td>Jane Austen</td>\n",
              "      <td>Jane Austen</td>\n",
              "    </tr>\n",
              "    <tr>\n",
              "      <th>4</th>\n",
              "      <td>would be a new emotion to get a knife into a F...</td>\n",
              "      <td>G. K. Chesterton</td>\n",
              "      <td>G. K. Chesterton</td>\n",
              "    </tr>\n",
              "    <tr>\n",
              "      <th>...</th>\n",
              "      <td>...</td>\n",
              "      <td>...</td>\n",
              "      <td>...</td>\n",
              "    </tr>\n",
              "    <tr>\n",
              "      <th>195</th>\n",
              "      <td>forts of sand were even as weak as eve  High a...</td>\n",
              "      <td>G. K. Chesterton</td>\n",
              "      <td>G. K. Chesterton</td>\n",
              "    </tr>\n",
              "    <tr>\n",
              "      <th>196</th>\n",
              "      <td>Lucy  But let the old man  then  come in here...</td>\n",
              "      <td>Maria</td>\n",
              "      <td>G. K. Chesterton</td>\n",
              "    </tr>\n",
              "    <tr>\n",
              "      <th>197</th>\n",
              "      <td>from us so long  Patty  2nd Peasant   Please y...</td>\n",
              "      <td>Maria</td>\n",
              "      <td>Maria</td>\n",
              "    </tr>\n",
              "    <tr>\n",
              "      <th>198</th>\n",
              "      <td>horse  Seats tolerably in the shade were found...</td>\n",
              "      <td>Jane Austen</td>\n",
              "      <td>Jane Austen</td>\n",
              "    </tr>\n",
              "    <tr>\n",
              "      <th>199</th>\n",
              "      <td>Goney that another homewardbound whaleman  the...</td>\n",
              "      <td>Herman Melville</td>\n",
              "      <td>Herman Melville</td>\n",
              "    </tr>\n",
              "  </tbody>\n",
              "</table>\n",
              "<p>200 rows × 3 columns</p>\n",
              "</div>\n",
              "      <button class=\"colab-df-convert\" onclick=\"convertToInteractive('df-6b5a156d-2477-408c-a0ce-4d9bb7696710')\"\n",
              "              title=\"Convert this dataframe to an interactive table.\"\n",
              "              style=\"display:none;\">\n",
              "        \n",
              "  <svg xmlns=\"http://www.w3.org/2000/svg\" height=\"24px\"viewBox=\"0 0 24 24\"\n",
              "       width=\"24px\">\n",
              "    <path d=\"M0 0h24v24H0V0z\" fill=\"none\"/>\n",
              "    <path d=\"M18.56 5.44l.94 2.06.94-2.06 2.06-.94-2.06-.94-.94-2.06-.94 2.06-2.06.94zm-11 1L8.5 8.5l.94-2.06 2.06-.94-2.06-.94L8.5 2.5l-.94 2.06-2.06.94zm10 10l.94 2.06.94-2.06 2.06-.94-2.06-.94-.94-2.06-.94 2.06-2.06.94z\"/><path d=\"M17.41 7.96l-1.37-1.37c-.4-.4-.92-.59-1.43-.59-.52 0-1.04.2-1.43.59L10.3 9.45l-7.72 7.72c-.78.78-.78 2.05 0 2.83L4 21.41c.39.39.9.59 1.41.59.51 0 1.02-.2 1.41-.59l7.78-7.78 2.81-2.81c.8-.78.8-2.07 0-2.86zM5.41 20L4 18.59l7.72-7.72 1.47 1.35L5.41 20z\"/>\n",
              "  </svg>\n",
              "      </button>\n",
              "      \n",
              "  <style>\n",
              "    .colab-df-container {\n",
              "      display:flex;\n",
              "      flex-wrap:wrap;\n",
              "      gap: 12px;\n",
              "    }\n",
              "\n",
              "    .colab-df-convert {\n",
              "      background-color: #E8F0FE;\n",
              "      border: none;\n",
              "      border-radius: 50%;\n",
              "      cursor: pointer;\n",
              "      display: none;\n",
              "      fill: #1967D2;\n",
              "      height: 32px;\n",
              "      padding: 0 0 0 0;\n",
              "      width: 32px;\n",
              "    }\n",
              "\n",
              "    .colab-df-convert:hover {\n",
              "      background-color: #E2EBFA;\n",
              "      box-shadow: 0px 1px 2px rgba(60, 64, 67, 0.3), 0px 1px 3px 1px rgba(60, 64, 67, 0.15);\n",
              "      fill: #174EA6;\n",
              "    }\n",
              "\n",
              "    [theme=dark] .colab-df-convert {\n",
              "      background-color: #3B4455;\n",
              "      fill: #D2E3FC;\n",
              "    }\n",
              "\n",
              "    [theme=dark] .colab-df-convert:hover {\n",
              "      background-color: #434B5C;\n",
              "      box-shadow: 0px 1px 3px 1px rgba(0, 0, 0, 0.15);\n",
              "      filter: drop-shadow(0px 1px 2px rgba(0, 0, 0, 0.3));\n",
              "      fill: #FFFFFF;\n",
              "    }\n",
              "  </style>\n",
              "\n",
              "      <script>\n",
              "        const buttonEl =\n",
              "          document.querySelector('#df-6b5a156d-2477-408c-a0ce-4d9bb7696710 button.colab-df-convert');\n",
              "        buttonEl.style.display =\n",
              "          google.colab.kernel.accessAllowed ? 'block' : 'none';\n",
              "\n",
              "        async function convertToInteractive(key) {\n",
              "          const element = document.querySelector('#df-6b5a156d-2477-408c-a0ce-4d9bb7696710');\n",
              "          const dataTable =\n",
              "            await google.colab.kernel.invokeFunction('convertToInteractive',\n",
              "                                                     [key], {});\n",
              "          if (!dataTable) return;\n",
              "\n",
              "          const docLinkHtml = 'Like what you see? Visit the ' +\n",
              "            '<a target=\"_blank\" href=https://colab.research.google.com/notebooks/data_table.ipynb>data table notebook</a>'\n",
              "            + ' to learn more about interactive tables.';\n",
              "          element.innerHTML = '';\n",
              "          dataTable['output_type'] = 'display_data';\n",
              "          await google.colab.output.renderOutput(dataTable, element);\n",
              "          const docLink = document.createElement('div');\n",
              "          docLink.innerHTML = docLinkHtml;\n",
              "          element.appendChild(docLink);\n",
              "        }\n",
              "      </script>\n",
              "    </div>\n",
              "  </div>\n",
              "  "
            ]
          },
          "metadata": {},
          "execution_count": 46
        }
      ]
    },
    {
      "cell_type": "code",
      "source": [
        "df['Count']=df['predicted_data'] == df['actual_data']\n",
        "count=0\n",
        "for i in df['Count']:\n",
        "  if i ==True:\n",
        "    count=count+1\n",
        "df.drop(labels=['Count'],axis=1,inplace=True)\n",
        "print(\"The number of wrong predictions made by the SVM model with N-GRAM are:\",200-count)\n",
        "\n",
        "conf_matrix = confusion_matrix(y_test.to_numpy(), svm_pred)\n",
        "conf_matrix_df = pd.DataFrame(conf_matrix, index=['Herman', 'Maria','Chesterton','Jane','Milton'], columns=['Herman', 'Maria','Chesterton','Jane','Milton'])\n",
        "print('\\nThe confusion matrix for the SVM model is \\n\\n',conf_matrix_df)\n",
        "print(\"--------------------------------------------------------------------------------------------\")"
      ],
      "metadata": {
        "id": "xt_IKXYaYqdc",
        "outputId": "c1a7d3a9-7842-4a91-aa53-5ebf23e85675",
        "colab": {
          "base_uri": "https://localhost:8080/"
        }
      },
      "execution_count": null,
      "outputs": [
        {
          "output_type": "stream",
          "name": "stdout",
          "text": [
            "The number of wrong predictions made by the SVM model with N-GRAM are: 36\n",
            "\n",
            "The confusion matrix for the SVM model is \n",
            "\n",
            "             Herman  Maria  Chesterton  Jane  Milton\n",
            "Herman          32      3           0     0       2\n",
            "Maria            2     27           0     3       1\n",
            "Chesterton       0      1          35     0       2\n",
            "Jane             1      1           0    42       0\n",
            "Milton           7      4           9     0      28\n",
            "--------------------------------------------------------------------------------------------\n"
          ]
        }
      ]
    },
    {
      "cell_type": "code",
      "source": [
        "sns.heatmap(conf_matrix_df, annot=True, fmt='d')\n",
        "plt.title(\"Confusion Matrix for SVM Model\")\n",
        "plt.xlabel(\"Predicted Label\")\n",
        "plt.ylabel(\"True Label\")\n",
        "plt.show()"
      ],
      "metadata": {
        "id": "lsHoth8R7KKO",
        "outputId": "f9daee54-0712-43e1-d307-2f165fa717d5",
        "colab": {
          "base_uri": "https://localhost:8080/",
          "height": 295
        }
      },
      "execution_count": null,
      "outputs": [
        {
          "output_type": "display_data",
          "data": {
            "text/plain": [
              "<Figure size 432x288 with 2 Axes>"
            ],
            "image/png": "[encoded data removed]"
          },
          "metadata": {
            "needs_background": "light"
          }
        }
      ]
    },
    {
      "cell_type": "markdown",
      "source": [
        "# KNN ERROR AND CONFUSION MATRIX"
      ],
      "metadata": {
        "id": "kpkA77vqZEQ-"
      }
    },
    {
      "cell_type": "code",
      "source": [
        "temp=[]\n",
        "for i in y_test.index:\n",
        "  temp.append(data['Text'].iloc[i])\n",
        "df=pd.DataFrame(temp,columns=['Text'])\n",
        "knn_pred = knn.predict(X_test)\n",
        "df['actual_data']=y_test.to_numpy()\n",
        "df['predicted_data']=knn_pred\n",
        "df"
      ],
      "metadata": {
        "id": "hKVqa-u0ZGrO",
        "outputId": "9d02bb5f-a106-4229-c797-7db6457da128",
        "colab": {
          "base_uri": "https://localhost:8080/",
          "height": 423
        }
      },
      "execution_count": null,
      "outputs": [
        {
          "output_type": "execute_result",
          "data": {
            "text/plain": [
              "                                                  Text       actual_data  \\\n",
              "0     he said in a dangerous voice   that I am seri...  G. K. Chesterton   \n",
              "1    or Mr Knightley particularly delighted  They w...       Jane Austen   \n",
              "2    in his face   I do not know which it ought to ...       Jane Austen   \n",
              "3    journey    Yes  upon my word  very considerabl...       Jane Austen   \n",
              "4    would be a new emotion to get a knife into a F...  G. K. Chesterton   \n",
              "..                                                 ...               ...   \n",
              "195  forts of sand were even as weak as eve  High a...  G. K. Chesterton   \n",
              "196   Lucy  But let the old man  then  come in here...             Maria   \n",
              "197  from us so long  Patty  2nd Peasant   Please y...             Maria   \n",
              "198  horse  Seats tolerably in the shade were found...       Jane Austen   \n",
              "199  Goney that another homewardbound whaleman  the...   Herman Melville   \n",
              "\n",
              "       predicted_data  \n",
              "0    G. K. Chesterton  \n",
              "1         Jane Austen  \n",
              "2         Jane Austen  \n",
              "3         Jane Austen  \n",
              "4    G. K. Chesterton  \n",
              "..                ...  \n",
              "195  G. K. Chesterton  \n",
              "196             Maria  \n",
              "197             Maria  \n",
              "198       Jane Austen  \n",
              "199   Herman Melville  \n",
              "\n",
              "[200 rows x 3 columns]"
            ],
            "text/html": [
              "\n",
              "  <div id=\"df-00670581-b3f7-4dfc-8b13-b1879671b44c\">\n",
              "    <div class=\"colab-df-container\">\n",
              "      <div>\n",
              "<style scoped>\n",
              "    .dataframe tbody tr th:only-of-type {\n",
              "        vertical-align: middle;\n",
              "    }\n",
              "\n",
              "    .dataframe tbody tr th {\n",
              "        vertical-align: top;\n",
              "    }\n",
              "\n",
              "    .dataframe thead th {\n",
              "        text-align: right;\n",
              "    }\n",
              "</style>\n",
              "<table border=\"1\" class=\"dataframe\">\n",
              "  <thead>\n",
              "    <tr style=\"text-align: right;\">\n",
              "      <th></th>\n",
              "      <th>Text</th>\n",
              "      <th>actual_data</th>\n",
              "      <th>predicted_data</th>\n",
              "    </tr>\n",
              "  </thead>\n",
              "  <tbody>\n",
              "    <tr>\n",
              "      <th>0</th>\n",
              "      <td>he said in a dangerous voice   that I am seri...</td>\n",
              "      <td>G. K. Chesterton</td>\n",
              "      <td>G. K. Chesterton</td>\n",
              "    </tr>\n",
              "    <tr>\n",
              "      <th>1</th>\n",
              "      <td>or Mr Knightley particularly delighted  They w...</td>\n",
              "      <td>Jane Austen</td>\n",
              "      <td>Jane Austen</td>\n",
              "    </tr>\n",
              "    <tr>\n",
              "      <th>2</th>\n",
              "      <td>in his face   I do not know which it ought to ...</td>\n",
              "      <td>Jane Austen</td>\n",
              "      <td>Jane Austen</td>\n",
              "    </tr>\n",
              "    <tr>\n",
              "      <th>3</th>\n",
              "      <td>journey    Yes  upon my word  very considerabl...</td>\n",
              "      <td>Jane Austen</td>\n",
              "      <td>Jane Austen</td>\n",
              "    </tr>\n",
              "    <tr>\n",
              "      <th>4</th>\n",
              "      <td>would be a new emotion to get a knife into a F...</td>\n",
              "      <td>G. K. Chesterton</td>\n",
              "      <td>G. K. Chesterton</td>\n",
              "    </tr>\n",
              "    <tr>\n",
              "      <th>...</th>\n",
              "      <td>...</td>\n",
              "      <td>...</td>\n",
              "      <td>...</td>\n",
              "    </tr>\n",
              "    <tr>\n",
              "      <th>195</th>\n",
              "      <td>forts of sand were even as weak as eve  High a...</td>\n",
              "      <td>G. K. Chesterton</td>\n",
              "      <td>G. K. Chesterton</td>\n",
              "    </tr>\n",
              "    <tr>\n",
              "      <th>196</th>\n",
              "      <td>Lucy  But let the old man  then  come in here...</td>\n",
              "      <td>Maria</td>\n",
              "      <td>Maria</td>\n",
              "    </tr>\n",
              "    <tr>\n",
              "      <th>197</th>\n",
              "      <td>from us so long  Patty  2nd Peasant   Please y...</td>\n",
              "      <td>Maria</td>\n",
              "      <td>Maria</td>\n",
              "    </tr>\n",
              "    <tr>\n",
              "      <th>198</th>\n",
              "      <td>horse  Seats tolerably in the shade were found...</td>\n",
              "      <td>Jane Austen</td>\n",
              "      <td>Jane Austen</td>\n",
              "    </tr>\n",
              "    <tr>\n",
              "      <th>199</th>\n",
              "      <td>Goney that another homewardbound whaleman  the...</td>\n",
              "      <td>Herman Melville</td>\n",
              "      <td>Herman Melville</td>\n",
              "    </tr>\n",
              "  </tbody>\n",
              "</table>\n",
              "<p>200 rows × 3 columns</p>\n",
              "</div>\n",
              "      <button class=\"colab-df-convert\" onclick=\"convertToInteractive('df-00670581-b3f7-4dfc-8b13-b1879671b44c')\"\n",
              "              title=\"Convert this dataframe to an interactive table.\"\n",
              "              style=\"display:none;\">\n",
              "        \n",
              "  <svg xmlns=\"http://www.w3.org/2000/svg\" height=\"24px\"viewBox=\"0 0 24 24\"\n",
              "       width=\"24px\">\n",
              "    <path d=\"M0 0h24v24H0V0z\" fill=\"none\"/>\n",
              "    <path d=\"M18.56 5.44l.94 2.06.94-2.06 2.06-.94-2.06-.94-.94-2.06-.94 2.06-2.06.94zm-11 1L8.5 8.5l.94-2.06 2.06-.94-2.06-.94L8.5 2.5l-.94 2.06-2.06.94zm10 10l.94 2.06.94-2.06 2.06-.94-2.06-.94-.94-2.06-.94 2.06-2.06.94z\"/><path d=\"M17.41 7.96l-1.37-1.37c-.4-.4-.92-.59-1.43-.59-.52 0-1.04.2-1.43.59L10.3 9.45l-7.72 7.72c-.78.78-.78 2.05 0 2.83L4 21.41c.39.39.9.59 1.41.59.51 0 1.02-.2 1.41-.59l7.78-7.78 2.81-2.81c.8-.78.8-2.07 0-2.86zM5.41 20L4 18.59l7.72-7.72 1.47 1.35L5.41 20z\"/>\n",
              "  </svg>\n",
              "      </button>\n",
              "      \n",
              "  <style>\n",
              "    .colab-df-container {\n",
              "      display:flex;\n",
              "      flex-wrap:wrap;\n",
              "      gap: 12px;\n",
              "    }\n",
              "\n",
              "    .colab-df-convert {\n",
              "      background-color: #E8F0FE;\n",
              "      border: none;\n",
              "      border-radius: 50%;\n",
              "      cursor: pointer;\n",
              "      display: none;\n",
              "      fill: #1967D2;\n",
              "      height: 32px;\n",
              "      padding: 0 0 0 0;\n",
              "      width: 32px;\n",
              "    }\n",
              "\n",
              "    .colab-df-convert:hover {\n",
              "      background-color: #E2EBFA;\n",
              "      box-shadow: 0px 1px 2px rgba(60, 64, 67, 0.3), 0px 1px 3px 1px rgba(60, 64, 67, 0.15);\n",
              "      fill: #174EA6;\n",
              "    }\n",
              "\n",
              "    [theme=dark] .colab-df-convert {\n",
              "      background-color: #3B4455;\n",
              "      fill: #D2E3FC;\n",
              "    }\n",
              "\n",
              "    [theme=dark] .colab-df-convert:hover {\n",
              "      background-color: #434B5C;\n",
              "      box-shadow: 0px 1px 3px 1px rgba(0, 0, 0, 0.15);\n",
              "      filter: drop-shadow(0px 1px 2px rgba(0, 0, 0, 0.3));\n",
              "      fill: #FFFFFF;\n",
              "    }\n",
              "  </style>\n",
              "\n",
              "      <script>\n",
              "        const buttonEl =\n",
              "          document.querySelector('#df-00670581-b3f7-4dfc-8b13-b1879671b44c button.colab-df-convert');\n",
              "        buttonEl.style.display =\n",
              "          google.colab.kernel.accessAllowed ? 'block' : 'none';\n",
              "\n",
              "        async function convertToInteractive(key) {\n",
              "          const element = document.querySelector('#df-00670581-b3f7-4dfc-8b13-b1879671b44c');\n",
              "          const dataTable =\n",
              "            await google.colab.kernel.invokeFunction('convertToInteractive',\n",
              "                                                     [key], {});\n",
              "          if (!dataTable) return;\n",
              "\n",
              "          const docLinkHtml = 'Like what you see? Visit the ' +\n",
              "            '<a target=\"_blank\" href=https://colab.research.google.com/notebooks/data_table.ipynb>data table notebook</a>'\n",
              "            + ' to learn more about interactive tables.';\n",
              "          element.innerHTML = '';\n",
              "          dataTable['output_type'] = 'display_data';\n",
              "          await google.colab.output.renderOutput(dataTable, element);\n",
              "          const docLink = document.createElement('div');\n",
              "          docLink.innerHTML = docLinkHtml;\n",
              "          element.appendChild(docLink);\n",
              "        }\n",
              "      </script>\n",
              "    </div>\n",
              "  </div>\n",
              "  "
            ]
          },
          "metadata": {},
          "execution_count": 49
        }
      ]
    },
    {
      "cell_type": "code",
      "source": [
        "df['Count']=df['predicted_data'] == df['actual_data']\n",
        "count=0\n",
        "for i in df['Count']:\n",
        "  if i ==True:\n",
        "    count=count+1\n",
        "df.drop(labels=['Count'],axis=1,inplace=True)\n",
        "print(\"The number of wrong predictions made by the KNN model with N-GRAM are:\",200-count)\n",
        "\n",
        "conf_matrix = confusion_matrix(y_test.to_numpy(), knn_pred)\n",
        "conf_matrix_df = pd.DataFrame(conf_matrix, index=['Herman', 'Maria','Chesterton','Jane','Milton'], columns=['Herman', 'Maria','Chesterton','Jane','Milton'])\n",
        "print('\\nThe confusion matrix for the KNN model is \\n\\n',conf_matrix_df)\n",
        "print(\"--------------------------------------------------------------------------------------------\")"
      ],
      "metadata": {
        "id": "N1xqkQDiZH8e",
        "outputId": "1cb45818-34ae-43f9-82b8-ee0aa971752d",
        "colab": {
          "base_uri": "https://localhost:8080/"
        }
      },
      "execution_count": null,
      "outputs": [
        {
          "output_type": "stream",
          "name": "stdout",
          "text": [
            "The number of wrong predictions made by the KNN model with N-GRAM are: 87\n",
            "\n",
            "The confusion matrix for the KNN model is \n",
            "\n",
            "             Herman  Maria  Chesterton  Jane  Milton\n",
            "Herman          29      2           2     2       2\n",
            "Maria           12      8           3     5       5\n",
            "Chesterton       3      0          30     0       5\n",
            "Jane             8      3           0    28       5\n",
            "Milton           9      1          18     2      18\n",
            "--------------------------------------------------------------------------------------------\n"
          ]
        }
      ]
    },
    {
      "cell_type": "code",
      "source": [
        "sns.heatmap(conf_matrix_df, annot=True, fmt='d')\n",
        "plt.title(\"Confusion Matrix for KNN Model\")\n",
        "plt.xlabel(\"Predicted Label\")\n",
        "plt.ylabel(\"True Label\")\n",
        "plt.show()"
      ],
      "metadata": {
        "id": "Tb6HN1tD7Myf",
        "outputId": "d8bef22a-8b56-47f0-9e74-d7330c45fd2d",
        "colab": {
          "base_uri": "https://localhost:8080/",
          "height": 295
        }
      },
      "execution_count": null,
      "outputs": [
        {
          "output_type": "display_data",
          "data": {
            "text/plain": [
              "<Figure size 432x288 with 2 Axes>"
            ],
            "image/png": "[encoded data removed]"
          },
          "metadata": {
            "needs_background": "light"
          }
        }
      ]
    },
    {
      "cell_type": "markdown",
      "source": [
        "# Decision Tree ERROR AND CONFUSION MATRIX"
      ],
      "metadata": {
        "id": "nsbyvwCNZL-0"
      }
    },
    {
      "cell_type": "code",
      "source": [
        "temp=[]\n",
        "for i in y_test.index:\n",
        "  temp.append(data['Text'].iloc[i])\n",
        "df=pd.DataFrame(temp,columns=['Text'])\n",
        "dt_pred = dt.predict(X_test)\n",
        "df['actual_data']=y_test.to_numpy()\n",
        "df['predicted_data']=dt_pred\n",
        "df"
      ],
      "metadata": {
        "id": "2KFkuHkaZOpw",
        "outputId": "14efb911-9455-4b31-e05d-37aa2845eb2c",
        "colab": {
          "base_uri": "https://localhost:8080/",
          "height": 423
        }
      },
      "execution_count": null,
      "outputs": [
        {
          "output_type": "execute_result",
          "data": {
            "text/plain": [
              "                                                  Text       actual_data  \\\n",
              "0     he said in a dangerous voice   that I am seri...  G. K. Chesterton   \n",
              "1    or Mr Knightley particularly delighted  They w...       Jane Austen   \n",
              "2    in his face   I do not know which it ought to ...       Jane Austen   \n",
              "3    journey    Yes  upon my word  very considerabl...       Jane Austen   \n",
              "4    would be a new emotion to get a knife into a F...  G. K. Chesterton   \n",
              "..                                                 ...               ...   \n",
              "195  forts of sand were even as weak as eve  High a...  G. K. Chesterton   \n",
              "196   Lucy  But let the old man  then  come in here...             Maria   \n",
              "197  from us so long  Patty  2nd Peasant   Please y...             Maria   \n",
              "198  horse  Seats tolerably in the shade were found...       Jane Austen   \n",
              "199  Goney that another homewardbound whaleman  the...   Herman Melville   \n",
              "\n",
              "       predicted_data  \n",
              "0    G. K. Chesterton  \n",
              "1         Jane Austen  \n",
              "2         Jane Austen  \n",
              "3         Jane Austen  \n",
              "4               Maria  \n",
              "..                ...  \n",
              "195  G. K. Chesterton  \n",
              "196   Herman Melville  \n",
              "197   Herman Melville  \n",
              "198       Jane Austen  \n",
              "199   Herman Melville  \n",
              "\n",
              "[200 rows x 3 columns]"
            ],
            "text/html": [
              "\n",
              "  <div id=\"df-96464af6-4c44-46c8-ad90-8c191b995c36\">\n",
              "    <div class=\"colab-df-container\">\n",
              "      <div>\n",
              "<style scoped>\n",
              "    .dataframe tbody tr th:only-of-type {\n",
              "        vertical-align: middle;\n",
              "    }\n",
              "\n",
              "    .dataframe tbody tr th {\n",
              "        vertical-align: top;\n",
              "    }\n",
              "\n",
              "    .dataframe thead th {\n",
              "        text-align: right;\n",
              "    }\n",
              "</style>\n",
              "<table border=\"1\" class=\"dataframe\">\n",
              "  <thead>\n",
              "    <tr style=\"text-align: right;\">\n",
              "      <th></th>\n",
              "      <th>Text</th>\n",
              "      <th>actual_data</th>\n",
              "      <th>predicted_data</th>\n",
              "    </tr>\n",
              "  </thead>\n",
              "  <tbody>\n",
              "    <tr>\n",
              "      <th>0</th>\n",
              "      <td>he said in a dangerous voice   that I am seri...</td>\n",
              "      <td>G. K. Chesterton</td>\n",
              "      <td>G. K. Chesterton</td>\n",
              "    </tr>\n",
              "    <tr>\n",
              "      <th>1</th>\n",
              "      <td>or Mr Knightley particularly delighted  They w...</td>\n",
              "      <td>Jane Austen</td>\n",
              "      <td>Jane Austen</td>\n",
              "    </tr>\n",
              "    <tr>\n",
              "      <th>2</th>\n",
              "      <td>in his face   I do not know which it ought to ...</td>\n",
              "      <td>Jane Austen</td>\n",
              "      <td>Jane Austen</td>\n",
              "    </tr>\n",
              "    <tr>\n",
              "      <th>3</th>\n",
              "      <td>journey    Yes  upon my word  very considerabl...</td>\n",
              "      <td>Jane Austen</td>\n",
              "      <td>Jane Austen</td>\n",
              "    </tr>\n",
              "    <tr>\n",
              "      <th>4</th>\n",
              "      <td>would be a new emotion to get a knife into a F...</td>\n",
              "      <td>G. K. Chesterton</td>\n",
              "      <td>Maria</td>\n",
              "    </tr>\n",
              "    <tr>\n",
              "      <th>...</th>\n",
              "      <td>...</td>\n",
              "      <td>...</td>\n",
              "      <td>...</td>\n",
              "    </tr>\n",
              "    <tr>\n",
              "      <th>195</th>\n",
              "      <td>forts of sand were even as weak as eve  High a...</td>\n",
              "      <td>G. K. Chesterton</td>\n",
              "      <td>G. K. Chesterton</td>\n",
              "    </tr>\n",
              "    <tr>\n",
              "      <th>196</th>\n",
              "      <td>Lucy  But let the old man  then  come in here...</td>\n",
              "      <td>Maria</td>\n",
              "      <td>Herman Melville</td>\n",
              "    </tr>\n",
              "    <tr>\n",
              "      <th>197</th>\n",
              "      <td>from us so long  Patty  2nd Peasant   Please y...</td>\n",
              "      <td>Maria</td>\n",
              "      <td>Herman Melville</td>\n",
              "    </tr>\n",
              "    <tr>\n",
              "      <th>198</th>\n",
              "      <td>horse  Seats tolerably in the shade were found...</td>\n",
              "      <td>Jane Austen</td>\n",
              "      <td>Jane Austen</td>\n",
              "    </tr>\n",
              "    <tr>\n",
              "      <th>199</th>\n",
              "      <td>Goney that another homewardbound whaleman  the...</td>\n",
              "      <td>Herman Melville</td>\n",
              "      <td>Herman Melville</td>\n",
              "    </tr>\n",
              "  </tbody>\n",
              "</table>\n",
              "<p>200 rows × 3 columns</p>\n",
              "</div>\n",
              "      <button class=\"colab-df-convert\" onclick=\"convertToInteractive('df-96464af6-4c44-46c8-ad90-8c191b995c36')\"\n",
              "              title=\"Convert this dataframe to an interactive table.\"\n",
              "              style=\"display:none;\">\n",
              "        \n",
              "  <svg xmlns=\"http://www.w3.org/2000/svg\" height=\"24px\"viewBox=\"0 0 24 24\"\n",
              "       width=\"24px\">\n",
              "    <path d=\"M0 0h24v24H0V0z\" fill=\"none\"/>\n",
              "    <path d=\"M18.56 5.44l.94 2.06.94-2.06 2.06-.94-2.06-.94-.94-2.06-.94 2.06-2.06.94zm-11 1L8.5 8.5l.94-2.06 2.06-.94-2.06-.94L8.5 2.5l-.94 2.06-2.06.94zm10 10l.94 2.06.94-2.06 2.06-.94-2.06-.94-.94-2.06-.94 2.06-2.06.94z\"/><path d=\"M17.41 7.96l-1.37-1.37c-.4-.4-.92-.59-1.43-.59-.52 0-1.04.2-1.43.59L10.3 9.45l-7.72 7.72c-.78.78-.78 2.05 0 2.83L4 21.41c.39.39.9.59 1.41.59.51 0 1.02-.2 1.41-.59l7.78-7.78 2.81-2.81c.8-.78.8-2.07 0-2.86zM5.41 20L4 18.59l7.72-7.72 1.47 1.35L5.41 20z\"/>\n",
              "  </svg>\n",
              "      </button>\n",
              "      \n",
              "  <style>\n",
              "    .colab-df-container {\n",
              "      display:flex;\n",
              "      flex-wrap:wrap;\n",
              "      gap: 12px;\n",
              "    }\n",
              "\n",
              "    .colab-df-convert {\n",
              "      background-color: #E8F0FE;\n",
              "      border: none;\n",
              "      border-radius: 50%;\n",
              "      cursor: pointer;\n",
              "      display: none;\n",
              "      fill: #1967D2;\n",
              "      height: 32px;\n",
              "      padding: 0 0 0 0;\n",
              "      width: 32px;\n",
              "    }\n",
              "\n",
              "    .colab-df-convert:hover {\n",
              "      background-color: #E2EBFA;\n",
              "      box-shadow: 0px 1px 2px rgba(60, 64, 67, 0.3), 0px 1px 3px 1px rgba(60, 64, 67, 0.15);\n",
              "      fill: #174EA6;\n",
              "    }\n",
              "\n",
              "    [theme=dark] .colab-df-convert {\n",
              "      background-color: #3B4455;\n",
              "      fill: #D2E3FC;\n",
              "    }\n",
              "\n",
              "    [theme=dark] .colab-df-convert:hover {\n",
              "      background-color: #434B5C;\n",
              "      box-shadow: 0px 1px 3px 1px rgba(0, 0, 0, 0.15);\n",
              "      filter: drop-shadow(0px 1px 2px rgba(0, 0, 0, 0.3));\n",
              "      fill: #FFFFFF;\n",
              "    }\n",
              "  </style>\n",
              "\n",
              "      <script>\n",
              "        const buttonEl =\n",
              "          document.querySelector('#df-96464af6-4c44-46c8-ad90-8c191b995c36 button.colab-df-convert');\n",
              "        buttonEl.style.display =\n",
              "          google.colab.kernel.accessAllowed ? 'block' : 'none';\n",
              "\n",
              "        async function convertToInteractive(key) {\n",
              "          const element = document.querySelector('#df-96464af6-4c44-46c8-ad90-8c191b995c36');\n",
              "          const dataTable =\n",
              "            await google.colab.kernel.invokeFunction('convertToInteractive',\n",
              "                                                     [key], {});\n",
              "          if (!dataTable) return;\n",
              "\n",
              "          const docLinkHtml = 'Like what you see? Visit the ' +\n",
              "            '<a target=\"_blank\" href=https://colab.research.google.com/notebooks/data_table.ipynb>data table notebook</a>'\n",
              "            + ' to learn more about interactive tables.';\n",
              "          element.innerHTML = '';\n",
              "          dataTable['output_type'] = 'display_data';\n",
              "          await google.colab.output.renderOutput(dataTable, element);\n",
              "          const docLink = document.createElement('div');\n",
              "          docLink.innerHTML = docLinkHtml;\n",
              "          element.appendChild(docLink);\n",
              "        }\n",
              "      </script>\n",
              "    </div>\n",
              "  </div>\n",
              "  "
            ]
          },
          "metadata": {},
          "execution_count": 52
        }
      ]
    },
    {
      "cell_type": "code",
      "source": [
        "df['Count']=df['predicted_data'] == df['actual_data']\n",
        "count=0\n",
        "for i in df['Count']:\n",
        "  if i ==True:\n",
        "    count=count+1\n",
        "df.drop(labels=['Count'],axis=1,inplace=True)\n",
        "print(\"The number of wrong predictions made by the decision tree model with N-GRAM are:\",200-count)\n",
        "\n",
        "conf_matrix = confusion_matrix(y_test.to_numpy(), dt_pred)\n",
        "conf_matrix_df = pd.DataFrame(conf_matrix, index=['Herman', 'Maria','Chesterton','Jane','Milton'], columns=['Herman', 'Maria','Chesterton','Jane','Milton'])\n",
        "print('\\nThe confusion matrix for the Decision Tree model is \\n\\n',conf_matrix_df)\n",
        "print(\"--------------------------------------------------------------------------------------------\")"
      ],
      "metadata": {
        "id": "ztmuvrLSZRA9",
        "outputId": "753e899a-4b7d-4c6c-dd54-b271d826bbe2",
        "colab": {
          "base_uri": "https://localhost:8080/"
        }
      },
      "execution_count": null,
      "outputs": [
        {
          "output_type": "stream",
          "name": "stdout",
          "text": [
            "The number of wrong predictions made by the decision tree model with N-GRAM are: 78\n",
            "\n",
            "The confusion matrix for the Decision Tree model is \n",
            "\n",
            "             Herman  Maria  Chesterton  Jane  Milton\n",
            "Herman          25      4           1     2       5\n",
            "Maria            3     11           1    10       8\n",
            "Chesterton       2      0          27     0       9\n",
            "Jane             1      5           1    36       1\n",
            "Milton           8     12           5     0      23\n",
            "--------------------------------------------------------------------------------------------\n"
          ]
        }
      ]
    },
    {
      "cell_type": "code",
      "source": [
        "sns.heatmap(conf_matrix_df, annot=True, fmt='d')\n",
        "plt.title(\"Confusion Matrix for Decision Tree Model\")\n",
        "plt.xlabel(\"Predicted Label\")\n",
        "plt.ylabel(\"True Label\")\n",
        "plt.show()"
      ],
      "metadata": {
        "id": "hjzWAJGt7PGv",
        "outputId": "490d101b-5194-4c4a-ee1d-882c00b23fc1",
        "colab": {
          "base_uri": "https://localhost:8080/",
          "height": 295
        }
      },
      "execution_count": null,
      "outputs": [
        {
          "output_type": "display_data",
          "data": {
            "text/plain": [
              "<Figure size 432x288 with 2 Axes>"
            ],
            "image/png": "[encoded data removed]"
          },
          "metadata": {
            "needs_background": "light"
          }
        }
      ]
    },
    {
      "cell_type": "markdown",
      "source": [
        "# XGBoost ERROR AND CONFUSION MATRIX"
      ],
      "metadata": {
        "id": "-4LHdfELZTxx"
      }
    },
    {
      "cell_type": "code",
      "source": [
        "temp=[]\n",
        "for i in y_test.index:\n",
        "  temp.append(data['Text'].iloc[i])\n",
        "df=pd.DataFrame(temp,columns=['Text'])\n",
        "xgb_pred = xgb_model.predict(X_test)\n",
        "df['actual_data']=y_test.to_numpy()\n",
        "df['predicted_data']=xgb_pred\n",
        "df"
      ],
      "metadata": {
        "id": "CPXi2z1TZYc9",
        "outputId": "5826d147-71a9-420b-95b1-0c49978fe2e1",
        "colab": {
          "base_uri": "https://localhost:8080/",
          "height": 423
        }
      },
      "execution_count": null,
      "outputs": [
        {
          "output_type": "execute_result",
          "data": {
            "text/plain": [
              "                                                  Text       actual_data  \\\n",
              "0     he said in a dangerous voice   that I am seri...  G. K. Chesterton   \n",
              "1    or Mr Knightley particularly delighted  They w...       Jane Austen   \n",
              "2    in his face   I do not know which it ought to ...       Jane Austen   \n",
              "3    journey    Yes  upon my word  very considerabl...       Jane Austen   \n",
              "4    would be a new emotion to get a knife into a F...  G. K. Chesterton   \n",
              "..                                                 ...               ...   \n",
              "195  forts of sand were even as weak as eve  High a...  G. K. Chesterton   \n",
              "196   Lucy  But let the old man  then  come in here...             Maria   \n",
              "197  from us so long  Patty  2nd Peasant   Please y...             Maria   \n",
              "198  horse  Seats tolerably in the shade were found...       Jane Austen   \n",
              "199  Goney that another homewardbound whaleman  the...   Herman Melville   \n",
              "\n",
              "       predicted_data  \n",
              "0    G. K. Chesterton  \n",
              "1         Jane Austen  \n",
              "2         Jane Austen  \n",
              "3         Jane Austen  \n",
              "4    G. K. Chesterton  \n",
              "..                ...  \n",
              "195   Herman Melville  \n",
              "196             Maria  \n",
              "197   Herman Melville  \n",
              "198       Jane Austen  \n",
              "199   Herman Melville  \n",
              "\n",
              "[200 rows x 3 columns]"
            ],
            "text/html": [
              "\n",
              "  <div id=\"df-561e6a02-7314-4574-869c-5e684e782187\">\n",
              "    <div class=\"colab-df-container\">\n",
              "      <div>\n",
              "<style scoped>\n",
              "    .dataframe tbody tr th:only-of-type {\n",
              "        vertical-align: middle;\n",
              "    }\n",
              "\n",
              "    .dataframe tbody tr th {\n",
              "        vertical-align: top;\n",
              "    }\n",
              "\n",
              "    .dataframe thead th {\n",
              "        text-align: right;\n",
              "    }\n",
              "</style>\n",
              "<table border=\"1\" class=\"dataframe\">\n",
              "  <thead>\n",
              "    <tr style=\"text-align: right;\">\n",
              "      <th></th>\n",
              "      <th>Text</th>\n",
              "      <th>actual_data</th>\n",
              "      <th>predicted_data</th>\n",
              "    </tr>\n",
              "  </thead>\n",
              "  <tbody>\n",
              "    <tr>\n",
              "      <th>0</th>\n",
              "      <td>he said in a dangerous voice   that I am seri...</td>\n",
              "      <td>G. K. Chesterton</td>\n",
              "      <td>G. K. Chesterton</td>\n",
              "    </tr>\n",
              "    <tr>\n",
              "      <th>1</th>\n",
              "      <td>or Mr Knightley particularly delighted  They w...</td>\n",
              "      <td>Jane Austen</td>\n",
              "      <td>Jane Austen</td>\n",
              "    </tr>\n",
              "    <tr>\n",
              "      <th>2</th>\n",
              "      <td>in his face   I do not know which it ought to ...</td>\n",
              "      <td>Jane Austen</td>\n",
              "      <td>Jane Austen</td>\n",
              "    </tr>\n",
              "    <tr>\n",
              "      <th>3</th>\n",
              "      <td>journey    Yes  upon my word  very considerabl...</td>\n",
              "      <td>Jane Austen</td>\n",
              "      <td>Jane Austen</td>\n",
              "    </tr>\n",
              "    <tr>\n",
              "      <th>4</th>\n",
              "      <td>would be a new emotion to get a knife into a F...</td>\n",
              "      <td>G. K. Chesterton</td>\n",
              "      <td>G. K. Chesterton</td>\n",
              "    </tr>\n",
              "    <tr>\n",
              "      <th>...</th>\n",
              "      <td>...</td>\n",
              "      <td>...</td>\n",
              "      <td>...</td>\n",
              "    </tr>\n",
              "    <tr>\n",
              "      <th>195</th>\n",
              "      <td>forts of sand were even as weak as eve  High a...</td>\n",
              "      <td>G. K. Chesterton</td>\n",
              "      <td>Herman Melville</td>\n",
              "    </tr>\n",
              "    <tr>\n",
              "      <th>196</th>\n",
              "      <td>Lucy  But let the old man  then  come in here...</td>\n",
              "      <td>Maria</td>\n",
              "      <td>Maria</td>\n",
              "    </tr>\n",
              "    <tr>\n",
              "      <th>197</th>\n",
              "      <td>from us so long  Patty  2nd Peasant   Please y...</td>\n",
              "      <td>Maria</td>\n",
              "      <td>Herman Melville</td>\n",
              "    </tr>\n",
              "    <tr>\n",
              "      <th>198</th>\n",
              "      <td>horse  Seats tolerably in the shade were found...</td>\n",
              "      <td>Jane Austen</td>\n",
              "      <td>Jane Austen</td>\n",
              "    </tr>\n",
              "    <tr>\n",
              "      <th>199</th>\n",
              "      <td>Goney that another homewardbound whaleman  the...</td>\n",
              "      <td>Herman Melville</td>\n",
              "      <td>Herman Melville</td>\n",
              "    </tr>\n",
              "  </tbody>\n",
              "</table>\n",
              "<p>200 rows × 3 columns</p>\n",
              "</div>\n",
              "      <button class=\"colab-df-convert\" onclick=\"convertToInteractive('df-561e6a02-7314-4574-869c-5e684e782187')\"\n",
              "              title=\"Convert this dataframe to an interactive table.\"\n",
              "              style=\"display:none;\">\n",
              "        \n",
              "  <svg xmlns=\"http://www.w3.org/2000/svg\" height=\"24px\"viewBox=\"0 0 24 24\"\n",
              "       width=\"24px\">\n",
              "    <path d=\"M0 0h24v24H0V0z\" fill=\"none\"/>\n",
              "    <path d=\"M18.56 5.44l.94 2.06.94-2.06 2.06-.94-2.06-.94-.94-2.06-.94 2.06-2.06.94zm-11 1L8.5 8.5l.94-2.06 2.06-.94-2.06-.94L8.5 2.5l-.94 2.06-2.06.94zm10 10l.94 2.06.94-2.06 2.06-.94-2.06-.94-.94-2.06-.94 2.06-2.06.94z\"/><path d=\"M17.41 7.96l-1.37-1.37c-.4-.4-.92-.59-1.43-.59-.52 0-1.04.2-1.43.59L10.3 9.45l-7.72 7.72c-.78.78-.78 2.05 0 2.83L4 21.41c.39.39.9.59 1.41.59.51 0 1.02-.2 1.41-.59l7.78-7.78 2.81-2.81c.8-.78.8-2.07 0-2.86zM5.41 20L4 18.59l7.72-7.72 1.47 1.35L5.41 20z\"/>\n",
              "  </svg>\n",
              "      </button>\n",
              "      \n",
              "  <style>\n",
              "    .colab-df-container {\n",
              "      display:flex;\n",
              "      flex-wrap:wrap;\n",
              "      gap: 12px;\n",
              "    }\n",
              "\n",
              "    .colab-df-convert {\n",
              "      background-color: #E8F0FE;\n",
              "      border: none;\n",
              "      border-radius: 50%;\n",
              "      cursor: pointer;\n",
              "      display: none;\n",
              "      fill: #1967D2;\n",
              "      height: 32px;\n",
              "      padding: 0 0 0 0;\n",
              "      width: 32px;\n",
              "    }\n",
              "\n",
              "    .colab-df-convert:hover {\n",
              "      background-color: #E2EBFA;\n",
              "      box-shadow: 0px 1px 2px rgba(60, 64, 67, 0.3), 0px 1px 3px 1px rgba(60, 64, 67, 0.15);\n",
              "      fill: #174EA6;\n",
              "    }\n",
              "\n",
              "    [theme=dark] .colab-df-convert {\n",
              "      background-color: #3B4455;\n",
              "      fill: #D2E3FC;\n",
              "    }\n",
              "\n",
              "    [theme=dark] .colab-df-convert:hover {\n",
              "      background-color: #434B5C;\n",
              "      box-shadow: 0px 1px 3px 1px rgba(0, 0, 0, 0.15);\n",
              "      filter: drop-shadow(0px 1px 2px rgba(0, 0, 0, 0.3));\n",
              "      fill: #FFFFFF;\n",
              "    }\n",
              "  </style>\n",
              "\n",
              "      <script>\n",
              "        const buttonEl =\n",
              "          document.querySelector('#df-561e6a02-7314-4574-869c-5e684e782187 button.colab-df-convert');\n",
              "        buttonEl.style.display =\n",
              "          google.colab.kernel.accessAllowed ? 'block' : 'none';\n",
              "\n",
              "        async function convertToInteractive(key) {\n",
              "          const element = document.querySelector('#df-561e6a02-7314-4574-869c-5e684e782187');\n",
              "          const dataTable =\n",
              "            await google.colab.kernel.invokeFunction('convertToInteractive',\n",
              "                                                     [key], {});\n",
              "          if (!dataTable) return;\n",
              "\n",
              "          const docLinkHtml = 'Like what you see? Visit the ' +\n",
              "            '<a target=\"_blank\" href=https://colab.research.google.com/notebooks/data_table.ipynb>data table notebook</a>'\n",
              "            + ' to learn more about interactive tables.';\n",
              "          element.innerHTML = '';\n",
              "          dataTable['output_type'] = 'display_data';\n",
              "          await google.colab.output.renderOutput(dataTable, element);\n",
              "          const docLink = document.createElement('div');\n",
              "          docLink.innerHTML = docLinkHtml;\n",
              "          element.appendChild(docLink);\n",
              "        }\n",
              "      </script>\n",
              "    </div>\n",
              "  </div>\n",
              "  "
            ]
          },
          "metadata": {},
          "execution_count": 55
        }
      ]
    },
    {
      "cell_type": "code",
      "source": [
        "df['Count']=df['predicted_data'] == df['actual_data']\n",
        "count=0\n",
        "for i in df['Count']:\n",
        "  if i ==True:\n",
        "    count=count+1\n",
        "df.drop(labels=['Count'],axis=1,inplace=True)\n",
        "print(\"The number of wrong predictions made by the XGBoost model with N-GRAM are:\",200-count)\n",
        "\n",
        "conf_matrix = confusion_matrix(y_test.to_numpy(), xgb_pred)\n",
        "conf_matrix_df = pd.DataFrame(conf_matrix, index=['Herman', 'Maria','Chesterton','Jane','Milton'], columns=['Herman', 'Maria','Chesterton','Jane','Milton'])\n",
        "print('\\nThe confusion matrix for the XGBoost model is \\n\\n',conf_matrix_df)\n",
        "print(\"--------------------------------------------------------------------------------------------\")"
      ],
      "metadata": {
        "id": "5gd0e1NNZaGl",
        "outputId": "f423f8d9-95f8-428b-9d22-50fc31d4e2e7",
        "colab": {
          "base_uri": "https://localhost:8080/"
        }
      },
      "execution_count": null,
      "outputs": [
        {
          "output_type": "stream",
          "name": "stdout",
          "text": [
            "The number of wrong predictions made by the XGBoost model with N-GRAM are: 26\n",
            "\n",
            "The confusion matrix for the XGBoost model is \n",
            "\n",
            "             Herman  Maria  Chesterton  Jane  Milton\n",
            "Herman          30      2           0     2       3\n",
            "Maria            0     26           0     6       1\n",
            "Chesterton       1      0          34     0       3\n",
            "Jane             0      1           0    43       0\n",
            "Milton           2      1           4     0      41\n",
            "--------------------------------------------------------------------------------------------\n"
          ]
        }
      ]
    },
    {
      "cell_type": "code",
      "source": [
        "sns.heatmap(conf_matrix_df, annot=True, fmt='d')\n",
        "plt.title(\"Confusion Matrix for XGBoost Model\")\n",
        "plt.xlabel(\"Predicted Label\")\n",
        "plt.ylabel(\"True Label\")\n",
        "plt.show()"
      ],
      "metadata": {
        "id": "_S1ckmxz7SJC",
        "outputId": "6b07b595-ce9c-4b50-d2d8-efa16733f995",
        "colab": {
          "base_uri": "https://localhost:8080/",
          "height": 295
        }
      },
      "execution_count": null,
      "outputs": [
        {
          "output_type": "display_data",
          "data": {
            "text/plain": [
              "<Figure size 432x288 with 2 Axes>"
            ],
            "image/png": "[encoded data removed]"
          },
          "metadata": {
            "needs_background": "light"
          }
        }
      ]
    },
    {
      "cell_type": "markdown",
      "source": [
        "# 10 Fold cross validation"
      ],
      "metadata": {
        "id": "OI_wKR19tHnt"
      }
    },
    {
      "cell_type": "code",
      "source": [
        "print(\"10 fold validation for SVM \\n\")\n",
        "accuracies=ten_fold_cross_validation(svm,ngrams,data['Author'])\n",
        "print(accuracies)\n",
        "print(\"Bias and Variability for SVM model is\\n\")\n",
        "bias = 1-np.mean(accuracies)\n",
        "variability = np.std(accuracies)\n",
        "\n",
        "print(\"Bias: {:.3f}\".format(bias))\n",
        "print(\"Variability: {:.3f}\".format(variability))"
      ],
      "metadata": {
        "id": "0JrNDJcMtJt_",
        "outputId": "32931d09-9c01-4a1c-ede6-ebd9bd9ed1ad",
        "colab": {
          "base_uri": "https://localhost:8080/"
        }
      },
      "execution_count": null,
      "outputs": [
        {
          "output_type": "stream",
          "name": "stdout",
          "text": [
            "10 fold validation for SVM \n",
            "\n",
            "[0.36 0.32 0.17 0.17 0.32 0.35 0.58 0.47 0.82 0.75]\n",
            "Bias and Variability for SVM model is\n",
            "\n",
            "Bias: 0.569\n",
            "Variability: 0.212\n"
          ]
        }
      ]
    },
    {
      "cell_type": "code",
      "source": [
        "print(\"10 fold validation for KNN \\n\")\n",
        "accuracies=ten_fold_cross_validation(knn,ngrams,data['Author'])\n",
        "print(accuracies)\n",
        "print(\"Bias and Variability for KNN model is\\n\")\n",
        "bias = 1-np.mean(accuracies)\n",
        "variability = np.std(accuracies)\n",
        "\n",
        "print(\"Bias: {:.3f}\".format(bias))\n",
        "print(\"Variability: {:.3f}\".format(variability))"
      ],
      "metadata": {
        "id": "Sovt-k-mtRq5",
        "outputId": "38293866-686f-47db-d42b-1082f774b72d",
        "colab": {
          "base_uri": "https://localhost:8080/"
        }
      },
      "execution_count": null,
      "outputs": [
        {
          "output_type": "stream",
          "name": "stdout",
          "text": [
            "10 fold validation for KNN \n",
            "\n",
            "[0.15 0.15 0.2  0.1  0.52 0.38 0.5  0.6  0.33 0.37]\n",
            "Bias and Variability for KNN model is\n",
            "\n",
            "Bias: 0.670\n",
            "Variability: 0.166\n"
          ]
        }
      ]
    },
    {
      "cell_type": "code",
      "source": [
        "print(\"10 fold validation for Decision Tree \\n\")\n",
        "accuracies=ten_fold_cross_validation(dt,ngrams,data['Author'])\n",
        "print(accuracies)\n",
        "print(\"Bias and Variability for Decision Tree model is\\n\")\n",
        "bias = 1-np.mean(accuracies)\n",
        "variability = np.std(accuracies)\n",
        "\n",
        "print(\"Bias: {:.3f}\".format(bias))\n",
        "print(\"Variability: {:.3f}\".format(variability))"
      ],
      "metadata": {
        "id": "lW3uTqx3tR8U",
        "outputId": "ba4f5c16-702c-41b0-f50b-2b783f068c59",
        "colab": {
          "base_uri": "https://localhost:8080/"
        }
      },
      "execution_count": null,
      "outputs": [
        {
          "output_type": "stream",
          "name": "stdout",
          "text": [
            "10 fold validation for Decision Tree \n",
            "\n",
            "[0.41 0.46 0.38 0.33 0.51 0.66 0.63 0.61 0.75 0.75]\n",
            "Bias and Variability for Decision Tree model is\n",
            "\n",
            "Bias: 0.451\n",
            "Variability: 0.144\n"
          ]
        }
      ]
    },
    {
      "cell_type": "code",
      "source": [
        "print(\"10 fold validation for XGB \\n\")\n",
        "accuracies=ten_fold_cross_validation(xgb_model,ngrams,data['Author'])\n",
        "print(accuracies)\n",
        "print(\"Bias and Variability for XGB model is\\n\")\n",
        "bias = 1-np.mean(accuracies)\n",
        "variability = np.std(accuracies)\n",
        "\n",
        "print(\"Bias: {:.3f}\".format(bias))\n",
        "print(\"Variability: {:.3f}\".format(variability))"
      ],
      "metadata": {
        "id": "DBWDWuqTtSGh",
        "colab": {
          "base_uri": "https://localhost:8080/"
        },
        "outputId": "b5cdd3cc-c745-4ac5-ff6c-04f70cd4ff30"
      },
      "execution_count": null,
      "outputs": [
        {
          "output_type": "stream",
          "name": "stdout",
          "text": [
            "10 fold validation for XGB \n",
            "\n",
            "[0.68 0.58 0.49 0.62 0.58 0.76 0.77 0.66 0.92 0.87]\n",
            "Bias and Variability for XGB model is\n",
            "\n",
            "Bias: 0.307\n",
            "Variability: 0.129\n"
          ]
        }
      ]
    },
    {
      "cell_type": "markdown",
      "source": [
        "# CHAMPION MODEL = SVM WITH TF-IDF AVERAGING AN ACCURACY OF 0.94"
      ],
      "metadata": {
        "id": "wuX9BGWfBks-"
      }
    },
    {
      "cell_type": "markdown",
      "source": [
        "# 10 FOLD COSS VALIDATION FOR CHAMPION MODEL \n"
      ],
      "metadata": {
        "id": "MlIE4GJRBfS9"
      }
    },
    {
      "cell_type": "code",
      "source": [
        "import numpy as np\n",
        "from sklearn.model_selection import KFold\n",
        "\n",
        "def ten_fold_cross_validation(model, X, y):\n",
        "    kf = KFold(n_splits=10)\n",
        "    accuracy = []\n",
        "\n",
        "    for train_index, test_index in kf.split(X):\n",
        "        X_train, X_test = X[train_index], X[test_index]\n",
        "        y_train, y_test = y[train_index], y[test_index]\n",
        "        \n",
        "        model.fit(X_train, y_train)\n",
        "        accuracy.append(model.score(X_test, y_test))\n",
        "    \n",
        "    return np.array(accuracy)\n"
      ],
      "metadata": {
        "id": "3Aqs3RN0Be2W"
      },
      "execution_count": null,
      "outputs": []
    },
    {
      "cell_type": "code",
      "source": [
        "print(\"10 fold validation for SVM \")\n",
        "ten_fold_cross_validation(svm,tfidf,data['Author'])"
      ],
      "metadata": {
        "id": "q9g9rW7mBy4W",
        "outputId": "1794e489-6ab9-4d3d-c311-3f46dd98d143",
        "colab": {
          "base_uri": "https://localhost:8080/"
        }
      },
      "execution_count": null,
      "outputs": [
        {
          "output_type": "stream",
          "name": "stdout",
          "text": [
            "10 fold validation for SVM \n"
          ]
        },
        {
          "output_type": "execute_result",
          "data": {
            "text/plain": [
              "array([0.44, 0.37, 0.35, 0.34, 0.38, 0.41, 0.68, 0.53, 0.75, 0.7 ])"
            ]
          },
          "metadata": {},
          "execution_count": 63
        }
      ]
    },
    {
      "cell_type": "code",
      "source": [
        "accuracy = ten_fold_cross_validation(svm,bag_of_words,data['Author'])\n",
        "\n",
        "plt.bar(range(1, 11), accuracy, align='center')\n",
        "plt.xticks(range(1, 11))\n",
        "plt.xlabel('Fold Number')\n",
        "plt.ylabel('Accuracy')\n",
        "plt.title('10-Fold Cross Validation Accuracy')\n",
        "plt.show()"
      ],
      "metadata": {
        "id": "0gKI5CL-7beh",
        "outputId": "d9c1195b-df40-4ff4-bbc5-d70254f88fa0",
        "colab": {
          "base_uri": "https://localhost:8080/",
          "height": 295
        }
      },
      "execution_count": null,
      "outputs": [
        {
          "output_type": "display_data",
          "data": {
            "text/plain": [
              "<Figure size 432x288 with 1 Axes>"
            ],
            "image/png": "[encoded data removed]"
          },
          "metadata": {
            "needs_background": "light"
          }
        }
      ]
    },
    {
      "cell_type": "markdown",
      "source": [
        "BIAS AND VARIABILITY "
      ],
      "metadata": {
        "id": "3ndxPTU3kIir"
      }
    },
    {
      "cell_type": "code",
      "source": [
        "bias = 1-np.mean(accuracies)\n",
        "variability = np.std(accuracies)\n",
        "\n",
        "print(\"Bias: {:.3f}\".format(bias))\n",
        "print(\"Variability: {:.3f}\".format(variability))"
      ],
      "metadata": {
        "id": "5_FWndqKjMJI",
        "outputId": "5e481a55-ea98-4775-ee32-56afb3ac066b",
        "colab": {
          "base_uri": "https://localhost:8080/"
        }
      },
      "execution_count": null,
      "outputs": [
        {
          "output_type": "stream",
          "name": "stdout",
          "text": [
            "Bias: 0.307\n",
            "Variability: 0.129\n"
          ]
        }
      ]
    },
    {
      "cell_type": "markdown",
      "source": [
        "# LOWERING THE ACCURACY "
      ],
      "metadata": {
        "id": "fc04mNRbcPpv"
      }
    },
    {
      "cell_type": "markdown",
      "source": [
        "the accuracy of the champion model has been lowered to 0.69 which is approx 20% "
      ],
      "metadata": {
        "id": "XiQGFpcuikRO"
      }
    },
    {
      "cell_type": "code",
      "source": [
        "import pandas as pd\n",
        "import numpy as np\n",
        "from sklearn.feature_extraction.text import TfidfVectorizer\n",
        "from sklearn.model_selection import train_test_split\n",
        "from sklearn.neighbors import KNeighborsClassifier\n",
        "from sklearn.svm import SVC\n",
        "import xgboost as xgb\n",
        "from sklearn.metrics import accuracy_score\n",
        "import matplotlib.pyplot as plt\n",
        "\n",
        "# Read the csv file\n",
        "#df = pd.read_csv('book_partitions.csv')\n",
        "\n",
        "# Convert the text data into a tf-idf representation\n",
        "vectorizer = TfidfVectorizer()\n",
        "tfidf = vectorizer.fit_transform(data['Text'].values)\n",
        "\n",
        "# Split the data into training and testing sets\n",
        "X_train, X_test, y_train, y_test = train_test_split(tfidf, data['Author'], test_size=0.8, random_state=42)\n",
        "\n",
        "# K-NEAREST NEIGHBOUR \n",
        "# Train and evaluate the KNN model\n",
        "knn = KNeighborsClassifier()\n",
        "knn.fit(X_train, y_train)\n",
        "knn_pred = knn.predict(X_test)\n",
        "\n",
        "\n",
        "knn_accuracy = accuracy_score(y_test, knn_pred)\n",
        "knn_precision = precision_score(y_test, knn_pred,average='micro')\n",
        "knn_recall = recall_score(y_test, knn_pred,average='micro')\n",
        "knn_fscore = f1_score (y_test, knn_pred,average='micro')\n",
        "\n",
        "print('knn_accuracy with TF-IDF = ',knn_accuracy)\n",
        "print('knn_precision with TF-IDF = ',knn_precision)\n",
        "print('knn_recall with TF-IDF = ',knn_recall)\n",
        "print('knn_Fscore with TF-IDF = ',knn_fscore)\n",
        "print(\"----------------------------------------------------------------\")\n",
        "\n",
        "\n",
        "#DECISION TREE \n",
        "# Train and evaluate the Decision Tree model\n",
        "dt = DecisionTreeClassifier()\n",
        "dt.fit(X_train, y_train)\n",
        "dt_pred = dt.predict(X_test)\n",
        "\n",
        "\n",
        "\n",
        "dt_accuracy = accuracy_score(y_test, dt_pred)\n",
        "dt_precision = precision_score(y_test, dt_pred,average='micro')\n",
        "dt_recall = recall_score(y_test, dt_pred,average='micro')\n",
        "dt_fscore = f1_score (y_test, dt_pred,average='micro')\n",
        "\n",
        "print('dt_accuracy with TF-IDF  = ',dt_accuracy)\n",
        "print('dt_precision with TF-IDF = ',dt_precision)\n",
        "print('dt_recall with TF-IDF = ',dt_recall)\n",
        "print('dt_Fscore with TF-IDF = ',dt_fscore)\n",
        "print(\"----------------------------------------------------------------\")\n",
        "\n",
        "\n",
        "\n",
        "# Train and evaluate the SVM model\n",
        "svm = SVC()\n",
        "svm.fit(X_train, y_train)\n",
        "svm_pred = svm.predict(X_test)\n",
        "\n",
        "\n",
        "svm_accuracy = accuracy_score(y_test, svm_pred)\n",
        "svm_precision = precision_score(y_test, svm_pred,average='micro')\n",
        "svm_recall = recall_score(y_test, svm_pred,average='micro')\n",
        "svm_fscore = f1_score (y_test, svm_pred,average='micro')\n",
        "\n",
        "\n",
        "print('svm_accuracy with TF-IDF = ',svm_accuracy)\n",
        "print('svm_precision with TF-IDF = ',svm_precision)\n",
        "print('svm_recall with TF-IDF = ',svm_recall)\n",
        "print('svm_Fscore with TF-IDF = ',svm_fscore)\n",
        "print(\"----------------------------------------------------------------\")\n",
        "\n",
        "# Train and evaluate the XGBoost model\n",
        "xgb_model = xgb.XGBClassifier()\n",
        "xgb_model.fit(X_train, y_train)\n",
        "xgb_pred = xgb_model.predict(X_test)\n",
        "\n",
        "xgb_accuracy = accuracy_score(y_test, xgb_pred)\n",
        "xgb_precision = precision_score(y_test, xgb_pred,average='micro')\n",
        "xgb_recall = recall_score(y_test, xgb_pred,average='micro')\n",
        "xgb_fscore = f1_score (y_test, xgb_pred,average='micro')\n",
        "\n",
        "\n",
        "print('xgb_accuracy with TF-IDF = ',xgb_accuracy)\n",
        "print('xgb_precision with TF-IDF = ',xgb_precision)\n",
        "print('xgb_recall with TF-IDF = ',xgb_recall)\n",
        "print('xgb_Fscore with TF-IDF = ',xgb_fscore)\n",
        "print(\"----------------------------------------------------------------\")\n",
        "#++++++++++++++++++++++++++++++++++++++++++++++++\n",
        "\n",
        "\n",
        "# Plot the accuracy comparison of the models\n",
        "models = ['KNN', 'SVM','DT', 'XGBoost']\n",
        "accuracies = [knn_accuracy, svm_accuracy,dt_accuracy, xgb_accuracy]\n",
        "plt.bar(models, accuracies)\n",
        "plt.xlabel('Models')\n",
        "plt.ylabel('Accuracy')\n",
        "plt.title('Accuracy comparison of models')\n",
        "plt.show()\n",
        "\n",
        "# Plot the Precision comparison of the models\n",
        "models = ['KNN', 'SVM','DT', 'XGBoost']\n",
        "precisions = [knn_precision, svm_precision,dt_precision, xgb_precision]\n",
        "plt.bar(models, precisions)\n",
        "plt.xlabel('Models')\n",
        "plt.ylabel('precision')\n",
        "plt.title('Precision comparison of models')\n",
        "plt.show()\n",
        "\n",
        "# Plot the Recall comparison of the models\n",
        "models = ['KNN', 'SVM','DT', 'XGBoost']\n",
        "recalls = [knn_recall, svm_recall,dt_recall, xgb_recall]\n",
        "plt.bar(models, recalls)\n",
        "plt.xlabel('Models')\n",
        "plt.ylabel('Recall')\n",
        "plt.title('Recall comparison of models')\n",
        "plt.show()\n",
        "\n",
        "# Plot the Fscore comparison of the models\n",
        "models = ['KNN', 'SVM','DT', 'XGBoost']\n",
        "fscores = [knn_fscore, svm_fscore,dt_fscore, xgb_fscore]\n",
        "plt.bar(models, fscores)\n",
        "plt.xlabel('Models')\n",
        "plt.ylabel('Fscore')\n",
        "plt.title('Fscore comparison of models')\n",
        "plt.show()"
      ],
      "metadata": {
        "id": "kvaSTBbDcPNX",
        "outputId": "2b3572b6-8931-4104-a5e2-71faa1ce6a19",
        "colab": {
          "base_uri": "https://localhost:8080/",
          "height": 1000
        }
      },
      "execution_count": null,
      "outputs": [
        {
          "output_type": "stream",
          "name": "stdout",
          "text": [
            "knn_accuracy with TF-IDF =  0.65875\n",
            "knn_precision with TF-IDF =  0.65875\n",
            "knn_recall with TF-IDF =  0.65875\n",
            "knn_Fscore with TF-IDF =  0.65875\n",
            "----------------------------------------------------------------\n",
            "dt_accuracy with TF-IDF  =  0.46625\n",
            "dt_precision with TF-IDF =  0.46625\n",
            "dt_recall with TF-IDF =  0.46625\n",
            "dt_Fscore with TF-IDF =  0.46625\n",
            "----------------------------------------------------------------\n",
            "svm_accuracy with TF-IDF =  0.67625\n",
            "svm_precision with TF-IDF =  0.67625\n",
            "svm_recall with TF-IDF =  0.67625\n",
            "svm_Fscore with TF-IDF =  0.67625\n",
            "----------------------------------------------------------------\n",
            "xgb_accuracy with TF-IDF =  0.6475\n",
            "xgb_precision with TF-IDF =  0.6475\n",
            "xgb_recall with TF-IDF =  0.6475\n",
            "xgb_Fscore with TF-IDF =  0.6475\n",
            "----------------------------------------------------------------\n"
          ]
        },
        {
          "output_type": "display_data",
          "data": {
            "text/plain": [
              "<Figure size 432x288 with 1 Axes>"
            ],
            "image/png": "[encoded data removed]"
          },
          "metadata": {
            "needs_background": "light"
          }
        },
        {
          "output_type": "display_data",
          "data": {
            "text/plain": [
              "<Figure size 432x288 with 1 Axes>"
            ],
            "image/png": "[encoded data removed]"
          },
          "metadata": {
            "needs_background": "light"
          }
        },
        {
          "output_type": "display_data",
          "data": {
            "text/plain": [
              "<Figure size 432x288 with 1 Axes>"
            ],
            "image/png": "[encoded data removed]"
          },
          "metadata": {
            "needs_background": "light"
          }
        },
        {
          "output_type": "display_data",
          "data": {
            "text/plain": [
              "<Figure size 432x288 with 1 Axes>"
            ],
            "image/png": "[encoded data removed]"
          },
          "metadata": {
            "needs_background": "light"
          }
        }
      ]
    }
  ]
}