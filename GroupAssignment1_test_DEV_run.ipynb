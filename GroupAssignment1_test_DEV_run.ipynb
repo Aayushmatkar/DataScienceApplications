{
  "nbformat": 4,
  "nbformat_minor": 0,
  "metadata": {
    "colab": {
      "provenance": [],
      "authorship_tag": "ABX9TyMdArsRnBQcFJFIH8hPZolP",
      "include_colab_link": true
    },
    "kernelspec": {
      "name": "python3",
      "display_name": "Python 3"
    },
    "language_info": {
      "name": "python"
    }
  },
  "cells": [
    {
      "cell_type": "markdown",
      "metadata": {
        "id": "view-in-github",
        "colab_type": "text"
      },
      "source": [
        "<a href=\"https://colab.research.google.com/github/Aayushmatkar/DataScienceApplications/blob/main/GroupAssignment1_test_DEV_run.ipynb\" target=\"_parent\"><img src=\"https://colab.research.google.com/assets/colab-badge.svg\" alt=\"Open In Colab\"/></a>"
      ]
    },
    {
      "cell_type": "code",
      "source": [
        "import nltk\n",
        "import os\n",
        "import nltk\n",
        "from nltk.corpus import gutenberg\n",
        "import re\n",
        "import os,random\n",
        "import pandas as pd\n",
        "nltk.download('punkt')\n",
        "\n",
        "nltk.download('gutenberg')\n",
        "#thsi section is used to extract the list of books made available through gutenberg samples \n",
        "folder_path = \"/root/nltk_data/corpora/gutenberg\"\n",
        "\n",
        "for filename in os.listdir(folder_path):\n",
        "    if os.path.isfile(os.path.join(folder_path, filename)):\n",
        "        print(filename)"
      ],
      "metadata": {
        "colab": {
          "base_uri": "https://localhost:8080/",
          "height": 0
        },
        "id": "WQ_2yFPSoxGP",
        "outputId": "8ab71ceb-d63e-44f2-d97c-087ba0056113"
      },
      "execution_count": 6,
      "outputs": [
        {
          "output_type": "stream",
          "name": "stderr",
          "text": [
            "[nltk_data] Downloading package punkt to /root/nltk_data...\n",
            "[nltk_data]   Unzipping tokenizers/punkt.zip.\n",
            "[nltk_data] Downloading package gutenberg to /root/nltk_data...\n",
            "[nltk_data]   Unzipping corpora/gutenberg.zip.\n"
          ]
        },
        {
          "output_type": "stream",
          "name": "stdout",
          "text": [
            "bryant-stories.txt\n",
            "chesterton-ball.txt\n",
            "shakespeare-caesar.txt\n",
            "austen-sense.txt\n",
            "melville-moby_dick.txt\n",
            "edgeworth-parents.txt\n",
            "shakespeare-hamlet.txt\n",
            "whitman-leaves.txt\n",
            "carroll-alice.txt\n",
            "chesterton-brown.txt\n",
            "chesterton-thursday.txt\n",
            "burgess-busterbrown.txt\n",
            "bible-kjv.txt\n",
            "shakespeare-macbeth.txt\n",
            "README\n",
            "austen-persuasion.txt\n",
            "blake-poems.txt\n",
            "austen-emma.txt\n",
            "milton-paradise.txt\n"
          ]
        }
      ]
    },
    {
      "cell_type": "code",
      "source": [],
      "metadata": {
        "id": "KB6MTvGMo5Lm"
      },
      "execution_count": null,
      "outputs": []
    },
    {
      "cell_type": "code",
      "execution_count": 7,
      "metadata": {
        "colab": {
          "base_uri": "https://localhost:8080/",
          "height": 0
        },
        "id": "tga0efTIjH6w",
        "outputId": "8e88afb3-2557-41c7-a110-1c4dbaf1f2bd"
      },
      "outputs": [
        {
          "output_type": "stream",
          "name": "stdout",
          "text": [
            "enter the label you want in classificationWilliam_Shakespeare\n",
            "partition for the book is exported in books_in_partition.csv.\n"
          ]
        }
      ],
      "source": [
        "\n",
        "\n",
        "# Function to create partitions of 100 words each\n",
        "def textdata_partitions(text, label):\n",
        "    partitions = []\n",
        "    words = nltk.word_tokenize(text)\n",
        "\n",
        "    for c in range(0, len(words)):\n",
        "        partitions.append((words[c:c+100], label)) \n",
        "        c=c+100\n",
        "    return partitions\n",
        "\n",
        "# Opening a sample of gutenberg book \n",
        "#the line below was a trial for generalising the program for taking in book name and the custom label \n",
        "#book = input(\"enter the book name you want to partition\")\n",
        "\n",
        "book = gutenberg.raw('shakespeare-caesar.txt')\n",
        "\n",
        "bookdeets = input(\"enter the label you want in classification\")\n",
        "\n",
        "################################################################################\n",
        "#text data kept commented for code reference and customising for generalisation  \n",
        "#bookdeets = 'shakespeare-caesar-William Shakespeare-1599'\n",
        "#authorname = 'William Shakespeare'\n",
        "#publicationyear = '1599'\n",
        "################################################################################\n",
        "\n",
        "\n",
        "\n",
        "# partintioning the words in book in to 100 words partitions \n",
        "partitions = textdata_partitions(book, bookdeets)\n",
        "\n",
        "# This line is creating 200 samples of 100 words at random by using the 'random' lib\n",
        "samples = random.sample(partitions, 200)\n",
        "\n",
        "\n",
        "# Regex is used to clean the data \n",
        "for r in range(len(samples)):\n",
        "    samples[r] = (re.sub(r'[^\\w\\s]','', ' '.join(samples[r][0])), samples[r][1])\n",
        "\n",
        "# Serialize the data using Pandas\n",
        "df = pd.DataFrame(samples, columns=['Random_book_sample', 'Custom_label'])\n",
        "\n",
        "df.to_csv('books_in_partition.csv', index=False)\n",
        "\n",
        "\n",
        "print(\"partition for the book is exported in books_in_partition.csv.\")"
      ]
    },
    {
      "cell_type": "code",
      "source": [
        "#this section will open the generated .csv file JUST ENTER THE FILE NAME i.e \"books_in_partition.csv\"\n",
        "bk_name = input(\"enter the book partition name to be read with .csv\")\n",
        "pd.read_csv(bk_name)"
      ],
      "metadata": {
        "id": "u2cheCf4pWXd"
      },
      "execution_count": null,
      "outputs": []
    },
    {
      "cell_type": "markdown",
      "source": [
        "# *MODEL AND EFFICIENCY PREDICTION **"
      ],
      "metadata": {
        "id": "a95_ZfZZ7rvL"
      }
    },
    {
      "cell_type": "code",
      "source": [
        "import numpy as np\n",
        "import pandas as pd\n",
        "from sklearn.feature_extraction.text import CountVectorizer\n",
        "from sklearn.model_selection import train_test_split\n",
        "from sklearn.naive_bayes import MultinomialNB\n",
        "from sklearn.metrics import accuracy_score\n",
        "#MODEL IMPORTS\n",
        "from sklearn.naive_bayes import MultinomialNB\n",
        "from sklearn.svm import SVC\n",
        "from sklearn.tree import DecisionTreeClassifier\n",
        "from sklearn.ensemble import RandomForestClassifier\n",
        "from sklearn.ensemble import GradientBoostingClassifier\n",
        "from sklearn.ensemble import GradientBoostingRegressor\n",
        "#VALIDATION METRICS\n",
        "from sklearn.metrics import accuracy_score\n",
        "from sklearn.metrics import precision_score\n",
        "from sklearn.metrics import recall_score\n",
        "from sklearn.metrics import f1_score\n",
        "\n",
        "import matplotlib.pyplot as plt\n"
      ],
      "metadata": {
        "id": "VmtjXe-EnJkt"
      },
      "execution_count": 72,
      "outputs": []
    },
    {
      "cell_type": "markdown",
      "source": [
        "### **BAG OF WORDS ACCURACY TEST **"
      ],
      "metadata": {
        "id": "jwQc1aZIqMmJ"
      }
    },
    {
      "cell_type": "code",
      "source": [
        "pd.read_csv(\"partition_booktest1.csv\")"
      ],
      "metadata": {
        "id": "h2-a4ZREu3-W"
      },
      "execution_count": null,
      "outputs": []
    },
    {
      "cell_type": "code",
      "source": [
        "from nltk.metrics.scores import precision\n",
        "# Load the dataset\n",
        "df = pd.read_csv(\"partition_booktest1.csv\")\n",
        "# Convert text to a bag of words representation\n",
        "vectorizer = CountVectorizer()\n",
        "\n",
        "bag_of_words = vectorizer.fit_transform(df['Random_book_sample'])\n",
        "\n",
        "# Split the data into training and testing sets\n",
        "X_train, X_test, y_train, y_test = train_test_split(bag_of_words, df['Custom_label'], test_size=0.2)\n",
        "\n",
        "# Train and evaluate the efficiency of each model\n",
        "models = [\n",
        "    MultinomialNB(),\n",
        "    SVC(),\n",
        "    DecisionTreeClassifier(),\n",
        "    RandomForestClassifier(),\n",
        "    GradientBoostingClassifier(),\n",
        "    #GradientBoostingRegressor(),\n",
        "]\n",
        "\n",
        "for model in models:\n",
        "\n",
        "    model.fit(X_train, y_train)\n",
        "    y_pred = model.predict(X_test)\n",
        "\n",
        "\n",
        "    accuracy = accuracy_score(y_test, y_pred)\n",
        "    print(f\"Accuracy of {model.__class__.__name__}: {accuracy:.2f}\")\n",
        "\n",
        "    precision = precision_score(y_test, y_pred,average=None)\n",
        "    print(f\"Precision of {model.__class__.__name__}: {precision}\")\n",
        "\n",
        "    recall = recall_score(y_test, y_pred,average=None)\n",
        "    print(f\"Recall score of {model.__class__.__name__}: {recall}\")\n",
        "\n",
        "    Fscore = f1_score(y_test, y_pred,average=None)\n",
        "    print(f\"F_score of {model.__class__.__name__}: {Fscore}\")\n",
        "    print(\"--------------------------------------------------------------\")\n",
        "    #print(f\"Precision of {model.__class__.__name__}: {precision:.2f}\")"
      ],
      "metadata": {
        "colab": {
          "base_uri": "https://localhost:8080/"
        },
        "id": "GTc5fcKfr0G2",
        "outputId": "089810c1-9f3c-4e71-ae1c-f97207280ed1"
      },
      "execution_count": 79,
      "outputs": [
        {
          "output_type": "stream",
          "name": "stdout",
          "text": [
            "Accuracy of MultinomialNB: 1.00\n",
            "Precision of MultinomialNB: [1. 1.]\n",
            "Recall score of MultinomialNB: [1. 1.]\n",
            "F_score of MultinomialNB: [1. 1.]\n",
            "--------------------------------------------------------------\n",
            "Accuracy of SVC: 1.00\n",
            "Precision of SVC: [1. 1.]\n",
            "Recall score of SVC: [1. 1.]\n",
            "F_score of SVC: [1. 1.]\n",
            "--------------------------------------------------------------\n",
            "Accuracy of DecisionTreeClassifier: 0.95\n",
            "Precision of DecisionTreeClassifier: [0.97727273 0.91666667]\n",
            "Recall score of DecisionTreeClassifier: [0.93478261 0.97058824]\n",
            "F_score of DecisionTreeClassifier: [0.95555556 0.94285714]\n",
            "--------------------------------------------------------------\n",
            "Accuracy of RandomForestClassifier: 1.00\n",
            "Precision of RandomForestClassifier: [1. 1.]\n",
            "Recall score of RandomForestClassifier: [1. 1.]\n",
            "F_score of RandomForestClassifier: [1. 1.]\n",
            "--------------------------------------------------------------\n",
            "Accuracy of GradientBoostingClassifier: 0.97\n",
            "Precision of GradientBoostingClassifier: [0.97826087 0.97058824]\n",
            "Recall score of GradientBoostingClassifier: [0.97826087 0.97058824]\n",
            "F_score of GradientBoostingClassifier: [0.97826087 0.97058824]\n",
            "--------------------------------------------------------------\n"
          ]
        }
      ]
    },
    {
      "cell_type": "code",
      "source": [
        "model_names = ['MultinomialNB', 'SVC', 'DecisionTreeClassifier', 'RandomForestClassifier', 'GradientBoostingClassifier']\n",
        "\n",
        "# Plot the accuracy of each model\n",
        "plt.bar(model_names, accuracy)\n",
        "\n",
        "# Add labels and title\n",
        "plt.title(\"Accuracy Comparison\")\n",
        "plt.xlabel(\"Model\")\n",
        "plt.ylabel(\"Accuracy\")\n",
        "plt.ylim(0.1, 1)\n",
        "#plt.xlim(0.1,5)\n",
        "plt.xticks(rotation=90)\n",
        "\n",
        "\n",
        "# Show the plot\n",
        "plt.show()"
      ],
      "metadata": {
        "colab": {
          "base_uri": "https://localhost:8080/",
          "height": 419
        },
        "id": "G-abVaNH9S26",
        "outputId": "e0d6e29a-1ef5-456f-d02a-9832a36270ec"
      },
      "execution_count": 85,
      "outputs": [
        {
          "output_type": "display_data",
          "data": {
            "text/plain": [
              "<Figure size 432x288 with 1 Axes>"
            ],
            "image/png": "[encoded data removed]"
          },
          "metadata": {
            "needs_background": "light"
          }
        }
      ]
    },
    {
      "cell_type": "markdown",
      "source": [
        "TEST SECTION\n",
        " "
      ],
      "metadata": {
        "id": "lWzGiK_G37vC"
      }
    },
    {
      "cell_type": "code",
      "source": [
        "# Example: Let's say you have a dataframe 'df' with two columns: 'text' and 'author'\n",
        "df = pd.read_csv(\"books_in_partition.csv\")\n",
        "\n",
        "# Create a bag of words representation of the text\n",
        "vectorizer = CountVectorizer()\n",
        "text_vectors = vectorizer.fit_transform(df['Random_book_sample'])\n",
        "\n",
        "# Split the data into training and testing sets\n",
        "X_train, X_test, y_train, y_test = train_test_split(text_vectors, df['Custom_label'], test_size=0.2)\n",
        "\n",
        "# Train a Naive Bayes classifier\n",
        "clf = MultinomialNB()\n",
        "clf.fit(X_train, y_train)\n",
        "\n",
        "# Predict the author of the test set\n",
        "y_pred = clf.predict(X_test)\n",
        "\n",
        "# Calculate the accuracy of the model\n",
        "accuracy = accuracy_score(y_test, y_pred)\n",
        "print(\"Accuracy:\", accuracy)\n",
        "\n",
        "\n"
      ],
      "metadata": {
        "colab": {
          "base_uri": "https://localhost:8080/",
          "height": 0
        },
        "id": "BzM3yppDnMTz",
        "outputId": "6afd981d-c8b8-4e7e-c251-6715a2d64896"
      },
      "execution_count": 26,
      "outputs": [
        {
          "output_type": "stream",
          "name": "stdout",
          "text": [
            "Accuracy: 1.0\n"
          ]
        }
      ]
    }
  ]
}