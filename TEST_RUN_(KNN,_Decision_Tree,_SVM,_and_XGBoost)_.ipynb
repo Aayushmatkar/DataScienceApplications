{
  "nbformat": 4,
  "nbformat_minor": 0,
  "metadata": {
    "colab": {
      "provenance": [],
      "include_colab_link": true
    },
    "kernelspec": {
      "name": "python3",
      "display_name": "Python 3"
    },
    "language_info": {
      "name": "python"
    }
  },
  "cells": [
    {
      "cell_type": "markdown",
      "metadata": {
        "id": "view-in-github",
        "colab_type": "text"
      },
      "source": [
        "<a href=\"https://colab.research.google.com/github/Aayushmatkar/DataScienceApplications/blob/main/TEST_RUN_(KNN%2C_Decision_Tree%2C_SVM%2C_and_XGBoost)_.ipynb\" target=\"_parent\"><img src=\"https://colab.research.google.com/assets/colab-badge.svg\" alt=\"Open In Colab\"/></a>"
      ]
    },
    {
      "cell_type": "code",
      "source": [
        "import pandas as pd\n",
        "import numpy as np\n",
        "from sklearn.feature_extraction.text import TfidfVectorizer\n",
        "from sklearn.model_selection import train_test_split\n",
        "from sklearn.neighbors import KNeighborsClassifier\n",
        "from sklearn.svm import SVC\n",
        "import xgboost as xgb\n",
        "from sklearn.metrics import accuracy_score\n",
        "import matplotlib.pyplot as plt\n",
        "import numpy as np\n",
        "import pandas as pd\n",
        "from sklearn.feature_extraction.text import CountVectorizer\n",
        "from sklearn.model_selection import train_test_split\n",
        "from sklearn.naive_bayes import MultinomialNB\n",
        "from sklearn.metrics import accuracy_score\n",
        "#MODEL IMPORTS\n",
        "from sklearn.naive_bayes import MultinomialNB\n",
        "from sklearn.svm import SVC\n",
        "from sklearn.tree import DecisionTreeClassifier\n",
        "from sklearn.ensemble import RandomForestClassifier\n",
        "from sklearn.ensemble import GradientBoostingClassifier\n",
        "from sklearn.ensemble import GradientBoostingRegressor\n",
        "#VALIDATION METRICS\n",
        "from sklearn.metrics import accuracy_score\n",
        "from sklearn.metrics import precision_score\n",
        "from sklearn.metrics import recall_score\n",
        "from sklearn.metrics import f1_score\n",
        "\n",
        "import matplotlib.pyplot as plt"
      ],
      "metadata": {
        "id": "CMWpykkmpoMt"
      },
      "execution_count": null,
      "outputs": []
    },
    {
      "cell_type": "markdown",
      "source": [
        "# DATA PREPARATION AND CLEANING "
      ],
      "metadata": {
        "id": "yBcggXlqwHqN"
      }
    },
    {
      "cell_type": "code",
      "source": [
        "import nltk\n",
        "from nltk.corpus import gutenberg\n",
        "import re\n",
        "import os,random\n",
        "import pandas as pd\n",
        "nltk.download('punkt')\n",
        "nltk.download('gutenberg')\n",
        "\n",
        "def create_partitions(text, book_name, author):\n",
        "    partitions = []\n",
        "    words = nltk.word_tokenize(text)\n",
        "    for i in range(0, len(words), 100):\n",
        "        partitions.append((words[i:i+100], book_name, author))\n",
        "    return partitions\n",
        "\n",
        "#The books selected below are from the gutenberg module and are of the same genre 'novel'\n",
        "book_names=['melville-moby_dick.txt','edgeworth-parents.txt','chesterton-thursday.txt','austen-emma.txt','shakespeare-hamlet.txt']\n",
        "\n",
        "def random_sentences_with_book_name():\n",
        "  result=pd.DataFrame(columns=['Text', 'Book Name','Author'])\n",
        "  for i in book_names:\n",
        "    # Splitting the book names to remove their 'txt' extension\n",
        "    label_name=i.split('.')[0]\n",
        "\n",
        "    # Getting the book names from Gutenberg and reading them\n",
        "    book = gutenberg.raw(i)\n",
        "\n",
        "    #Getting the book names and their respective authors\n",
        "    lines = book.splitlines()\n",
        "\n",
        "    #The first line consists information about the above comment\n",
        "    line1=lines[0]\n",
        "    \n",
        "    #Removing the year from the line\n",
        "    pattern = r'\\D+'\n",
        "\n",
        "    digits_removed = re.findall(pattern, line1)\n",
        "\n",
        "    #Getting the author name\n",
        "    author = re.search(r'\\sby\\s([\\w\\s\\.]+)[\\s\\d{4}]+', digits_removed[0]).group(1)\n",
        "\n",
        "    #Getting the book name\n",
        "    book_name = re.search(r'\\[([\\w\\s\\']+)[\\,]?\\sby', line1).group(1)\n",
        "\n",
        "    # Create partitions of 100 words each\n",
        "    partitions = create_partitions(book, book_name, author)\n",
        "\n",
        "    # Create 200 random samples of the partitions\n",
        "    samples = random.sample(partitions, 200)\n",
        "\n",
        "    # Using regular expressions to clean the data\n",
        "    for i in range(len(samples)):\n",
        "        samples[i] = (re.sub(r'[^\\w\\s]','', ' '.join(samples[i][0])), samples[i][1], samples[i][2])\n",
        "\n",
        "    # Serialize the data using Pandas\n",
        "    df = pd.DataFrame(samples, columns=['Text', 'Book Name','Author'])\n",
        "\n",
        "    #Appending the random sentences of a book to the final dataframe \n",
        "    result=pd.concat([result,df])\n",
        "  result.to_csv('book_partitions.csv', index=False)\n",
        "\n",
        "  print(\"Data saved to book_partitions.csv.\")"
      ],
      "metadata": {
        "colab": {
          "base_uri": "https://localhost:8080/"
        },
        "id": "hZ9xCuq1v7oR",
        "outputId": "2f78d30c-4c62-4ada-bed5-dc28b03959f0"
      },
      "execution_count": null,
      "outputs": [
        {
          "output_type": "stream",
          "name": "stderr",
          "text": [
            "[nltk_data] Downloading package punkt to /root/nltk_data...\n",
            "[nltk_data]   Unzipping tokenizers/punkt.zip.\n",
            "[nltk_data] Downloading package gutenberg to /root/nltk_data...\n",
            "[nltk_data]   Unzipping corpora/gutenberg.zip.\n"
          ]
        }
      ]
    },
    {
      "cell_type": "code",
      "source": [
        "random_sentences_with_book_name()"
      ],
      "metadata": {
        "colab": {
          "base_uri": "https://localhost:8080/"
        },
        "id": "f4OuLOMqwPzf",
        "outputId": "262cd753-4d3d-4205-9725-9798328eded2"
      },
      "execution_count": null,
      "outputs": [
        {
          "output_type": "stream",
          "name": "stdout",
          "text": [
            "Data saved to book_partitions.csv.\n"
          ]
        }
      ]
    },
    {
      "cell_type": "code",
      "source": [
        "data=pd.read_csv('book_partitions.csv')"
      ],
      "metadata": {
        "id": "sxX4JPDcwPu0"
      },
      "execution_count": null,
      "outputs": []
    },
    {
      "cell_type": "code",
      "source": [
        "data['Author'].value_counts(),data['Author'].unique()"
      ],
      "metadata": {
        "colab": {
          "base_uri": "https://localhost:8080/"
        },
        "id": "QVCleKViwPpf",
        "outputId": "08b36a0e-3ced-430d-a1ac-a98a1c79930c"
      },
      "execution_count": null,
      "outputs": [
        {
          "output_type": "execute_result",
          "data": {
            "text/plain": [
              "(Herman Melville        200\n",
              " Maria                  200\n",
              " G. K. Chesterton       200\n",
              " Jane Austen            200\n",
              " William Shakespeare    200\n",
              " Name: Author, dtype: int64,\n",
              " array(['Herman Melville', 'Maria', 'G. K. Chesterton', 'Jane Austen',\n",
              "        'William Shakespeare'], dtype=object))"
            ]
          },
          "metadata": {},
          "execution_count": 5
        }
      ]
    },
    {
      "cell_type": "code",
      "source": [
        "data['Book Name'].value_counts(),data['Book Name'].unique()"
      ],
      "metadata": {
        "colab": {
          "base_uri": "https://localhost:8080/"
        },
        "id": "wPCahCHSwWtH",
        "outputId": "dbd044c3-b8d7-43c8-a90a-2ef38ed7762b"
      },
      "execution_count": null,
      "outputs": [
        {
          "output_type": "execute_result",
          "data": {
            "text/plain": [
              "(Moby Dick                   200\n",
              " The Parent's Assistant      200\n",
              " The Man Who Was Thursday    200\n",
              " Emma                        200\n",
              " The Tragedie of Hamlet      200\n",
              " Name: Book Name, dtype: int64,\n",
              " array(['Moby Dick', \"The Parent's Assistant\", 'The Man Who Was Thursday',\n",
              "        'Emma', 'The Tragedie of Hamlet'], dtype=object))"
            ]
          },
          "metadata": {},
          "execution_count": 6
        }
      ]
    },
    {
      "cell_type": "code",
      "source": [
        "data['label']='a'\n",
        "data['index']=0"
      ],
      "metadata": {
        "id": "V6AWSUD3wYGg"
      },
      "execution_count": null,
      "outputs": []
    },
    {
      "cell_type": "code",
      "source": [
        "data['label'][200:400]='b'\n",
        "data['index'][200:400]=1\n",
        "data['label'][400:600]='c'\n",
        "data['index'][400:600]=2\n",
        "data['label'][600:800]='d'\n",
        "data['index'][600:800]=3\n",
        "data['label'][800:1000]='e'\n",
        "data['index'][800:1000]=4"
      ],
      "metadata": {
        "colab": {
          "base_uri": "https://localhost:8080/"
        },
        "id": "0H1Gh579wYhd",
        "outputId": "77d88820-6183-4d1a-d882-aa528bc919d0"
      },
      "execution_count": null,
      "outputs": [
        {
          "output_type": "stream",
          "name": "stderr",
          "text": [
            "<ipython-input-8-3b20635868f0>:1: SettingWithCopyWarning: \n",
            "A value is trying to be set on a copy of a slice from a DataFrame\n",
            "\n",
            "See the caveats in the documentation: https://pandas.pydata.org/pandas-docs/stable/user_guide/indexing.html#returning-a-view-versus-a-copy\n",
            "  data['label'][200:400]='b'\n",
            "<ipython-input-8-3b20635868f0>:2: SettingWithCopyWarning: \n",
            "A value is trying to be set on a copy of a slice from a DataFrame\n",
            "\n",
            "See the caveats in the documentation: https://pandas.pydata.org/pandas-docs/stable/user_guide/indexing.html#returning-a-view-versus-a-copy\n",
            "  data['index'][200:400]=1\n",
            "<ipython-input-8-3b20635868f0>:3: SettingWithCopyWarning: \n",
            "A value is trying to be set on a copy of a slice from a DataFrame\n",
            "\n",
            "See the caveats in the documentation: https://pandas.pydata.org/pandas-docs/stable/user_guide/indexing.html#returning-a-view-versus-a-copy\n",
            "  data['label'][400:600]='c'\n",
            "<ipython-input-8-3b20635868f0>:4: SettingWithCopyWarning: \n",
            "A value is trying to be set on a copy of a slice from a DataFrame\n",
            "\n",
            "See the caveats in the documentation: https://pandas.pydata.org/pandas-docs/stable/user_guide/indexing.html#returning-a-view-versus-a-copy\n",
            "  data['index'][400:600]=2\n",
            "<ipython-input-8-3b20635868f0>:5: SettingWithCopyWarning: \n",
            "A value is trying to be set on a copy of a slice from a DataFrame\n",
            "\n",
            "See the caveats in the documentation: https://pandas.pydata.org/pandas-docs/stable/user_guide/indexing.html#returning-a-view-versus-a-copy\n",
            "  data['label'][600:800]='d'\n",
            "<ipython-input-8-3b20635868f0>:6: SettingWithCopyWarning: \n",
            "A value is trying to be set on a copy of a slice from a DataFrame\n",
            "\n",
            "See the caveats in the documentation: https://pandas.pydata.org/pandas-docs/stable/user_guide/indexing.html#returning-a-view-versus-a-copy\n",
            "  data['index'][600:800]=3\n",
            "<ipython-input-8-3b20635868f0>:7: SettingWithCopyWarning: \n",
            "A value is trying to be set on a copy of a slice from a DataFrame\n",
            "\n",
            "See the caveats in the documentation: https://pandas.pydata.org/pandas-docs/stable/user_guide/indexing.html#returning-a-view-versus-a-copy\n",
            "  data['label'][800:1000]='e'\n",
            "<ipython-input-8-3b20635868f0>:8: SettingWithCopyWarning: \n",
            "A value is trying to be set on a copy of a slice from a DataFrame\n",
            "\n",
            "See the caveats in the documentation: https://pandas.pydata.org/pandas-docs/stable/user_guide/indexing.html#returning-a-view-versus-a-copy\n",
            "  data['index'][800:1000]=4\n"
          ]
        }
      ]
    },
    {
      "cell_type": "code",
      "source": [
        "data"
      ],
      "metadata": {
        "colab": {
          "base_uri": "https://localhost:8080/",
          "height": 423
        },
        "id": "QFO70qdXwavz",
        "outputId": "ede74c15-04aa-4874-e440-cabf43f2e786"
      },
      "execution_count": null,
      "outputs": [
        {
          "output_type": "execute_result",
          "data": {
            "text/plain": [
              "                                                  Text  \\\n",
              "0    put it on their hones  Porpoise meat is good e...   \n",
              "1     yet does it unwittingly pay us the profoundes...   \n",
              "2    down the Right Whale at one hundred metres  th...   \n",
              "3    a distance will sometimes pass on the plains r...   \n",
              "4    encounter his prey  but in crossing the widest...   \n",
              "..                                                 ...   \n",
              "995   Vpon my sword Marcell  We haue sworne my Lord...   \n",
              "996  the newes  Rosin  None my Lord  but that the W...   \n",
              "997  what a Noble minde is heere orethrowne  The Co...   \n",
              "998  My stronger guilt  defeats my strong intent  A...   \n",
              "999  loues Ophe  They bore him bare fac d on the Be...   \n",
              "\n",
              "                  Book Name               Author label  index  \n",
              "0                 Moby Dick      Herman Melville     a      0  \n",
              "1                 Moby Dick      Herman Melville     a      0  \n",
              "2                 Moby Dick      Herman Melville     a      0  \n",
              "3                 Moby Dick      Herman Melville     a      0  \n",
              "4                 Moby Dick      Herman Melville     a      0  \n",
              "..                      ...                  ...   ...    ...  \n",
              "995  The Tragedie of Hamlet  William Shakespeare     e      4  \n",
              "996  The Tragedie of Hamlet  William Shakespeare     e      4  \n",
              "997  The Tragedie of Hamlet  William Shakespeare     e      4  \n",
              "998  The Tragedie of Hamlet  William Shakespeare     e      4  \n",
              "999  The Tragedie of Hamlet  William Shakespeare     e      4  \n",
              "\n",
              "[1000 rows x 5 columns]"
            ],
            "text/html": [
              "\n",
              "  <div id=\"df-93d697a1-8b80-4444-91eb-a6f68d053e7f\">\n",
              "    <div class=\"colab-df-container\">\n",
              "      <div>\n",
              "<style scoped>\n",
              "    .dataframe tbody tr th:only-of-type {\n",
              "        vertical-align: middle;\n",
              "    }\n",
              "\n",
              "    .dataframe tbody tr th {\n",
              "        vertical-align: top;\n",
              "    }\n",
              "\n",
              "    .dataframe thead th {\n",
              "        text-align: right;\n",
              "    }\n",
              "</style>\n",
              "<table border=\"1\" class=\"dataframe\">\n",
              "  <thead>\n",
              "    <tr style=\"text-align: right;\">\n",
              "      <th></th>\n",
              "      <th>Text</th>\n",
              "      <th>Book Name</th>\n",
              "      <th>Author</th>\n",
              "      <th>label</th>\n",
              "      <th>index</th>\n",
              "    </tr>\n",
              "  </thead>\n",
              "  <tbody>\n",
              "    <tr>\n",
              "      <th>0</th>\n",
              "      <td>put it on their hones  Porpoise meat is good e...</td>\n",
              "      <td>Moby Dick</td>\n",
              "      <td>Herman Melville</td>\n",
              "      <td>a</td>\n",
              "      <td>0</td>\n",
              "    </tr>\n",
              "    <tr>\n",
              "      <th>1</th>\n",
              "      <td>yet does it unwittingly pay us the profoundes...</td>\n",
              "      <td>Moby Dick</td>\n",
              "      <td>Herman Melville</td>\n",
              "      <td>a</td>\n",
              "      <td>0</td>\n",
              "    </tr>\n",
              "    <tr>\n",
              "      <th>2</th>\n",
              "      <td>down the Right Whale at one hundred metres  th...</td>\n",
              "      <td>Moby Dick</td>\n",
              "      <td>Herman Melville</td>\n",
              "      <td>a</td>\n",
              "      <td>0</td>\n",
              "    </tr>\n",
              "    <tr>\n",
              "      <th>3</th>\n",
              "      <td>a distance will sometimes pass on the plains r...</td>\n",
              "      <td>Moby Dick</td>\n",
              "      <td>Herman Melville</td>\n",
              "      <td>a</td>\n",
              "      <td>0</td>\n",
              "    </tr>\n",
              "    <tr>\n",
              "      <th>4</th>\n",
              "      <td>encounter his prey  but in crossing the widest...</td>\n",
              "      <td>Moby Dick</td>\n",
              "      <td>Herman Melville</td>\n",
              "      <td>a</td>\n",
              "      <td>0</td>\n",
              "    </tr>\n",
              "    <tr>\n",
              "      <th>...</th>\n",
              "      <td>...</td>\n",
              "      <td>...</td>\n",
              "      <td>...</td>\n",
              "      <td>...</td>\n",
              "      <td>...</td>\n",
              "    </tr>\n",
              "    <tr>\n",
              "      <th>995</th>\n",
              "      <td>Vpon my sword Marcell  We haue sworne my Lord...</td>\n",
              "      <td>The Tragedie of Hamlet</td>\n",
              "      <td>William Shakespeare</td>\n",
              "      <td>e</td>\n",
              "      <td>4</td>\n",
              "    </tr>\n",
              "    <tr>\n",
              "      <th>996</th>\n",
              "      <td>the newes  Rosin  None my Lord  but that the W...</td>\n",
              "      <td>The Tragedie of Hamlet</td>\n",
              "      <td>William Shakespeare</td>\n",
              "      <td>e</td>\n",
              "      <td>4</td>\n",
              "    </tr>\n",
              "    <tr>\n",
              "      <th>997</th>\n",
              "      <td>what a Noble minde is heere orethrowne  The Co...</td>\n",
              "      <td>The Tragedie of Hamlet</td>\n",
              "      <td>William Shakespeare</td>\n",
              "      <td>e</td>\n",
              "      <td>4</td>\n",
              "    </tr>\n",
              "    <tr>\n",
              "      <th>998</th>\n",
              "      <td>My stronger guilt  defeats my strong intent  A...</td>\n",
              "      <td>The Tragedie of Hamlet</td>\n",
              "      <td>William Shakespeare</td>\n",
              "      <td>e</td>\n",
              "      <td>4</td>\n",
              "    </tr>\n",
              "    <tr>\n",
              "      <th>999</th>\n",
              "      <td>loues Ophe  They bore him bare fac d on the Be...</td>\n",
              "      <td>The Tragedie of Hamlet</td>\n",
              "      <td>William Shakespeare</td>\n",
              "      <td>e</td>\n",
              "      <td>4</td>\n",
              "    </tr>\n",
              "  </tbody>\n",
              "</table>\n",
              "<p>1000 rows × 5 columns</p>\n",
              "</div>\n",
              "      <button class=\"colab-df-convert\" onclick=\"convertToInteractive('df-93d697a1-8b80-4444-91eb-a6f68d053e7f')\"\n",
              "              title=\"Convert this dataframe to an interactive table.\"\n",
              "              style=\"display:none;\">\n",
              "        \n",
              "  <svg xmlns=\"http://www.w3.org/2000/svg\" height=\"24px\"viewBox=\"0 0 24 24\"\n",
              "       width=\"24px\">\n",
              "    <path d=\"M0 0h24v24H0V0z\" fill=\"none\"/>\n",
              "    <path d=\"M18.56 5.44l.94 2.06.94-2.06 2.06-.94-2.06-.94-.94-2.06-.94 2.06-2.06.94zm-11 1L8.5 8.5l.94-2.06 2.06-.94-2.06-.94L8.5 2.5l-.94 2.06-2.06.94zm10 10l.94 2.06.94-2.06 2.06-.94-2.06-.94-.94-2.06-.94 2.06-2.06.94z\"/><path d=\"M17.41 7.96l-1.37-1.37c-.4-.4-.92-.59-1.43-.59-.52 0-1.04.2-1.43.59L10.3 9.45l-7.72 7.72c-.78.78-.78 2.05 0 2.83L4 21.41c.39.39.9.59 1.41.59.51 0 1.02-.2 1.41-.59l7.78-7.78 2.81-2.81c.8-.78.8-2.07 0-2.86zM5.41 20L4 18.59l7.72-7.72 1.47 1.35L5.41 20z\"/>\n",
              "  </svg>\n",
              "      </button>\n",
              "      \n",
              "  <style>\n",
              "    .colab-df-container {\n",
              "      display:flex;\n",
              "      flex-wrap:wrap;\n",
              "      gap: 12px;\n",
              "    }\n",
              "\n",
              "    .colab-df-convert {\n",
              "      background-color: #E8F0FE;\n",
              "      border: none;\n",
              "      border-radius: 50%;\n",
              "      cursor: pointer;\n",
              "      display: none;\n",
              "      fill: #1967D2;\n",
              "      height: 32px;\n",
              "      padding: 0 0 0 0;\n",
              "      width: 32px;\n",
              "    }\n",
              "\n",
              "    .colab-df-convert:hover {\n",
              "      background-color: #E2EBFA;\n",
              "      box-shadow: 0px 1px 2px rgba(60, 64, 67, 0.3), 0px 1px 3px 1px rgba(60, 64, 67, 0.15);\n",
              "      fill: #174EA6;\n",
              "    }\n",
              "\n",
              "    [theme=dark] .colab-df-convert {\n",
              "      background-color: #3B4455;\n",
              "      fill: #D2E3FC;\n",
              "    }\n",
              "\n",
              "    [theme=dark] .colab-df-convert:hover {\n",
              "      background-color: #434B5C;\n",
              "      box-shadow: 0px 1px 3px 1px rgba(0, 0, 0, 0.15);\n",
              "      filter: drop-shadow(0px 1px 2px rgba(0, 0, 0, 0.3));\n",
              "      fill: #FFFFFF;\n",
              "    }\n",
              "  </style>\n",
              "\n",
              "      <script>\n",
              "        const buttonEl =\n",
              "          document.querySelector('#df-93d697a1-8b80-4444-91eb-a6f68d053e7f button.colab-df-convert');\n",
              "        buttonEl.style.display =\n",
              "          google.colab.kernel.accessAllowed ? 'block' : 'none';\n",
              "\n",
              "        async function convertToInteractive(key) {\n",
              "          const element = document.querySelector('#df-93d697a1-8b80-4444-91eb-a6f68d053e7f');\n",
              "          const dataTable =\n",
              "            await google.colab.kernel.invokeFunction('convertToInteractive',\n",
              "                                                     [key], {});\n",
              "          if (!dataTable) return;\n",
              "\n",
              "          const docLinkHtml = 'Like what you see? Visit the ' +\n",
              "            '<a target=\"_blank\" href=https://colab.research.google.com/notebooks/data_table.ipynb>data table notebook</a>'\n",
              "            + ' to learn more about interactive tables.';\n",
              "          element.innerHTML = '';\n",
              "          dataTable['output_type'] = 'display_data';\n",
              "          await google.colab.output.renderOutput(dataTable, element);\n",
              "          const docLink = document.createElement('div');\n",
              "          docLink.innerHTML = docLinkHtml;\n",
              "          element.appendChild(docLink);\n",
              "        }\n",
              "      </script>\n",
              "    </div>\n",
              "  </div>\n",
              "  "
            ]
          },
          "metadata": {},
          "execution_count": 9
        }
      ]
    },
    {
      "cell_type": "code",
      "source": [
        "pd.read_csv(\"book_partitions.csv\")"
      ],
      "metadata": {
        "colab": {
          "base_uri": "https://localhost:8080/",
          "height": 423
        },
        "id": "ts3isHN9w0YV",
        "outputId": "4eed5ce4-a159-49f1-82c9-85ce4a59c236"
      },
      "execution_count": null,
      "outputs": [
        {
          "output_type": "execute_result",
          "data": {
            "text/plain": [
              "                                                  Text  \\\n",
              "0    put it on their hones  Porpoise meat is good e...   \n",
              "1     yet does it unwittingly pay us the profoundes...   \n",
              "2    down the Right Whale at one hundred metres  th...   \n",
              "3    a distance will sometimes pass on the plains r...   \n",
              "4    encounter his prey  but in crossing the widest...   \n",
              "..                                                 ...   \n",
              "995   Vpon my sword Marcell  We haue sworne my Lord...   \n",
              "996  the newes  Rosin  None my Lord  but that the W...   \n",
              "997  what a Noble minde is heere orethrowne  The Co...   \n",
              "998  My stronger guilt  defeats my strong intent  A...   \n",
              "999  loues Ophe  They bore him bare fac d on the Be...   \n",
              "\n",
              "                  Book Name               Author  \n",
              "0                 Moby Dick      Herman Melville  \n",
              "1                 Moby Dick      Herman Melville  \n",
              "2                 Moby Dick      Herman Melville  \n",
              "3                 Moby Dick      Herman Melville  \n",
              "4                 Moby Dick      Herman Melville  \n",
              "..                      ...                  ...  \n",
              "995  The Tragedie of Hamlet  William Shakespeare  \n",
              "996  The Tragedie of Hamlet  William Shakespeare  \n",
              "997  The Tragedie of Hamlet  William Shakespeare  \n",
              "998  The Tragedie of Hamlet  William Shakespeare  \n",
              "999  The Tragedie of Hamlet  William Shakespeare  \n",
              "\n",
              "[1000 rows x 3 columns]"
            ],
            "text/html": [
              "\n",
              "  <div id=\"df-07210438-80a0-4ef6-b5f1-83bf5630ba34\">\n",
              "    <div class=\"colab-df-container\">\n",
              "      <div>\n",
              "<style scoped>\n",
              "    .dataframe tbody tr th:only-of-type {\n",
              "        vertical-align: middle;\n",
              "    }\n",
              "\n",
              "    .dataframe tbody tr th {\n",
              "        vertical-align: top;\n",
              "    }\n",
              "\n",
              "    .dataframe thead th {\n",
              "        text-align: right;\n",
              "    }\n",
              "</style>\n",
              "<table border=\"1\" class=\"dataframe\">\n",
              "  <thead>\n",
              "    <tr style=\"text-align: right;\">\n",
              "      <th></th>\n",
              "      <th>Text</th>\n",
              "      <th>Book Name</th>\n",
              "      <th>Author</th>\n",
              "    </tr>\n",
              "  </thead>\n",
              "  <tbody>\n",
              "    <tr>\n",
              "      <th>0</th>\n",
              "      <td>put it on their hones  Porpoise meat is good e...</td>\n",
              "      <td>Moby Dick</td>\n",
              "      <td>Herman Melville</td>\n",
              "    </tr>\n",
              "    <tr>\n",
              "      <th>1</th>\n",
              "      <td>yet does it unwittingly pay us the profoundes...</td>\n",
              "      <td>Moby Dick</td>\n",
              "      <td>Herman Melville</td>\n",
              "    </tr>\n",
              "    <tr>\n",
              "      <th>2</th>\n",
              "      <td>down the Right Whale at one hundred metres  th...</td>\n",
              "      <td>Moby Dick</td>\n",
              "      <td>Herman Melville</td>\n",
              "    </tr>\n",
              "    <tr>\n",
              "      <th>3</th>\n",
              "      <td>a distance will sometimes pass on the plains r...</td>\n",
              "      <td>Moby Dick</td>\n",
              "      <td>Herman Melville</td>\n",
              "    </tr>\n",
              "    <tr>\n",
              "      <th>4</th>\n",
              "      <td>encounter his prey  but in crossing the widest...</td>\n",
              "      <td>Moby Dick</td>\n",
              "      <td>Herman Melville</td>\n",
              "    </tr>\n",
              "    <tr>\n",
              "      <th>...</th>\n",
              "      <td>...</td>\n",
              "      <td>...</td>\n",
              "      <td>...</td>\n",
              "    </tr>\n",
              "    <tr>\n",
              "      <th>995</th>\n",
              "      <td>Vpon my sword Marcell  We haue sworne my Lord...</td>\n",
              "      <td>The Tragedie of Hamlet</td>\n",
              "      <td>William Shakespeare</td>\n",
              "    </tr>\n",
              "    <tr>\n",
              "      <th>996</th>\n",
              "      <td>the newes  Rosin  None my Lord  but that the W...</td>\n",
              "      <td>The Tragedie of Hamlet</td>\n",
              "      <td>William Shakespeare</td>\n",
              "    </tr>\n",
              "    <tr>\n",
              "      <th>997</th>\n",
              "      <td>what a Noble minde is heere orethrowne  The Co...</td>\n",
              "      <td>The Tragedie of Hamlet</td>\n",
              "      <td>William Shakespeare</td>\n",
              "    </tr>\n",
              "    <tr>\n",
              "      <th>998</th>\n",
              "      <td>My stronger guilt  defeats my strong intent  A...</td>\n",
              "      <td>The Tragedie of Hamlet</td>\n",
              "      <td>William Shakespeare</td>\n",
              "    </tr>\n",
              "    <tr>\n",
              "      <th>999</th>\n",
              "      <td>loues Ophe  They bore him bare fac d on the Be...</td>\n",
              "      <td>The Tragedie of Hamlet</td>\n",
              "      <td>William Shakespeare</td>\n",
              "    </tr>\n",
              "  </tbody>\n",
              "</table>\n",
              "<p>1000 rows × 3 columns</p>\n",
              "</div>\n",
              "      <button class=\"colab-df-convert\" onclick=\"convertToInteractive('df-07210438-80a0-4ef6-b5f1-83bf5630ba34')\"\n",
              "              title=\"Convert this dataframe to an interactive table.\"\n",
              "              style=\"display:none;\">\n",
              "        \n",
              "  <svg xmlns=\"http://www.w3.org/2000/svg\" height=\"24px\"viewBox=\"0 0 24 24\"\n",
              "       width=\"24px\">\n",
              "    <path d=\"M0 0h24v24H0V0z\" fill=\"none\"/>\n",
              "    <path d=\"M18.56 5.44l.94 2.06.94-2.06 2.06-.94-2.06-.94-.94-2.06-.94 2.06-2.06.94zm-11 1L8.5 8.5l.94-2.06 2.06-.94-2.06-.94L8.5 2.5l-.94 2.06-2.06.94zm10 10l.94 2.06.94-2.06 2.06-.94-2.06-.94-.94-2.06-.94 2.06-2.06.94z\"/><path d=\"M17.41 7.96l-1.37-1.37c-.4-.4-.92-.59-1.43-.59-.52 0-1.04.2-1.43.59L10.3 9.45l-7.72 7.72c-.78.78-.78 2.05 0 2.83L4 21.41c.39.39.9.59 1.41.59.51 0 1.02-.2 1.41-.59l7.78-7.78 2.81-2.81c.8-.78.8-2.07 0-2.86zM5.41 20L4 18.59l7.72-7.72 1.47 1.35L5.41 20z\"/>\n",
              "  </svg>\n",
              "      </button>\n",
              "      \n",
              "  <style>\n",
              "    .colab-df-container {\n",
              "      display:flex;\n",
              "      flex-wrap:wrap;\n",
              "      gap: 12px;\n",
              "    }\n",
              "\n",
              "    .colab-df-convert {\n",
              "      background-color: #E8F0FE;\n",
              "      border: none;\n",
              "      border-radius: 50%;\n",
              "      cursor: pointer;\n",
              "      display: none;\n",
              "      fill: #1967D2;\n",
              "      height: 32px;\n",
              "      padding: 0 0 0 0;\n",
              "      width: 32px;\n",
              "    }\n",
              "\n",
              "    .colab-df-convert:hover {\n",
              "      background-color: #E2EBFA;\n",
              "      box-shadow: 0px 1px 2px rgba(60, 64, 67, 0.3), 0px 1px 3px 1px rgba(60, 64, 67, 0.15);\n",
              "      fill: #174EA6;\n",
              "    }\n",
              "\n",
              "    [theme=dark] .colab-df-convert {\n",
              "      background-color: #3B4455;\n",
              "      fill: #D2E3FC;\n",
              "    }\n",
              "\n",
              "    [theme=dark] .colab-df-convert:hover {\n",
              "      background-color: #434B5C;\n",
              "      box-shadow: 0px 1px 3px 1px rgba(0, 0, 0, 0.15);\n",
              "      filter: drop-shadow(0px 1px 2px rgba(0, 0, 0, 0.3));\n",
              "      fill: #FFFFFF;\n",
              "    }\n",
              "  </style>\n",
              "\n",
              "      <script>\n",
              "        const buttonEl =\n",
              "          document.querySelector('#df-07210438-80a0-4ef6-b5f1-83bf5630ba34 button.colab-df-convert');\n",
              "        buttonEl.style.display =\n",
              "          google.colab.kernel.accessAllowed ? 'block' : 'none';\n",
              "\n",
              "        async function convertToInteractive(key) {\n",
              "          const element = document.querySelector('#df-07210438-80a0-4ef6-b5f1-83bf5630ba34');\n",
              "          const dataTable =\n",
              "            await google.colab.kernel.invokeFunction('convertToInteractive',\n",
              "                                                     [key], {});\n",
              "          if (!dataTable) return;\n",
              "\n",
              "          const docLinkHtml = 'Like what you see? Visit the ' +\n",
              "            '<a target=\"_blank\" href=https://colab.research.google.com/notebooks/data_table.ipynb>data table notebook</a>'\n",
              "            + ' to learn more about interactive tables.';\n",
              "          element.innerHTML = '';\n",
              "          dataTable['output_type'] = 'display_data';\n",
              "          await google.colab.output.renderOutput(dataTable, element);\n",
              "          const docLink = document.createElement('div');\n",
              "          docLink.innerHTML = docLinkHtml;\n",
              "          element.appendChild(docLink);\n",
              "        }\n",
              "      </script>\n",
              "    </div>\n",
              "  </div>\n",
              "  "
            ]
          },
          "metadata": {},
          "execution_count": 10
        }
      ]
    },
    {
      "cell_type": "markdown",
      "source": [
        "# BAG OF WORDS\n"
      ],
      "metadata": {
        "id": "n3o9WU8NvgQZ"
      }
    },
    {
      "cell_type": "code",
      "source": [
        "import pandas as pd\n",
        "import numpy as np\n",
        "from sklearn.feature_extraction.text import TfidfVectorizer\n",
        "from sklearn.model_selection import train_test_split\n",
        "from sklearn.neighbors import KNeighborsClassifier\n",
        "from sklearn.svm import SVC\n",
        "import xgboost as xgb\n",
        "from sklearn.metrics import accuracy_score\n",
        "import matplotlib.pyplot as plt\n",
        "\n",
        "# Read the csv file\n",
        "df = pd.read_csv('book_partitions3.csv')\n",
        "\n",
        "# Convert the text data into a tf-idf representation\n",
        "vectorizer = CountVectorizer()\n",
        "\n",
        "bag_of_words = vectorizer.fit_transform(df['Text'])\n",
        "\n",
        "# Split the data into training and testing sets\n",
        "X_train, X_test, y_train, y_test = train_test_split(bag_of_words, df['label'], test_size=0.2)\n",
        "\n",
        "\n",
        "# K-NEAREST NEIGHBOUR \n",
        "# Train and evaluate the KNN model\n",
        "knn = KNeighborsClassifier()\n",
        "knn.fit(X_train, y_train)\n",
        "knn_pred = knn.predict(X_test)\n",
        "\n",
        "\n",
        "knn_accuracy = accuracy_score(y_test, knn_pred)\n",
        "knn_precision = precision_score(y_test, knn_pred,average='micro')\n",
        "knn_recall = recall_score(y_test, knn_pred,average='micro')\n",
        "knn_fscore = f1_score (y_test, knn_pred,average='micro')\n",
        "\n",
        "print('knn_accuracy with Bag of Words = ',knn_accuracy)\n",
        "print('knn_precision with Bag of Words = ',knn_precision)\n",
        "print('knn_recall with Bag of Words = ',knn_recall)\n",
        "print('knn_Fscore with Bag of Words = ',knn_fscore)\n",
        "print(\"----------------------------------------------------------------\")\n",
        "\n",
        "\n",
        "#DECISION TREE \n",
        "# Train and evaluate the Decision Tree model\n",
        "dt = DecisionTreeClassifier()\n",
        "dt.fit(X_train, y_train)\n",
        "dt_pred = dt.predict(X_test)\n",
        "\n",
        "\n",
        "\n",
        "dt_accuracy = accuracy_score(y_test, dt_pred)\n",
        "dt_precision = precision_score(y_test, dt_pred,average='micro')\n",
        "dt_recall = recall_score(y_test, dt_pred,average='micro')\n",
        "dt_fscore = f1_score (y_test, dt_pred,average='micro')\n",
        "\n",
        "print('dt_accuracy with Bag of Words  = ',dt_accuracy)\n",
        "print('dt_precision with Bag of Words = ',dt_precision)\n",
        "print('dt_recall with Bag of Words = ',dt_recall)\n",
        "print('dt_Fscore with Bag of Words = ',dt_fscore)\n",
        "print(\"----------------------------------------------------------------\")\n",
        "\n",
        "\n",
        "\n",
        "# Train and evaluate the SVM model\n",
        "svm = SVC()\n",
        "svm.fit(X_train, y_train)\n",
        "svm_pred = svm.predict(X_test)\n",
        "\n",
        "\n",
        "svm_accuracy = accuracy_score(y_test, svm_pred)\n",
        "svm_precision = precision_score(y_test, svm_pred,average='micro')\n",
        "svm_recall = recall_score(y_test, svm_pred,average='micro')\n",
        "svm_fscore = f1_score (y_test, svm_pred,average='micro')\n",
        "\n",
        "\n",
        "print('svm_accuracy with Bag of Words = ',svm_accuracy)\n",
        "print('svm_precision with Bag of Words = ',svm_precision)\n",
        "print('svm_recall with Bag of Words = ',svm_recall)\n",
        "print('svm_Fscore with Bag of Words = ',svm_fscore)\n",
        "print(\"----------------------------------------------------------------\")\n",
        "\n",
        "# Train and evaluate the XGBoost model\n",
        "xgb_model = xgb.XGBClassifier()\n",
        "xgb_model.fit(X_train, y_train)\n",
        "xgb_pred = xgb_model.predict(X_test)\n",
        "\n",
        "xgb_accuracy = accuracy_score(y_test, xgb_pred)\n",
        "xgb_precision = precision_score(y_test, xgb_pred,average='micro')\n",
        "xgb_recall = recall_score(y_test, xgb_pred,average='micro')\n",
        "xgb_fscore = f1_score (y_test, xgb_pred,average='micro')\n",
        "\n",
        "\n",
        "print('xgb_accuracy with Bag of Words = ',xgb_accuracy)\n",
        "print('xgb_precision with Bag of Words = ',xgb_precision)\n",
        "print('xgb_recall with Bag of Words = ',xgb_recall)\n",
        "print('xgb_Fscore with Bag of Words = ',xgb_fscore)\n",
        "print(\"----------------------------------------------------------------\")\n",
        "#++++++++++++++++++++++++++++++++++++++++++++++++\n",
        "\n",
        "\n",
        "# Plot the accuracy comparison of the models\n",
        "models = ['KNN', 'SVM','DT', 'XGBoost']\n",
        "accuracies = [knn_accuracy, svm_accuracy,dt_accuracy, xgb_accuracy]\n",
        "plt.bar(models, accuracies)\n",
        "plt.xlabel('Models')\n",
        "plt.ylabel('Accuracy')\n",
        "plt.title('Accuracy comparison of models')\n",
        "plt.show()\n",
        "\n",
        "# Plot the Precision comparison of the models\n",
        "models = ['KNN', 'SVM','DT', 'XGBoost']\n",
        "precisions = [knn_precision, svm_precision,dt_precision, xgb_precision]\n",
        "plt.bar(models, precisions)\n",
        "plt.xlabel('Models')\n",
        "plt.ylabel('precision')\n",
        "plt.title('Precision comparison of models')\n",
        "plt.show()\n",
        "\n",
        "# Plot the Recall comparison of the models\n",
        "models = ['KNN', 'SVM','DT', 'XGBoost']\n",
        "recalls = [knn_recall, svm_recall,dt_recall, xgb_recall]\n",
        "plt.bar(models, recalls)\n",
        "plt.xlabel('Models')\n",
        "plt.ylabel('Recall')\n",
        "plt.title('Recall comparison of models')\n",
        "plt.show()\n",
        "\n",
        "# Plot the Fscore comparison of the models\n",
        "models = ['KNN', 'SVM','DT', 'XGBoost']\n",
        "fscores = [knn_fscore, svm_fscore,dt_fscore, xgb_fscore]\n",
        "plt.bar(models, fscores)\n",
        "plt.xlabel('Models')\n",
        "plt.ylabel('Fscore')\n",
        "plt.title('Fscore comparison of models')\n",
        "plt.show()"
      ],
      "metadata": {
        "colab": {
          "base_uri": "https://localhost:8080/",
          "height": 1000
        },
        "id": "d9gjzQBWxheI",
        "outputId": "28858a1a-3d0b-424b-bc86-a8eb9435017d"
      },
      "execution_count": null,
      "outputs": [
        {
          "output_type": "stream",
          "name": "stdout",
          "text": [
            "knn_accuracy with Bag of Words =  0.58\n",
            "knn_precision with Bag of Words =  0.58\n",
            "knn_recall with Bag of Words =  0.58\n",
            "knn_Fscore with Bag of Words =  0.58\n",
            "----------------------------------------------------------------\n",
            "dt_accuracy with Bag of Words  =  0.665\n",
            "dt_precision with Bag of Words =  0.665\n",
            "dt_recall with Bag of Words =  0.665\n",
            "dt_Fscore with Bag of Words =  0.665\n",
            "----------------------------------------------------------------\n",
            "svm_accuracy with Bag of Words =  0.785\n",
            "svm_precision with Bag of Words =  0.785\n",
            "svm_recall with Bag of Words =  0.785\n",
            "svm_Fscore with Bag of Words =  0.785\n",
            "----------------------------------------------------------------\n",
            "xgb_accuracy with Bag of Words =  0.835\n",
            "xgb_precision with Bag of Words =  0.835\n",
            "xgb_recall with Bag of Words =  0.835\n",
            "xgb_Fscore with Bag of Words =  0.835\n",
            "----------------------------------------------------------------\n"
          ]
        },
        {
          "output_type": "display_data",
          "data": {
            "text/plain": [
              "<Figure size 432x288 with 1 Axes>"
            ],
            "image/png": "[encoded data removed]"
          },
          "metadata": {
            "needs_background": "light"
          }
        },
        {
          "output_type": "display_data",
          "data": {
            "text/plain": [
              "<Figure size 432x288 with 1 Axes>"
            ],
            "image/png": "[encoded data removed]"
          },
          "metadata": {
            "needs_background": "light"
          }
        },
        {
          "output_type": "display_data",
          "data": {
            "text/plain": [
              "<Figure size 432x288 with 1 Axes>"
            ],
            "image/png": "[encoded data removed]"
          },
          "metadata": {
            "needs_background": "light"
          }
        },
        {
          "output_type": "display_data",
          "data": {
            "text/plain": [
              "<Figure size 432x288 with 1 Axes>"
            ],
            "image/png": "[encoded data removed]"
          },
          "metadata": {
            "needs_background": "light"
          }
        }
      ]
    },
    {
      "cell_type": "markdown",
      "source": [
        "# BOW TEST "
      ],
      "metadata": {
        "id": "Ob7_hv-Oxt6P"
      }
    },
    {
      "cell_type": "code",
      "source": [
        "from nltk.metrics.scores import precision\n",
        "# Load the dataset\n",
        "df = pd.read_csv(\"book_partitions3.csv\")\n",
        "# Convert text to a bag of words representation\n",
        "vectorizer = CountVectorizer()\n",
        "\n",
        "bag_of_words = vectorizer.fit_transform(df['Text'])\n",
        "\n",
        "# Split the data into training and testing sets\n",
        "X_train, X_test, y_train, y_test = train_test_split(bag_of_words, df['label'], test_size=0.2)\n",
        "\n",
        "# Train and evaluate the efficiency of each model\n",
        "models = [\n",
        "    #MultinomialNB(),\n",
        "    SVC(),\n",
        "    DecisionTreeClassifier(),\n",
        "    RandomForestClassifier(),\n",
        "    GradientBoostingClassifier(),\n",
        "    #GradientBoostingRegressor(),\n",
        "]\n",
        "\n",
        "for model in models:\n",
        "\n",
        "    model.fit(X_train, y_train)\n",
        "    y_pred = model.predict(X_test)\n",
        "\n",
        "\n",
        "    accuracy = accuracy_score(y_test, y_pred)\n",
        "    print(f\"Accuracy of {model.__class__.__name__}: {accuracy:.2f}\")\n",
        "\n",
        "    precision = precision_score(y_test, y_pred,average=None)\n",
        "    print(f\"Precision of {model.__class__.__name__}: {precision}\")\n",
        "\n",
        "    recall = recall_score(y_test, y_pred,average=None)\n",
        "    print(f\"Recall score of {model.__class__.__name__}: {recall}\")\n",
        "\n",
        "    Fscore = f1_score(y_test, y_pred,average=None)\n",
        "    print(f\"F_score of {model.__class__.__name__}: {Fscore}\")\n",
        "    print(\"--------------------------------------------------------------\")\n",
        "    #print(f\"Precision of {model.__class__.__name__}: {precision:.2f}\")"
      ],
      "metadata": {
        "colab": {
          "base_uri": "https://localhost:8080/"
        },
        "id": "vrZSfDnQpRq6",
        "outputId": "61647892-b403-4e7f-aff1-c95b9f4ce082"
      },
      "execution_count": null,
      "outputs": [
        {
          "output_type": "stream",
          "name": "stdout",
          "text": [
            "Accuracy of SVC: 0.83\n",
            "Precision of SVC: [0.80851064 0.84615385 0.68292683 0.925      0.93939394]\n",
            "Recall score of SVC: [0.80851064 0.73333333 0.90322581 0.88095238 0.88571429]\n",
            "F_score of SVC: [0.80851064 0.78571429 0.77777778 0.90243902 0.91176471]\n",
            "--------------------------------------------------------------\n",
            "Accuracy of DecisionTreeClassifier: 0.69\n",
            "Precision of DecisionTreeClassifier: [0.66       0.5106383  0.73333333 0.73684211 0.85714286]\n",
            "Recall score of DecisionTreeClassifier: [0.70212766 0.53333333 0.70967742 0.66666667 0.85714286]\n",
            "F_score of DecisionTreeClassifier: [0.68041237 0.52173913 0.72131148 0.7        0.85714286]\n",
            "--------------------------------------------------------------\n",
            "Accuracy of RandomForestClassifier: 0.86\n",
            "Precision of RandomForestClassifier: [0.75925926 0.90909091 0.79411765 0.93181818 0.94285714]\n",
            "Recall score of RandomForestClassifier: [0.87234043 0.66666667 0.87096774 0.97619048 0.94285714]\n",
            "F_score of RandomForestClassifier: [0.81188119 0.76923077 0.83076923 0.95348837 0.94285714]\n",
            "--------------------------------------------------------------\n",
            "Accuracy of GradientBoostingClassifier: 0.86\n",
            "Precision of GradientBoostingClassifier: [0.82       0.76       0.88888889 0.97368421 0.94285714]\n",
            "Recall score of GradientBoostingClassifier: [0.87234043 0.84444444 0.77419355 0.88095238 0.94285714]\n",
            "F_score of GradientBoostingClassifier: [0.84536082 0.8        0.82758621 0.925      0.94285714]\n",
            "--------------------------------------------------------------\n"
          ]
        }
      ]
    },
    {
      "cell_type": "markdown",
      "source": [
        "# ***TF-IDF***"
      ],
      "metadata": {
        "id": "JCMtjoZPpUpW"
      }
    },
    {
      "cell_type": "code",
      "execution_count": null,
      "metadata": {
        "colab": {
          "base_uri": "https://localhost:8080/",
          "height": 1000
        },
        "id": "VCNUlbXwlsQs",
        "outputId": "6663a912-2450-41ae-c6b2-8ff907c40480"
      },
      "outputs": [
        {
          "output_type": "stream",
          "name": "stdout",
          "text": [
            "knn_accuracy with TF-IDF =  0.865\n",
            "knn_precision with TF-IDF =  0.865\n",
            "knn_recall with TF-IDF =  0.865\n",
            "knn_Fscore with TF-IDF =  0.865\n",
            "----------------------------------------------------------------\n",
            "dt_accuracy with TF-IDF  =  0.64\n",
            "dt_precision with TF-IDF =  0.64\n",
            "dt_recall with TF-IDF =  0.64\n",
            "dt_Fscore with TF-IDF =  0.64\n",
            "----------------------------------------------------------------\n",
            "svm_accuracy with TF-IDF =  0.885\n",
            "svm_precision with TF-IDF =  0.885\n",
            "svm_recall with TF-IDF =  0.885\n",
            "svm_Fscore with TF-IDF =  0.885\n",
            "----------------------------------------------------------------\n",
            "xgb_accuracy with TF-IDF =  0.835\n",
            "xgb_precision with TF-IDF =  0.835\n",
            "xgb_recall with TF-IDF =  0.835\n",
            "xgb_Fscore with TF-IDF =  0.835\n",
            "----------------------------------------------------------------\n"
          ]
        },
        {
          "output_type": "display_data",
          "data": {
            "text/plain": [
              "<Figure size 432x288 with 1 Axes>"
            ],
            "image/png": "[encoded data removed]"
          },
          "metadata": {
            "needs_background": "light"
          }
        },
        {
          "output_type": "display_data",
          "data": {
            "text/plain": [
              "<Figure size 432x288 with 1 Axes>"
            ],
            "image/png": "[encoded data removed]"
          },
          "metadata": {
            "needs_background": "light"
          }
        },
        {
          "output_type": "display_data",
          "data": {
            "text/plain": [
              "<Figure size 432x288 with 1 Axes>"
            ],
            "image/png": "[encoded data removed]"
          },
          "metadata": {
            "needs_background": "light"
          }
        },
        {
          "output_type": "display_data",
          "data": {
            "text/plain": [
              "<Figure size 432x288 with 1 Axes>"
            ],
            "image/png": "[encoded data removed]"
          },
          "metadata": {
            "needs_background": "light"
          }
        }
      ],
      "source": [
        "import pandas as pd\n",
        "import numpy as np\n",
        "from sklearn.feature_extraction.text import TfidfVectorizer\n",
        "from sklearn.model_selection import train_test_split\n",
        "from sklearn.neighbors import KNeighborsClassifier\n",
        "from sklearn.svm import SVC\n",
        "import xgboost as xgb\n",
        "from sklearn.metrics import accuracy_score\n",
        "import matplotlib.pyplot as plt\n",
        "\n",
        "# Read the csv file\n",
        "df = pd.read_csv('book_partitions3.csv')\n",
        "\n",
        "# Convert the text data into a tf-idf representation\n",
        "vectorizer = TfidfVectorizer()\n",
        "tfidf = vectorizer.fit_transform(df['Text'].values)\n",
        "\n",
        "# Split the data into training and testing sets\n",
        "X_train, X_test, y_train, y_test = train_test_split(tfidf, df['label'], test_size=0.2, random_state=42)\n",
        "\n",
        "# K-NEAREST NEIGHBOUR \n",
        "# Train and evaluate the KNN model\n",
        "knn = KNeighborsClassifier()\n",
        "knn.fit(X_train, y_train)\n",
        "knn_pred = knn.predict(X_test)\n",
        "\n",
        "\n",
        "knn_accuracy = accuracy_score(y_test, knn_pred)\n",
        "knn_precision = precision_score(y_test, knn_pred,average='micro')\n",
        "knn_recall = recall_score(y_test, knn_pred,average='micro')\n",
        "knn_fscore = f1_score (y_test, knn_pred,average='micro')\n",
        "\n",
        "print('knn_accuracy with TF-IDF = ',knn_accuracy)\n",
        "print('knn_precision with TF-IDF = ',knn_precision)\n",
        "print('knn_recall with TF-IDF = ',knn_recall)\n",
        "print('knn_Fscore with TF-IDF = ',knn_fscore)\n",
        "print(\"----------------------------------------------------------------\")\n",
        "\n",
        "\n",
        "#DECISION TREE \n",
        "# Train and evaluate the Decision Tree model\n",
        "dt = DecisionTreeClassifier()\n",
        "dt.fit(X_train, y_train)\n",
        "dt_pred = dt.predict(X_test)\n",
        "\n",
        "\n",
        "\n",
        "dt_accuracy = accuracy_score(y_test, dt_pred)\n",
        "dt_precision = precision_score(y_test, dt_pred,average='micro')\n",
        "dt_recall = recall_score(y_test, dt_pred,average='micro')\n",
        "dt_fscore = f1_score (y_test, dt_pred,average='micro')\n",
        "\n",
        "print('dt_accuracy with TF-IDF  = ',dt_accuracy)\n",
        "print('dt_precision with TF-IDF = ',dt_precision)\n",
        "print('dt_recall with TF-IDF = ',dt_recall)\n",
        "print('dt_Fscore with TF-IDF = ',dt_fscore)\n",
        "print(\"----------------------------------------------------------------\")\n",
        "\n",
        "\n",
        "\n",
        "# Train and evaluate the SVM model\n",
        "svm = SVC()\n",
        "svm.fit(X_train, y_train)\n",
        "svm_pred = svm.predict(X_test)\n",
        "\n",
        "\n",
        "svm_accuracy = accuracy_score(y_test, svm_pred)\n",
        "svm_precision = precision_score(y_test, svm_pred,average='micro')\n",
        "svm_recall = recall_score(y_test, svm_pred,average='micro')\n",
        "svm_fscore = f1_score (y_test, svm_pred,average='micro')\n",
        "\n",
        "\n",
        "print('svm_accuracy with TF-IDF = ',svm_accuracy)\n",
        "print('svm_precision with TF-IDF = ',svm_precision)\n",
        "print('svm_recall with TF-IDF = ',svm_recall)\n",
        "print('svm_Fscore with TF-IDF = ',svm_fscore)\n",
        "print(\"----------------------------------------------------------------\")\n",
        "\n",
        "# Train and evaluate the XGBoost model\n",
        "xgb_model = xgb.XGBClassifier()\n",
        "xgb_model.fit(X_train, y_train)\n",
        "xgb_pred = xgb_model.predict(X_test)\n",
        "\n",
        "xgb_accuracy = accuracy_score(y_test, xgb_pred)\n",
        "xgb_precision = precision_score(y_test, xgb_pred,average='micro')\n",
        "xgb_recall = recall_score(y_test, xgb_pred,average='micro')\n",
        "xgb_fscore = f1_score (y_test, xgb_pred,average='micro')\n",
        "\n",
        "\n",
        "print('xgb_accuracy with TF-IDF = ',xgb_accuracy)\n",
        "print('xgb_precision with TF-IDF = ',xgb_precision)\n",
        "print('xgb_recall with TF-IDF = ',xgb_recall)\n",
        "print('xgb_Fscore with TF-IDF = ',xgb_fscore)\n",
        "print(\"----------------------------------------------------------------\")\n",
        "#++++++++++++++++++++++++++++++++++++++++++++++++\n",
        "\n",
        "\n",
        "# Plot the accuracy comparison of the models\n",
        "models = ['KNN', 'SVM','DT', 'XGBoost']\n",
        "accuracies = [knn_accuracy, svm_accuracy,dt_accuracy, xgb_accuracy]\n",
        "plt.bar(models, accuracies)\n",
        "plt.xlabel('Models')\n",
        "plt.ylabel('Accuracy')\n",
        "plt.title('Accuracy comparison of models')\n",
        "plt.show()\n",
        "\n",
        "# Plot the Precision comparison of the models\n",
        "models = ['KNN', 'SVM','DT', 'XGBoost']\n",
        "precisions = [knn_precision, svm_precision,dt_precision, xgb_precision]\n",
        "plt.bar(models, precisions)\n",
        "plt.xlabel('Models')\n",
        "plt.ylabel('precision')\n",
        "plt.title('Precision comparison of models')\n",
        "plt.show()\n",
        "\n",
        "# Plot the Recall comparison of the models\n",
        "models = ['KNN', 'SVM','DT', 'XGBoost']\n",
        "recalls = [knn_recall, svm_recall,dt_recall, xgb_recall]\n",
        "plt.bar(models, recalls)\n",
        "plt.xlabel('Models')\n",
        "plt.ylabel('Recall')\n",
        "plt.title('Recall comparison of models')\n",
        "plt.show()\n",
        "\n",
        "# Plot the Fscore comparison of the models\n",
        "models = ['KNN', 'SVM','DT', 'XGBoost']\n",
        "fscores = [knn_fscore, svm_fscore,dt_fscore, xgb_fscore]\n",
        "plt.bar(models, fscores)\n",
        "plt.xlabel('Models')\n",
        "plt.ylabel('Fscore')\n",
        "plt.title('Fscore comparison of models')\n",
        "plt.show()"
      ]
    },
    {
      "cell_type": "code",
      "source": [],
      "metadata": {
        "colab": {
          "base_uri": "https://localhost:8080/"
        },
        "id": "3Y-acW_lpm1u",
        "outputId": "17b90c28-b8a0-43b0-f1dd-faf1ea93b577"
      },
      "execution_count": null,
      "outputs": [
        {
          "name": "stdout",
          "output_type": "stream",
          "text": [
            "testBut not precisely so For nothing was this man more remarkable than for a certain impersonal stolidity as it were impersonal I say for it so shaded off into the surrounding infinite of things that it seemed one with the general stolidity discernible in the whole visible world which while pauselessly active in uncounted modes still eternally holds its peace and ignores you though you dig foundations for cathedrals Yet was this halfhorrible stolidity in him involving too as it appeared an allramifying heartlessness\n"
          ]
        }
      ]
    },
    {
      "cell_type": "code",
      "source": [
        "svm_pred = svm.predict(X_test)\n",
        "print(\"SVM_Prediction_Test =\")\n",
        "print( svm_pred)"
      ],
      "metadata": {
        "colab": {
          "base_uri": "https://localhost:8080/"
        },
        "id": "AHF49lojmn45",
        "outputId": "a4fb8097-b195-47ad-c574-18e0c956f006"
      },
      "execution_count": null,
      "outputs": [
        {
          "output_type": "stream",
          "name": "stdout",
          "text": [
            "SVM_Prediction_Test =\n",
            "['c' 'b' 'd' 'd' 'c' 'd' 'd' 'c' 'e' 'a' 'e' 'a' 'd' 'e' 'e' 'e' 'd' 'e'\n",
            " 'd' 'b' 'c' 'a' 'b' 'c' 'b' 'b' 'a' 'e' 'e' 'a' 'b' 'a' 'd' 'c' 'b' 'a'\n",
            " 'd' 'c' 'e' 'a' 'b' 'a' 'b' 'e' 'b' 'b' 'e' 'd' 'a' 'e' 'c' 'e' 'b' 'c'\n",
            " 'a' 'a' 'd' 'a' 'b' 'e' 'd' 'a' 'c' 'b' 'd' 'd' 'd' 'e' 'a' 'c' 'a' 'c'\n",
            " 'c' 'd' 'b' 'b' 'd' 'a' 'b' 'b' 'd' 'a' 'b' 'a' 'b' 'c' 'e' 'd' 'd' 'b'\n",
            " 'b' 'c' 'c' 'c' 'd' 'a' 'd' 'a' 'a' 'e' 'd' 'b' 'e' 'b' 'd' 'd' 'c' 'e'\n",
            " 'a' 'a' 'a' 'e' 'e' 'e' 'a' 'c' 'a' 'e' 'c' 'd' 'e' 'c' 'd' 'b' 'b' 'c'\n",
            " 'c' 'c' 'e' 'e' 'c' 'e' 'b' 'e' 'c' 'a' 'a' 'a' 'a' 'c' 'a' 'b' 'd' 'b'\n",
            " 'e' 'a' 'e' 'b' 'e' 'a' 'a' 'a' 'e' 'a' 'e' 'c' 'a' 'd' 'a' 'a' 'c' 'd'\n",
            " 'd' 'b' 'e' 'd' 'b' 'd' 'b' 'b' 'b' 'c' 'a' 'e' 'c' 'd' 'b' 'b' 'e' 'd'\n",
            " 'c' 'b' 'b' 'c' 'e' 'a' 'b' 'b' 'e' 'd' 'e' 'e' 'd' 'a' 'b' 'c' 'b' 'b'\n",
            " 'd' 'b']\n"
          ]
        }
      ]
    },
    {
      "cell_type": "markdown",
      "source": [],
      "metadata": {
        "id": "Jf-vDaOeoseJ"
      }
    },
    {
      "cell_type": "code",
      "source": [
        "print(accuracies)"
      ],
      "metadata": {
        "colab": {
          "base_uri": "https://localhost:8080/"
        },
        "id": "Ce0-0Gk8mcJ5",
        "outputId": "0afc4dc5-9472-4470-9e58-9734b7548387"
      },
      "execution_count": null,
      "outputs": [
        {
          "output_type": "stream",
          "name": "stdout",
          "text": [
            "[0.865, 0.885, 0.835]\n"
          ]
        }
      ]
    },
    {
      "cell_type": "markdown",
      "source": [
        "# ***N-GRAM***"
      ],
      "metadata": {
        "id": "jijk2IsipDKI"
      }
    },
    {
      "cell_type": "code",
      "source": [
        "import pandas as pd\n",
        "import numpy as np\n",
        "from sklearn.feature_extraction.text import CountVectorizer\n",
        "from sklearn.model_selection import train_test_split\n",
        "from sklearn.neighbors import KNeighborsClassifier\n",
        "from sklearn.tree import DecisionTreeClassifier\n",
        "from sklearn.svm import SVC\n",
        "import xgboost as xgb\n",
        "from sklearn.metrics import accuracy_score\n",
        "import matplotlib.pyplot as plt\n",
        "\n",
        "# Read the csv file\n",
        "df = pd.read_csv('book_partitions3.csv')\n",
        "\n",
        "# Convert the text data into a n-gram representation\n",
        "vectorizer = CountVectorizer(ngram_range=(1, 2))\n",
        "ngrams = vectorizer.fit_transform(df['Text'].values)\n",
        "\n",
        "# Split the data into training and testing sets\n",
        "X_train, X_test, y_train, y_test = train_test_split(ngrams, df['label'], test_size=0.2, random_state=42)\n",
        "\n",
        "# K-NEAREST NEIGHBOUR \n",
        "# Train and evaluate the KNN model\n",
        "knn = KNeighborsClassifier()\n",
        "knn.fit(X_train, y_train)\n",
        "knn_pred = knn.predict(X_test)\n",
        "\n",
        "\n",
        "knn_accuracy = accuracy_score(y_test, knn_pred)\n",
        "knn_precision = precision_score(y_test, knn_pred,average='micro')\n",
        "knn_recall = recall_score(y_test, knn_pred,average='micro')\n",
        "knn_fscore = f1_score (y_test, knn_pred,average='micro')\n",
        "\n",
        "print('knn_accuracy with N-GRAM = ',knn_accuracy)\n",
        "print('knn_precision with N-GRAM = ',knn_precision)\n",
        "print('knn_recall with N-GRAM = ',knn_recall)\n",
        "print('knn_Fscore with N-GRAM = ',knn_fscore)\n",
        "print(\"----------------------------------------------------------------\")\n",
        "\n",
        "\n",
        "#DECISION TREE \n",
        "# Train and evaluate the Decision Tree model\n",
        "dt = DecisionTreeClassifier()\n",
        "dt.fit(X_train, y_train)\n",
        "dt_pred = dt.predict(X_test)\n",
        "\n",
        "\n",
        "\n",
        "dt_accuracy = accuracy_score(y_test, dt_pred)\n",
        "dt_precision = precision_score(y_test, dt_pred,average='micro')\n",
        "dt_recall = recall_score(y_test, dt_pred,average='micro')\n",
        "dt_fscore = f1_score (y_test, dt_pred,average='micro')\n",
        "\n",
        "print('dt_accuracy with N-GRAM  = ',dt_accuracy)\n",
        "print('dt_precision with N-GRAM = ',dt_precision)\n",
        "print('dt_recall with N-GRAM = ',dt_recall)\n",
        "print('dt_Fscore with N-GRAM = ',dt_fscore)\n",
        "print(\"----------------------------------------------------------------\")\n",
        "\n",
        "\n",
        "\n",
        "# Train and evaluate the SVM model\n",
        "svm = SVC()\n",
        "svm.fit(X_train, y_train)\n",
        "svm_pred = svm.predict(X_test)\n",
        "\n",
        "\n",
        "svm_accuracy = accuracy_score(y_test, svm_pred)\n",
        "svm_precision = precision_score(y_test, svm_pred,average='micro')\n",
        "svm_recall = recall_score(y_test, svm_pred,average='micro')\n",
        "svm_fscore = f1_score (y_test, svm_pred,average='micro')\n",
        "\n",
        "\n",
        "print('svm_accuracy with N-GRAM = ',svm_accuracy)\n",
        "print('svm_precision with N-GRAM = ',svm_precision)\n",
        "print('svm_recall with N-GRAM = ',svm_recall)\n",
        "print('svm_Fscore with N-GRAM = ',svm_fscore)\n",
        "print(\"----------------------------------------------------------------\")\n",
        "\n",
        "# Train and evaluate the XGBoost model\n",
        "xgb_model = xgb.XGBClassifier()\n",
        "xgb_model.fit(X_train, y_train)\n",
        "xgb_pred = xgb_model.predict(X_test)\n",
        "\n",
        "xgb_accuracy = accuracy_score(y_test, xgb_pred)\n",
        "xgb_precision = precision_score(y_test, xgb_pred,average='micro')\n",
        "xgb_recall = recall_score(y_test, xgb_pred,average='micro')\n",
        "xgb_fscore = f1_score (y_test, xgb_pred,average='micro')\n",
        "\n",
        "\n",
        "print('xgb_accuracy with N-GRAM = ',xgb_accuracy)\n",
        "print('xgb_precision with N-GRAM = ',xgb_precision)\n",
        "print('xgb_recall with N-GRAM = ',xgb_recall)\n",
        "print('xgb_Fscore with N-GRAM = ',xgb_fscore)\n",
        "print(\"----------------------------------------------------------------\")\n",
        "#++++++++++++++++++++++++++++++++++++++++++++++++\n",
        "\n",
        "\n",
        "# Plot the accuracy comparison of the models\n",
        "models = ['KNN', 'SVM','DT', 'XGBoost']\n",
        "accuracies = [knn_accuracy, svm_accuracy,dt_accuracy, xgb_accuracy]\n",
        "plt.bar(models, accuracies)\n",
        "plt.xlabel('Models')\n",
        "plt.ylabel('Accuracy')\n",
        "plt.title('Accuracy comparison of models')\n",
        "plt.show()\n",
        "\n",
        "# Plot the Precision comparison of the models\n",
        "models = ['KNN', 'SVM','DT', 'XGBoost']\n",
        "precisions = [knn_precision, svm_precision,dt_precision, xgb_precision]\n",
        "plt.bar(models, precisions)\n",
        "plt.xlabel('Models')\n",
        "plt.ylabel('precision')\n",
        "plt.title('Precision comparison of models')\n",
        "plt.show()\n",
        "\n",
        "# Plot the Recall comparison of the models\n",
        "models = ['KNN', 'SVM','DT', 'XGBoost']\n",
        "recalls = [knn_recall, svm_recall,dt_recall, xgb_recall]\n",
        "plt.bar(models, recalls)\n",
        "plt.xlabel('Models')\n",
        "plt.ylabel('Recall')\n",
        "plt.title('Recall comparison of models')\n",
        "plt.show()\n",
        "\n",
        "# Plot the Fscore comparison of the models\n",
        "models = ['KNN', 'SVM','DT', 'XGBoost']\n",
        "fscores = [knn_fscore, svm_fscore,dt_fscore, xgb_fscore]\n",
        "plt.bar(models, fscores)\n",
        "plt.xlabel('Models')\n",
        "plt.ylabel('Fscore')\n",
        "plt.title('Fscore comparison of models')\n",
        "plt.show()"
      ],
      "metadata": {
        "colab": {
          "base_uri": "https://localhost:8080/",
          "height": 1000
        },
        "id": "050oQ07tncDX",
        "outputId": "a47f89bd-f942-42e3-cdd1-a4a25d3c9b78"
      },
      "execution_count": null,
      "outputs": [
        {
          "output_type": "stream",
          "name": "stdout",
          "text": [
            "knn_accuracy with N-GRAM =  0.61\n",
            "knn_precision with N-GRAM =  0.61\n",
            "knn_recall with N-GRAM =  0.61\n",
            "knn_Fscore with N-GRAM =  0.61\n",
            "----------------------------------------------------------------\n",
            "dt_accuracy with N-GRAM  =  0.735\n",
            "dt_precision with N-GRAM =  0.735\n",
            "dt_recall with N-GRAM =  0.735\n",
            "dt_Fscore with N-GRAM =  0.735\n",
            "----------------------------------------------------------------\n",
            "svm_accuracy with N-GRAM =  0.805\n",
            "svm_precision with N-GRAM =  0.805\n",
            "svm_recall with N-GRAM =  0.805\n",
            "svm_Fscore with N-GRAM =  0.805\n",
            "----------------------------------------------------------------\n",
            "xgb_accuracy with N-GRAM =  0.84\n",
            "xgb_precision with N-GRAM =  0.84\n",
            "xgb_recall with N-GRAM =  0.84\n",
            "xgb_Fscore with N-GRAM =  0.8399999999999999\n",
            "----------------------------------------------------------------\n"
          ]
        },
        {
          "output_type": "display_data",
          "data": {
            "text/plain": [
              "<Figure size 432x288 with 1 Axes>"
            ],
            "image/png": "[encoded data removed]"
          },
          "metadata": {
            "needs_background": "light"
          }
        },
        {
          "output_type": "display_data",
          "data": {
            "text/plain": [
              "<Figure size 432x288 with 1 Axes>"
            ],
            "image/png": "[encoded data removed]"
          },
          "metadata": {
            "needs_background": "light"
          }
        },
        {
          "output_type": "display_data",
          "data": {
            "text/plain": [
              "<Figure size 432x288 with 1 Axes>"
            ],
            "image/png": "[encoded data removed]"
          },
          "metadata": {
            "needs_background": "light"
          }
        },
        {
          "output_type": "display_data",
          "data": {
            "text/plain": [
              "<Figure size 432x288 with 1 Axes>"
            ],
            "image/png": "[encoded data removed]"
          },
          "metadata": {
            "needs_background": "light"
          }
        }
      ]
    },
    {
      "cell_type": "code",
      "source": [
        "svm_pred = svm.predict(X_test)\n",
        "print(svm_pred)\n",
        "print(accuracies)"
      ],
      "metadata": {
        "colab": {
          "base_uri": "https://localhost:8080/"
        },
        "id": "DkDHUW2ooux_",
        "outputId": "8fbe76c1-6c54-4c5b-a25f-5bb2771d2aba"
      },
      "execution_count": null,
      "outputs": [
        {
          "output_type": "stream",
          "name": "stdout",
          "text": [
            "['c' 'b' 'd' 'd' 'c' 'd' 'd' 'c' 'e' 'a' 'e' 'a' 'd' 'e' 'e' 'a' 'd' 'e'\n",
            " 'd' 'b' 'b' 'a' 'b' 'c' 'b' 'b' 'b' 'e' 'e' 'a' 'a' 'a' 'd' 'c' 'b' 'a'\n",
            " 'd' 'c' 'e' 'a' 'b' 'a' 'b' 'e' 'b' 'b' 'e' 'd' 'c' 'a' 'c' 'c' 'd' 'c'\n",
            " 'a' 'a' 'd' 'a' 'b' 'e' 'd' 'a' 'c' 'b' 'd' 'd' 'd' 'e' 'a' 'c' 'a' 'c'\n",
            " 'c' 'd' 'b' 'b' 'd' 'a' 'b' 'b' 'd' 'a' 'b' 'a' 'b' 'c' 'e' 'd' 'd' 'b'\n",
            " 'b' 'c' 'c' 'c' 'd' 'a' 'd' 'a' 'a' 'e' 'd' 'a' 'e' 'e' 'd' 'd' 'c' 'a'\n",
            " 'a' 'a' 'a' 'e' 'e' 'e' 'a' 'c' 'a' 'a' 'c' 'd' 'e' 'c' 'd' 'd' 'c' 'c'\n",
            " 'c' 'c' 'e' 'e' 'c' 'e' 'b' 'e' 'c' 'a' 'a' 'a' 'a' 'c' 'e' 'b' 'd' 'b'\n",
            " 'e' 'a' 'e' 'b' 'e' 'a' 'a' 'a' 'e' 'a' 'e' 'c' 'a' 'd' 'a' 'a' 'c' 'd'\n",
            " 'd' 'b' 'e' 'd' 'b' 'd' 'b' 'b' 'b' 'c' 'a' 'e' 'c' 'd' 'b' 'b' 'e' 'd'\n",
            " 'a' 'b' 'b' 'c' 'e' 'a' 'b' 'b' 'e' 'd' 'e' 'e' 'd' 'a' 'e' 'c' 'a' 'b'\n",
            " 'd' 'b']\n",
            "[0.61, 0.725, 0.805, 0.84]\n"
          ]
        }
      ]
    }
  ]
}